{
 "cells": [
  {
   "cell_type": "markdown",
   "id": "cc7eff9b",
   "metadata": {
    "papermill": {
     "duration": 0.005915,
     "end_time": "2021-07-31T11:04:31.048258",
     "exception": false,
     "start_time": "2021-07-31T11:04:31.042343",
     "status": "completed"
    },
    "tags": []
   },
   "source": [
    "In the PyTorch implementation, the index of the ground truth label is passed instead of one-hot encoded $Y$ vector."
   ]
  },
  {
   "cell_type": "code",
   "execution_count": 1,
   "id": "6e3b53ff",
   "metadata": {
    "execution": {
     "iopub.execute_input": "2021-07-31T11:04:31.070857Z",
     "iopub.status.busy": "2021-07-31T11:04:31.070155Z",
     "iopub.status.idle": "2021-07-31T11:04:32.349628Z",
     "shell.execute_reply": "2021-07-31T11:04:32.348978Z",
     "shell.execute_reply.started": "2021-07-31T10:48:31.811487Z"
    },
    "papermill": {
     "duration": 1.296262,
     "end_time": "2021-07-31T11:04:32.349793",
     "exception": false,
     "start_time": "2021-07-31T11:04:31.053531",
     "status": "completed"
    },
    "tags": []
   },
   "outputs": [
    {
     "data": {
      "text/plain": [
       "tensor(0.0382)"
      ]
     },
     "execution_count": 1,
     "metadata": {},
     "output_type": "execute_result"
    }
   ],
   "source": [
    "import torch\n",
    "torch.set_printoptions(sci_mode=False)\n",
    "from torch import nn, tensor\n",
    "\n",
    "dog_class_index = 0\n",
    "\n",
    "label = tensor([dog_class_index])\n",
    "logits = tensor([[3.5, -3.45, 0.23]])\n",
    "\n",
    "nn.CrossEntropyLoss()(logits, label)"
   ]
  },
  {
   "cell_type": "markdown",
   "id": "b21564e3",
   "metadata": {
    "papermill": {
     "duration": 0.004834,
     "end_time": "2021-07-31T11:04:32.360166",
     "exception": false,
     "start_time": "2021-07-31T11:04:32.355332",
     "status": "completed"
    },
    "tags": []
   },
   "source": [
    "We can also achieve the same result by manually calling softmax and negative-log loss."
   ]
  },
  {
   "cell_type": "code",
   "execution_count": 2,
   "id": "fd1e3443",
   "metadata": {
    "execution": {
     "iopub.execute_input": "2021-07-31T11:04:32.376844Z",
     "iopub.status.busy": "2021-07-31T11:04:32.375955Z",
     "iopub.status.idle": "2021-07-31T11:04:32.382475Z",
     "shell.execute_reply": "2021-07-31T11:04:32.381805Z",
     "shell.execute_reply.started": "2021-07-31T10:46:56.408736Z"
    },
    "papermill": {
     "duration": 0.016974,
     "end_time": "2021-07-31T11:04:32.382611",
     "exception": false,
     "start_time": "2021-07-31T11:04:32.365637",
     "status": "completed"
    },
    "tags": []
   },
   "outputs": [
    {
     "data": {
      "text/plain": [
       "tensor([[    0.9625,     0.0009,     0.0366]])"
      ]
     },
     "execution_count": 2,
     "metadata": {},
     "output_type": "execute_result"
    }
   ],
   "source": [
    "softmax_probs = nn.Softmax(dim=1)(logits)\n",
    "softmax_probs"
   ]
  },
  {
   "cell_type": "code",
   "execution_count": 3,
   "id": "6bab8ecb",
   "metadata": {
    "execution": {
     "iopub.execute_input": "2021-07-31T11:04:32.398913Z",
     "iopub.status.busy": "2021-07-31T11:04:32.398183Z",
     "iopub.status.idle": "2021-07-31T11:04:32.439650Z",
     "shell.execute_reply": "2021-07-31T11:04:32.438935Z",
     "shell.execute_reply.started": "2021-07-31T10:46:13.989595Z"
    },
    "papermill": {
     "duration": 0.051412,
     "end_time": "2021-07-31T11:04:32.439793",
     "exception": false,
     "start_time": "2021-07-31T11:04:32.388381",
     "status": "completed"
    },
    "tags": []
   },
   "outputs": [
    {
     "data": {
      "text/plain": [
       "tensor([[0.0382]])"
      ]
     },
     "execution_count": 3,
     "metadata": {},
     "output_type": "execute_result"
    }
   ],
   "source": [
    "-torch.log(softmax_probs[:,label])"
   ]
  }
 ],
 "metadata": {
  "kernelspec": {
   "display_name": "Python 3",
   "language": "python",
   "name": "python3"
  },
  "language_info": {
   "codemirror_mode": {
    "name": "ipython",
    "version": 3
   },
   "file_extension": ".py",
   "mimetype": "text/x-python",
   "name": "python",
   "nbconvert_exporter": "python",
   "pygments_lexer": "ipython3",
   "version": "3.7.10"
  },
  "papermill": {
   "default_parameters": {},
   "duration": 10.82965,
   "end_time": "2021-07-31T11:04:33.665363",
   "environment_variables": {},
   "exception": null,
   "input_path": "__notebook__.ipynb",
   "output_path": "__notebook__.ipynb",
   "parameters": {},
   "start_time": "2021-07-31T11:04:22.835713",
   "version": "2.3.3"
  }
 },
 "nbformat": 4,
 "nbformat_minor": 5
}
