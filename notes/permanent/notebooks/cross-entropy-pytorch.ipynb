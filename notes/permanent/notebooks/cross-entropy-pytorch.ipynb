{
 "cells": [
  {
   "cell_type": "markdown",
   "id": "0a01cfd0",
   "metadata": {
    "papermill": {
     "duration": 0.006648,
     "end_time": "2021-07-31T11:21:35.211381",
     "exception": false,
     "start_time": "2021-07-31T11:21:35.204733",
     "status": "completed"
    },
    "tags": []
   },
   "source": [
    "In the PyTorch implementation, the index of the ground truth label is passed instead of one-hot encoded $Y$ vector."
   ]
  },
  {
   "cell_type": "code",
   "execution_count": 1,
   "id": "a7ed0a81",
   "metadata": {
    "execution": {
     "iopub.execute_input": "2021-07-31T11:21:35.227058Z",
     "iopub.status.busy": "2021-07-31T11:21:35.225781Z",
     "iopub.status.idle": "2021-07-31T11:21:36.601068Z",
     "shell.execute_reply": "2021-07-31T11:21:36.601668Z",
     "shell.execute_reply.started": "2021-07-31T10:48:31.811487Z"
    },
    "papermill": {
     "duration": 1.384315,
     "end_time": "2021-07-31T11:21:36.601970",
     "exception": false,
     "start_time": "2021-07-31T11:21:35.217655",
     "status": "completed"
    },
    "tags": []
   },
   "outputs": [
    {
     "data": {
      "text/plain": [
       "tensor(0.0382)"
      ]
     },
     "execution_count": 1,
     "metadata": {},
     "output_type": "execute_result"
    }
   ],
   "source": [
    "import torch\n",
    "from torch import nn, tensor\n",
    "\n",
    "torch.set_printoptions(sci_mode=False)\n",
    "\n",
    "dog_class_index = 0\n",
    "\n",
    "label = tensor([dog_class_index])\n",
    "logits = tensor([[3.5, -3.45, 0.23]])\n",
    "\n",
    "nn.CrossEntropyLoss()(logits, label)"
   ]
  },
  {
   "cell_type": "markdown",
   "id": "c6360e95",
   "metadata": {
    "papermill": {
     "duration": 0.00528,
     "end_time": "2021-07-31T11:21:36.613279",
     "exception": false,
     "start_time": "2021-07-31T11:21:36.607999",
     "status": "completed"
    },
    "tags": []
   },
   "source": [
    "We can also achieve the same result by manually calling softmax and negative-log loss."
   ]
  },
  {
   "cell_type": "code",
   "execution_count": 2,
   "id": "d30b58ea",
   "metadata": {
    "execution": {
     "iopub.execute_input": "2021-07-31T11:21:36.627537Z",
     "iopub.status.busy": "2021-07-31T11:21:36.626935Z",
     "iopub.status.idle": "2021-07-31T11:21:36.634080Z",
     "shell.execute_reply": "2021-07-31T11:21:36.633494Z",
     "shell.execute_reply.started": "2021-07-31T10:46:56.408736Z"
    },
    "papermill": {
     "duration": 0.015251,
     "end_time": "2021-07-31T11:21:36.634221",
     "exception": false,
     "start_time": "2021-07-31T11:21:36.618970",
     "status": "completed"
    },
    "tags": []
   },
   "outputs": [
    {
     "data": {
      "text/plain": [
       "tensor([[    0.9625,     0.0009,     0.0366]])"
      ]
     },
     "execution_count": 2,
     "metadata": {},
     "output_type": "execute_result"
    }
   ],
   "source": [
    "softmax_probs = nn.Softmax(dim=1)(logits)\n",
    "softmax_probs"
   ]
  },
  {
   "cell_type": "code",
   "execution_count": 3,
   "id": "8b2f3993",
   "metadata": {
    "execution": {
     "iopub.execute_input": "2021-07-31T11:21:36.652244Z",
     "iopub.status.busy": "2021-07-31T11:21:36.651637Z",
     "iopub.status.idle": "2021-07-31T11:21:36.690083Z",
     "shell.execute_reply": "2021-07-31T11:21:36.690577Z",
     "shell.execute_reply.started": "2021-07-31T10:46:13.989595Z"
    },
    "papermill": {
     "duration": 0.050383,
     "end_time": "2021-07-31T11:21:36.690736",
     "exception": false,
     "start_time": "2021-07-31T11:21:36.640353",
     "status": "completed"
    },
    "tags": []
   },
   "outputs": [
    {
     "data": {
      "text/plain": [
       "tensor([[0.0382]])"
      ]
     },
     "execution_count": 3,
     "metadata": {},
     "output_type": "execute_result"
    }
   ],
   "source": [
    "-torch.log(softmax_probs[:,label])"
   ]
  }
 ],
 "metadata": {
  "kernelspec": {
   "display_name": "Python 3",
   "language": "python",
   "name": "python3"
  },
  "language_info": {
   "codemirror_mode": {
    "name": "ipython",
    "version": 3
   },
   "file_extension": ".py",
   "mimetype": "text/x-python",
   "name": "python",
   "nbconvert_exporter": "python",
   "pygments_lexer": "ipython3",
   "version": "3.7.10"
  },
  "papermill": {
   "default_parameters": {},
   "duration": 9.661095,
   "end_time": "2021-07-31T11:21:37.407202",
   "environment_variables": {},
   "exception": null,
   "input_path": "__notebook__.ipynb",
   "output_path": "__notebook__.ipynb",
   "parameters": {},
   "start_time": "2021-07-31T11:21:27.746107",
   "version": "2.3.3"
  }
 },
 "nbformat": 4,
 "nbformat_minor": 5
}
