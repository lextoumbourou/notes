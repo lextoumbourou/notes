{
 "cells": [
  {
   "cell_type": "markdown",
   "id": "0eda476e",
   "metadata": {},
   "source": [
    "# KMeans (Python only)"
   ]
  },
  {
   "cell_type": "markdown",
   "id": "f5553a8f",
   "metadata": {},
   "source": [
    "In this notebook, I explore KMeans algorithm in pure Python (no Numpy).\n",
    "\n",
    "I do use Matplotlib for plotting only."
   ]
  },
  {
   "cell_type": "code",
   "execution_count": 41,
   "id": "957486d2",
   "metadata": {},
   "outputs": [],
   "source": [
    "from typing import List\n",
    "from copy import copy\n",
    "import random\n",
    "import csv\n",
    "import math\n",
    "from matplotlib import pyplot as plt\n",
    "from collections import defaultdict"
   ]
  },
  {
   "cell_type": "markdown",
   "id": "b864070e-e1b5-4a4d-8cf9-a2516fee3338",
   "metadata": {},
   "source": [
    "I saved two features from the Iris dataset to a CSV, as follows:\n",
    "\n",
    "```python\n",
    "pd.DataFrame(iris.data, columns=iris.feature_names)[iris.feature_names[:2]].to_csv(\"data/iris_2_feats.csv\", index=False)\n",
    "```"
   ]
  },
  {
   "cell_type": "code",
   "execution_count": 42,
   "id": "c0ac8509-b441-445f-bf6a-c3bec61aad39",
   "metadata": {},
   "outputs": [],
   "source": [
    "def load_dataset():\n",
    "    output = []\n",
    "    with open(\"data/iris_2_feats.csv\") as fh:\n",
    "        reader = csv.reader(fh)\n",
    "        # Skip header\n",
    "        next(reader)\n",
    "        for row in reader:\n",
    "            output.append([float(r) for r in row])\n",
    "    return output"
   ]
  },
  {
   "cell_type": "code",
   "execution_count": 43,
   "id": "c44bb7f7-9946-4c05-8875-425ce917abac",
   "metadata": {},
   "outputs": [
    {
     "data": {
      "text/plain": [
       "[[5.1, 3.5], [4.9, 3.0]]"
      ]
     },
     "execution_count": 43,
     "metadata": {},
     "output_type": "execute_result"
    }
   ],
   "source": [
    "dataset = load_dataset()\n",
    "dataset[:2]"
   ]
  },
  {
   "cell_type": "markdown",
   "id": "e821f39d-2c00-4195-aba2-7d7f4f6300f9",
   "metadata": {},
   "source": [
    "Let's see a Scatterplot of these points."
   ]
  },
  {
   "cell_type": "code",
   "execution_count": 44,
   "id": "5d5792ed-3b1f-4e03-96d9-48d77817a972",
   "metadata": {},
   "outputs": [
    {
     "data": {
      "image/png": "[encoded data removed]",
      "text/plain": [
       "<Figure size 640x480 with 1 Axes>"
      ]
     },
     "metadata": {},
     "output_type": "display_data"
    }
   ],
   "source": [
    "x = [d[0] for d in dataset]\n",
    "y = [d[1] for d in dataset]\n",
    "plt.scatter(x=x, y=y, )\n",
    "plt.xlabel(\"sepal length (cm)\")\n",
    "plt.ylabel(\"sepal width (cm)\")\n",
    "plt.show()"
   ]
  },
  {
   "cell_type": "markdown",
   "id": "3da3fa80-8daa-4af2-bcd6-47a96d38ee4a",
   "metadata": {},
   "source": [
    "Initially, I'll create 3 clusters."
   ]
  },
  {
   "cell_type": "code",
   "execution_count": 45,
   "id": "86f89d1d-75e6-4aa1-87c8-4646b3c19ca7",
   "metadata": {},
   "outputs": [],
   "source": [
    "K = 3"
   ]
  },
  {
   "cell_type": "markdown",
   "id": "06d2b74f-7e71-4b3c-893d-c0515b87069a",
   "metadata": {},
   "source": [
    "Initiase centers by picking 3 datapoints randomly."
   ]
  },
  {
   "cell_type": "code",
   "execution_count": 46,
   "id": "878a8cca-3461-4598-b4fc-afba68aadb59",
   "metadata": {},
   "outputs": [
    {
     "data": {
      "text/plain": [
       "[[5.8, 2.7], [6.5, 3.0], [6.0, 3.4]]"
      ]
     },
     "execution_count": 46,
     "metadata": {},
     "output_type": "execute_result"
    }
   ],
   "source": [
    "cluster_centers = random.sample(dataset, k=K)\n",
    "cluster_centers"
   ]
  },
  {
   "cell_type": "markdown",
   "id": "1a361ddd-c490-4f9d-9b6d-6abe2a9452a8",
   "metadata": {},
   "source": [
    "Firstly, normalise all the data, so it's between 0 and 1."
   ]
  },
  {
   "cell_type": "code",
   "execution_count": 47,
   "id": "28f03655-5dac-4a79-8e89-7222412b732c",
   "metadata": {},
   "outputs": [],
   "source": [
    "def normalise_data(data: List[List[float]]):\n",
    "    if not data:\n",
    "        return data\n",
    "\n",
    "    output = copy(data)\n",
    "\n",
    "    num_feats = len(output[0])\n",
    "\n",
    "    mean_feats = {}\n",
    "    for feat_idx in range(num_feats):        \n",
    "        mean_feat = sum([d[feat_idx] for d in data]) / len(data)\n",
    "        std_feat = sum([((d[feat_idx] - mean_feat)**2) for d in data]) / len(data)\n",
    "\n",
    "        for i in range(len(data)):\n",
    "            output[i][feat_idx] = (output[i][feat_idx] - mean_feat) / std_feat\n",
    "\n",
    "    return output"
   ]
  },
  {
   "cell_type": "code",
   "execution_count": 48,
   "id": "f09f35ff-64c2-4f21-93a4-86f65f78ccdb",
   "metadata": {},
   "outputs": [],
   "source": [
    "assert normalise_data([[2, 6], [4, 8]]) == [[-1.0, -1.0], [1.0, 1.0]]"
   ]
  },
  {
   "cell_type": "code",
   "execution_count": 49,
   "id": "0870e314-dada-4e36-bedd-c6d731844dca",
   "metadata": {},
   "outputs": [
    {
     "data": {
      "text/plain": [
       "[[-1.0913361935368127, 2.345715066273514],\n",
       " [-1.384969250093801, -0.3038124935233816]]"
      ]
     },
     "execution_count": 49,
     "metadata": {},
     "output_type": "execute_result"
    }
   ],
   "source": [
    "norm_data = normalise_data(dataset)\n",
    "norm_data[:2]"
   ]
  },
  {
   "cell_type": "markdown",
   "id": "bd5aee4e-31bd-48b8-a55a-a81fd6cee4a6",
   "metadata": {},
   "source": [
    "Now a distance function. I'll use Euclidean distance."
   ]
  },
  {
   "cell_type": "code",
   "execution_count": 50,
   "id": "0e19d2d8-f5c3-4961-9166-3901e88d0e90",
   "metadata": {},
   "outputs": [],
   "source": [
    "def distance(point1, point2):\n",
    "    \"\"\"Use Euclidean distance formula.\"\"\"\n",
    "    squared_differences = sum([\n",
    "        (a - b) ** 2\n",
    "        for a, b in zip(point1, point2)\n",
    "    ])\n",
    "    return math.sqrt(squared_differences)"
   ]
  },
  {
   "cell_type": "code",
   "execution_count": 51,
   "id": "a4711a07-d9a2-4f16-8a14-dcb013ff1f9d",
   "metadata": {},
   "outputs": [],
   "source": [
    "assert distance([1,2], [1,4]) == 2"
   ]
  },
  {
   "cell_type": "markdown",
   "id": "4482e939-88ad-4db9-ae69-673560ce5303",
   "metadata": {},
   "source": [
    "We need a function that will find the closest center. We use a very typical pattern of keeping track of the lowest value and index, and updating both when we find a new lowest."
   ]
  },
  {
   "cell_type": "code",
   "execution_count": 52,
   "id": "4ad8b1dc-8e17-4100-a82d-4a5c35196e57",
   "metadata": {},
   "outputs": [],
   "source": [
    "def get_closest_center(point: List[float], cluster_centers: List[List[float]]) -> int:\n",
    "    lowest_dist = float(\"inf\")\n",
    "    lowest_idx = None\n",
    "\n",
    "    for idx, cluster_center in enumerate(cluster_centers):\n",
    "        dist = distance(point, cluster_center)\n",
    "        if dist < lowest_dist:\n",
    "            lowest_dist = dist\n",
    "            lowest_idx = idx\n",
    "\n",
    "    return lowest_idx"
   ]
  },
  {
   "cell_type": "code",
   "execution_count": 53,
   "id": "b0f79b3e-61d0-46cc-ab78-f2ca1d920295",
   "metadata": {},
   "outputs": [],
   "source": [
    "assert get_closest_center([3.], [[2], [1], [3]]) == 2"
   ]
  },
  {
   "cell_type": "markdown",
   "id": "53fe879e-cee7-47e5-a3eb-2671512c63e9",
   "metadata": {},
   "source": [
    "Let's do one pass of K-Means now. We'll create a dict to store out mapping between datapoint idx and cluster center inx.\n",
    "\n",
    "Loop through all our data, find the closest centroid and store in the map."
   ]
  },
  {
   "cell_type": "code",
   "execution_count": 20,
   "id": "8c7c7d25-d7aa-400a-8c5d-30b1b86805de",
   "metadata": {},
   "outputs": [],
   "source": [
    "def find_closest_centers(norm_data):\n",
    "    datapoint_to_centroid = {}\n",
    "    for data_idx, data in enumerate(norm_data):\n",
    "        closest_idx = get_closest_center(data, cluster_centers)\n",
    "        datapoint_to_centroid[data_idx] = closest_idx\n",
    "    return datapoint_to_centroid\n",
    "\n",
    "datapoint_to_centroid = find_closest_centers(norm_data)"
   ]
  },
  {
   "cell_type": "markdown",
   "id": "1d25c9df-9a6a-4f0f-880f-6caf707bc814",
   "metadata": {},
   "source": [
    "Let's create a function that calculates the average distance between each datapoint and their closest centroid.\n",
    "\n",
    "This serves as an overall measure of quality for our K-Means cluster."
   ]
  },
  {
   "cell_type": "code",
   "execution_count": 21,
   "id": "54210fdf-e18f-4ae1-a116-810589b60d7c",
   "metadata": {},
   "outputs": [
    {
     "data": {
      "text/plain": [
       "1.9754773822471012"
      ]
     },
     "execution_count": 21,
     "metadata": {},
     "output_type": "execute_result"
    }
   ],
   "source": [
    "def get_avg_distance(norm_data, cluster_centers, datapoint_to_centroid):\n",
    "    total_dist = 0\n",
    "    for data_idx, data in enumerate(norm_data):\n",
    "        total_dist += distance(data, cluster_centers[datapoint_to_centroid[data_idx]])\n",
    "        \n",
    "    avg_dist = total_dist / len(norm_data)\n",
    "    return avg_dist\n",
    "\n",
    "avg_dist = get_avg_distance(norm_data, cluster_centers, datapoint_to_centroid)\n",
    "avg_dist"
   ]
  },
  {
   "cell_type": "markdown",
   "id": "2b1dd5dc-ada2-4bbf-b283-4dae968e7ed4",
   "metadata": {},
   "source": [
    "Now we can update our cluster centers.\n",
    "\n",
    "Walk through data. For each feature, add feature to running total for cluster center."
   ]
  },
  {
   "cell_type": "code",
   "execution_count": 22,
   "id": "1a9b1adc-7c3d-4910-91f2-575c78040c0f",
   "metadata": {},
   "outputs": [
    {
     "data": {
      "text/plain": [
       "[[1.6981778437545862, 0.7559985303953777],\n",
       " [2.579077013425554, -0.3038124935233816],\n",
       " [-0.5040700804228335, -2.4234345413608978]]"
      ]
     },
     "execution_count": 22,
     "metadata": {},
     "output_type": "execute_result"
    }
   ],
   "source": [
    "cluster_centers"
   ]
  },
  {
   "cell_type": "code",
   "execution_count": 23,
   "id": "4d59c67d-02de-41f4-9e06-388001eb4093",
   "metadata": {},
   "outputs": [
    {
     "data": {
      "text/plain": [
       "[[0.03278902464886297, 0.8407834123088794],\n",
       " [0.14355393876119465, -0.06264660719164244],\n",
       " [-0.17634296341005945, -0.7781368051172411]]"
      ]
     },
     "execution_count": 23,
     "metadata": {},
     "output_type": "execute_result"
    }
   ],
   "source": [
    "def assign_new_cluster_centers(cluster_centers, norm_data, datapoint_to_centroid):\n",
    "    new_cluster_centers = [[0] * len(c) for c in cluster_centers]\n",
    "    for data_idx, data in enumerate(norm_data):\n",
    "        cluster_idx = datapoint_to_centroid[data_idx]\n",
    "        for feat_idx, feat in enumerate(data):\n",
    "            new_cluster_centers[cluster_idx][feat_idx] += feat\n",
    "    \n",
    "    for cluster_idx, cluster in enumerate(new_cluster_centers):\n",
    "        for feat_idx in range(len(cluster)):\n",
    "            cluster[feat_idx] /= len(norm_data)\n",
    "\n",
    "    return new_cluster_centers\n",
    "        \n",
    "cluster_centers = assign_new_cluster_centers(cluster_centers, norm_data, datapoint_to_centroid)\n",
    "cluster_centers"
   ]
  },
  {
   "cell_type": "code",
   "execution_count": 24,
   "id": "f89fc89a-503d-4862-8450-b1bbac003730",
   "metadata": {},
   "outputs": [
    {
     "name": "stdout",
     "output_type": "stream",
     "text": [
      "0.8374117912198782\n",
      "0.6566494089085856\n",
      "0.6102434432079757\n",
      "0.6100420530262163\n"
     ]
    }
   ],
   "source": [
    "max_iters = 20\n",
    "norm_data = normalise_data(dataset)\n",
    "cluster_centers = random.sample(norm_data, k=K)\n",
    "cur_dist = None\n",
    "\n",
    "for i in range(max_iters):\n",
    "    datapoint_to_centroid = find_closest_centers(norm_data)\n",
    "    avg_dist = get_avg_distance(norm_data, cluster_centers, datapoint_to_centroid)\n",
    "    if cur_dist and abs(cur_dist - avg_dist) <= 1e-8:\n",
    "        break\n",
    "    cur_dist = avg_dist\n",
    "    cluster_centers = assign_new_cluster_centers(cluster_centers, norm_data, datapoint_to_centroid)\n",
    "    print(avg_dist)"
   ]
  }
 ],
 "metadata": {
  "kernelspec": {
   "display_name": "Python 3 (ipykernel)",
   "language": "python",
   "name": "python3"
  },
  "language_info": {
   "codemirror_mode": {
    "name": "ipython",
    "version": 3
   },
   "file_extension": ".py",
   "mimetype": "text/x-python",
   "name": "python",
   "nbconvert_exporter": "python",
   "pygments_lexer": "ipython3",
   "version": "3.10.13"
  }
 },
 "nbformat": 4,
 "nbformat_minor": 5
}
