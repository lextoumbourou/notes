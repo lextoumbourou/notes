{
 "cells": [
  {
   "cell_type": "code",
   "execution_count": 1,
   "id": "1e3c7311",
   "metadata": {
    "_cell_guid": "b1076dfc-b9ad-4769-8c92-a6c4dae69d19",
    "_uuid": "8f2839f25d086af736a60e9eeb907d3b93b6e0e5",
    "execution": {
     "iopub.execute_input": "2021-10-17T00:32:32.525725Z",
     "iopub.status.busy": "2021-10-17T00:32:32.524392Z",
     "iopub.status.idle": "2021-10-17T00:32:32.535249Z",
     "shell.execute_reply": "2021-10-17T00:32:32.535845Z",
     "shell.execute_reply.started": "2021-10-17T00:31:18.033016Z"
    },
    "papermill": {
     "duration": 0.024553,
     "end_time": "2021-10-17T00:32:32.536210",
     "exception": false,
     "start_time": "2021-10-17T00:32:32.511657",
     "status": "completed"
    },
    "tags": []
   },
   "outputs": [],
   "source": [
    "import math"
   ]
  },
  {
   "cell_type": "code",
   "execution_count": 2,
   "id": "c4d7b1cd",
   "metadata": {
    "execution": {
     "iopub.execute_input": "2021-10-17T00:32:32.548744Z",
     "iopub.status.busy": "2021-10-17T00:32:32.548046Z",
     "iopub.status.idle": "2021-10-17T00:32:32.554908Z",
     "shell.execute_reply": "2021-10-17T00:32:32.555435Z",
     "shell.execute_reply.started": "2021-10-17T00:31:23.577983Z"
    },
    "papermill": {
     "duration": 0.014513,
     "end_time": "2021-10-17T00:32:32.555635",
     "exception": false,
     "start_time": "2021-10-17T00:32:32.541122",
     "status": "completed"
    },
    "tags": []
   },
   "outputs": [
    {
     "data": {
      "text/plain": [
       "6.283185307179586"
      ]
     },
     "execution_count": 2,
     "metadata": {},
     "output_type": "execute_result"
    }
   ],
   "source": [
    "math.radians(360)"
   ]
  },
  {
   "cell_type": "code",
   "execution_count": 3,
   "id": "43b0a931",
   "metadata": {
    "execution": {
     "iopub.execute_input": "2021-10-17T00:32:32.567529Z",
     "iopub.status.busy": "2021-10-17T00:32:32.566901Z",
     "iopub.status.idle": "2021-10-17T00:32:32.572762Z",
     "shell.execute_reply": "2021-10-17T00:32:32.573220Z",
     "shell.execute_reply.started": "2021-10-17T00:31:31.738184Z"
    },
    "papermill": {
     "duration": 0.013331,
     "end_time": "2021-10-17T00:32:32.573422",
     "exception": false,
     "start_time": "2021-10-17T00:32:32.560091",
     "status": "completed"
    },
    "tags": []
   },
   "outputs": [
    {
     "data": {
      "text/plain": [
       "57.29577951308232"
      ]
     },
     "execution_count": 3,
     "metadata": {},
     "output_type": "execute_result"
    }
   ],
   "source": [
    "math.degrees(1)"
   ]
  }
 ],
 "metadata": {
  "kernelspec": {
   "display_name": "Python 3",
   "language": "python",
   "name": "python3"
  },
  "language_info": {
   "codemirror_mode": {
    "name": "ipython",
    "version": 3
   },
   "file_extension": ".py",
   "mimetype": "text/x-python",
   "name": "python",
   "nbconvert_exporter": "python",
   "pygments_lexer": "ipython3",
   "version": "3.7.10"
  },
  "papermill": {
   "default_parameters": {},
   "duration": 10.860004,
   "end_time": "2021-10-17T00:32:33.391005",
   "environment_variables": {},
   "exception": null,
   "input_path": "__notebook__.ipynb",
   "output_path": "__notebook__.ipynb",
   "parameters": {},
   "start_time": "2021-10-17T00:32:22.531001",
   "version": "2.3.3"
  }
 },
 "nbformat": 4,
 "nbformat_minor": 5
}
