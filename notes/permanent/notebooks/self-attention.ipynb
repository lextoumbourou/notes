{
 "cells": [
  {
   "cell_type": "code",
   "execution_count": 107,
   "id": "2250ab50-2ecd-46ae-8a0b-865da983cf6d",
   "metadata": {},
   "outputs": [],
   "source": [
    "import math\n",
    "from torch import nn\n",
    "import torch\n",
    "from torch.nn.functional import softmax"
   ]
  },
  {
   "cell_type": "code",
   "execution_count": 257,
   "id": "7bb9db87-33ab-449d-b9eb-7daabecfac6b",
   "metadata": {},
   "outputs": [
    {
     "data": {
      "text/plain": [
       "tensor([[False,  True,  True,  True,  True,  True,  True,  True,  True,  True],\n",
       "        [False, False,  True,  True,  True,  True,  True,  True,  True,  True],\n",
       "        [False, False, False,  True,  True,  True,  True,  True,  True,  True],\n",
       "        [False, False, False, False,  True,  True,  True,  True,  True,  True],\n",
       "        [False, False, False, False, False,  True,  True,  True,  True,  True],\n",
       "        [False, False, False, False, False, False,  True,  True,  True,  True],\n",
       "        [False, False, False, False, False, False, False,  True,  True,  True],\n",
       "        [False, False, False, False, False, False, False, False,  True,  True],\n",
       "        [False, False, False, False, False, False, False, False, False,  True],\n",
       "        [False, False, False, False, False, False, False, False, False, False]])"
      ]
     },
     "execution_count": 257,
     "metadata": {},
     "output_type": "execute_result"
    }
   ],
   "source": [
    "attn_mask = torch.tril(torch.ones(*scores.shape)) == 0\n",
    "attn_mask[0]"
   ]
  },
  {
   "cell_type": "code",
   "execution_count": 100,
   "id": "02670286-57ed-48ce-b3bc-21cd4e48234c",
   "metadata": {},
   "outputs": [
    {
     "data": {
      "text/plain": [
       "tensor([[False,  True,  True,  True,  True,  True,  True,  True,  True,  True],\n",
       "        [False, False,  True,  True,  True,  True,  True,  True,  True,  True],\n",
       "        [False, False, False,  True,  True,  True,  True,  True,  True,  True],\n",
       "        [False, False, False, False,  True,  True,  True,  True,  True,  True],\n",
       "        [False, False, False, False, False,  True,  True,  True,  True,  True],\n",
       "        [False, False, False, False, False, False,  True,  True,  True,  True],\n",
       "        [False, False, False, False, False, False, False,  True,  True,  True],\n",
       "        [False, False, False, False, False, False, False, False,  True,  True],\n",
       "        [False, False, False, False, False, False, False, False, False,  True],\n",
       "        [False, False, False, False, False, False, False, False, False, False]])"
      ]
     },
     "execution_count": 100,
     "metadata": {},
     "output_type": "execute_result"
    }
   ],
   "source": [
    "mask = torch.tril(torch.ones(10, 10)) == 0\n",
    "mask"
   ]
  },
  {
   "cell_type": "code",
   "execution_count": 101,
   "id": "24fc60d2-5a18-4426-917e-3008550269c6",
   "metadata": {},
   "outputs": [
    {
     "data": {
      "text/plain": [
       "tensor([0.9756, 0.6373, 0.1157, 0.6557, 0.3390, 0.7457, 0.1824, 0.6997, 0.0744,\n",
       "        0.5098])"
      ]
     },
     "execution_count": 101,
     "metadata": {},
     "output_type": "execute_result"
    }
   ],
   "source": [
    "scores = torch.rand(8, 10, 10)\n",
    "scores[0][0]"
   ]
  },
  {
   "cell_type": "code",
   "execution_count": 102,
   "id": "512537ea-625d-49ff-9c44-484b56ed98b2",
   "metadata": {},
   "outputs": [
    {
     "data": {
      "text/plain": [
       "tensor([0.9756,   -inf,   -inf,   -inf,   -inf,   -inf,   -inf,   -inf,   -inf,\n",
       "          -inf])"
      ]
     },
     "execution_count": 102,
     "metadata": {},
     "output_type": "execute_result"
    }
   ],
   "source": [
    "scores = torch.masked_fill(scores, mask, float(\"-inf\"))\n",
    "scores[0][0]"
   ]
  },
  {
   "cell_type": "code",
   "execution_count": 110,
   "id": "59c17007-f2c3-4777-86c2-a95083d5d837",
   "metadata": {},
   "outputs": [],
   "source": [
    "scores = scores / math.sqrt(10)"
   ]
  },
  {
   "cell_type": "code",
   "execution_count": 111,
   "id": "84e3f05a-77bf-44dc-8a84-1d7434ba1e38",
   "metadata": {},
   "outputs": [
    {
     "data": {
      "text/plain": [
       "tensor([[1.0000, 0.0000, 0.0000, 0.0000, 0.0000, 0.0000, 0.0000, 0.0000, 0.0000,\n",
       "         0.0000],\n",
       "        [0.4839, 0.5161, 0.0000, 0.0000, 0.0000, 0.0000, 0.0000, 0.0000, 0.0000,\n",
       "         0.0000],\n",
       "        [0.3550, 0.3220, 0.3230, 0.0000, 0.0000, 0.0000, 0.0000, 0.0000, 0.0000,\n",
       "         0.0000],\n",
       "        [0.2569, 0.2532, 0.2565, 0.2334, 0.0000, 0.0000, 0.0000, 0.0000, 0.0000,\n",
       "         0.0000],\n",
       "        [0.2004, 0.1777, 0.1813, 0.2284, 0.2123, 0.0000, 0.0000, 0.0000, 0.0000,\n",
       "         0.0000],\n",
       "        [0.1785, 0.1769, 0.1576, 0.1699, 0.1455, 0.1716, 0.0000, 0.0000, 0.0000,\n",
       "         0.0000],\n",
       "        [0.1413, 0.1264, 0.1630, 0.1274, 0.1551, 0.1339, 0.1529, 0.0000, 0.0000,\n",
       "         0.0000],\n",
       "        [0.1234, 0.1062, 0.1086, 0.1301, 0.1389, 0.1317, 0.1355, 0.1257, 0.0000,\n",
       "         0.0000],\n",
       "        [0.1038, 0.1070, 0.1077, 0.1278, 0.1197, 0.1017, 0.1019, 0.1252, 0.1051,\n",
       "         0.0000],\n",
       "        [0.1150, 0.0986, 0.1093, 0.1014, 0.0903, 0.0888, 0.1039, 0.0864, 0.1037,\n",
       "         0.1026]])"
      ]
     },
     "execution_count": 111,
     "metadata": {},
     "output_type": "execute_result"
    }
   ],
   "source": [
    "softmax(scores, dim=-1)[0]"
   ]
  },
  {
   "cell_type": "code",
   "execution_count": 138,
   "id": "bcd6e507-abea-4015-97c6-11f01285f5b9",
   "metadata": {},
   "outputs": [
    {
     "data": {
      "text/plain": [
       "tensor([[False,  True,  True,  True,  True,  True,  True,  True,  True,  True],\n",
       "        [False, False,  True,  True,  True,  True,  True,  True,  True,  True],\n",
       "        [False, False, False,  True,  True,  True,  True,  True,  True,  True],\n",
       "        [False, False, False, False,  True,  True,  True,  True,  True,  True],\n",
       "        [False, False, False, False, False,  True,  True,  True,  True,  True],\n",
       "        [False, False, False, False, False, False,  True,  True,  True,  True],\n",
       "        [False, False, False, False, False, False, False,  True,  True,  True],\n",
       "        [False, False, False, False, False, False, False, False,  True,  True],\n",
       "        [False, False, False, False, False, False, False, False, False,  True],\n",
       "        [False, False, False, False, False, False, False, False, False, False]])"
      ]
     },
     "execution_count": 138,
     "metadata": {},
     "output_type": "execute_result"
    }
   ],
   "source": [
    "def get_attn_mask(shape):\n",
    "    return torch.tril(torch.ones(shape)) == 0\n",
    "\n",
    "get_attn_mask((10, 10))"
   ]
  },
  {
   "cell_type": "code",
   "execution_count": 283,
   "id": "93896d87-a965-4078-a71f-1bc292aac981",
   "metadata": {},
   "outputs": [],
   "source": [
    "import math\n",
    "\n",
    "class SingleHeadAttention(nn.Module):\n",
    "    def __init__(self, embedding_dim, attention_dim):\n",
    "        super().__init__()\n",
    "        torch.manual_seed(0)\n",
    "        self.attention_dim = attention_dim\n",
    "    \n",
    "        self.key_proj = nn.Linear(embedding_dim, attention_dim, bias=False)\n",
    "        self.query_proj = nn.Linear(embedding_dim, attention_dim, bias=False)\n",
    "        self.value_proj = nn.Linear(embedding_dim, attention_dim, bias=False)\n",
    "\n",
    "    def forward(self, X):\n",
    "        key = self.key_proj(X)\n",
    "        query = self.query_proj(X)\n",
    "        value = self.value_proj(X)\n",
    "\n",
    "        scores = query @ key.transpose(2, 1)\n",
    "        # Scale scores by sqrt of attention dim\n",
    "        scores = scores / math.sqrt(self.attention_dim)\n",
    "\n",
    "        # Compute a mask and set all future values to -inf. This ensure a score of 0 after softmax.\n",
    "        attn_mask = torch.tril(torch.ones(*scores.shape)) == 0\n",
    "        scores = torch.masked_fill(scores, attn_mask, float(\"-inf\"))\n",
    "\n",
    "        # Compute softmax of scores.\n",
    "        scores = softmax(scores, dim=-1)\n",
    "\n",
    "        # Now do final projection with values.\n",
    "        out = scores @ value\n",
    "\n",
    "        return torch.round(out, decimals=4)"
   ]
  },
  {
   "cell_type": "code",
   "execution_count": 284,
   "id": "8f45bb53-2298-4a32-9521-0276a2bd663f",
   "metadata": {},
   "outputs": [],
   "source": [
    "embedding_dim = 1024\n",
    "attention_dim = 100\n",
    "self_attention = SingleHeadAttention(embedding_dim, attention_dim)"
   ]
  },
  {
   "cell_type": "code",
   "execution_count": 285,
   "id": "5ad2e0de-bfad-4e0b-a8cc-bac4e33aa6f7",
   "metadata": {},
   "outputs": [],
   "source": [
    "input_ = torch.randn(8, 10, 1024)"
   ]
  },
  {
   "cell_type": "code",
   "execution_count": 286,
   "id": "482edb3c-4de3-41b6-b702-c808f51000c1",
   "metadata": {},
   "outputs": [
    {
     "data": {
      "text/plain": [
       "torch.Size([8, 10, 100])"
      ]
     },
     "execution_count": 286,
     "metadata": {},
     "output_type": "execute_result"
    }
   ],
   "source": [
    "out = self_attention(input_)\n",
    "out.shape"
   ]
  },
  {
   "cell_type": "code",
   "execution_count": 287,
   "id": "87464ee6-dbc2-48f2-aeaa-02744549090d",
   "metadata": {},
   "outputs": [],
   "source": [
    "embedding_dim = 2\n",
    "attention_dim = 3\n",
    "embedded = torch.tensor([\n",
    "  [[-1.4381, 0.1232],\n",
    "   [-0.1080, 0.3458]],\n",
    "  [[0.1929, -0.8567],\n",
    "   [-0.1160, 1.2547]]\n",
    "])"
   ]
  },
  {
   "cell_type": "code",
   "execution_count": 288,
   "id": "9424bd54-1a1e-4208-bc0d-3d401851cccd",
   "metadata": {},
   "outputs": [
    {
     "data": {
      "text/plain": [
       "torch.Size([2, 2, 2])"
      ]
     },
     "execution_count": 288,
     "metadata": {},
     "output_type": "execute_result"
    }
   ],
   "source": [
    "embedded.shape"
   ]
  },
  {
   "cell_type": "code",
   "execution_count": 289,
   "id": "04bb6590-0762-47b7-8657-4c6bedcf2568",
   "metadata": {},
   "outputs": [
    {
     "name": "stdout",
     "output_type": "stream",
     "text": [
      "tensor([[ 0.9138,  0.4224, -0.3497],\n",
      "        [ 0.4183,  0.2337, -0.1193]], grad_fn=<SelectBackward0>)\n"
     ]
    }
   ],
   "source": [
    "self_attention = SingleHeadAttention(embedding_dim, attention_dim)\n",
    "out = self_attention(embedded)\n",
    "print(out[0])"
   ]
  },
  {
   "cell_type": "code",
   "execution_count": null,
   "id": "b18dab5d-5f35-4a74-a8e3-a425f558b22d",
   "metadata": {},
   "outputs": [],
   "source": []
  }
 ],
 "metadata": {
  "kernelspec": {
   "display_name": "Python 3 (ipykernel)",
   "language": "python",
   "name": "python3"
  },
  "language_info": {
   "codemirror_mode": {
    "name": "ipython",
    "version": 3
   },
   "file_extension": ".py",
   "mimetype": "text/x-python",
   "name": "python",
   "nbconvert_exporter": "python",
   "pygments_lexer": "ipython3",
   "version": "3.10.13"
  }
 },
 "nbformat": 4,
 "nbformat_minor": 5
}
