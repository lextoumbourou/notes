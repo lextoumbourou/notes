{
 "cells": [
  {
   "cell_type": "code",
   "execution_count": 1,
   "metadata": {
    "_cell_guid": "b1076dfc-b9ad-4769-8c92-a6c4dae69d19",
    "_uuid": "8f2839f25d086af736a60e9eeb907d3b93b6e0e5",
    "execution": {
     "iopub.execute_input": "2021-08-08T12:01:47.740943Z",
     "iopub.status.busy": "2021-08-08T12:01:47.740477Z",
     "iopub.status.idle": "2021-08-08T12:01:47.754830Z",
     "shell.execute_reply": "2021-08-08T12:01:47.753271Z",
     "shell.execute_reply.started": "2021-08-08T12:01:47.740860Z"
    }
   },
   "outputs": [],
   "source": [
    "from math import log\n",
    "\n",
    "def binary_cross_entropy_single_label(pred, label):\n",
    "    if label == 1:\n",
    "        return -log(pred)\n",
    "    \n",
    "    return -log(1-pred)"
   ]
  },
  {
   "cell_type": "code",
   "execution_count": 2,
   "metadata": {
    "execution": {
     "iopub.execute_input": "2021-08-08T12:01:47.761387Z",
     "iopub.status.busy": "2021-08-08T12:01:47.761058Z",
     "iopub.status.idle": "2021-08-08T12:01:47.777681Z",
     "shell.execute_reply": "2021-08-08T12:01:47.776128Z",
     "shell.execute_reply.started": "2021-08-08T12:01:47.761358Z"
    }
   },
   "outputs": [
    {
     "data": {
      "text/plain": [
       "0.01005033585350145"
      ]
     },
     "execution_count": 2,
     "metadata": {},
     "output_type": "execute_result"
    }
   ],
   "source": [
    "pred = 0.99\n",
    "label = 1\n",
    "\n",
    "binary_cross_entropy_single_label(pred, label)"
   ]
  },
  {
   "cell_type": "code",
   "execution_count": 3,
   "metadata": {
    "execution": {
     "iopub.execute_input": "2021-08-08T12:01:47.779975Z",
     "iopub.status.busy": "2021-08-08T12:01:47.779519Z",
     "iopub.status.idle": "2021-08-08T12:01:47.792145Z",
     "shell.execute_reply": "2021-08-08T12:01:47.790460Z",
     "shell.execute_reply.started": "2021-08-08T12:01:47.779942Z"
    }
   },
   "outputs": [],
   "source": [
    "from numpy import mean\n",
    "\n",
    "def binary_cross_entropy(preds, labels):\n",
    "    return mean([\n",
    "        binary_cross_entropy_single_label(pred, label) for pred, label in zip(preds, labels)])"
   ]
  },
  {
   "cell_type": "code",
   "execution_count": 4,
   "metadata": {
    "execution": {
     "iopub.execute_input": "2021-08-08T12:01:47.794724Z",
     "iopub.status.busy": "2021-08-08T12:01:47.794217Z",
     "iopub.status.idle": "2021-08-08T12:01:47.809410Z",
     "shell.execute_reply": "2021-08-08T12:01:47.807760Z",
     "shell.execute_reply.started": "2021-08-08T12:01:47.794687Z"
    }
   },
   "outputs": [
    {
     "data": {
      "text/plain": [
       "0.03754564154286754"
      ]
     },
     "execution_count": 4,
     "metadata": {},
     "output_type": "execute_result"
    }
   ],
   "source": [
    "preds = [0.99, 0.05, 0.95]\n",
    "labels = [1, 0, 1]\n",
    "\n",
    "binary_cross_entropy(preds, labels)"
   ]
  },
  {
   "cell_type": "code",
   "execution_count": 5,
   "metadata": {
    "execution": {
     "iopub.execute_input": "2021-08-08T12:01:47.812149Z",
     "iopub.status.busy": "2021-08-08T12:01:47.811497Z",
     "iopub.status.idle": "2021-08-08T12:01:48.315047Z",
     "shell.execute_reply": "2021-08-08T12:01:48.314214Z",
     "shell.execute_reply.started": "2021-08-08T12:01:47.812066Z"
    }
   },
   "outputs": [
    {
     "data": {
      "text/plain": [
       "tensor(0.0375)"
      ]
     },
     "execution_count": 5,
     "metadata": {},
     "output_type": "execute_result"
    }
   ],
   "source": [
    "from torch import tensor, where, nn\n",
    "\n",
    "preds = tensor([0.99, 0.05, 0.95]).float()\n",
    "labels = tensor([1, 0, 1]).float()\n",
    "\n",
    "nn.BCELoss()(preds, labels)"
   ]
  },
  {
   "cell_type": "code",
   "execution_count": 6,
   "metadata": {
    "execution": {
     "iopub.execute_input": "2021-08-08T12:01:48.316518Z",
     "iopub.status.busy": "2021-08-08T12:01:48.316110Z",
     "iopub.status.idle": "2021-08-08T12:01:48.320590Z",
     "shell.execute_reply": "2021-08-08T12:01:48.319739Z",
     "shell.execute_reply.started": "2021-08-08T12:01:48.316489Z"
    }
   },
   "outputs": [],
   "source": [
    "def binary_cross_entropy(preds, labels):\n",
    "    return -where(labels==1, preds, 1-preds).log().mean()"
   ]
  },
  {
   "cell_type": "code",
   "execution_count": 7,
   "metadata": {
    "execution": {
     "iopub.execute_input": "2021-08-08T12:01:49.234527Z",
     "iopub.status.busy": "2021-08-08T12:01:49.234025Z",
     "iopub.status.idle": "2021-08-08T12:01:49.245400Z",
     "shell.execute_reply": "2021-08-08T12:01:49.244420Z",
     "shell.execute_reply.started": "2021-08-08T12:01:49.234495Z"
    }
   },
   "outputs": [
    {
     "data": {
      "text/plain": [
       "tensor(0.0375)"
      ]
     },
     "execution_count": 7,
     "metadata": {},
     "output_type": "execute_result"
    }
   ],
   "source": [
    "binary_cross_entropy(preds, labels)"
   ]
  }
 ],
 "metadata": {
  "kernelspec": {
   "display_name": "Python 3 (ipykernel)",
   "language": "python",
   "name": "python3"
  },
  "language_info": {
   "codemirror_mode": {
    "name": "ipython",
    "version": 3
   },
   "file_extension": ".py",
   "mimetype": "text/x-python",
   "name": "python",
   "nbconvert_exporter": "python",
   "pygments_lexer": "ipython3",
   "version": "3.10.9"
  }
 },
 "nbformat": 4,
 "nbformat_minor": 4
}
