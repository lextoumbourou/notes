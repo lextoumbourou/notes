{
 "cells": [
  {
   "cell_type": "code",
   "execution_count": 1,
   "id": "99cf6b9b",
   "metadata": {
    "_cell_guid": "b1076dfc-b9ad-4769-8c92-a6c4dae69d19",
    "_uuid": "8f2839f25d086af736a60e9eeb907d3b93b6e0e5",
    "execution": {
     "iopub.execute_input": "2021-10-30T10:43:26.053359Z",
     "iopub.status.busy": "2021-10-30T10:43:26.052345Z",
     "iopub.status.idle": "2021-10-30T10:43:26.067579Z",
     "shell.execute_reply": "2021-10-30T10:43:26.068165Z",
     "shell.execute_reply.started": "2021-10-30T10:41:03.512630Z"
    },
    "papermill": {
     "duration": 0.031307,
     "end_time": "2021-10-30T10:43:26.068461",
     "exception": false,
     "start_time": "2021-10-30T10:43:26.037154",
     "status": "completed"
    },
    "tags": []
   },
   "outputs": [],
   "source": [
    "import math\n",
    "\n",
    "import pandas as pd\n",
    "import numpy as np\n",
    "import matplotlib.pyplot as plt\n",
    "\n",
    "def load_train_image(image_id):\n",
    "    df = pd.read_csv('../input/mnist-in-csv/mnist_train.csv')\n",
    "    non_label_cols = [d for d in df.columns if d != 'label']\n",
    "    image_data = df.iloc[image_id][non_label_cols].values\n",
    "    reshaped_image = image_data.reshape((28, 28))\n",
    "\n",
    "    return reshaped_image\n",
    "\n",
    "def rotate_image(image, rotation_amount):\n",
    "    angle = math.radians(rotation_amount)\n",
    "\n",
    "    # Create the transformation matrix\n",
    "    transformation_matrix = np.array([\n",
    "        [math.cos(angle), math.sin(angle)],\n",
    "        [-math.sin(angle), math.cos(angle)]\n",
    "    ])\n",
    "\n",
    "    height, width = image.shape\n",
    "\n",
    "    center_height = round((height) / 2) - 1\n",
    "    center_width = round((width) / 2) - 1\n",
    "\n",
    "    new_width = round(abs(width * math.cos(angle)) + abs(height * math.sin(angle)))\n",
    "    new_height = round(abs(height * math.cos(angle)) + abs(width * math.sin(angle)))\n",
    "\n",
    "    new_center_height = round((new_height) / 2) - 1\n",
    "    new_center_width = round((new_width) / 2) - 1\n",
    "    \n",
    "    output = np.zeros((new_height, new_width))\n",
    "\n",
    "    for row in range(height):\n",
    "        for column in range(width):\n",
    "            # Represent positions as distance from center.\n",
    "            x = row - center_height\n",
    "            y = column - center_width\n",
    "\n",
    "            # Transform vector\n",
    "            new_position = transformation_matrix @ np.array([x, y])\n",
    "\n",
    "            new_x, new_y = round(new_position[0]), round(new_position[1])\n",
    "\n",
    "            # Revert to positions from top-left.\n",
    "            new_x = new_center_height + new_x\n",
    "            new_y = new_center_width + new_y\n",
    "\n",
    "            if 0 <= new_y < new_height and 0 <= new_x < new_width:\n",
    "                output[new_x, new_y] = image[row, column]\n",
    "                \n",
    "    return output"
   ]
  },
  {
   "cell_type": "code",
   "execution_count": 2,
   "id": "ed59d730",
   "metadata": {
    "execution": {
     "iopub.execute_input": "2021-10-30T10:43:26.078279Z",
     "iopub.status.busy": "2021-10-30T10:43:26.077597Z",
     "iopub.status.idle": "2021-10-30T10:43:31.855690Z",
     "shell.execute_reply": "2021-10-30T10:43:31.856212Z",
     "shell.execute_reply.started": "2021-10-30T10:42:51.181683Z"
    },
    "papermill": {
     "duration": 5.784246,
     "end_time": "2021-10-30T10:43:31.856382",
     "exception": false,
     "start_time": "2021-10-30T10:43:26.072136",
     "status": "completed"
    },
    "tags": []
   },
   "outputs": [
    {
     "data": {
      "image/png": "[encoded data removed]",
      "text/plain": [
       "<Figure size 1008x576 with 3 Axes>"
      ]
     },
     "metadata": {
      "needs_background": "light"
     },
     "output_type": "display_data"
    }
   ],
   "source": [
    "image = load_train_image(12)\n",
    "\n",
    "f, (ax1, ax2, ax3) = plt.subplots(1, 3, figsize=(14, 8))\n",
    "\n",
    "ax1.imshow(rotate_image(image, 0), cmap='gray_r')\n",
    "ax2.imshow(rotate_image(image, 90), cmap='gray_r')\n",
    "ax3.imshow(rotate_image(image, 45), cmap='gray_r')\n",
    "\n",
    "ax1.title.set_text('0° rotation')\n",
    "ax2.title.set_text('90° rotation')\n",
    "ax3.title.set_text('45° rotation')\n",
    "plt.show()"
   ]
  }
 ],
 "metadata": {
  "kernelspec": {
   "display_name": "Python 3",
   "language": "python",
   "name": "python3"
  },
  "language_info": {
   "codemirror_mode": {
    "name": "ipython",
    "version": 3
   },
   "file_extension": ".py",
   "mimetype": "text/x-python",
   "name": "python",
   "nbconvert_exporter": "python",
   "pygments_lexer": "ipython3",
   "version": "3.7.10"
  },
  "papermill": {
   "default_parameters": {},
   "duration": 15.494148,
   "end_time": "2021-10-30T10:43:32.473444",
   "environment_variables": {},
   "exception": null,
   "input_path": "__notebook__.ipynb",
   "output_path": "__notebook__.ipynb",
   "parameters": {},
   "start_time": "2021-10-30T10:43:16.979296",
   "version": "2.3.3"
  }
 },
 "nbformat": 4,
 "nbformat_minor": 5
}
