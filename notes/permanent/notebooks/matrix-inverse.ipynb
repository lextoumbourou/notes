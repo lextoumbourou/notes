{
 "cells": [
  {
   "cell_type": "code",
   "execution_count": 1,
   "id": "d6f9f7f3",
   "metadata": {
    "_cell_guid": "b1076dfc-b9ad-4769-8c92-a6c4dae69d19",
    "_uuid": "8f2839f25d086af736a60e9eeb907d3b93b6e0e5",
    "execution": {
     "iopub.execute_input": "2021-09-26T06:16:57.836212Z",
     "iopub.status.busy": "2021-09-26T06:16:57.834438Z",
     "iopub.status.idle": "2021-09-26T06:16:57.845336Z",
     "shell.execute_reply": "2021-09-26T06:16:57.845811Z",
     "shell.execute_reply.started": "2021-09-26T06:16:01.606507Z"
    },
    "papermill": {
     "duration": 0.021684,
     "end_time": "2021-09-26T06:16:57.846115",
     "exception": false,
     "start_time": "2021-09-26T06:16:57.824431",
     "status": "completed"
    },
    "tags": []
   },
   "outputs": [],
   "source": [
    "import numpy as np"
   ]
  },
  {
   "cell_type": "code",
   "execution_count": 2,
   "id": "8181335b",
   "metadata": {
    "execution": {
     "iopub.execute_input": "2021-09-26T06:16:57.858959Z",
     "iopub.status.busy": "2021-09-26T06:16:57.858092Z",
     "iopub.status.idle": "2021-09-26T06:16:57.861731Z",
     "shell.execute_reply": "2021-09-26T06:16:57.862194Z",
     "shell.execute_reply.started": "2021-09-26T06:16:24.767063Z"
    },
    "papermill": {
     "duration": 0.010981,
     "end_time": "2021-09-26T06:16:57.862344",
     "exception": false,
     "start_time": "2021-09-26T06:16:57.851363",
     "status": "completed"
    },
    "tags": []
   },
   "outputs": [],
   "source": [
    "m = np.array([[1, 3], [2, 4]])"
   ]
  },
  {
   "cell_type": "code",
   "execution_count": 3,
   "id": "7f013ee3",
   "metadata": {
    "execution": {
     "iopub.execute_input": "2021-09-26T06:16:57.873742Z",
     "iopub.status.busy": "2021-09-26T06:16:57.872877Z",
     "iopub.status.idle": "2021-09-26T06:16:57.887424Z",
     "shell.execute_reply": "2021-09-26T06:16:57.888230Z",
     "shell.execute_reply.started": "2021-09-26T06:16:25.406577Z"
    },
    "papermill": {
     "duration": 0.021951,
     "end_time": "2021-09-26T06:16:57.888460",
     "exception": false,
     "start_time": "2021-09-26T06:16:57.866509",
     "status": "completed"
    },
    "tags": []
   },
   "outputs": [
    {
     "data": {
      "text/plain": [
       "array([[-2. ,  1.5],\n",
       "       [ 1. , -0.5]])"
      ]
     },
     "execution_count": 3,
     "metadata": {},
     "output_type": "execute_result"
    }
   ],
   "source": [
    "m_inv = np.linalg.inv(m); m_inv"
   ]
  },
  {
   "cell_type": "code",
   "execution_count": 4,
   "id": "6b914b35",
   "metadata": {
    "execution": {
     "iopub.execute_input": "2021-09-26T06:16:57.906702Z",
     "iopub.status.busy": "2021-09-26T06:16:57.906100Z",
     "iopub.status.idle": "2021-09-26T06:16:57.913767Z",
     "shell.execute_reply": "2021-09-26T06:16:57.914265Z",
     "shell.execute_reply.started": "2021-09-26T06:16:26.240189Z"
    },
    "papermill": {
     "duration": 0.017612,
     "end_time": "2021-09-26T06:16:57.914428",
     "exception": false,
     "start_time": "2021-09-26T06:16:57.896816",
     "status": "completed"
    },
    "tags": []
   },
   "outputs": [
    {
     "data": {
      "text/plain": [
       "array([[1., 0.],\n",
       "       [0., 1.]])"
      ]
     },
     "execution_count": 4,
     "metadata": {},
     "output_type": "execute_result"
    }
   ],
   "source": [
    "m @ m_inv"
   ]
  }
 ],
 "metadata": {
  "kernelspec": {
   "display_name": "Python 3",
   "language": "python",
   "name": "python3"
  },
  "language_info": {
   "codemirror_mode": {
    "name": "ipython",
    "version": 3
   },
   "file_extension": ".py",
   "mimetype": "text/x-python",
   "name": "python",
   "nbconvert_exporter": "python",
   "pygments_lexer": "ipython3",
   "version": "3.7.10"
  },
  "papermill": {
   "default_parameters": {},
   "duration": 8.359042,
   "end_time": "2021-09-26T06:16:58.428060",
   "environment_variables": {},
   "exception": null,
   "input_path": "__notebook__.ipynb",
   "output_path": "__notebook__.ipynb",
   "parameters": {},
   "start_time": "2021-09-26T06:16:50.069018",
   "version": "2.3.3"
  }
 },
 "nbformat": 4,
 "nbformat_minor": 5
}
