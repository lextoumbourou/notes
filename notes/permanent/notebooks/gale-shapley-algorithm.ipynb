{
 "cells": [
  {
   "cell_type": "code",
   "execution_count": 46,
   "id": "989119c4-d121-416a-9552-15cb0526a776",
   "metadata": {},
   "outputs": [],
   "source": [
    "men_preferences = {\n",
    "    \"John\": [\"Sally\", \"Jill\", \"Doris\"],\n",
    "    \"Jacob\": [\"Sally\", \"Jill\", \"Doris\"],\n",
    "    \"Bob\": [\"Sally\", \"Doris\", \"Jill\"]\n",
    "}\n",
    "\n",
    "women_preferences = {\n",
    "    \"Sally\": [\"John\", \"Jacob\", \"Bob\"],\n",
    "    \"Jill\": [\"Jacob\", \"John\", \"Bob\"],\n",
    "    \"Doris\": [\"John\", \"Bob\", \"Jacob\"]\n",
    "}"
   ]
  },
  {
   "cell_type": "code",
   "execution_count": 47,
   "id": "17568be5-7732-4153-bee2-ae76bdcf2891",
   "metadata": {},
   "outputs": [],
   "source": [
    "def woman_prefers(new_man, current_man, woman_prefs):\n",
    "    return woman_prefs.index(new_man) < woman_prefs.index(current_man)\n"
   ]
  },
  {
   "cell_type": "code",
   "execution_count": 48,
   "id": "591eef5c-3d5e-4d6e-9922-b1ebd0dbcce7",
   "metadata": {},
   "outputs": [],
   "source": [
    "def gale_shapley(men_preferences, women_preferences):\n",
    "    # Initial setup\n",
    "    n = len(men_preferences)\n",
    "    free_men = list(men_preferences.keys())\n",
    "    engaged = {}\n",
    "    proposed = {man: [] for man in men_preferences}\n",
    "\n",
    "    while free_men:\n",
    "        man = free_men[0]\n",
    "        man_prefs = men_preferences[man]\n",
    "        woman = next(w for w in man_prefs if w not in proposed[man])\n",
    "        proposed[man].append(woman)\n",
    "\n",
    "        if woman not in engaged:\n",
    "            # Woman is free\n",
    "            engaged[woman] = man\n",
    "            free_men.remove(man)\n",
    "        else:\n",
    "            # Woman is engaged, check if she prefers this new man\n",
    "            current_man = engaged[woman]\n",
    "            if woman_prefers(man, current_man, women_preferences[woman]):\n",
    "                # Woman prefers new man\n",
    "                engaged[woman] = man\n",
    "                free_men.remove(man)\n",
    "                free_men.append(current_man)\n",
    "            # Otherwise, do nothing\n",
    "\n",
    "    return engaged"
   ]
  },
  {
   "cell_type": "code",
   "execution_count": 49,
   "id": "72eec3b8-14eb-4a67-81ce-3ad8674f7038",
   "metadata": {},
   "outputs": [
    {
     "data": {
      "text/plain": [
       "{'Sally': 'John', 'Jill': 'Jacob', 'Doris': 'Bob'}"
      ]
     },
     "execution_count": 49,
     "metadata": {},
     "output_type": "execute_result"
    }
   ],
   "source": [
    "gale_shapley(men_preferences, women_preferences)"
   ]
  },
  {
   "cell_type": "code",
   "execution_count": null,
   "id": "55eda03b-4244-4cec-91b0-133030905a0e",
   "metadata": {},
   "outputs": [],
   "source": []
  }
 ],
 "metadata": {
  "kernelspec": {
   "display_name": "Python 3 (ipykernel)",
   "language": "python",
   "name": "python3"
  },
  "language_info": {
   "codemirror_mode": {
    "name": "ipython",
    "version": 3
   },
   "file_extension": ".py",
   "mimetype": "text/x-python",
   "name": "python",
   "nbconvert_exporter": "python",
   "pygments_lexer": "ipython3",
   "version": "3.9.16"
  }
 },
 "nbformat": 4,
 "nbformat_minor": 5
}
