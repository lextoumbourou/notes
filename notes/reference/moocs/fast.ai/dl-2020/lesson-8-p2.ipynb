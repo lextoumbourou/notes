{
 "cells": [
  {
   "cell_type": "markdown",
   "id": "a0843e44",
   "metadata": {
    "papermill": {
     "duration": 0.016812,
     "end_time": "2021-08-15T05:19:03.129927",
     "exception": false,
     "start_time": "2021-08-15T05:19:03.113115",
     "status": "completed"
    },
    "tags": []
   },
   "source": [
    "## 00:37:56 - Text generation\n",
    "\n",
    "* Firstly, to load the model from the previous notebook:"
   ]
  },
  {
   "cell_type": "code",
   "execution_count": 1,
   "id": "da67e51f",
   "metadata": {
    "execution": {
     "iopub.execute_input": "2021-08-15T05:19:03.172542Z",
     "iopub.status.busy": "2021-08-15T05:19:03.171877Z",
     "iopub.status.idle": "2021-08-15T05:19:07.587532Z",
     "shell.execute_reply": "2021-08-15T05:19:07.586909Z",
     "shell.execute_reply.started": "2021-08-15T05:10:09.550336Z"
    },
    "papermill": {
     "duration": 4.441467,
     "end_time": "2021-08-15T05:19:07.587701",
     "exception": false,
     "start_time": "2021-08-15T05:19:03.146234",
     "status": "completed"
    },
    "tags": []
   },
   "outputs": [],
   "source": [
    "from fastai.text.all import *"
   ]
  },
  {
   "cell_type": "code",
   "execution_count": 2,
   "id": "7704ca22",
   "metadata": {
    "execution": {
     "iopub.execute_input": "2021-08-15T05:19:07.626540Z",
     "iopub.status.busy": "2021-08-15T05:19:07.625736Z",
     "iopub.status.idle": "2021-08-15T05:25:27.035226Z",
     "shell.execute_reply": "2021-08-15T05:25:27.034765Z",
     "shell.execute_reply.started": "2021-08-15T05:10:14.141392Z"
    },
    "papermill": {
     "duration": 379.431027,
     "end_time": "2021-08-15T05:25:27.035359",
     "exception": false,
     "start_time": "2021-08-15T05:19:07.604332",
     "status": "completed"
    },
    "tags": []
   },
   "outputs": [
    {
     "data": {
      "text/html": [],
      "text/plain": [
       "<IPython.core.display.HTML object>"
      ]
     },
     "metadata": {},
     "output_type": "display_data"
    },
    {
     "data": {
      "text/html": [],
      "text/plain": [
       "<IPython.core.display.HTML object>"
      ]
     },
     "metadata": {},
     "output_type": "display_data"
    },
    {
     "data": {
      "text/html": [],
      "text/plain": [
       "<IPython.core.display.HTML object>"
      ]
     },
     "metadata": {},
     "output_type": "display_data"
    }
   ],
   "source": [
    "path = untar_data(URLs.IMDB)\n",
    "\n",
    "get_imdb = partial(get_text_files, folders=['train', 'test', 'unsup'])\n",
    "\n",
    "dls_lm = DataBlock(\n",
    "    blocks=TextBlock.from_folder(path, is_lm=True),\n",
    "    get_items=get_imdb, splitter=RandomSplitter(0.1)\n",
    ").dataloaders(path, path=path, bs=128, seq_len=80)\n",
    "\n",
    "learn = language_model_learner(\n",
    "    dls_lm, AWD_LSTM, drop_mult=0.3,\n",
    "    metrics=[accuracy, Perplexity()],\n",
    "    path='/kaggle/working'\n",
    ").to_fp16()"
   ]
  },
  {
   "cell_type": "code",
   "execution_count": 3,
   "id": "fb252a87",
   "metadata": {
    "execution": {
     "iopub.execute_input": "2021-08-15T05:25:27.073652Z",
     "iopub.status.busy": "2021-08-15T05:25:27.073103Z",
     "iopub.status.idle": "2021-08-15T05:25:30.983545Z",
     "shell.execute_reply": "2021-08-15T05:25:30.984686Z",
     "shell.execute_reply.started": "2021-08-15T05:16:35.211402Z"
    },
    "papermill": {
     "duration": 3.932153,
     "end_time": "2021-08-15T05:25:30.984915",
     "exception": false,
     "start_time": "2021-08-15T05:25:27.052762",
     "status": "completed"
    },
    "tags": []
   },
   "outputs": [
    {
     "data": {
      "text/plain": [
       "<fastai.text.learner.LMLearner at 0x7f374aed6bd0>"
      ]
     },
     "execution_count": 3,
     "metadata": {},
     "output_type": "execute_result"
    }
   ],
   "source": [
    "learn.load_encoder('/kaggle/input/lesson-8/models/finetuned')"
   ]
  },
  {
   "cell_type": "markdown",
   "id": "3f62cd55",
   "metadata": {
    "papermill": {
     "duration": 0.041926,
     "end_time": "2021-08-15T05:25:31.059089",
     "exception": false,
     "start_time": "2021-08-15T05:25:31.017163",
     "status": "completed"
    },
    "tags": []
   },
   "source": [
    "* Then make some predictions using a short sentence as a prompt:"
   ]
  },
  {
   "cell_type": "code",
   "execution_count": 4,
   "id": "2c35cc5e",
   "metadata": {
    "execution": {
     "iopub.execute_input": "2021-08-15T05:25:31.163766Z",
     "iopub.status.busy": "2021-08-15T05:25:31.162898Z",
     "iopub.status.idle": "2021-08-15T05:25:33.436152Z",
     "shell.execute_reply": "2021-08-15T05:25:33.435573Z",
     "shell.execute_reply.started": "2021-08-15T05:16:37.684996Z"
    },
    "papermill": {
     "duration": 2.330759,
     "end_time": "2021-08-15T05:25:33.436314",
     "exception": false,
     "start_time": "2021-08-15T05:25:31.105555",
     "status": "completed"
    },
    "tags": []
   },
   "outputs": [
    {
     "data": {
      "text/html": [],
      "text/plain": [
       "<IPython.core.display.HTML object>"
      ]
     },
     "metadata": {},
     "output_type": "display_data"
    },
    {
     "data": {
      "text/html": [],
      "text/plain": [
       "<IPython.core.display.HTML object>"
      ]
     },
     "metadata": {},
     "output_type": "display_data"
    },
    {
     "name": "stdout",
     "output_type": "stream",
     "text": [
      "i liked this movie because there were n't any twists or turns and was never dull . But the acting was pretty good considering everything else . The characters were believable and believable . Tom Sizemore and Emily Dafoe\n",
      "i liked this movie because of its relatively low budget . The special effects are n't bad either -- except for an exaggerated facial expression . \n",
      "\n",
      " But now for the sudden appearance of these aliens . In fact , these aliens\n"
     ]
    }
   ],
   "source": [
    "TEXT = \"I liked this movie because\"\n",
    "N_WORDS = 40\n",
    "N_SENTENCES = 2\n",
    "preds = [learn.predict(TEXT, N_WORDS, temperature=0.75) \n",
    "         for _ in range(N_SENTENCES)]\n",
    "print(\"\\n\".join(preds))"
   ]
  },
  {
   "cell_type": "code",
   "execution_count": 5,
   "id": "657fede0",
   "metadata": {
    "execution": {
     "iopub.execute_input": "2021-08-15T05:25:33.478861Z",
     "iopub.status.busy": "2021-08-15T05:25:33.478032Z",
     "iopub.status.idle": "2021-08-15T05:25:34.906665Z",
     "shell.execute_reply": "2021-08-15T05:25:34.907192Z",
     "shell.execute_reply.started": "2021-08-15T05:16:39.834819Z"
    },
    "papermill": {
     "duration": 1.451828,
     "end_time": "2021-08-15T05:25:34.907385",
     "exception": false,
     "start_time": "2021-08-15T05:25:33.455557",
     "status": "completed"
    },
    "tags": []
   },
   "outputs": [
    {
     "data": {
      "text/html": [],
      "text/plain": [
       "<IPython.core.display.HTML object>"
      ]
     },
     "metadata": {},
     "output_type": "display_data"
    },
    {
     "data": {
      "text/html": [],
      "text/plain": [
       "<IPython.core.display.HTML object>"
      ]
     },
     "metadata": {},
     "output_type": "display_data"
    },
    {
     "name": "stdout",
     "output_type": "stream",
     "text": [
      "i thought this movie would be more like Jaws but it was n't a rip off . It was mostly about middle spectacular men searching for boat and finding each other with their own basic twists and turns . This was written and directed by Al Pacino who\n",
      "i thought this movie would be more like Jaws but it was more like a remake of Jaws than a remake or update . \n",
      "\n",
      " Although they did n't compare this to Jaws 3 because it still has n't changed the storyline since it was made . \n",
      "\n",
      "\n"
     ]
    }
   ],
   "source": [
    "TEXT = \"I thought this movie would be more like Jaws but it was \"\n",
    "N_WORDS = 40\n",
    "N_SENTENCES = 2\n",
    "\n",
    "preds = [\n",
    "    learn.predict(TEXT, N_WORDS, temperature=0.75)\n",
    "    for _ in range(N_SENTENCES)\n",
    "]\n",
    "\n",
    "print(\"\\n\".join(preds))"
   ]
  },
  {
   "cell_type": "markdown",
   "id": "1d7ba883",
   "metadata": {
    "papermill": {
     "duration": 0.019589,
     "end_time": "2021-08-15T05:25:34.947492",
     "exception": false,
     "start_time": "2021-08-15T05:25:34.927903",
     "status": "completed"
    },
    "tags": []
   },
   "source": [
    "* There are better ways to do language generation, but this tells us that the model has learned something."
   ]
  },
  {
   "cell_type": "markdown",
   "id": "b12acc50",
   "metadata": {
    "papermill": {
     "duration": 0.019217,
     "end_time": "2021-08-15T05:25:34.986122",
     "exception": false,
     "start_time": "2021-08-15T05:25:34.966905",
     "status": "completed"
    },
    "tags": []
   },
   "source": [
    "## 00:39:51 - Creating classification model\n",
    "\n",
    "* Create another DataBlock. This time, we provide a vocab from the language by passing in a vocab (`dls_lm.vocab`) to `TextBlock.from_folder`\n",
    "* Also aren't passing `is_lm=True` instead passing `CategoryBlock` as the dataset has a sentiment label."
   ]
  },
  {
   "cell_type": "code",
   "execution_count": 6,
   "id": "47c7a92f",
   "metadata": {
    "execution": {
     "iopub.execute_input": "2021-08-15T05:25:35.069609Z",
     "iopub.status.busy": "2021-08-15T05:25:35.064235Z",
     "iopub.status.idle": "2021-08-15T05:25:41.423109Z",
     "shell.execute_reply": "2021-08-15T05:25:41.422162Z",
     "shell.execute_reply.started": "2021-08-15T05:16:41.378745Z"
    },
    "papermill": {
     "duration": 6.417812,
     "end_time": "2021-08-15T05:25:41.423250",
     "exception": false,
     "start_time": "2021-08-15T05:25:35.005438",
     "status": "completed"
    },
    "tags": []
   },
   "outputs": [],
   "source": [
    "dls_clas = DataBlock(\n",
    "    blocks=(TextBlock.from_folder(path, vocab=dls_lm.vocab), CategoryBlock),\n",
    "    get_y=parent_label,\n",
    "    get_items=partial(get_text_files, folders=['train', 'test']),\n",
    "    splitter=GrandparentSplitter(valid_name='test')\n",
    ").dataloaders(path, path=path, bs=128, seq_len=72)"
   ]
  },
  {
   "cell_type": "code",
   "execution_count": 7,
   "id": "a8b8c741",
   "metadata": {
    "execution": {
     "iopub.execute_input": "2021-08-15T05:25:41.482699Z",
     "iopub.status.busy": "2021-08-15T05:25:41.481938Z",
     "iopub.status.idle": "2021-08-15T05:25:41.733090Z",
     "shell.execute_reply": "2021-08-15T05:25:41.733507Z",
     "shell.execute_reply.started": "2021-08-15T05:16:47.738194Z"
    },
    "papermill": {
     "duration": 0.290427,
     "end_time": "2021-08-15T05:25:41.733667",
     "exception": false,
     "start_time": "2021-08-15T05:25:41.443240",
     "status": "completed"
    },
    "tags": []
   },
   "outputs": [
    {
     "data": {
      "text/html": [
       "<table border=\"1\" class=\"dataframe\">\n",
       "  <thead>\n",
       "    <tr style=\"text-align: right;\">\n",
       "      <th></th>\n",
       "      <th>text</th>\n",
       "      <th>category</th>\n",
       "    </tr>\n",
       "  </thead>\n",
       "  <tbody>\n",
       "    <tr>\n",
       "      <th>0</th>\n",
       "      <td>xxbos xxmaj match 1 : xxmaj tag xxmaj team xxmaj table xxmaj match xxmaj bubba xxmaj ray and xxmaj spike xxmaj dudley vs xxmaj eddie xxmaj guerrero and xxmaj chris xxmaj benoit xxmaj bubba xxmaj ray and xxmaj spike xxmaj dudley started things off with a xxmaj tag xxmaj team xxmaj table xxmaj match against xxmaj eddie xxmaj guerrero and xxmaj chris xxmaj benoit . xxmaj according to the rules of the match , both opponents have to go through tables in order to get the win . xxmaj benoit and xxmaj guerrero heated up early on by taking turns hammering first xxmaj spike and then xxmaj bubba xxmaj ray . a xxmaj german xxunk by xxmaj benoit to xxmaj bubba took the wind out of the xxmaj dudley brother . xxmaj spike tried to help his brother , but the referee restrained him while xxmaj benoit and xxmaj guerrero</td>\n",
       "      <td>pos</td>\n",
       "    </tr>\n",
       "    <tr>\n",
       "      <th>1</th>\n",
       "      <td>xxbos xxmaj titanic directed by xxmaj james xxmaj cameron presents a fictional love story on the historical setting of the xxmaj titanic . xxmaj the plot is simple , xxunk , or not for those who love plots that twist and turn and keep you in suspense . xxmaj the end of the movie can be figured out within minutes of the start of the film , but the love story is an interesting one , however . xxmaj kate xxmaj winslett is wonderful as xxmaj rose , an aristocratic young lady betrothed by xxmaj cal ( billy xxmaj zane ) . xxmaj early on the voyage xxmaj rose meets xxmaj jack ( leonardo dicaprio ) , a lower class artist on his way to xxmaj america after winning his ticket aboard xxmaj titanic in a poker game . xxmaj if he wants something , he goes and gets it</td>\n",
       "      <td>pos</td>\n",
       "    </tr>\n",
       "    <tr>\n",
       "      <th>2</th>\n",
       "      <td>xxbos xxmaj warning : xxmaj does contain spoilers . \\n\\n xxmaj open xxmaj your xxmaj eyes \\n\\n xxmaj if you have not seen this film and plan on doing so , just stop reading here and take my word for it . xxmaj you have to see this film . i have seen it four times so far and i still have n't made up my mind as to what exactly happened in the film . xxmaj that is all i am going to say because if you have not seen this film , then stop reading right now . \\n\\n xxmaj if you are still reading then i am going to pose some questions to you and maybe if anyone has any answers you can email me and let me know what you think . \\n\\n i remember my xxmaj grade 11 xxmaj english teacher quite well . xxmaj</td>\n",
       "      <td>pos</td>\n",
       "    </tr>\n",
       "  </tbody>\n",
       "</table>"
      ],
      "text/plain": [
       "<IPython.core.display.HTML object>"
      ]
     },
     "metadata": {},
     "output_type": "display_data"
    }
   ],
   "source": [
    "dls_clas.show_batch(max_n=3)"
   ]
  },
  {
   "cell_type": "markdown",
   "id": "cce676ac",
   "metadata": {
    "papermill": {
     "duration": 0.019978,
     "end_time": "2021-08-15T05:25:41.773591",
     "exception": false,
     "start_time": "2021-08-15T05:25:41.753613",
     "status": "completed"
    },
    "tags": []
   },
   "source": [
    "## 00:41:04 - Question: Do tokeniser do stemming or lemitisation, or is that outdated?\n",
    "\n",
    "* Stemming and lemitisation is not part of tokenisation.\n",
    "* We have stems for a reason, so we don't remove them.\n",
    "\n",
    "## 00:42:21 - Handling different sequence lengths\n",
    "\n",
    "* With the language model, we can concat all documents together and split into substrings based on batch size. This ensures each mini-batch is the same size (batch_size x sequence length).\n",
    "  * We can't do that with shorter movie reviews. Each movie needs to be associated with dependant variable."
   ]
  },
  {
   "cell_type": "code",
   "execution_count": 8,
   "id": "9a40ecd8",
   "metadata": {
    "execution": {
     "iopub.execute_input": "2021-08-15T05:25:41.858003Z",
     "iopub.status.busy": "2021-08-15T05:25:41.852864Z",
     "iopub.status.idle": "2021-08-15T05:25:44.288432Z",
     "shell.execute_reply": "2021-08-15T05:25:44.287973Z",
     "shell.execute_reply.started": "2021-08-15T05:16:48.020051Z"
    },
    "papermill": {
     "duration": 2.494914,
     "end_time": "2021-08-15T05:25:44.288565",
     "exception": false,
     "start_time": "2021-08-15T05:25:41.793651",
     "status": "completed"
    },
    "tags": []
   },
   "outputs": [],
   "source": [
    "spacy = WordTokenizer()\n",
    "tkn = Tokenizer(spacy)\n",
    "files = get_text_files(path, folders=['train', 'test', 'unsup'])\n",
    "txts = L(o.open().read() for o in files[:2000])\n",
    "\n",
    "toks200 = txts[:200].map(tkn)\n",
    "toks200[0]\n",
    "\n",
    "num = Numericalize()\n",
    "num.setup(toks200)"
   ]
  },
  {
   "cell_type": "code",
   "execution_count": 9,
   "id": "67f0dfb7",
   "metadata": {
    "execution": {
     "iopub.execute_input": "2021-08-15T05:25:44.335778Z",
     "iopub.status.busy": "2021-08-15T05:25:44.335035Z",
     "iopub.status.idle": "2021-08-15T05:25:44.337698Z",
     "shell.execute_reply": "2021-08-15T05:25:44.337262Z",
     "shell.execute_reply.started": "2021-08-15T05:16:50.293579Z"
    },
    "papermill": {
     "duration": 0.028238,
     "end_time": "2021-08-15T05:25:44.337804",
     "exception": false,
     "start_time": "2021-08-15T05:25:44.309566",
     "status": "completed"
    },
    "tags": []
   },
   "outputs": [],
   "source": [
    "nums_samp = toks200[:10].map(num)"
   ]
  },
  {
   "cell_type": "markdown",
   "id": "6aeaabd0",
   "metadata": {
    "papermill": {
     "duration": 0.020068,
     "end_time": "2021-08-15T05:25:44.377631",
     "exception": false,
     "start_time": "2021-08-15T05:25:44.357563",
     "status": "completed"
    },
    "tags": []
   },
   "source": [
    "* Can look at the lengths, and notice that they're all quite different:"
   ]
  },
  {
   "cell_type": "code",
   "execution_count": 10,
   "id": "3fa83bef",
   "metadata": {
    "execution": {
     "iopub.execute_input": "2021-08-15T05:25:44.422011Z",
     "iopub.status.busy": "2021-08-15T05:25:44.421338Z",
     "iopub.status.idle": "2021-08-15T05:25:44.424256Z",
     "shell.execute_reply": "2021-08-15T05:25:44.424667Z",
     "shell.execute_reply.started": "2021-08-15T05:16:50.301917Z"
    },
    "papermill": {
     "duration": 0.027328,
     "end_time": "2021-08-15T05:25:44.424784",
     "exception": false,
     "start_time": "2021-08-15T05:25:44.397456",
     "status": "completed"
    },
    "tags": []
   },
   "outputs": [
    {
     "data": {
      "text/plain": [
       "(#10) [158,319,181,193,114,145,260,146,252,295]"
      ]
     },
     "execution_count": 10,
     "metadata": {},
     "output_type": "execute_result"
    }
   ],
   "source": [
    "nums_samp.map(len)"
   ]
  },
  {
   "cell_type": "markdown",
   "id": "5305f6c9",
   "metadata": {
    "papermill": {
     "duration": 0.019947,
     "end_time": "2021-08-15T05:25:44.464759",
     "exception": false,
     "start_time": "2021-08-15T05:25:44.444812",
     "status": "completed"
    },
    "tags": []
   },
   "source": [
    "* What we need to do is add padding.\n",
    "  * Add special `xxpad` token to each sequence to make them all the size of the largest sequence.\n",
    "* fastai also tries to get similarly sized sentences together to try to minimise padding.\n",
    "* All of this happens when you call `TextBlock.from_folder`\n",
    "\n",
    "## 00:45:30 - Create and fine tune classifier"
   ]
  },
  {
   "cell_type": "code",
   "execution_count": 11,
   "id": "47c1dfdd",
   "metadata": {
    "execution": {
     "iopub.execute_input": "2021-08-15T05:25:44.508956Z",
     "iopub.status.busy": "2021-08-15T05:25:44.508267Z",
     "iopub.status.idle": "2021-08-15T05:25:46.228150Z",
     "shell.execute_reply": "2021-08-15T05:25:46.227699Z",
     "shell.execute_reply.started": "2021-08-15T05:16:50.313675Z"
    },
    "papermill": {
     "duration": 1.743494,
     "end_time": "2021-08-15T05:25:46.228277",
     "exception": false,
     "start_time": "2021-08-15T05:25:44.484783",
     "status": "completed"
    },
    "tags": []
   },
   "outputs": [],
   "source": [
    "learn = text_classifier_learner(\n",
    "    dls_clas, AWD_LSTM, drop_mult=0.5, metrics=accuracy).to_fp16()"
   ]
  },
  {
   "cell_type": "markdown",
   "id": "18f96da6",
   "metadata": {
    "papermill": {
     "duration": 0.02018,
     "end_time": "2021-08-15T05:25:46.268910",
     "exception": false,
     "start_time": "2021-08-15T05:25:46.248730",
     "status": "completed"
    },
    "tags": []
   },
   "source": [
    "* Now we can load the encoder:"
   ]
  },
  {
   "cell_type": "code",
   "execution_count": 12,
   "id": "d8bced72",
   "metadata": {
    "execution": {
     "iopub.execute_input": "2021-08-15T05:25:46.313133Z",
     "iopub.status.busy": "2021-08-15T05:25:46.312623Z",
     "iopub.status.idle": "2021-08-15T05:25:46.499158Z",
     "shell.execute_reply": "2021-08-15T05:25:46.499577Z",
     "shell.execute_reply.started": "2021-08-15T05:16:52.232255Z"
    },
    "papermill": {
     "duration": 0.210622,
     "end_time": "2021-08-15T05:25:46.499737",
     "exception": false,
     "start_time": "2021-08-15T05:25:46.289115",
     "status": "completed"
    },
    "tags": []
   },
   "outputs": [],
   "source": [
    "learn = learn.load_encoder('/kaggle/input/lesson-8/models/finetuned')"
   ]
  },
  {
   "cell_type": "code",
   "execution_count": 13,
   "id": "8434c5af",
   "metadata": {
    "execution": {
     "iopub.execute_input": "2021-08-15T05:25:46.546291Z",
     "iopub.status.busy": "2021-08-15T05:25:46.545242Z",
     "iopub.status.idle": "2021-08-15T05:27:33.419014Z",
     "shell.execute_reply": "2021-08-15T05:27:33.419391Z",
     "shell.execute_reply.started": "2021-08-15T02:12:38.604415Z"
    },
    "papermill": {
     "duration": 106.89912,
     "end_time": "2021-08-15T05:27:33.419593",
     "exception": false,
     "start_time": "2021-08-15T05:25:46.520473",
     "status": "completed"
    },
    "tags": []
   },
   "outputs": [
    {
     "data": {
      "text/html": [
       "<table border=\"1\" class=\"dataframe\">\n",
       "  <thead>\n",
       "    <tr style=\"text-align: left;\">\n",
       "      <th>epoch</th>\n",
       "      <th>train_loss</th>\n",
       "      <th>valid_loss</th>\n",
       "      <th>accuracy</th>\n",
       "      <th>time</th>\n",
       "    </tr>\n",
       "  </thead>\n",
       "  <tbody>\n",
       "    <tr>\n",
       "      <td>0</td>\n",
       "      <td>0.269207</td>\n",
       "      <td>0.195298</td>\n",
       "      <td>0.924400</td>\n",
       "      <td>01:46</td>\n",
       "    </tr>\n",
       "  </tbody>\n",
       "</table>"
      ],
      "text/plain": [
       "<IPython.core.display.HTML object>"
      ]
     },
     "metadata": {},
     "output_type": "display_data"
    }
   ],
   "source": [
    "learn.fit_one_cycle(1, 2e-2)"
   ]
  },
  {
   "cell_type": "markdown",
   "id": "764e279c",
   "metadata": {
    "papermill": {
     "duration": 0.020461,
     "end_time": "2021-08-15T05:27:33.461189",
     "exception": false,
     "start_time": "2021-08-15T05:27:33.440728",
     "status": "completed"
    },
    "tags": []
   },
   "source": [
    "* The results are similar to the first classifier, but took under 2 minutes to train.\n",
    "* In NLP, it's better to unfreeze a layer at time:"
   ]
  },
  {
   "cell_type": "code",
   "execution_count": 14,
   "id": "7ff79b48",
   "metadata": {
    "execution": {
     "iopub.execute_input": "2021-08-15T05:27:33.507803Z",
     "iopub.status.busy": "2021-08-15T05:27:33.506951Z",
     "iopub.status.idle": "2021-08-15T05:29:31.885066Z",
     "shell.execute_reply": "2021-08-15T05:29:31.884627Z",
     "shell.execute_reply.started": "2021-08-15T02:16:11.213756Z"
    },
    "papermill": {
     "duration": 118.403231,
     "end_time": "2021-08-15T05:29:31.885200",
     "exception": false,
     "start_time": "2021-08-15T05:27:33.481969",
     "status": "completed"
    },
    "tags": []
   },
   "outputs": [
    {
     "data": {
      "text/html": [
       "<table border=\"1\" class=\"dataframe\">\n",
       "  <thead>\n",
       "    <tr style=\"text-align: left;\">\n",
       "      <th>epoch</th>\n",
       "      <th>train_loss</th>\n",
       "      <th>valid_loss</th>\n",
       "      <th>accuracy</th>\n",
       "      <th>time</th>\n",
       "    </tr>\n",
       "  </thead>\n",
       "  <tbody>\n",
       "    <tr>\n",
       "      <td>0</td>\n",
       "      <td>0.253995</td>\n",
       "      <td>0.181843</td>\n",
       "      <td>0.931440</td>\n",
       "      <td>01:58</td>\n",
       "    </tr>\n",
       "  </tbody>\n",
       "</table>"
      ],
      "text/plain": [
       "<IPython.core.display.HTML object>"
      ]
     },
     "metadata": {},
     "output_type": "display_data"
    }
   ],
   "source": [
    "learn.freeze_to(-2)\n",
    "learn.fit_one_cycle(1, slice(1e-2/(2.6**4), 1e-2))"
   ]
  },
  {
   "cell_type": "markdown",
   "id": "3313bc7b",
   "metadata": {
    "papermill": {
     "duration": 0.020862,
     "end_time": "2021-08-15T05:29:31.927659",
     "exception": false,
     "start_time": "2021-08-15T05:29:31.906797",
     "status": "completed"
    },
    "tags": []
   },
   "source": [
    "* Can unfreeze a few more layers:"
   ]
  },
  {
   "cell_type": "code",
   "execution_count": 15,
   "id": "5eaf789c",
   "metadata": {
    "execution": {
     "iopub.execute_input": "2021-08-15T05:29:31.974329Z",
     "iopub.status.busy": "2021-08-15T05:29:31.973848Z",
     "iopub.status.idle": "2021-08-15T05:32:14.933746Z",
     "shell.execute_reply": "2021-08-15T05:32:14.934168Z",
     "shell.execute_reply.started": "2021-08-15T02:18:11.565698Z"
    },
    "papermill": {
     "duration": 162.985622,
     "end_time": "2021-08-15T05:32:14.934328",
     "exception": false,
     "start_time": "2021-08-15T05:29:31.948706",
     "status": "completed"
    },
    "tags": []
   },
   "outputs": [
    {
     "data": {
      "text/html": [
       "<table border=\"1\" class=\"dataframe\">\n",
       "  <thead>\n",
       "    <tr style=\"text-align: left;\">\n",
       "      <th>epoch</th>\n",
       "      <th>train_loss</th>\n",
       "      <th>valid_loss</th>\n",
       "      <th>accuracy</th>\n",
       "      <th>time</th>\n",
       "    </tr>\n",
       "  </thead>\n",
       "  <tbody>\n",
       "    <tr>\n",
       "      <td>0</td>\n",
       "      <td>0.211313</td>\n",
       "      <td>0.166533</td>\n",
       "      <td>0.936720</td>\n",
       "      <td>02:42</td>\n",
       "    </tr>\n",
       "  </tbody>\n",
       "</table>"
      ],
      "text/plain": [
       "<IPython.core.display.HTML object>"
      ]
     },
     "metadata": {},
     "output_type": "display_data"
    }
   ],
   "source": [
    "learn.freeze_to(-3)\n",
    "learn.fit_one_cycle(1, slice(5e-3/(2.6**4), 5e-3))"
   ]
  },
  {
   "cell_type": "markdown",
   "id": "86498ffa",
   "metadata": {
    "papermill": {
     "duration": 0.021568,
     "end_time": "2021-08-15T05:32:14.977886",
     "exception": false,
     "start_time": "2021-08-15T05:32:14.956318",
     "status": "completed"
    },
    "tags": []
   },
   "source": [
    "* Then the whole model:"
   ]
  },
  {
   "cell_type": "code",
   "execution_count": 16,
   "id": "59bb4dc5",
   "metadata": {
    "execution": {
     "iopub.execute_input": "2021-08-15T05:32:15.025284Z",
     "iopub.status.busy": "2021-08-15T05:32:15.024795Z",
     "iopub.status.idle": "2021-08-15T05:38:51.321074Z",
     "shell.execute_reply": "2021-08-15T05:38:51.320640Z",
     "shell.execute_reply.started": "2021-08-15T02:21:30.414402Z"
    },
    "papermill": {
     "duration": 396.321933,
     "end_time": "2021-08-15T05:38:51.321202",
     "exception": false,
     "start_time": "2021-08-15T05:32:14.999269",
     "status": "completed"
    },
    "tags": []
   },
   "outputs": [
    {
     "data": {
      "text/html": [
       "<table border=\"1\" class=\"dataframe\">\n",
       "  <thead>\n",
       "    <tr style=\"text-align: left;\">\n",
       "      <th>epoch</th>\n",
       "      <th>train_loss</th>\n",
       "      <th>valid_loss</th>\n",
       "      <th>accuracy</th>\n",
       "      <th>time</th>\n",
       "    </tr>\n",
       "  </thead>\n",
       "  <tbody>\n",
       "    <tr>\n",
       "      <td>0</td>\n",
       "      <td>0.173864</td>\n",
       "      <td>0.164418</td>\n",
       "      <td>0.938880</td>\n",
       "      <td>03:18</td>\n",
       "    </tr>\n",
       "    <tr>\n",
       "      <td>1</td>\n",
       "      <td>0.170001</td>\n",
       "      <td>0.163286</td>\n",
       "      <td>0.939640</td>\n",
       "      <td>03:17</td>\n",
       "    </tr>\n",
       "  </tbody>\n",
       "</table>"
      ],
      "text/plain": [
       "<IPython.core.display.HTML object>"
      ]
     },
     "metadata": {},
     "output_type": "display_data"
    }
   ],
   "source": [
    "learn.unfreeze()\n",
    "learn.fit_one_cycle(2, slice(1e-3/(2.6**4), 1e-3))"
   ]
  },
  {
   "cell_type": "markdown",
   "id": "fa1ae8ab",
   "metadata": {
    "papermill": {
     "duration": 0.021705,
     "end_time": "2021-08-15T05:38:51.365892",
     "exception": false,
     "start_time": "2021-08-15T05:38:51.344187",
     "status": "completed"
    },
    "tags": []
   },
   "source": [
    "* Can get to 95.1% accuracy by training on all texts backwards.\n",
    "\n",
    "## 00:48:54 - Question: how can a model trained to predict next word work on a different domain like sentiment?\n",
    "\n",
    "* To be able to predict next word of sentence, you have to know a lot about language and the world. That knowledge transfers to other domains.\n",
    "\n",
    "## 00:51:00 - Question: how do you do data augmentation on text?\n",
    "\n",
    "* One approach is to pass text through a translator and back again.\n",
    "* Some goods ideas in this paper: [Unsupervised Data Augmentation for Consistency Training](https://arxiv.org/abs/1904.12848).\n",
    "\n",
    "## 00:51:52 - Ethics and risks of text generation\n",
    "\n",
    "* FCC asked for comments about a proposal to repeal Net Neutrality. [Turned out less than 800k of 22M comments where unique](https://hackernoon.com/more-than-a-million-pro-repeal-net-neutrality-comments-were-likely-faked-e9f0e3ed36a6).\n",
    "* What would happen if someone created a million Twitter bots so that 99% of the content were fake deep learning bots?"
   ]
  }
 ],
 "metadata": {
  "kernelspec": {
   "display_name": "Python 3",
   "language": "python",
   "name": "python3"
  },
  "language_info": {
   "codemirror_mode": {
    "name": "ipython",
    "version": 3
   },
   "file_extension": ".py",
   "mimetype": "text/x-python",
   "name": "python",
   "nbconvert_exporter": "python",
   "pygments_lexer": "ipython3",
   "version": "3.7.10"
  },
  "papermill": {
   "default_parameters": {},
   "duration": 1197.895023,
   "end_time": "2021-08-15T05:38:54.483866",
   "environment_variables": {},
   "exception": null,
   "input_path": "__notebook__.ipynb",
   "output_path": "__notebook__.ipynb",
   "parameters": {},
   "start_time": "2021-08-15T05:18:56.588843",
   "version": "2.3.3"
  }
 },
 "nbformat": 4,
 "nbformat_minor": 5
}
