{
 "cells": [
  {
   "cell_type": "code",
   "execution_count": 1,
   "id": "5c6397df",
   "metadata": {
    "execution": {
     "iopub.execute_input": "2021-07-17T09:15:23.787438Z",
     "iopub.status.busy": "2021-07-17T09:15:23.785971Z",
     "iopub.status.idle": "2021-07-17T09:17:13.287996Z",
     "shell.execute_reply": "2021-07-17T09:17:13.288490Z",
     "shell.execute_reply.started": "2021-07-17T09:07:10.765520Z"
    },
    "papermill": {
     "duration": 109.55309,
     "end_time": "2021-07-17T09:17:13.288821",
     "exception": false,
     "start_time": "2021-07-17T09:15:23.735731",
     "status": "completed"
    },
    "tags": []
   },
   "outputs": [],
   "source": [
    "!pip install git+https://github.com/fastai/fastai.git &> /dev/null"
   ]
  },
  {
   "cell_type": "markdown",
   "id": "35e9c692",
   "metadata": {
    "_cell_guid": "b1076dfc-b9ad-4769-8c92-a6c4dae69d19",
    "_uuid": "8f2839f25d086af736a60e9eeb907d3b93b6e0e5",
    "papermill": {
     "duration": 0.052297,
     "end_time": "2021-07-17T09:17:13.391283",
     "exception": false,
     "start_time": "2021-07-17T09:17:13.338986",
     "status": "completed"
    },
    "tags": []
   },
   "source": [
    "## 00:30:48 - Multi-label classification\n",
    "\n",
    "* More than one or more labels per image.\n",
    "\n",
    "## 00:32:01 - Question: is dropping floating point number precision have impact on final loss?\n",
    "\n",
    "* Sometimes it makes it better.\n",
    "  * Doing some random, that creates more uncertainty.\n",
    "  * Usually doesn't make the difference either way.\n",
    "  \n",
    "## 00:33:53 - Exploring Pascal dataset.\n",
    "\n",
    "* Pascal is a famous dataset with more than one kind of classified object per image."
   ]
  },
  {
   "cell_type": "code",
   "execution_count": 2,
   "id": "eeca6196",
   "metadata": {
    "execution": {
     "iopub.execute_input": "2021-07-17T09:17:13.494819Z",
     "iopub.status.busy": "2021-07-17T09:17:13.493609Z",
     "iopub.status.idle": "2021-07-17T09:17:58.615426Z",
     "shell.execute_reply": "2021-07-17T09:17:58.614428Z",
     "shell.execute_reply.started": "2021-07-17T09:10:16.180280Z"
    },
    "papermill": {
     "duration": 45.177834,
     "end_time": "2021-07-17T09:17:58.615589",
     "exception": false,
     "start_time": "2021-07-17T09:17:13.437755",
     "status": "completed"
    },
    "tags": []
   },
   "outputs": [
    {
     "data": {
      "text/html": [],
      "text/plain": [
       "<IPython.core.display.HTML object>"
      ]
     },
     "metadata": {},
     "output_type": "display_data"
    }
   ],
   "source": [
    "from fastai.vision.all import *\n",
    "path = untar_data(URLs.PASCAL_2007)"
   ]
  },
  {
   "cell_type": "markdown",
   "id": "69e92e3d",
   "metadata": {
    "papermill": {
     "duration": 0.04922,
     "end_time": "2021-07-17T09:17:58.716467",
     "exception": false,
     "start_time": "2021-07-17T09:17:58.667247",
     "status": "completed"
    },
    "tags": []
   },
   "source": [
    "* Comes with a CSV which includes the labels for each image."
   ]
  },
  {
   "cell_type": "code",
   "execution_count": 3,
   "id": "f47b2158",
   "metadata": {
    "execution": {
     "iopub.execute_input": "2021-07-17T09:17:58.822335Z",
     "iopub.status.busy": "2021-07-17T09:17:58.821550Z",
     "iopub.status.idle": "2021-07-17T09:17:58.863461Z",
     "shell.execute_reply": "2021-07-17T09:17:58.862913Z",
     "shell.execute_reply.started": "2021-07-17T09:10:17.827993Z"
    },
    "papermill": {
     "duration": 0.098434,
     "end_time": "2021-07-17T09:17:58.863606",
     "exception": false,
     "start_time": "2021-07-17T09:17:58.765172",
     "status": "completed"
    },
    "tags": []
   },
   "outputs": [
    {
     "data": {
      "text/html": [
       "<div>\n",
       "<style scoped>\n",
       "    .dataframe tbody tr th:only-of-type {\n",
       "        vertical-align: middle;\n",
       "    }\n",
       "\n",
       "    .dataframe tbody tr th {\n",
       "        vertical-align: top;\n",
       "    }\n",
       "\n",
       "    .dataframe thead th {\n",
       "        text-align: right;\n",
       "    }\n",
       "</style>\n",
       "<table border=\"1\" class=\"dataframe\">\n",
       "  <thead>\n",
       "    <tr style=\"text-align: right;\">\n",
       "      <th></th>\n",
       "      <th>fname</th>\n",
       "      <th>labels</th>\n",
       "      <th>is_valid</th>\n",
       "    </tr>\n",
       "  </thead>\n",
       "  <tbody>\n",
       "    <tr>\n",
       "      <th>0</th>\n",
       "      <td>000005.jpg</td>\n",
       "      <td>chair</td>\n",
       "      <td>True</td>\n",
       "    </tr>\n",
       "    <tr>\n",
       "      <th>1</th>\n",
       "      <td>000007.jpg</td>\n",
       "      <td>car</td>\n",
       "      <td>True</td>\n",
       "    </tr>\n",
       "    <tr>\n",
       "      <th>2</th>\n",
       "      <td>000009.jpg</td>\n",
       "      <td>horse person</td>\n",
       "      <td>True</td>\n",
       "    </tr>\n",
       "    <tr>\n",
       "      <th>3</th>\n",
       "      <td>000012.jpg</td>\n",
       "      <td>car</td>\n",
       "      <td>False</td>\n",
       "    </tr>\n",
       "    <tr>\n",
       "      <th>4</th>\n",
       "      <td>000016.jpg</td>\n",
       "      <td>bicycle</td>\n",
       "      <td>True</td>\n",
       "    </tr>\n",
       "  </tbody>\n",
       "</table>\n",
       "</div>"
      ],
      "text/plain": [
       "        fname        labels  is_valid\n",
       "0  000005.jpg         chair      True\n",
       "1  000007.jpg           car      True\n",
       "2  000009.jpg  horse person      True\n",
       "3  000012.jpg           car     False\n",
       "4  000016.jpg       bicycle      True"
      ]
     },
     "execution_count": 3,
     "metadata": {},
     "output_type": "execute_result"
    }
   ],
   "source": [
    "df = pd.read_csv(path/'train.csv')\n",
    "df.head()"
   ]
  },
  {
   "cell_type": "markdown",
   "id": "a4a0453e",
   "metadata": {
    "papermill": {
     "duration": 0.048381,
     "end_time": "2021-07-17T09:17:58.959048",
     "exception": false,
     "start_time": "2021-07-17T09:17:58.910667",
     "status": "completed"
    },
    "tags": []
   },
   "source": [
    "* List of categories in each image, a space delimited string (eg `horse person`)"
   ]
  },
  {
   "cell_type": "markdown",
   "id": "07428158",
   "metadata": {
    "papermill": {
     "duration": 0.047528,
     "end_time": "2021-07-17T09:17:59.053819",
     "exception": false,
     "start_time": "2021-07-17T09:17:59.006291",
     "status": "completed"
    },
    "tags": []
   },
   "source": [
    "## 00:34:30 - Pandas"
   ]
  },
  {
   "cell_type": "markdown",
   "id": "f5dfbb98",
   "metadata": {
    "papermill": {
     "duration": 0.047152,
     "end_time": "2021-07-17T09:17:59.149904",
     "exception": false,
     "start_time": "2021-07-17T09:17:59.102752",
     "status": "completed"
    },
    "tags": []
   },
   "source": [
    "* The pd above stands for Pandas: important library for data processing.\n",
    "* Main class is `DataFrame`, which is table of rows and columns.\n",
    "* Can access rows and columns with `iloc` property.\n",
    "* Getting column 0:"
   ]
  },
  {
   "cell_type": "code",
   "execution_count": 4,
   "id": "de5ab40a",
   "metadata": {
    "execution": {
     "iopub.execute_input": "2021-07-17T09:17:59.306721Z",
     "iopub.status.busy": "2021-07-17T09:17:59.305818Z",
     "iopub.status.idle": "2021-07-17T09:17:59.312650Z",
     "shell.execute_reply": "2021-07-17T09:17:59.313727Z",
     "shell.execute_reply.started": "2021-07-17T09:10:17.884178Z"
    },
    "papermill": {
     "duration": 0.100397,
     "end_time": "2021-07-17T09:17:59.313940",
     "exception": false,
     "start_time": "2021-07-17T09:17:59.213543",
     "status": "completed"
    },
    "tags": []
   },
   "outputs": [
    {
     "data": {
      "text/plain": [
       "0       000005.jpg\n",
       "1       000007.jpg\n",
       "2       000009.jpg\n",
       "3       000012.jpg\n",
       "4       000016.jpg\n",
       "           ...    \n",
       "5006    009954.jpg\n",
       "5007    009955.jpg\n",
       "5008    009958.jpg\n",
       "5009    009959.jpg\n",
       "5010    009961.jpg\n",
       "Name: fname, Length: 5011, dtype: object"
      ]
     },
     "execution_count": 4,
     "metadata": {},
     "output_type": "execute_result"
    }
   ],
   "source": [
    "df.iloc[:,0]"
   ]
  },
  {
   "cell_type": "markdown",
   "id": "f6325ff3",
   "metadata": {
    "papermill": {
     "duration": 0.075831,
     "end_time": "2021-07-17T09:17:59.465497",
     "exception": false,
     "start_time": "2021-07-17T09:17:59.389666",
     "status": "completed"
    },
    "tags": []
   },
   "source": [
    "* Getting row 0:"
   ]
  },
  {
   "cell_type": "code",
   "execution_count": 5,
   "id": "ce01baf6",
   "metadata": {
    "execution": {
     "iopub.execute_input": "2021-07-17T09:17:59.627528Z",
     "iopub.status.busy": "2021-07-17T09:17:59.626756Z",
     "iopub.status.idle": "2021-07-17T09:17:59.632212Z",
     "shell.execute_reply": "2021-07-17T09:17:59.632816Z",
     "shell.execute_reply.started": "2021-07-17T09:10:17.895766Z"
    },
    "papermill": {
     "duration": 0.090392,
     "end_time": "2021-07-17T09:17:59.633009",
     "exception": false,
     "start_time": "2021-07-17T09:17:59.542617",
     "status": "completed"
    },
    "tags": []
   },
   "outputs": [
    {
     "data": {
      "text/plain": [
       "fname       000005.jpg\n",
       "labels           chair\n",
       "is_valid          True\n",
       "Name: 0, dtype: object"
      ]
     },
     "execution_count": 5,
     "metadata": {},
     "output_type": "execute_result"
    }
   ],
   "source": [
    "df.iloc[0,:]"
   ]
  },
  {
   "cell_type": "markdown",
   "id": "aff0bbc0",
   "metadata": {
    "papermill": {
     "duration": 0.064113,
     "end_time": "2021-07-17T09:17:59.778796",
     "exception": false,
     "start_time": "2021-07-17T09:17:59.714683",
     "status": "completed"
    },
    "tags": []
   },
   "source": [
    "* Can also get column by name:"
   ]
  },
  {
   "cell_type": "code",
   "execution_count": 6,
   "id": "653e6c66",
   "metadata": {
    "execution": {
     "iopub.execute_input": "2021-07-17T09:17:59.891715Z",
     "iopub.status.busy": "2021-07-17T09:17:59.891030Z",
     "iopub.status.idle": "2021-07-17T09:17:59.894236Z",
     "shell.execute_reply": "2021-07-17T09:17:59.894812Z",
     "shell.execute_reply.started": "2021-07-17T09:10:17.907254Z"
    },
    "papermill": {
     "duration": 0.069548,
     "end_time": "2021-07-17T09:17:59.894961",
     "exception": false,
     "start_time": "2021-07-17T09:17:59.825413",
     "status": "completed"
    },
    "tags": []
   },
   "outputs": [
    {
     "data": {
      "text/plain": [
       "0       000005.jpg\n",
       "1       000007.jpg\n",
       "2       000009.jpg\n",
       "3       000012.jpg\n",
       "4       000016.jpg\n",
       "           ...    \n",
       "5006    009954.jpg\n",
       "5007    009955.jpg\n",
       "5008    009958.jpg\n",
       "5009    009959.jpg\n",
       "5010    009961.jpg\n",
       "Name: fname, Length: 5011, dtype: object"
      ]
     },
     "execution_count": 6,
     "metadata": {},
     "output_type": "execute_result"
    }
   ],
   "source": [
    "df['fname']"
   ]
  },
  {
   "cell_type": "markdown",
   "id": "5a0c909d",
   "metadata": {
    "papermill": {
     "duration": 0.049565,
     "end_time": "2021-07-17T09:17:59.994792",
     "exception": false,
     "start_time": "2021-07-17T09:17:59.945227",
     "status": "completed"
    },
    "tags": []
   },
   "source": [
    "* Can create a DataFrame from a dict:"
   ]
  },
  {
   "cell_type": "code",
   "execution_count": 7,
   "id": "bda16497",
   "metadata": {
    "execution": {
     "iopub.execute_input": "2021-07-17T09:18:00.099993Z",
     "iopub.status.busy": "2021-07-17T09:18:00.099077Z",
     "iopub.status.idle": "2021-07-17T09:18:00.103096Z",
     "shell.execute_reply": "2021-07-17T09:18:00.103466Z",
     "shell.execute_reply.started": "2021-07-17T09:10:24.413407Z"
    },
    "papermill": {
     "duration": 0.0607,
     "end_time": "2021-07-17T09:18:00.103592",
     "exception": false,
     "start_time": "2021-07-17T09:18:00.042892",
     "status": "completed"
    },
    "tags": []
   },
   "outputs": [
    {
     "data": {
      "text/html": [
       "<div>\n",
       "<style scoped>\n",
       "    .dataframe tbody tr th:only-of-type {\n",
       "        vertical-align: middle;\n",
       "    }\n",
       "\n",
       "    .dataframe tbody tr th {\n",
       "        vertical-align: top;\n",
       "    }\n",
       "\n",
       "    .dataframe thead th {\n",
       "        text-align: right;\n",
       "    }\n",
       "</style>\n",
       "<table border=\"1\" class=\"dataframe\">\n",
       "  <thead>\n",
       "    <tr style=\"text-align: right;\">\n",
       "      <th></th>\n",
       "      <th>a</th>\n",
       "      <th>b</th>\n",
       "    </tr>\n",
       "  </thead>\n",
       "  <tbody>\n",
       "    <tr>\n",
       "      <th>0</th>\n",
       "      <td>1</td>\n",
       "      <td>3</td>\n",
       "    </tr>\n",
       "    <tr>\n",
       "      <th>1</th>\n",
       "      <td>2</td>\n",
       "      <td>4</td>\n",
       "    </tr>\n",
       "  </tbody>\n",
       "</table>\n",
       "</div>"
      ],
      "text/plain": [
       "   a  b\n",
       "0  1  3\n",
       "1  2  4"
      ]
     },
     "execution_count": 7,
     "metadata": {},
     "output_type": "execute_result"
    }
   ],
   "source": [
    "tmp_df = pd.DataFrame({'a': [1, 2], 'b': [3,4]})\n",
    "tmp_df"
   ]
  },
  {
   "cell_type": "markdown",
   "id": "5b87a29f",
   "metadata": {
    "papermill": {
     "duration": 0.049433,
     "end_time": "2021-07-17T09:18:00.201610",
     "exception": false,
     "start_time": "2021-07-17T09:18:00.152177",
     "status": "completed"
    },
    "tags": []
   },
   "source": [
    "* Then create a new column by adding other columns:"
   ]
  },
  {
   "cell_type": "code",
   "execution_count": 8,
   "id": "1f9b5b4d",
   "metadata": {
    "execution": {
     "iopub.execute_input": "2021-07-17T09:18:00.305081Z",
     "iopub.status.busy": "2021-07-17T09:18:00.304510Z",
     "iopub.status.idle": "2021-07-17T09:18:00.315974Z",
     "shell.execute_reply": "2021-07-17T09:18:00.316434Z",
     "shell.execute_reply.started": "2021-07-17T09:10:24.425406Z"
    },
    "papermill": {
     "duration": 0.066167,
     "end_time": "2021-07-17T09:18:00.316554",
     "exception": false,
     "start_time": "2021-07-17T09:18:00.250387",
     "status": "completed"
    },
    "tags": []
   },
   "outputs": [
    {
     "data": {
      "text/html": [
       "<div>\n",
       "<style scoped>\n",
       "    .dataframe tbody tr th:only-of-type {\n",
       "        vertical-align: middle;\n",
       "    }\n",
       "\n",
       "    .dataframe tbody tr th {\n",
       "        vertical-align: top;\n",
       "    }\n",
       "\n",
       "    .dataframe thead th {\n",
       "        text-align: right;\n",
       "    }\n",
       "</style>\n",
       "<table border=\"1\" class=\"dataframe\">\n",
       "  <thead>\n",
       "    <tr style=\"text-align: right;\">\n",
       "      <th></th>\n",
       "      <th>a</th>\n",
       "      <th>b</th>\n",
       "      <th>c</th>\n",
       "    </tr>\n",
       "  </thead>\n",
       "  <tbody>\n",
       "    <tr>\n",
       "      <th>0</th>\n",
       "      <td>1</td>\n",
       "      <td>3</td>\n",
       "      <td>4</td>\n",
       "    </tr>\n",
       "    <tr>\n",
       "      <th>1</th>\n",
       "      <td>2</td>\n",
       "      <td>4</td>\n",
       "      <td>6</td>\n",
       "    </tr>\n",
       "  </tbody>\n",
       "</table>\n",
       "</div>"
      ],
      "text/plain": [
       "   a  b  c\n",
       "0  1  3  4\n",
       "1  2  4  6"
      ]
     },
     "execution_count": 8,
     "metadata": {},
     "output_type": "execute_result"
    }
   ],
   "source": [
    "tmp_df['c'] = tmp_df['a'] + tmp_df['b']\n",
    "tmp_df"
   ]
  },
  {
   "cell_type": "markdown",
   "id": "7cab66da",
   "metadata": {
    "papermill": {
     "duration": 0.051213,
     "end_time": "2021-07-17T09:18:00.416311",
     "exception": false,
     "start_time": "2021-07-17T09:18:00.365098",
     "status": "completed"
    },
    "tags": []
   },
   "source": [
    "* Book recommendation: [Python for Data Analysis](https://www.booktopia.com.au/python-for-data-analysis-wes-mckinney/book/9781491957660.html?source=pla&gclid=CjwKCAjw87SHBhBiEiwAukSeUV_4QpUkHIAGdeAMJTyNCPV8-QsCvDiHyBun8i8PFM_grov0o1ITVRoCHlkQAvD_BwE) by Wes Mckinney."
   ]
  },
  {
   "cell_type": "markdown",
   "id": "5e305668",
   "metadata": {
    "papermill": {
     "duration": 0.04925,
     "end_time": "2021-07-17T09:18:00.515132",
     "exception": false,
     "start_time": "2021-07-17T09:18:00.465882",
     "status": "completed"
    },
    "tags": []
   },
   "source": [
    "## 00:37:10 - Review Dataset and DataLoader\n",
    "\n",
    "* We want to create DataBlock that we can train from.\n",
    "* Reminder about `Dataset` and `DataLoader`\n",
    "  * `Dataset` - anything you can index into:"
   ]
  },
  {
   "cell_type": "code",
   "execution_count": 9,
   "id": "3cefa8d4",
   "metadata": {
    "execution": {
     "iopub.execute_input": "2021-07-17T09:18:00.616162Z",
     "iopub.status.busy": "2021-07-17T09:18:00.615455Z",
     "iopub.status.idle": "2021-07-17T09:18:00.618569Z",
     "shell.execute_reply": "2021-07-17T09:18:00.619025Z",
     "shell.execute_reply.started": "2021-07-17T09:10:24.445722Z"
    },
    "papermill": {
     "duration": 0.055919,
     "end_time": "2021-07-17T09:18:00.619155",
     "exception": false,
     "start_time": "2021-07-17T09:18:00.563236",
     "status": "completed"
    },
    "tags": []
   },
   "outputs": [
    {
     "data": {
      "text/plain": [
       "((0, 'a'), 26)"
      ]
     },
     "execution_count": 9,
     "metadata": {},
     "output_type": "execute_result"
    }
   ],
   "source": [
    "a = list(enumerate(string.ascii_lowercase))\n",
    "a[0], len(a)"
   ]
  },
  {
   "cell_type": "markdown",
   "id": "e96145ef",
   "metadata": {
    "papermill": {
     "duration": 0.048282,
     "end_time": "2021-07-17T09:18:00.715110",
     "exception": false,
     "start_time": "2021-07-17T09:18:00.666828",
     "status": "completed"
    },
    "tags": []
   },
   "source": [
    "   * `DataLoader` - an interator that gives you a stream of mini batches with independent and dependent vars"
   ]
  },
  {
   "cell_type": "code",
   "execution_count": 10,
   "id": "fa061731",
   "metadata": {
    "execution": {
     "iopub.execute_input": "2021-07-17T09:18:00.815752Z",
     "iopub.status.busy": "2021-07-17T09:18:00.814981Z",
     "iopub.status.idle": "2021-07-17T09:18:00.821714Z",
     "shell.execute_reply": "2021-07-17T09:18:00.822129Z",
     "shell.execute_reply.started": "2021-07-17T09:10:24.454039Z"
    },
    "papermill": {
     "duration": 0.05855,
     "end_time": "2021-07-17T09:18:00.822258",
     "exception": false,
     "start_time": "2021-07-17T09:18:00.763708",
     "status": "completed"
    },
    "tags": []
   },
   "outputs": [
    {
     "data": {
      "text/plain": [
       "(tensor([18,  8, 25, 23, 19, 16,  3,  6]),\n",
       " ('s', 'i', 'z', 'x', 't', 'q', 'd', 'g'))"
      ]
     },
     "execution_count": 10,
     "metadata": {},
     "output_type": "execute_result"
    }
   ],
   "source": [
    "dl_a = DataLoader(a, batch_size=8, shuffle=True)\n",
    "b = first(dl_a)\n",
    "b"
   ]
  },
  {
   "cell_type": "code",
   "execution_count": 11,
   "id": "02606460",
   "metadata": {
    "execution": {
     "iopub.execute_input": "2021-07-17T09:18:00.926095Z",
     "iopub.status.busy": "2021-07-17T09:18:00.925273Z",
     "iopub.status.idle": "2021-07-17T09:18:00.930597Z",
     "shell.execute_reply": "2021-07-17T09:18:00.930173Z",
     "shell.execute_reply.started": "2021-07-17T09:10:24.468940Z"
    },
    "papermill": {
     "duration": 0.059089,
     "end_time": "2021-07-17T09:18:00.930705",
     "exception": false,
     "start_time": "2021-07-17T09:18:00.871616",
     "status": "completed"
    },
    "tags": []
   },
   "outputs": [
    {
     "data": {
      "text/plain": [
       "[(tensor(18), 's'),\n",
       " (tensor(8), 'i'),\n",
       " (tensor(25), 'z'),\n",
       " (tensor(23), 'x'),\n",
       " (tensor(19), 't'),\n",
       " (tensor(16), 'q'),\n",
       " (tensor(3), 'd'),\n",
       " (tensor(6), 'g')]"
      ]
     },
     "execution_count": 11,
     "metadata": {},
     "output_type": "execute_result"
    }
   ],
   "source": [
    "list(zip(b[0], b[1]))"
   ]
  },
  {
   "cell_type": "markdown",
   "id": "88629943",
   "metadata": {
    "papermill": {
     "duration": 0.048165,
     "end_time": "2021-07-17T09:18:01.027730",
     "exception": false,
     "start_time": "2021-07-17T09:18:00.979565",
     "status": "completed"
    },
    "tags": []
   },
   "source": [
    "* Can use `*` which inserts each element of list as arg in function."
   ]
  },
  {
   "cell_type": "code",
   "execution_count": 12,
   "id": "dbeb5c01",
   "metadata": {
    "execution": {
     "iopub.execute_input": "2021-07-17T09:18:01.132277Z",
     "iopub.status.busy": "2021-07-17T09:18:01.131329Z",
     "iopub.status.idle": "2021-07-17T09:18:01.137430Z",
     "shell.execute_reply": "2021-07-17T09:18:01.136952Z",
     "shell.execute_reply.started": "2021-07-17T09:10:24.480410Z"
    },
    "papermill": {
     "duration": 0.061035,
     "end_time": "2021-07-17T09:18:01.137558",
     "exception": false,
     "start_time": "2021-07-17T09:18:01.076523",
     "status": "completed"
    },
    "tags": []
   },
   "outputs": [
    {
     "data": {
      "text/plain": [
       "[(tensor(18), 's'),\n",
       " (tensor(8), 'i'),\n",
       " (tensor(25), 'z'),\n",
       " (tensor(23), 'x'),\n",
       " (tensor(19), 't'),\n",
       " (tensor(16), 'q'),\n",
       " (tensor(3), 'd'),\n",
       " (tensor(6), 'g')]"
      ]
     },
     "execution_count": 12,
     "metadata": {},
     "output_type": "execute_result"
    }
   ],
   "source": [
    "list(zip(*b))"
   ]
  },
  {
   "cell_type": "markdown",
   "id": "ad9b0022",
   "metadata": {
    "papermill": {
     "duration": 0.058195,
     "end_time": "2021-07-17T09:18:01.254358",
     "exception": false,
     "start_time": "2021-07-17T09:18:01.196163",
     "status": "completed"
    },
    "tags": []
   },
   "source": [
    "## 00:40:04 - Datasets and DataLoaders"
   ]
  },
  {
   "cell_type": "markdown",
   "id": "7f50ad51",
   "metadata": {
    "papermill": {
     "duration": 0.057828,
     "end_time": "2021-07-17T09:18:01.370006",
     "exception": false,
     "start_time": "2021-07-17T09:18:01.312178",
     "status": "completed"
    },
    "tags": []
   },
   "source": [
    "* `Datasets` is an object that has a training and validation dataset.\n",
    "\n",
    "* Sometimes easiest to start by creating and testing `Datasets`:"
   ]
  },
  {
   "cell_type": "code",
   "execution_count": 13,
   "id": "2994db88",
   "metadata": {
    "execution": {
     "iopub.execute_input": "2021-07-17T09:18:01.491483Z",
     "iopub.status.busy": "2021-07-17T09:18:01.490658Z",
     "iopub.status.idle": "2021-07-17T09:18:01.493944Z",
     "shell.execute_reply": "2021-07-17T09:18:01.494407Z",
     "shell.execute_reply.started": "2021-07-17T09:10:24.490161Z"
    },
    "papermill": {
     "duration": 0.066433,
     "end_time": "2021-07-17T09:18:01.494538",
     "exception": false,
     "start_time": "2021-07-17T09:18:01.428105",
     "status": "completed"
    },
    "tags": []
   },
   "outputs": [
    {
     "data": {
      "text/plain": [
       "('a', 26)"
      ]
     },
     "execution_count": 13,
     "metadata": {},
     "output_type": "execute_result"
    }
   ],
   "source": [
    "a = list(string.ascii_lowercase)\n",
    "a[0], len(a)"
   ]
  },
  {
   "cell_type": "code",
   "execution_count": 14,
   "id": "7c8fee52",
   "metadata": {
    "execution": {
     "iopub.execute_input": "2021-07-17T09:18:01.606459Z",
     "iopub.status.busy": "2021-07-17T09:18:01.605733Z",
     "iopub.status.idle": "2021-07-17T09:18:01.608712Z",
     "shell.execute_reply": "2021-07-17T09:18:01.609145Z",
     "shell.execute_reply.started": "2021-07-17T09:10:24.497921Z"
    },
    "papermill": {
     "duration": 0.063916,
     "end_time": "2021-07-17T09:18:01.609266",
     "exception": false,
     "start_time": "2021-07-17T09:18:01.545350",
     "status": "completed"
    },
    "tags": []
   },
   "outputs": [
    {
     "data": {
      "text/plain": [
       "('a',)"
      ]
     },
     "execution_count": 14,
     "metadata": {},
     "output_type": "execute_result"
    }
   ],
   "source": [
    "dss = Datasets(a)\n",
    "dss[0]"
   ]
  },
  {
   "cell_type": "markdown",
   "id": "58a8c2fc",
   "metadata": {
    "papermill": {
     "duration": 0.058112,
     "end_time": "2021-07-17T09:18:01.718451",
     "exception": false,
     "start_time": "2021-07-17T09:18:01.660339",
     "status": "completed"
    },
    "tags": []
   },
   "source": [
    "* Can use functions to create independent and dependent variables:\n",
    "  * (for example, open image and create lable from filename)."
   ]
  },
  {
   "cell_type": "code",
   "execution_count": 15,
   "id": "4a72ccb3",
   "metadata": {
    "execution": {
     "iopub.execute_input": "2021-07-17T09:18:01.829341Z",
     "iopub.status.busy": "2021-07-17T09:18:01.828597Z",
     "iopub.status.idle": "2021-07-17T09:18:01.831280Z",
     "shell.execute_reply": "2021-07-17T09:18:01.830850Z",
     "shell.execute_reply.started": "2021-07-17T09:10:24.510190Z"
    },
    "papermill": {
     "duration": 0.061904,
     "end_time": "2021-07-17T09:18:01.831404",
     "exception": false,
     "start_time": "2021-07-17T09:18:01.769500",
     "status": "completed"
    },
    "tags": []
   },
   "outputs": [],
   "source": [
    "def f1(o): return o+'a'\n",
    "def f2(o): return o+'b'"
   ]
  },
  {
   "cell_type": "code",
   "execution_count": 16,
   "id": "3846f052",
   "metadata": {
    "execution": {
     "iopub.execute_input": "2021-07-17T09:18:01.943805Z",
     "iopub.status.busy": "2021-07-17T09:18:01.943073Z",
     "iopub.status.idle": "2021-07-17T09:18:01.946237Z",
     "shell.execute_reply": "2021-07-17T09:18:01.946615Z",
     "shell.execute_reply.started": "2021-07-17T09:10:24.519375Z"
    },
    "papermill": {
     "duration": 0.063387,
     "end_time": "2021-07-17T09:18:01.946733",
     "exception": false,
     "start_time": "2021-07-17T09:18:01.883346",
     "status": "completed"
    },
    "tags": []
   },
   "outputs": [
    {
     "data": {
      "text/plain": [
       "('aa',)"
      ]
     },
     "execution_count": 16,
     "metadata": {},
     "output_type": "execute_result"
    }
   ],
   "source": [
    "dss = Datasets(a, [[f1]])\n",
    "dss[0]"
   ]
  },
  {
   "cell_type": "code",
   "execution_count": 17,
   "id": "159a921b",
   "metadata": {
    "execution": {
     "iopub.execute_input": "2021-07-17T09:18:02.059012Z",
     "iopub.status.busy": "2021-07-17T09:18:02.058322Z",
     "iopub.status.idle": "2021-07-17T09:18:02.061209Z",
     "shell.execute_reply": "2021-07-17T09:18:02.061662Z",
     "shell.execute_reply.started": "2021-07-17T09:10:24.530383Z"
    },
    "papermill": {
     "duration": 0.061398,
     "end_time": "2021-07-17T09:18:02.061777",
     "exception": false,
     "start_time": "2021-07-17T09:18:02.000379",
     "status": "completed"
    },
    "tags": []
   },
   "outputs": [
    {
     "data": {
      "text/plain": [
       "('aab',)"
      ]
     },
     "execution_count": 17,
     "metadata": {},
     "output_type": "execute_result"
    }
   ],
   "source": [
    "dss = Datasets(a, [[f1, f2]])\n",
    "dss[0]"
   ]
  },
  {
   "cell_type": "code",
   "execution_count": 18,
   "id": "b74aaeed",
   "metadata": {
    "execution": {
     "iopub.execute_input": "2021-07-17T09:18:02.176390Z",
     "iopub.status.busy": "2021-07-17T09:18:02.175564Z",
     "iopub.status.idle": "2021-07-17T09:18:02.179229Z",
     "shell.execute_reply": "2021-07-17T09:18:02.178803Z",
     "shell.execute_reply.started": "2021-07-17T09:10:24.542497Z"
    },
    "papermill": {
     "duration": 0.06033,
     "end_time": "2021-07-17T09:18:02.179352",
     "exception": false,
     "start_time": "2021-07-17T09:18:02.119022",
     "status": "completed"
    },
    "tags": []
   },
   "outputs": [
    {
     "data": {
      "text/plain": [
       "('aa', 'ab')"
      ]
     },
     "execution_count": 18,
     "metadata": {},
     "output_type": "execute_result"
    }
   ],
   "source": [
    "dss = Datasets(a, [[f1], [f2]])\n",
    "dss[0]"
   ]
  },
  {
   "cell_type": "markdown",
   "id": "fddb9304",
   "metadata": {
    "papermill": {
     "duration": 0.052249,
     "end_time": "2021-07-17T09:18:02.288790",
     "exception": false,
     "start_time": "2021-07-17T09:18:02.236541",
     "status": "completed"
    },
    "tags": []
   },
   "source": [
    "* Can then create a `DataLoaders` instance:"
   ]
  },
  {
   "cell_type": "code",
   "execution_count": 19,
   "id": "fd82ce9c",
   "metadata": {
    "execution": {
     "iopub.execute_input": "2021-07-17T09:18:02.405202Z",
     "iopub.status.busy": "2021-07-17T09:18:02.404269Z",
     "iopub.status.idle": "2021-07-17T09:18:02.406620Z",
     "shell.execute_reply": "2021-07-17T09:18:02.407149Z",
     "shell.execute_reply.started": "2021-07-17T09:10:24.553781Z"
    },
    "papermill": {
     "duration": 0.061691,
     "end_time": "2021-07-17T09:18:02.407281",
     "exception": false,
     "start_time": "2021-07-17T09:18:02.345590",
     "status": "completed"
    },
    "tags": []
   },
   "outputs": [],
   "source": [
    "dls = DataLoaders.from_dsets(dss, batch_size=4)"
   ]
  },
  {
   "cell_type": "code",
   "execution_count": 20,
   "id": "25a8f1a4",
   "metadata": {
    "execution": {
     "iopub.execute_input": "2021-07-17T09:18:02.523886Z",
     "iopub.status.busy": "2021-07-17T09:18:02.522947Z",
     "iopub.status.idle": "2021-07-17T09:18:02.753057Z",
     "shell.execute_reply": "2021-07-17T09:18:02.752620Z",
     "shell.execute_reply.started": "2021-07-17T09:10:24.561578Z"
    },
    "papermill": {
     "duration": 0.289376,
     "end_time": "2021-07-17T09:18:02.753187",
     "exception": false,
     "start_time": "2021-07-17T09:18:02.463811",
     "status": "completed"
    },
    "tags": []
   },
   "outputs": [
    {
     "data": {
      "text/plain": [
       "(('ia', 'da', 'ca', 'ja'), ('ib', 'db', 'cb', 'jb'))"
      ]
     },
     "execution_count": 20,
     "metadata": {},
     "output_type": "execute_result"
    }
   ],
   "source": [
    "first(dls.train)"
   ]
  },
  {
   "cell_type": "markdown",
   "id": "942fb4ec",
   "metadata": {
    "papermill": {
     "duration": 0.056414,
     "end_time": "2021-07-17T09:18:02.863475",
     "exception": false,
     "start_time": "2021-07-17T09:18:02.807061",
     "status": "completed"
    },
    "tags": []
   },
   "source": [
    "## 00:43:23 - DataBlock\n",
    "\n",
    "* Instead of creating `DataLoaders` from scratch, can use a `DataBlock`:"
   ]
  },
  {
   "cell_type": "code",
   "execution_count": 21,
   "id": "a9999110",
   "metadata": {
    "execution": {
     "iopub.execute_input": "2021-07-17T09:18:02.978393Z",
     "iopub.status.busy": "2021-07-17T09:18:02.977598Z",
     "iopub.status.idle": "2021-07-17T09:18:02.980469Z",
     "shell.execute_reply": "2021-07-17T09:18:02.980072Z",
     "shell.execute_reply.started": "2021-07-17T09:10:24.622840Z"
    },
    "papermill": {
     "duration": 0.063654,
     "end_time": "2021-07-17T09:18:02.980594",
     "exception": false,
     "start_time": "2021-07-17T09:18:02.916940",
     "status": "completed"
    },
    "tags": []
   },
   "outputs": [],
   "source": [
    "dblock = DataBlock()"
   ]
  },
  {
   "cell_type": "code",
   "execution_count": 22,
   "id": "3f022346",
   "metadata": {
    "execution": {
     "iopub.execute_input": "2021-07-17T09:18:03.101267Z",
     "iopub.status.busy": "2021-07-17T09:18:03.100500Z",
     "iopub.status.idle": "2021-07-17T09:18:03.120850Z",
     "shell.execute_reply": "2021-07-17T09:18:03.120393Z",
     "shell.execute_reply.started": "2021-07-17T09:10:24.633542Z"
    },
    "papermill": {
     "duration": 0.084619,
     "end_time": "2021-07-17T09:18:03.120989",
     "exception": false,
     "start_time": "2021-07-17T09:18:03.036370",
     "status": "completed"
    },
    "tags": []
   },
   "outputs": [],
   "source": [
    "dsets = dblock.datasets(df)"
   ]
  },
  {
   "cell_type": "code",
   "execution_count": 23,
   "id": "de42c327",
   "metadata": {
    "execution": {
     "iopub.execute_input": "2021-07-17T09:18:03.251189Z",
     "iopub.status.busy": "2021-07-17T09:18:03.250309Z",
     "iopub.status.idle": "2021-07-17T09:18:03.261723Z",
     "shell.execute_reply": "2021-07-17T09:18:03.262181Z",
     "shell.execute_reply.started": "2021-07-17T09:10:24.662393Z"
    },
    "papermill": {
     "duration": 0.076075,
     "end_time": "2021-07-17T09:18:03.262304",
     "exception": false,
     "start_time": "2021-07-17T09:18:03.186229",
     "status": "completed"
    },
    "tags": []
   },
   "outputs": [
    {
     "data": {
      "text/plain": [
       "(4009, 1002)"
      ]
     },
     "execution_count": 23,
     "metadata": {},
     "output_type": "execute_result"
    }
   ],
   "source": [
    "len(dsets.train), len(dsets.valid)"
   ]
  },
  {
   "cell_type": "code",
   "execution_count": 24,
   "id": "197c5d45",
   "metadata": {
    "execution": {
     "iopub.execute_input": "2021-07-17T09:18:03.376656Z",
     "iopub.status.busy": "2021-07-17T09:18:03.375903Z",
     "iopub.status.idle": "2021-07-17T09:18:03.385466Z",
     "shell.execute_reply": "2021-07-17T09:18:03.385936Z",
     "shell.execute_reply.started": "2021-07-17T09:10:24.679426Z"
    },
    "papermill": {
     "duration": 0.071779,
     "end_time": "2021-07-17T09:18:03.386098",
     "exception": false,
     "start_time": "2021-07-17T09:18:03.314319",
     "status": "completed"
    },
    "tags": []
   },
   "outputs": [
    {
     "data": {
      "text/plain": [
       "(fname                   006958.jpg\n",
       " labels      dog person diningtable\n",
       " is_valid                     False\n",
       " Name: 3512, dtype: object,\n",
       " fname                   006958.jpg\n",
       " labels      dog person diningtable\n",
       " is_valid                     False\n",
       " Name: 3512, dtype: object)"
      ]
     },
     "execution_count": 24,
     "metadata": {},
     "output_type": "execute_result"
    }
   ],
   "source": [
    "x, y = dsets.train[0]\n",
    "x, y"
   ]
  },
  {
   "cell_type": "markdown",
   "id": "86c2d4c3",
   "metadata": {
    "papermill": {
     "duration": 0.056157,
     "end_time": "2021-07-17T09:18:03.497891",
     "exception": false,
     "start_time": "2021-07-17T09:18:03.441734",
     "status": "completed"
    },
    "tags": []
   },
   "source": [
    "* It's returning the same thing in for both variables, as that's the deault behaviour.\n",
    "* You can pass `get_x` and `get_y` functions:"
   ]
  },
  {
   "cell_type": "code",
   "execution_count": 25,
   "id": "24a63fa9",
   "metadata": {
    "execution": {
     "iopub.execute_input": "2021-07-17T09:18:03.612246Z",
     "iopub.status.busy": "2021-07-17T09:18:03.611432Z",
     "iopub.status.idle": "2021-07-17T09:18:03.615334Z",
     "shell.execute_reply": "2021-07-17T09:18:03.614941Z",
     "shell.execute_reply.started": "2021-07-17T09:10:24.697739Z"
    },
    "papermill": {
     "duration": 0.062151,
     "end_time": "2021-07-17T09:18:03.615435",
     "exception": false,
     "start_time": "2021-07-17T09:18:03.553284",
     "status": "completed"
    },
    "tags": []
   },
   "outputs": [
    {
     "data": {
      "text/plain": [
       "'006958.jpg'"
      ]
     },
     "execution_count": 25,
     "metadata": {},
     "output_type": "execute_result"
    }
   ],
   "source": [
    "x['fname']"
   ]
  },
  {
   "cell_type": "code",
   "execution_count": 26,
   "id": "00d555ac",
   "metadata": {
    "execution": {
     "iopub.execute_input": "2021-07-17T09:18:04.291186Z",
     "iopub.status.busy": "2021-07-17T09:18:04.290228Z",
     "iopub.status.idle": "2021-07-17T09:18:04.316860Z",
     "shell.execute_reply": "2021-07-17T09:18:04.317549Z",
     "shell.execute_reply.started": "2021-07-17T09:10:24.708043Z"
    },
    "papermill": {
     "duration": 0.644016,
     "end_time": "2021-07-17T09:18:04.317776",
     "exception": false,
     "start_time": "2021-07-17T09:18:03.673760",
     "status": "completed"
    },
    "tags": []
   },
   "outputs": [
    {
     "data": {
      "text/plain": [
       "('005888.jpg', 'dog')"
      ]
     },
     "execution_count": 26,
     "metadata": {},
     "output_type": "execute_result"
    }
   ],
   "source": [
    "dblock = DataBlock(\n",
    "    get_x=lambda r: r['fname'],\n",
    "    get_y=lambda r: r['labels']\n",
    ")\n",
    "dsets = dblock.datasets(df)\n",
    "dsets.train[0]"
   ]
  },
  {
   "cell_type": "markdown",
   "id": "b2d2555d",
   "metadata": {
    "papermill": {
     "duration": 0.09536,
     "end_time": "2021-07-17T09:18:04.507032",
     "exception": false,
     "start_time": "2021-07-17T09:18:04.411672",
     "status": "completed"
    },
    "tags": []
   },
   "source": [
    "* To save (serialize) `DataBlock`, you can't use lambdas.\n",
    "* Next, we can add the full path to the image, and split on the label name:"
   ]
  },
  {
   "cell_type": "code",
   "execution_count": 27,
   "id": "526ab789",
   "metadata": {
    "execution": {
     "iopub.execute_input": "2021-07-17T09:18:04.659373Z",
     "iopub.status.busy": "2021-07-17T09:18:04.656325Z",
     "iopub.status.idle": "2021-07-17T09:18:04.659993Z",
     "shell.execute_reply": "2021-07-17T09:18:04.660392Z",
     "shell.execute_reply.started": "2021-07-17T09:10:24.738378Z"
    },
    "papermill": {
     "duration": 0.063743,
     "end_time": "2021-07-17T09:18:04.660519",
     "exception": false,
     "start_time": "2021-07-17T09:18:04.596776",
     "status": "completed"
    },
    "tags": []
   },
   "outputs": [],
   "source": [
    "Path.BASE_PATH = path"
   ]
  },
  {
   "cell_type": "code",
   "execution_count": 28,
   "id": "1a326e8d",
   "metadata": {
    "execution": {
     "iopub.execute_input": "2021-07-17T09:18:04.783875Z",
     "iopub.status.busy": "2021-07-17T09:18:04.782996Z",
     "iopub.status.idle": "2021-07-17T09:18:04.807716Z",
     "shell.execute_reply": "2021-07-17T09:18:04.808315Z",
     "shell.execute_reply.started": "2021-07-17T09:10:24.744027Z"
    },
    "papermill": {
     "duration": 0.087778,
     "end_time": "2021-07-17T09:18:04.808461",
     "exception": false,
     "start_time": "2021-07-17T09:18:04.720683",
     "status": "completed"
    },
    "tags": []
   },
   "outputs": [
    {
     "data": {
      "text/plain": [
       "(Path('train/001680.jpg'), ['dog'])"
      ]
     },
     "execution_count": 28,
     "metadata": {},
     "output_type": "execute_result"
    }
   ],
   "source": [
    "def get_x(r): return path/'train'/r['fname']\n",
    "def get_y(r): return r['labels'].split(' ')\n",
    "dblock = DataBlock(get_x=get_x, get_y=get_y)\n",
    "dsets = dblock.datasets(df)\n",
    "dsets.train[0]"
   ]
  },
  {
   "cell_type": "markdown",
   "id": "e175e50f",
   "metadata": {
    "papermill": {
     "duration": 0.059386,
     "end_time": "2021-07-17T09:18:04.922993",
     "exception": false,
     "start_time": "2021-07-17T09:18:04.863607",
     "status": "completed"
    },
    "tags": []
   },
   "source": [
    "* Since we want the image opened as an image, `blocks` argument lets you say what sort of \"block\" you want for each item in tuple.\n",
    "* In the example below, we use `MultiCategoryBlock` which expects a list of strings:"
   ]
  },
  {
   "cell_type": "code",
   "execution_count": 29,
   "id": "e246d0da",
   "metadata": {
    "execution": {
     "iopub.execute_input": "2021-07-17T09:18:05.044475Z",
     "iopub.status.busy": "2021-07-17T09:18:05.043707Z",
     "iopub.status.idle": "2021-07-17T09:18:06.065580Z",
     "shell.execute_reply": "2021-07-17T09:18:06.065978Z",
     "shell.execute_reply.started": "2021-07-17T09:10:24.777338Z"
    },
    "papermill": {
     "duration": 1.088623,
     "end_time": "2021-07-17T09:18:06.066144",
     "exception": false,
     "start_time": "2021-07-17T09:18:04.977521",
     "status": "completed"
    },
    "tags": []
   },
   "outputs": [
    {
     "data": {
      "text/plain": [
       "(PILImage mode=RGB size=375x500,\n",
       " TensorMultiCategory([0., 0., 0., 0., 1., 0., 0., 0., 0., 0., 0., 1., 0., 0., 1., 0., 0., 0.,\n",
       "         0., 0.]))"
      ]
     },
     "execution_count": 29,
     "metadata": {},
     "output_type": "execute_result"
    }
   ],
   "source": [
    "dblock = DataBlock(\n",
    "    blocks=(ImageBlock, MultiCategoryBlock),\n",
    "    get_x=get_x, get_y=get_y)\n",
    "dsets = dblock.datasets(df)\n",
    "dsets.train[0]"
   ]
  },
  {
   "cell_type": "markdown",
   "id": "70546bc6",
   "metadata": {
    "papermill": {
     "duration": 0.059204,
     "end_time": "2021-07-17T09:18:06.179971",
     "exception": false,
     "start_time": "2021-07-17T09:18:06.120767",
     "status": "completed"
    },
    "tags": []
   },
   "source": [
    "## 00:48:36 - One-Hot Encoding"
   ]
  },
  {
   "cell_type": "markdown",
   "id": "01bb182b",
   "metadata": {
    "papermill": {
     "duration": 0.057978,
     "end_time": "2021-07-17T09:18:06.292316",
     "exception": false,
     "start_time": "2021-07-17T09:18:06.234338",
     "status": "completed"
    },
    "tags": []
   },
   "source": [
    "* The labels there are [[One-Hot Encoded]]\n",
    "  * Each position corresponds to a possible label.\n",
    "  * If the label isn't in the image, it's 0. If it is 1.\n",
    "* We can take a look at the first label, and see what it is:"
   ]
  },
  {
   "cell_type": "code",
   "execution_count": 30,
   "id": "7a142d92",
   "metadata": {
    "execution": {
     "iopub.execute_input": "2021-07-17T09:18:06.415740Z",
     "iopub.status.busy": "2021-07-17T09:18:06.414924Z",
     "iopub.status.idle": "2021-07-17T09:18:06.434342Z",
     "shell.execute_reply": "2021-07-17T09:18:06.434779Z",
     "shell.execute_reply.started": "2021-07-17T09:10:25.731897Z"
    },
    "papermill": {
     "duration": 0.084231,
     "end_time": "2021-07-17T09:18:06.434915",
     "exception": false,
     "start_time": "2021-07-17T09:18:06.350684",
     "status": "completed"
    },
    "tags": []
   },
   "outputs": [
    {
     "data": {
      "text/plain": [
       "(TensorMultiCategory([ 4, 11, 14]), (#3) ['bottle','dog','person'])"
      ]
     },
     "execution_count": 30,
     "metadata": {},
     "output_type": "execute_result"
    }
   ],
   "source": [
    "idxs = torch.where(dsets.train[0][1]==1.)[0]\n",
    "idxs, dsets.train.vocab[idxs]"
   ]
  },
  {
   "cell_type": "markdown",
   "id": "130c11bc",
   "metadata": {
    "papermill": {
     "duration": 0.054893,
     "end_time": "2021-07-17T09:18:06.550214",
     "exception": false,
     "start_time": "2021-07-17T09:18:06.495321",
     "status": "completed"
    },
    "tags": []
   },
   "source": [
    "## 00:50:44 - Question: shouldn't tensor be of integers?\n",
    "\n",
    "* Conceptually it's a tensor of integers, but for the purpose of floating point calculations in cross entropy, we just make it a float."
   ]
  },
  {
   "cell_type": "markdown",
   "id": "975310d6",
   "metadata": {
    "papermill": {
     "duration": 0.056852,
     "end_time": "2021-07-17T09:18:06.665946",
     "exception": false,
     "start_time": "2021-07-17T09:18:06.609094",
     "status": "completed"
    },
    "tags": []
   },
   "source": [
    "## 00:51:30 - splitter function\n",
    "\n",
    "* The `DataBlock` uses a random split by default.\n",
    "* This dataset tells you what's in the validation set: usually a good idea to use the dataset's validation, so you can compare results.\n",
    "* The `splitter` function can be used to return the idxes in the train and validation set:"
   ]
  },
  {
   "cell_type": "code",
   "execution_count": 31,
   "id": "d1ffaac8",
   "metadata": {
    "execution": {
     "iopub.execute_input": "2021-07-17T09:18:06.789101Z",
     "iopub.status.busy": "2021-07-17T09:18:06.788143Z",
     "iopub.status.idle": "2021-07-17T09:18:06.829235Z",
     "shell.execute_reply": "2021-07-17T09:18:06.829628Z",
     "shell.execute_reply.started": "2021-07-17T09:10:25.757554Z"
    },
    "papermill": {
     "duration": 0.107335,
     "end_time": "2021-07-17T09:18:06.829756",
     "exception": false,
     "start_time": "2021-07-17T09:18:06.722421",
     "status": "completed"
    },
    "tags": []
   },
   "outputs": [
    {
     "data": {
      "text/plain": [
       "(PILImage mode=RGB size=500x375,\n",
       " TensorMultiCategory([0., 0., 0., 0., 0., 0., 0., 0., 1., 0., 0., 0., 0., 0., 0., 0., 0., 0.,\n",
       "         0., 1.]))"
      ]
     },
     "execution_count": 31,
     "metadata": {},
     "output_type": "execute_result"
    }
   ],
   "source": [
    "def splitter(df):\n",
    "    train = df.index[~df['is_valid']].tolist()\n",
    "    valid = df.index[df['is_valid']].tolist()\n",
    "    return train, valid\n",
    "\n",
    "dblck = DataBlock(\n",
    "    blocks=(ImageBlock, MultiCategoryBlock),\n",
    "    splitter=splitter,\n",
    "    get_x=get_x,\n",
    "    get_y=get_y)\n",
    "dsets = dblock.datasets(df)\n",
    "dsets.train[0]"
   ]
  },
  {
   "cell_type": "markdown",
   "id": "8cb2e3b2",
   "metadata": {
    "papermill": {
     "duration": 0.05671,
     "end_time": "2021-07-17T09:18:06.942709",
     "exception": false,
     "start_time": "2021-07-17T09:18:06.885999",
     "status": "completed"
    },
    "tags": []
   },
   "source": [
    "## 00:52:39 - Question: why don't we use 8-bit precision?\n",
    "\n",
    "* It's too flat and bumpy - hard to get good gradients.\n",
    "  * Sometimes they do a thing called \"Quantization\" to allow a model to do inference much faster."
   ]
  },
  {
   "cell_type": "markdown",
   "id": "cedd1e8f",
   "metadata": {
    "papermill": {
     "duration": 0.056495,
     "end_time": "2021-07-17T09:18:07.056717",
     "exception": false,
     "start_time": "2021-07-17T09:18:07.000222",
     "status": "completed"
    },
    "tags": []
   },
   "source": [
    "## 00:53:54 - Finish DataBlock\n",
    "\n",
    "* Now we add `item_tfms` to allow collation into DataLoader:"
   ]
  },
  {
   "cell_type": "code",
   "execution_count": 32,
   "id": "1a8ca370",
   "metadata": {
    "execution": {
     "iopub.execute_input": "2021-07-17T09:18:07.176332Z",
     "iopub.status.busy": "2021-07-17T09:18:07.175599Z",
     "iopub.status.idle": "2021-07-17T09:18:07.177876Z",
     "shell.execute_reply": "2021-07-17T09:18:07.178296Z",
     "shell.execute_reply.started": "2021-07-17T09:10:25.808726Z"
    },
    "papermill": {
     "duration": 0.064146,
     "end_time": "2021-07-17T09:18:07.178426",
     "exception": false,
     "start_time": "2021-07-17T09:18:07.114280",
     "status": "completed"
    },
    "tags": []
   },
   "outputs": [],
   "source": [
    "def splitter(df):\n",
    "    train = df.index[~df['is_valid']].tolist()\n",
    "    valid = df.index[df['is_valid']].tolist()\n",
    "    return train, valid\n",
    "\n",
    "dblock = DataBlock(\n",
    "    blocks=(ImageBlock, MultiCategoryBlock),\n",
    "    splitter=splitter,\n",
    "    get_x=get_x,\n",
    "    get_y=get_y,\n",
    "    item_tfms=RandomResizedCrop(128, min_scale=0.35))"
   ]
  },
  {
   "cell_type": "markdown",
   "id": "2183d957",
   "metadata": {
    "papermill": {
     "duration": 0.053747,
     "end_time": "2021-07-17T09:18:07.292022",
     "exception": false,
     "start_time": "2021-07-17T09:18:07.238275",
     "status": "completed"
    },
    "tags": []
   },
   "source": [
    "* Then `dataloaders` to get a DataLoader back:"
   ]
  },
  {
   "cell_type": "code",
   "execution_count": 33,
   "id": "2532d461",
   "metadata": {
    "execution": {
     "iopub.execute_input": "2021-07-17T09:18:07.415102Z",
     "iopub.status.busy": "2021-07-17T09:18:07.414237Z",
     "iopub.status.idle": "2021-07-17T09:18:11.648191Z",
     "shell.execute_reply": "2021-07-17T09:18:11.648700Z",
     "shell.execute_reply.started": "2021-07-17T09:10:25.817079Z"
    },
    "papermill": {
     "duration": 4.297933,
     "end_time": "2021-07-17T09:18:11.648898",
     "exception": false,
     "start_time": "2021-07-17T09:18:07.350965",
     "status": "completed"
    },
    "tags": []
   },
   "outputs": [],
   "source": [
    "dls = dblock.dataloaders(df)"
   ]
  },
  {
   "cell_type": "markdown",
   "id": "a00caa50",
   "metadata": {
    "papermill": {
     "duration": 0.088764,
     "end_time": "2021-07-17T09:18:11.835050",
     "exception": false,
     "start_time": "2021-07-17T09:18:11.746286",
     "status": "completed"
    },
    "tags": []
   },
   "source": [
    "* And summary to ensure it all worked:"
   ]
  },
  {
   "cell_type": "code",
   "execution_count": 34,
   "id": "f4526ddf",
   "metadata": {
    "execution": {
     "iopub.execute_input": "2021-07-17T09:18:12.037642Z",
     "iopub.status.busy": "2021-07-17T09:18:12.036876Z",
     "iopub.status.idle": "2021-07-17T09:18:13.063068Z",
     "shell.execute_reply": "2021-07-17T09:18:13.063647Z",
     "shell.execute_reply.started": "2021-07-17T09:10:29.460217Z"
    },
    "papermill": {
     "duration": 1.134628,
     "end_time": "2021-07-17T09:18:13.063815",
     "exception": false,
     "start_time": "2021-07-17T09:18:11.929187",
     "status": "completed"
    },
    "tags": []
   },
   "outputs": [
    {
     "data": {
      "image/png": "[encoded data removed]",
      "text/plain": [
       "<Figure size 648x216 with 3 Axes>"
      ]
     },
     "metadata": {
      "needs_background": "light"
     },
     "output_type": "display_data"
    }
   ],
   "source": [
    "dls.show_batch(nrows=1, ncols=3)"
   ]
  },
  {
   "cell_type": "markdown",
   "id": "f37e3435",
   "metadata": {
    "papermill": {
     "duration": 0.084017,
     "end_time": "2021-07-17T09:18:13.216629",
     "exception": false,
     "start_time": "2021-07-17T09:18:13.132612",
     "status": "completed"
    },
    "tags": []
   },
   "source": [
    "## 00:54:48 - Binary cross entropy\n",
    "\n",
    "* To start', we'll grab a learner using the dls above:"
   ]
  },
  {
   "cell_type": "code",
   "execution_count": 35,
   "id": "9da19af9",
   "metadata": {
    "execution": {
     "iopub.execute_input": "2021-07-17T09:18:13.362385Z",
     "iopub.status.busy": "2021-07-17T09:18:13.361348Z",
     "iopub.status.idle": "2021-07-17T09:18:17.189119Z",
     "shell.execute_reply": "2021-07-17T09:18:17.189690Z",
     "shell.execute_reply.started": "2021-07-17T09:10:30.110774Z"
    },
    "papermill": {
     "duration": 3.899784,
     "end_time": "2021-07-17T09:18:17.189864",
     "exception": false,
     "start_time": "2021-07-17T09:18:13.290080",
     "status": "completed"
    },
    "tags": []
   },
   "outputs": [
    {
     "name": "stderr",
     "output_type": "stream",
     "text": [
      "Downloading: \"https://download.pytorch.org/models/resnet18-f37072fd.pth\" to /root/.cache/torch/hub/checkpoints/resnet18-f37072fd.pth\n"
     ]
    },
    {
     "data": {
      "application/vnd.jupyter.widget-view+json": {
       "model_id": "8ad8e548d147467d96b5cd0138d081eb",
       "version_major": 2,
       "version_minor": 0
      },
      "text/plain": [
       "  0%|          | 0.00/44.7M [00:00<?, ?B/s]"
      ]
     },
     "metadata": {},
     "output_type": "display_data"
    },
    {
     "name": "stderr",
     "output_type": "stream",
     "text": [
      "/opt/conda/lib/python3.7/site-packages/torch/nn/functional.py:718: UserWarning: Named tensors and all their associated APIs are an experimental feature and subject to change. Please do not use them for anything important until they are released as stable. (Triggered internally at  /pytorch/c10/core/TensorImpl.h:1156.)\n",
      "  return torch.max_pool2d(input, kernel_size, stride, padding, dilation, ceil_mode)\n"
     ]
    }
   ],
   "source": [
    "learn = cnn_learner(dls, resnet18)"
   ]
  },
  {
   "cell_type": "markdown",
   "id": "9fbf8f24",
   "metadata": {
    "papermill": {
     "duration": 0.064954,
     "end_time": "2021-07-17T09:18:17.318376",
     "exception": false,
     "start_time": "2021-07-17T09:18:17.253422",
     "status": "completed"
    },
    "tags": []
   },
   "source": [
    "* Get one batch of predictions:"
   ]
  },
  {
   "cell_type": "code",
   "execution_count": 36,
   "id": "489ef88b",
   "metadata": {
    "execution": {
     "iopub.execute_input": "2021-07-17T09:18:17.449883Z",
     "iopub.status.busy": "2021-07-17T09:18:17.448342Z",
     "iopub.status.idle": "2021-07-17T09:18:17.883314Z",
     "shell.execute_reply": "2021-07-17T09:18:17.882743Z",
     "shell.execute_reply.started": "2021-07-17T09:10:33.589289Z"
    },
    "papermill": {
     "duration": 0.500446,
     "end_time": "2021-07-17T09:18:17.883450",
     "exception": false,
     "start_time": "2021-07-17T09:18:17.383004",
     "status": "completed"
    },
    "tags": []
   },
   "outputs": [],
   "source": [
    "x, y = dls.train.one_batch()"
   ]
  },
  {
   "cell_type": "code",
   "execution_count": 37,
   "id": "8e617f00",
   "metadata": {
    "execution": {
     "iopub.execute_input": "2021-07-17T09:18:18.014397Z",
     "iopub.status.busy": "2021-07-17T09:18:18.013732Z",
     "iopub.status.idle": "2021-07-17T09:18:18.175375Z",
     "shell.execute_reply": "2021-07-17T09:18:18.174941Z",
     "shell.execute_reply.started": "2021-07-17T09:10:34.038147Z"
    },
    "papermill": {
     "duration": 0.228191,
     "end_time": "2021-07-17T09:18:18.175493",
     "exception": false,
     "start_time": "2021-07-17T09:18:17.947302",
     "status": "completed"
    },
    "tags": []
   },
   "outputs": [],
   "source": [
    "activs = learn.model.cuda()(x)"
   ]
  },
  {
   "cell_type": "markdown",
   "id": "a56a2f7c",
   "metadata": {
    "papermill": {
     "duration": 0.058939,
     "end_time": "2021-07-17T09:18:18.299642",
     "exception": false,
     "start_time": "2021-07-17T09:18:18.240703",
     "status": "completed"
    },
    "tags": []
   },
   "source": [
    "* Examine one set of activations for an item in the batch:"
   ]
  },
  {
   "cell_type": "code",
   "execution_count": 38,
   "id": "3e34153d",
   "metadata": {
    "execution": {
     "iopub.execute_input": "2021-07-17T09:18:18.435319Z",
     "iopub.status.busy": "2021-07-17T09:18:18.432400Z",
     "iopub.status.idle": "2021-07-17T09:18:18.442422Z",
     "shell.execute_reply": "2021-07-17T09:18:18.441941Z",
     "shell.execute_reply.started": "2021-07-17T09:10:34.204928Z"
    },
    "papermill": {
     "duration": 0.078813,
     "end_time": "2021-07-17T09:18:18.442546",
     "exception": false,
     "start_time": "2021-07-17T09:18:18.363733",
     "status": "completed"
    },
    "tags": []
   },
   "outputs": [
    {
     "data": {
      "text/plain": [
       "tensor([ 4.0968, -1.0870,  0.5517, -0.9677,  0.7336, -0.6855, -2.5957, -0.5128,\n",
       "         1.8058, -0.1456,  2.2515, -2.8793, -0.2660, -0.4388,  1.7154, -2.8521,\n",
       "         0.2223, -1.6583, -0.3429,  1.3525], device='cuda:0',\n",
       "       grad_fn=<SelectBackward>)"
      ]
     },
     "execution_count": 38,
     "metadata": {},
     "output_type": "execute_result"
    }
   ],
   "source": [
    "activs[0]"
   ]
  },
  {
   "cell_type": "markdown",
   "id": "31aa27c5",
   "metadata": {
    "papermill": {
     "duration": 0.063496,
     "end_time": "2021-07-17T09:18:18.566618",
     "exception": false,
     "start_time": "2021-07-17T09:18:18.503122",
     "status": "completed"
    },
    "tags": []
   },
   "source": [
    "## 00:56:10 - Question: Is DataBlock API compatible with libraries like Dask?\n",
    "\n",
    "* DataBlock API allows you to pass anything that's indexable, including Dask.\n",
    "\n",
    "## 00:57:20 - Question: what path should the images be in?\n",
    "\n",
    "* Anywhere. You specify an absolute path in the `get_x` function."
   ]
  },
  {
   "cell_type": "markdown",
   "id": "03df6251",
   "metadata": {
    "papermill": {
     "duration": 0.063442,
     "end_time": "2021-07-17T09:18:18.689319",
     "exception": false,
     "start_time": "2021-07-17T09:18:18.625877",
     "status": "completed"
    },
    "tags": []
   },
   "source": [
    "## 00:58:49 - Binary cross entropy cont"
   ]
  },
  {
   "cell_type": "markdown",
   "id": "b8d03d4b",
   "metadata": {
    "papermill": {
     "duration": 0.101263,
     "end_time": "2021-07-17T09:18:18.852771",
     "exception": false,
     "start_time": "2021-07-17T09:18:18.751508",
     "status": "completed"
    },
    "tags": []
   },
   "source": [
    "* The activations above aren't between 0 and 1, but you can use the [[Sigmoid]] function for that:"
   ]
  },
  {
   "cell_type": "code",
   "execution_count": 39,
   "id": "b9f44986",
   "metadata": {
    "execution": {
     "iopub.execute_input": "2021-07-17T09:18:18.984374Z",
     "iopub.status.busy": "2021-07-17T09:18:18.983789Z",
     "iopub.status.idle": "2021-07-17T09:18:18.987413Z",
     "shell.execute_reply": "2021-07-17T09:18:18.987792Z",
     "shell.execute_reply.started": "2021-07-17T09:10:34.215688Z"
    },
    "papermill": {
     "duration": 0.072822,
     "end_time": "2021-07-17T09:18:18.987918",
     "exception": false,
     "start_time": "2021-07-17T09:18:18.915096",
     "status": "completed"
    },
    "tags": []
   },
   "outputs": [],
   "source": [
    "def binary_cross_entropy(inputs, targets):\n",
    "    inputs = inputs.sigmoid()\n",
    "    return torch.where(targets==1, 1-inputs, inputs).log().mean()"
   ]
  },
  {
   "cell_type": "markdown",
   "id": "b5fa3c34",
   "metadata": {
    "papermill": {
     "duration": 0.063777,
     "end_time": "2021-07-17T09:18:19.111836",
     "exception": false,
     "start_time": "2021-07-17T09:18:19.048059",
     "status": "completed"
    },
    "tags": []
   },
   "source": [
    "* Not that `log` is applied here again so the training is \"better behaved\".\n",
    "  * The function works on a single output or multiple.\n",
    "* In PyTorch, the function is `F.binary_cross_entropy`, or the module version is `nn.BCELoss`\n",
    "* The above loss functions don't use initial Sigmoid. Use `F.binary_cross_entropy_with_logits` or `nn.BCEWithLogitsLoss` if providing logits.\n",
    "* For single-label datasets like MNIST or Pets, `F.nll_loss` (doesn't include Softmax) and `F.cross_entropy` (includes Softmax) are the equivalents."
   ]
  },
  {
   "cell_type": "markdown",
   "id": "a669eb91",
   "metadata": {
    "papermill": {
     "duration": 0.06012,
     "end_time": "2021-07-17T09:18:19.234470",
     "exception": false,
     "start_time": "2021-07-17T09:18:19.174350",
     "status": "completed"
    },
    "tags": []
   },
   "source": [
    "## 01:03:29 - Multi-label metric"
   ]
  },
  {
   "cell_type": "markdown",
   "id": "a07339ed",
   "metadata": {
    "papermill": {
     "duration": 0.059204,
     "end_time": "2021-07-17T09:18:19.357893",
     "exception": false,
     "start_time": "2021-07-17T09:18:19.298689",
     "status": "completed"
    },
    "tags": []
   },
   "source": [
    "* Previously using error_rate (which is 1-accuracy), but that only works for single label dataset (argmax)\n",
    "* In multi-label, can't use argmax because could have 0 or more labels.\n",
    "  * Need to introduce a `threshold` where above considered 1 and below 0.\n",
    "* In learner, you pass the metric as a function. To change `threshold` can use a function called `partial`:"
   ]
  },
  {
   "cell_type": "code",
   "execution_count": 40,
   "id": "81dcac96",
   "metadata": {
    "execution": {
     "iopub.execute_input": "2021-07-17T09:18:19.489071Z",
     "iopub.status.busy": "2021-07-17T09:18:19.487588Z",
     "iopub.status.idle": "2021-07-17T09:18:19.490764Z",
     "shell.execute_reply": "2021-07-17T09:18:19.490300Z",
     "shell.execute_reply.started": "2021-07-17T09:10:34.223052Z"
    },
    "papermill": {
     "duration": 0.069136,
     "end_time": "2021-07-17T09:18:19.490884",
     "exception": false,
     "start_time": "2021-07-17T09:18:19.421748",
     "status": "completed"
    },
    "tags": []
   },
   "outputs": [],
   "source": [
    "accuracy_multi_metric = partial(accuracy_multi, thresh=0.2)"
   ]
  },
  {
   "cell_type": "markdown",
   "id": "8ed9851b",
   "metadata": {
    "papermill": {
     "duration": 0.063877,
     "end_time": "2021-07-17T09:18:19.614653",
     "exception": false,
     "start_time": "2021-07-17T09:18:19.550776",
     "status": "completed"
    },
    "tags": []
   },
   "source": []
  },
  {
   "cell_type": "code",
   "execution_count": 41,
   "id": "317dea11",
   "metadata": {
    "execution": {
     "iopub.execute_input": "2021-07-17T09:18:19.743648Z",
     "iopub.status.busy": "2021-07-17T09:18:19.742817Z",
     "iopub.status.idle": "2021-07-17T09:18:24.533986Z",
     "shell.execute_reply": "2021-07-17T09:18:24.533391Z",
     "shell.execute_reply.started": "2021-07-17T09:10:34.231813Z"
    },
    "papermill": {
     "duration": 4.860028,
     "end_time": "2021-07-17T09:18:24.534126",
     "exception": false,
     "start_time": "2021-07-17T09:18:19.674098",
     "status": "completed"
    },
    "tags": []
   },
   "outputs": [
    {
     "name": "stderr",
     "output_type": "stream",
     "text": [
      "Downloading: \"https://download.pytorch.org/models/resnet50-0676ba61.pth\" to /root/.cache/torch/hub/checkpoints/resnet50-0676ba61.pth\n"
     ]
    },
    {
     "data": {
      "application/vnd.jupyter.widget-view+json": {
       "model_id": "49a7e24373534726aced785fa25aa383",
       "version_major": 2,
       "version_minor": 0
      },
      "text/plain": [
       "  0%|          | 0.00/97.8M [00:00<?, ?B/s]"
      ]
     },
     "metadata": {},
     "output_type": "display_data"
    }
   ],
   "source": [
    "learn = cnn_learner(dls, resnet50, metrics=accuracy_multi_metric)"
   ]
  },
  {
   "cell_type": "markdown",
   "id": "da52dc1f",
   "metadata": {
    "papermill": {
     "duration": 0.065606,
     "end_time": "2021-07-17T09:18:24.661822",
     "exception": false,
     "start_time": "2021-07-17T09:18:24.596216",
     "status": "completed"
    },
    "tags": []
   },
   "source": [
    "* Note that we don't need to loss func, as fastai figures it out:"
   ]
  },
  {
   "cell_type": "code",
   "execution_count": 42,
   "id": "fe6e322e",
   "metadata": {
    "execution": {
     "iopub.execute_input": "2021-07-17T09:18:24.793279Z",
     "iopub.status.busy": "2021-07-17T09:18:24.792588Z",
     "iopub.status.idle": "2021-07-17T09:18:24.795566Z",
     "shell.execute_reply": "2021-07-17T09:18:24.795944Z",
     "shell.execute_reply.started": "2021-07-17T09:10:40.552055Z"
    },
    "papermill": {
     "duration": 0.070887,
     "end_time": "2021-07-17T09:18:24.796080",
     "exception": false,
     "start_time": "2021-07-17T09:18:24.725193",
     "status": "completed"
    },
    "tags": []
   },
   "outputs": [
    {
     "data": {
      "text/plain": [
       "FlattenedLoss of BCEWithLogitsLoss()"
      ]
     },
     "execution_count": 42,
     "metadata": {},
     "output_type": "execute_result"
    }
   ],
   "source": [
    "learn.loss_func"
   ]
  },
  {
   "cell_type": "code",
   "execution_count": 43,
   "id": "4077d7ed",
   "metadata": {
    "execution": {
     "iopub.execute_input": "2021-07-17T09:18:24.927778Z",
     "iopub.status.busy": "2021-07-17T09:18:24.926894Z",
     "iopub.status.idle": "2021-07-17T09:21:58.416501Z",
     "shell.execute_reply": "2021-07-17T09:21:58.416051Z",
     "shell.execute_reply.started": "2021-07-17T09:10:40.563268Z"
    },
    "papermill": {
     "duration": 213.555462,
     "end_time": "2021-07-17T09:21:58.416629",
     "exception": false,
     "start_time": "2021-07-17T09:18:24.861167",
     "status": "completed"
    },
    "tags": []
   },
   "outputs": [
    {
     "data": {
      "text/html": [
       "<table border=\"1\" class=\"dataframe\">\n",
       "  <thead>\n",
       "    <tr style=\"text-align: left;\">\n",
       "      <th>epoch</th>\n",
       "      <th>train_loss</th>\n",
       "      <th>valid_loss</th>\n",
       "      <th>accuracy_multi</th>\n",
       "      <th>time</th>\n",
       "    </tr>\n",
       "  </thead>\n",
       "  <tbody>\n",
       "    <tr>\n",
       "      <td>0</td>\n",
       "      <td>0.943449</td>\n",
       "      <td>0.704824</td>\n",
       "      <td>0.231494</td>\n",
       "      <td>00:31</td>\n",
       "    </tr>\n",
       "    <tr>\n",
       "      <td>1</td>\n",
       "      <td>0.823522</td>\n",
       "      <td>0.564629</td>\n",
       "      <td>0.289263</td>\n",
       "      <td>00:29</td>\n",
       "    </tr>\n",
       "    <tr>\n",
       "      <td>2</td>\n",
       "      <td>0.604577</td>\n",
       "      <td>0.197298</td>\n",
       "      <td>0.834024</td>\n",
       "      <td>00:30</td>\n",
       "    </tr>\n",
       "    <tr>\n",
       "      <td>3</td>\n",
       "      <td>0.359946</td>\n",
       "      <td>0.124828</td>\n",
       "      <td>0.940100</td>\n",
       "      <td>00:30</td>\n",
       "    </tr>\n",
       "  </tbody>\n",
       "</table>"
      ],
      "text/plain": [
       "<IPython.core.display.HTML object>"
      ]
     },
     "metadata": {},
     "output_type": "display_data"
    },
    {
     "data": {
      "text/html": [
       "<table border=\"1\" class=\"dataframe\">\n",
       "  <thead>\n",
       "    <tr style=\"text-align: left;\">\n",
       "      <th>epoch</th>\n",
       "      <th>train_loss</th>\n",
       "      <th>valid_loss</th>\n",
       "      <th>accuracy_multi</th>\n",
       "      <th>time</th>\n",
       "    </tr>\n",
       "  </thead>\n",
       "  <tbody>\n",
       "    <tr>\n",
       "      <td>0</td>\n",
       "      <td>0.132768</td>\n",
       "      <td>0.118560</td>\n",
       "      <td>0.939841</td>\n",
       "      <td>00:30</td>\n",
       "    </tr>\n",
       "    <tr>\n",
       "      <td>1</td>\n",
       "      <td>0.118844</td>\n",
       "      <td>0.106433</td>\n",
       "      <td>0.948586</td>\n",
       "      <td>00:30</td>\n",
       "    </tr>\n",
       "    <tr>\n",
       "      <td>2</td>\n",
       "      <td>0.096761</td>\n",
       "      <td>0.100886</td>\n",
       "      <td>0.952012</td>\n",
       "      <td>00:30</td>\n",
       "    </tr>\n",
       "  </tbody>\n",
       "</table>"
      ],
      "text/plain": [
       "<IPython.core.display.HTML object>"
      ]
     },
     "metadata": {},
     "output_type": "display_data"
    }
   ],
   "source": [
    "learn.fine_tune(3, base_lr=3e-3, freeze_epochs=4)"
   ]
  },
  {
   "cell_type": "markdown",
   "id": "86f4616b",
   "metadata": {
    "papermill": {
     "duration": 0.072062,
     "end_time": "2021-07-17T09:21:58.550790",
     "exception": false,
     "start_time": "2021-07-17T09:21:58.478728",
     "status": "completed"
    },
    "tags": []
   },
   "source": [
    "## 01:07:13 - Tuning threshold\n",
    "\n",
    "* One way to find best threshold is to calculate accuracy at a range of thresholds and plot"
   ]
  },
  {
   "cell_type": "code",
   "execution_count": 44,
   "id": "9ce0cf82",
   "metadata": {
    "execution": {
     "iopub.execute_input": "2021-07-17T09:21:58.684407Z",
     "iopub.status.busy": "2021-07-17T09:21:58.683638Z",
     "iopub.status.idle": "2021-07-17T09:22:15.088559Z",
     "shell.execute_reply": "2021-07-17T09:22:15.087718Z",
     "shell.execute_reply.started": "2021-07-17T09:14:16.172394Z"
    },
    "papermill": {
     "duration": 16.472211,
     "end_time": "2021-07-17T09:22:15.088693",
     "exception": false,
     "start_time": "2021-07-17T09:21:58.616482",
     "status": "completed"
    },
    "tags": []
   },
   "outputs": [
    {
     "data": {
      "text/html": [],
      "text/plain": [
       "<IPython.core.display.HTML object>"
      ]
     },
     "metadata": {},
     "output_type": "display_data"
    }
   ],
   "source": [
    "preds, targs = learn.get_preds()"
   ]
  },
  {
   "cell_type": "code",
   "execution_count": 45,
   "id": "878054a1",
   "metadata": {
    "execution": {
     "iopub.execute_input": "2021-07-17T09:22:15.220889Z",
     "iopub.status.busy": "2021-07-17T09:22:15.220296Z",
     "iopub.status.idle": "2021-07-17T09:22:15.388115Z",
     "shell.execute_reply": "2021-07-17T09:22:15.387681Z",
     "shell.execute_reply.started": "2021-07-17T09:14:32.205624Z"
    },
    "papermill": {
     "duration": 0.232888,
     "end_time": "2021-07-17T09:22:15.388232",
     "exception": false,
     "start_time": "2021-07-17T09:22:15.155344",
     "status": "completed"
    },
    "tags": []
   },
   "outputs": [
    {
     "data": {
      "text/plain": [
       "[<matplotlib.lines.Line2D at 0x7f370d65d090>]"
      ]
     },
     "execution_count": 45,
     "metadata": {},
     "output_type": "execute_result"
    },
    {
     "data": {
      "image/png": "[encoded data removed]",
      "text/plain": [
       "<Figure size 432x288 with 1 Axes>"
      ]
     },
     "metadata": {
      "needs_background": "light"
     },
     "output_type": "display_data"
    }
   ],
   "source": [
    "xs = torch.linspace(0.05, 0.95, 29)\n",
    "accs = [accuracy_multi(preds, targs, thresh=i, sigmoid=False) for i in xs]\n",
    "plt.plot(xs, accs)"
   ]
  },
  {
   "cell_type": "markdown",
   "id": "6959f110",
   "metadata": {
    "papermill": {
     "duration": 0.065853,
     "end_time": "2021-07-17T09:22:15.517328",
     "exception": false,
     "start_time": "2021-07-17T09:22:15.451475",
     "status": "completed"
    },
    "tags": []
   },
   "source": [
    "* The fact it's a curve and not a bumpy function, is a good indication we're on right track."
   ]
  },
  {
   "cell_type": "markdown",
   "id": "db40c373",
   "metadata": {
    "papermill": {
     "duration": 0.061784,
     "end_time": "2021-07-17T09:22:15.647140",
     "exception": false,
     "start_time": "2021-07-17T09:22:15.585356",
     "status": "completed"
    },
    "tags": []
   },
   "source": [
    "## 01:09:09 - Regression (cont next notebook)"
   ]
  }
 ],
 "metadata": {
  "kernelspec": {
   "display_name": "Python 3",
   "language": "python",
   "name": "python3"
  },
  "language_info": {
   "codemirror_mode": {
    "name": "ipython",
    "version": 3
   },
   "file_extension": ".py",
   "mimetype": "text/x-python",
   "name": "python",
   "nbconvert_exporter": "python",
   "pygments_lexer": "ipython3",
   "version": "3.7.10"
  },
  "papermill": {
   "default_parameters": {},
   "duration": 421.00052,
   "end_time": "2021-07-17T09:22:17.541296",
   "environment_variables": {},
   "exception": null,
   "input_path": "__notebook__.ipynb",
   "output_path": "__notebook__.ipynb",
   "parameters": {},
   "start_time": "2021-07-17T09:15:16.540776",
   "version": "2.3.3"
  },
  "widgets": {
   "application/vnd.jupyter.widget-state+json": {
    "state": {
     "093670c7d0ac4eeab0be82e632a259ef": {
      "model_module": "@jupyter-widgets/controls",
      "model_module_version": "1.5.0",
      "model_name": "DescriptionStyleModel",
      "state": {
       "_model_module": "@jupyter-widgets/controls",
       "_model_module_version": "1.5.0",
       "_model_name": "DescriptionStyleModel",
       "_view_count": null,
       "_view_module": "@jupyter-widgets/base",
       "_view_module_version": "1.2.0",
       "_view_name": "StyleView",
       "description_width": ""
      }
     },
     "1039839663534f238b56049a367bb040": {
      "model_module": "@jupyter-widgets/base",
      "model_module_version": "1.2.0",
      "model_name": "LayoutModel",
      "state": {
       "_model_module": "@jupyter-widgets/base",
       "_model_module_version": "1.2.0",
       "_model_name": "LayoutModel",
       "_view_count": null,
       "_view_module": "@jupyter-widgets/base",
       "_view_module_version": "1.2.0",
       "_view_name": "LayoutView",
       "align_content": null,
       "align_items": null,
       "align_self": null,
       "border": null,
       "bottom": null,
       "display": null,
       "flex": null,
       "flex_flow": null,
       "grid_area": null,
       "grid_auto_columns": null,
       "grid_auto_flow": null,
       "grid_auto_rows": null,
       "grid_column": null,
       "grid_gap": null,
       "grid_row": null,
       "grid_template_areas": null,
       "grid_template_columns": null,
       "grid_template_rows": null,
       "height": null,
       "justify_content": null,
       "justify_items": null,
       "left": null,
       "margin": null,
       "max_height": null,
       "max_width": null,
       "min_height": null,
       "min_width": null,
       "object_fit": null,
       "object_position": null,
       "order": null,
       "overflow": null,
       "overflow_x": null,
       "overflow_y": null,
       "padding": null,
       "right": null,
       "top": null,
       "visibility": null,
       "width": null
      }
     },
     "11a1a679160c4e959ecbd56abc7e6d02": {
      "model_module": "@jupyter-widgets/controls",
      "model_module_version": "1.5.0",
      "model_name": "ProgressStyleModel",
      "state": {
       "_model_module": "@jupyter-widgets/controls",
       "_model_module_version": "1.5.0",
       "_model_name": "ProgressStyleModel",
       "_view_count": null,
       "_view_module": "@jupyter-widgets/base",
       "_view_module_version": "1.2.0",
       "_view_name": "StyleView",
       "bar_color": null,
       "description_width": ""
      }
     },
     "1a6a94a0dfd54c3e849ff77328b45adf": {
      "model_module": "@jupyter-widgets/controls",
      "model_module_version": "1.5.0",
      "model_name": "DescriptionStyleModel",
      "state": {
       "_model_module": "@jupyter-widgets/controls",
       "_model_module_version": "1.5.0",
       "_model_name": "DescriptionStyleModel",
       "_view_count": null,
       "_view_module": "@jupyter-widgets/base",
       "_view_module_version": "1.2.0",
       "_view_name": "StyleView",
       "description_width": ""
      }
     },
     "2789e96987754335a55010f2be3c7140": {
      "model_module": "@jupyter-widgets/controls",
      "model_module_version": "1.5.0",
      "model_name": "ProgressStyleModel",
      "state": {
       "_model_module": "@jupyter-widgets/controls",
       "_model_module_version": "1.5.0",
       "_model_name": "ProgressStyleModel",
       "_view_count": null,
       "_view_module": "@jupyter-widgets/base",
       "_view_module_version": "1.2.0",
       "_view_name": "StyleView",
       "bar_color": null,
       "description_width": ""
      }
     },
     "2bfa723e3f0b4116aedabb733b977733": {
      "model_module": "@jupyter-widgets/base",
      "model_module_version": "1.2.0",
      "model_name": "LayoutModel",
      "state": {
       "_model_module": "@jupyter-widgets/base",
       "_model_module_version": "1.2.0",
       "_model_name": "LayoutModel",
       "_view_count": null,
       "_view_module": "@jupyter-widgets/base",
       "_view_module_version": "1.2.0",
       "_view_name": "LayoutView",
       "align_content": null,
       "align_items": null,
       "align_self": null,
       "border": null,
       "bottom": null,
       "display": null,
       "flex": null,
       "flex_flow": null,
       "grid_area": null,
       "grid_auto_columns": null,
       "grid_auto_flow": null,
       "grid_auto_rows": null,
       "grid_column": null,
       "grid_gap": null,
       "grid_row": null,
       "grid_template_areas": null,
       "grid_template_columns": null,
       "grid_template_rows": null,
       "height": null,
       "justify_content": null,
       "justify_items": null,
       "left": null,
       "margin": null,
       "max_height": null,
       "max_width": null,
       "min_height": null,
       "min_width": null,
       "object_fit": null,
       "object_position": null,
       "order": null,
       "overflow": null,
       "overflow_x": null,
       "overflow_y": null,
       "padding": null,
       "right": null,
       "top": null,
       "visibility": null,
       "width": null
      }
     },
     "478dad36544e4c56b5b66197f0199f6d": {
      "model_module": "@jupyter-widgets/base",
      "model_module_version": "1.2.0",
      "model_name": "LayoutModel",
      "state": {
       "_model_module": "@jupyter-widgets/base",
       "_model_module_version": "1.2.0",
       "_model_name": "LayoutModel",
       "_view_count": null,
       "_view_module": "@jupyter-widgets/base",
       "_view_module_version": "1.2.0",
       "_view_name": "LayoutView",
       "align_content": null,
       "align_items": null,
       "align_self": null,
       "border": null,
       "bottom": null,
       "display": null,
       "flex": null,
       "flex_flow": null,
       "grid_area": null,
       "grid_auto_columns": null,
       "grid_auto_flow": null,
       "grid_auto_rows": null,
       "grid_column": null,
       "grid_gap": null,
       "grid_row": null,
       "grid_template_areas": null,
       "grid_template_columns": null,
       "grid_template_rows": null,
       "height": null,
       "justify_content": null,
       "justify_items": null,
       "left": null,
       "margin": null,
       "max_height": null,
       "max_width": null,
       "min_height": null,
       "min_width": null,
       "object_fit": null,
       "object_position": null,
       "order": null,
       "overflow": null,
       "overflow_x": null,
       "overflow_y": null,
       "padding": null,
       "right": null,
       "top": null,
       "visibility": null,
       "width": null
      }
     },
     "49a7e24373534726aced785fa25aa383": {
      "model_module": "@jupyter-widgets/controls",
      "model_module_version": "1.5.0",
      "model_name": "HBoxModel",
      "state": {
       "_dom_classes": [],
       "_model_module": "@jupyter-widgets/controls",
       "_model_module_version": "1.5.0",
       "_model_name": "HBoxModel",
       "_view_count": null,
       "_view_module": "@jupyter-widgets/controls",
       "_view_module_version": "1.5.0",
       "_view_name": "HBoxView",
       "box_style": "",
       "children": [
        "IPY_MODEL_a15b6d47a27b4b6d9380919f252c79ca",
        "IPY_MODEL_5964442645784df689b6d33b371c43c8",
        "IPY_MODEL_dc4eea1840e249f18eff584a18f17f0c"
       ],
       "layout": "IPY_MODEL_478dad36544e4c56b5b66197f0199f6d"
      }
     },
     "5964442645784df689b6d33b371c43c8": {
      "model_module": "@jupyter-widgets/controls",
      "model_module_version": "1.5.0",
      "model_name": "FloatProgressModel",
      "state": {
       "_dom_classes": [],
       "_model_module": "@jupyter-widgets/controls",
       "_model_module_version": "1.5.0",
       "_model_name": "FloatProgressModel",
       "_view_count": null,
       "_view_module": "@jupyter-widgets/controls",
       "_view_module_version": "1.5.0",
       "_view_name": "ProgressView",
       "bar_style": "success",
       "description": "",
       "description_tooltip": null,
       "layout": "IPY_MODEL_b598e77d9da94ccca2835cd26b884cca",
       "max": 102530333.0,
       "min": 0.0,
       "orientation": "horizontal",
       "style": "IPY_MODEL_2789e96987754335a55010f2be3c7140",
       "value": 102530333.0
      }
     },
     "6e36119ff41d488ca9e82c194d2f15d5": {
      "model_module": "@jupyter-widgets/base",
      "model_module_version": "1.2.0",
      "model_name": "LayoutModel",
      "state": {
       "_model_module": "@jupyter-widgets/base",
       "_model_module_version": "1.2.0",
       "_model_name": "LayoutModel",
       "_view_count": null,
       "_view_module": "@jupyter-widgets/base",
       "_view_module_version": "1.2.0",
       "_view_name": "LayoutView",
       "align_content": null,
       "align_items": null,
       "align_self": null,
       "border": null,
       "bottom": null,
       "display": null,
       "flex": null,
       "flex_flow": null,
       "grid_area": null,
       "grid_auto_columns": null,
       "grid_auto_flow": null,
       "grid_auto_rows": null,
       "grid_column": null,
       "grid_gap": null,
       "grid_row": null,
       "grid_template_areas": null,
       "grid_template_columns": null,
       "grid_template_rows": null,
       "height": null,
       "justify_content": null,
       "justify_items": null,
       "left": null,
       "margin": null,
       "max_height": null,
       "max_width": null,
       "min_height": null,
       "min_width": null,
       "object_fit": null,
       "object_position": null,
       "order": null,
       "overflow": null,
       "overflow_x": null,
       "overflow_y": null,
       "padding": null,
       "right": null,
       "top": null,
       "visibility": null,
       "width": null
      }
     },
     "6ed70ac6a235453ea0131f84ad19ce7b": {
      "model_module": "@jupyter-widgets/controls",
      "model_module_version": "1.5.0",
      "model_name": "HTMLModel",
      "state": {
       "_dom_classes": [],
       "_model_module": "@jupyter-widgets/controls",
       "_model_module_version": "1.5.0",
       "_model_name": "HTMLModel",
       "_view_count": null,
       "_view_module": "@jupyter-widgets/controls",
       "_view_module_version": "1.5.0",
       "_view_name": "HTMLView",
       "description": "",
       "description_tooltip": null,
       "layout": "IPY_MODEL_2bfa723e3f0b4116aedabb733b977733",
       "placeholder": "​",
       "style": "IPY_MODEL_d783554fd1e94608ba56936fc9d9dfcf",
       "value": " 44.7M/44.7M [00:02&lt;00:00, 30.6MB/s]"
      }
     },
     "76d9781eb93a48ceb49f9d7215096274": {
      "model_module": "@jupyter-widgets/base",
      "model_module_version": "1.2.0",
      "model_name": "LayoutModel",
      "state": {
       "_model_module": "@jupyter-widgets/base",
       "_model_module_version": "1.2.0",
       "_model_name": "LayoutModel",
       "_view_count": null,
       "_view_module": "@jupyter-widgets/base",
       "_view_module_version": "1.2.0",
       "_view_name": "LayoutView",
       "align_content": null,
       "align_items": null,
       "align_self": null,
       "border": null,
       "bottom": null,
       "display": null,
       "flex": null,
       "flex_flow": null,
       "grid_area": null,
       "grid_auto_columns": null,
       "grid_auto_flow": null,
       "grid_auto_rows": null,
       "grid_column": null,
       "grid_gap": null,
       "grid_row": null,
       "grid_template_areas": null,
       "grid_template_columns": null,
       "grid_template_rows": null,
       "height": null,
       "justify_content": null,
       "justify_items": null,
       "left": null,
       "margin": null,
       "max_height": null,
       "max_width": null,
       "min_height": null,
       "min_width": null,
       "object_fit": null,
       "object_position": null,
       "order": null,
       "overflow": null,
       "overflow_x": null,
       "overflow_y": null,
       "padding": null,
       "right": null,
       "top": null,
       "visibility": null,
       "width": null
      }
     },
     "8ad8e548d147467d96b5cd0138d081eb": {
      "model_module": "@jupyter-widgets/controls",
      "model_module_version": "1.5.0",
      "model_name": "HBoxModel",
      "state": {
       "_dom_classes": [],
       "_model_module": "@jupyter-widgets/controls",
       "_model_module_version": "1.5.0",
       "_model_name": "HBoxModel",
       "_view_count": null,
       "_view_module": "@jupyter-widgets/controls",
       "_view_module_version": "1.5.0",
       "_view_name": "HBoxView",
       "box_style": "",
       "children": [
        "IPY_MODEL_fbe65c2859444417bdd1b0705f719166",
        "IPY_MODEL_e75e148ca2e24f8aa92517d6ca03d1d8",
        "IPY_MODEL_6ed70ac6a235453ea0131f84ad19ce7b"
       ],
       "layout": "IPY_MODEL_b8b4986eae9e4a07a76cc08598386df7"
      }
     },
     "a15b6d47a27b4b6d9380919f252c79ca": {
      "model_module": "@jupyter-widgets/controls",
      "model_module_version": "1.5.0",
      "model_name": "HTMLModel",
      "state": {
       "_dom_classes": [],
       "_model_module": "@jupyter-widgets/controls",
       "_model_module_version": "1.5.0",
       "_model_name": "HTMLModel",
       "_view_count": null,
       "_view_module": "@jupyter-widgets/controls",
       "_view_module_version": "1.5.0",
       "_view_name": "HTMLView",
       "description": "",
       "description_tooltip": null,
       "layout": "IPY_MODEL_76d9781eb93a48ceb49f9d7215096274",
       "placeholder": "​",
       "style": "IPY_MODEL_093670c7d0ac4eeab0be82e632a259ef",
       "value": "100%"
      }
     },
     "b598e77d9da94ccca2835cd26b884cca": {
      "model_module": "@jupyter-widgets/base",
      "model_module_version": "1.2.0",
      "model_name": "LayoutModel",
      "state": {
       "_model_module": "@jupyter-widgets/base",
       "_model_module_version": "1.2.0",
       "_model_name": "LayoutModel",
       "_view_count": null,
       "_view_module": "@jupyter-widgets/base",
       "_view_module_version": "1.2.0",
       "_view_name": "LayoutView",
       "align_content": null,
       "align_items": null,
       "align_self": null,
       "border": null,
       "bottom": null,
       "display": null,
       "flex": null,
       "flex_flow": null,
       "grid_area": null,
       "grid_auto_columns": null,
       "grid_auto_flow": null,
       "grid_auto_rows": null,
       "grid_column": null,
       "grid_gap": null,
       "grid_row": null,
       "grid_template_areas": null,
       "grid_template_columns": null,
       "grid_template_rows": null,
       "height": null,
       "justify_content": null,
       "justify_items": null,
       "left": null,
       "margin": null,
       "max_height": null,
       "max_width": null,
       "min_height": null,
       "min_width": null,
       "object_fit": null,
       "object_position": null,
       "order": null,
       "overflow": null,
       "overflow_x": null,
       "overflow_y": null,
       "padding": null,
       "right": null,
       "top": null,
       "visibility": null,
       "width": null
      }
     },
     "b8b4986eae9e4a07a76cc08598386df7": {
      "model_module": "@jupyter-widgets/base",
      "model_module_version": "1.2.0",
      "model_name": "LayoutModel",
      "state": {
       "_model_module": "@jupyter-widgets/base",
       "_model_module_version": "1.2.0",
       "_model_name": "LayoutModel",
       "_view_count": null,
       "_view_module": "@jupyter-widgets/base",
       "_view_module_version": "1.2.0",
       "_view_name": "LayoutView",
       "align_content": null,
       "align_items": null,
       "align_self": null,
       "border": null,
       "bottom": null,
       "display": null,
       "flex": null,
       "flex_flow": null,
       "grid_area": null,
       "grid_auto_columns": null,
       "grid_auto_flow": null,
       "grid_auto_rows": null,
       "grid_column": null,
       "grid_gap": null,
       "grid_row": null,
       "grid_template_areas": null,
       "grid_template_columns": null,
       "grid_template_rows": null,
       "height": null,
       "justify_content": null,
       "justify_items": null,
       "left": null,
       "margin": null,
       "max_height": null,
       "max_width": null,
       "min_height": null,
       "min_width": null,
       "object_fit": null,
       "object_position": null,
       "order": null,
       "overflow": null,
       "overflow_x": null,
       "overflow_y": null,
       "padding": null,
       "right": null,
       "top": null,
       "visibility": null,
       "width": null
      }
     },
     "d783554fd1e94608ba56936fc9d9dfcf": {
      "model_module": "@jupyter-widgets/controls",
      "model_module_version": "1.5.0",
      "model_name": "DescriptionStyleModel",
      "state": {
       "_model_module": "@jupyter-widgets/controls",
       "_model_module_version": "1.5.0",
       "_model_name": "DescriptionStyleModel",
       "_view_count": null,
       "_view_module": "@jupyter-widgets/base",
       "_view_module_version": "1.2.0",
       "_view_name": "StyleView",
       "description_width": ""
      }
     },
     "da4d342e69a8400e82b0794a35e040c0": {
      "model_module": "@jupyter-widgets/controls",
      "model_module_version": "1.5.0",
      "model_name": "DescriptionStyleModel",
      "state": {
       "_model_module": "@jupyter-widgets/controls",
       "_model_module_version": "1.5.0",
       "_model_name": "DescriptionStyleModel",
       "_view_count": null,
       "_view_module": "@jupyter-widgets/base",
       "_view_module_version": "1.2.0",
       "_view_name": "StyleView",
       "description_width": ""
      }
     },
     "dc4eea1840e249f18eff584a18f17f0c": {
      "model_module": "@jupyter-widgets/controls",
      "model_module_version": "1.5.0",
      "model_name": "HTMLModel",
      "state": {
       "_dom_classes": [],
       "_model_module": "@jupyter-widgets/controls",
       "_model_module_version": "1.5.0",
       "_model_name": "HTMLModel",
       "_view_count": null,
       "_view_module": "@jupyter-widgets/controls",
       "_view_module_version": "1.5.0",
       "_view_name": "HTMLView",
       "description": "",
       "description_tooltip": null,
       "layout": "IPY_MODEL_1039839663534f238b56049a367bb040",
       "placeholder": "​",
       "style": "IPY_MODEL_1a6a94a0dfd54c3e849ff77328b45adf",
       "value": " 97.8M/97.8M [00:03&lt;00:00, 30.9MB/s]"
      }
     },
     "e75e148ca2e24f8aa92517d6ca03d1d8": {
      "model_module": "@jupyter-widgets/controls",
      "model_module_version": "1.5.0",
      "model_name": "FloatProgressModel",
      "state": {
       "_dom_classes": [],
       "_model_module": "@jupyter-widgets/controls",
       "_model_module_version": "1.5.0",
       "_model_name": "FloatProgressModel",
       "_view_count": null,
       "_view_module": "@jupyter-widgets/controls",
       "_view_module_version": "1.5.0",
       "_view_name": "ProgressView",
       "bar_style": "success",
       "description": "",
       "description_tooltip": null,
       "layout": "IPY_MODEL_f7157302ecd34119924046c631348e0f",
       "max": 46830571.0,
       "min": 0.0,
       "orientation": "horizontal",
       "style": "IPY_MODEL_11a1a679160c4e959ecbd56abc7e6d02",
       "value": 46830571.0
      }
     },
     "f7157302ecd34119924046c631348e0f": {
      "model_module": "@jupyter-widgets/base",
      "model_module_version": "1.2.0",
      "model_name": "LayoutModel",
      "state": {
       "_model_module": "@jupyter-widgets/base",
       "_model_module_version": "1.2.0",
       "_model_name": "LayoutModel",
       "_view_count": null,
       "_view_module": "@jupyter-widgets/base",
       "_view_module_version": "1.2.0",
       "_view_name": "LayoutView",
       "align_content": null,
       "align_items": null,
       "align_self": null,
       "border": null,
       "bottom": null,
       "display": null,
       "flex": null,
       "flex_flow": null,
       "grid_area": null,
       "grid_auto_columns": null,
       "grid_auto_flow": null,
       "grid_auto_rows": null,
       "grid_column": null,
       "grid_gap": null,
       "grid_row": null,
       "grid_template_areas": null,
       "grid_template_columns": null,
       "grid_template_rows": null,
       "height": null,
       "justify_content": null,
       "justify_items": null,
       "left": null,
       "margin": null,
       "max_height": null,
       "max_width": null,
       "min_height": null,
       "min_width": null,
       "object_fit": null,
       "object_position": null,
       "order": null,
       "overflow": null,
       "overflow_x": null,
       "overflow_y": null,
       "padding": null,
       "right": null,
       "top": null,
       "visibility": null,
       "width": null
      }
     },
     "fbe65c2859444417bdd1b0705f719166": {
      "model_module": "@jupyter-widgets/controls",
      "model_module_version": "1.5.0",
      "model_name": "HTMLModel",
      "state": {
       "_dom_classes": [],
       "_model_module": "@jupyter-widgets/controls",
       "_model_module_version": "1.5.0",
       "_model_name": "HTMLModel",
       "_view_count": null,
       "_view_module": "@jupyter-widgets/controls",
       "_view_module_version": "1.5.0",
       "_view_name": "HTMLView",
       "description": "",
       "description_tooltip": null,
       "layout": "IPY_MODEL_6e36119ff41d488ca9e82c194d2f15d5",
       "placeholder": "​",
       "style": "IPY_MODEL_da4d342e69a8400e82b0794a35e040c0",
       "value": "100%"
      }
     }
    },
    "version_major": 2,
    "version_minor": 0
   }
  }
 },
 "nbformat": 4,
 "nbformat_minor": 5
}
