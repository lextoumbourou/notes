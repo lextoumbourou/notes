{
 "cells": [
  {
   "cell_type": "code",
   "execution_count": 1,
   "id": "fb155024",
   "metadata": {
    "_cell_guid": "b1076dfc-b9ad-4769-8c92-a6c4dae69d19",
    "_uuid": "8f2839f25d086af736a60e9eeb907d3b93b6e0e5",
    "execution": {
     "iopub.execute_input": "2021-07-27T09:55:24.803059Z",
     "iopub.status.busy": "2021-07-27T09:55:24.802384Z",
     "iopub.status.idle": "2021-07-27T09:58:28.981496Z",
     "shell.execute_reply": "2021-07-27T09:58:28.980500Z",
     "shell.execute_reply.started": "2021-07-27T09:28:18.835781Z"
    },
    "papermill": {
     "duration": 184.299924,
     "end_time": "2021-07-27T09:58:28.981692",
     "exception": false,
     "start_time": "2021-07-27T09:55:24.681768",
     "status": "completed"
    },
    "tags": []
   },
   "outputs": [],
   "source": [
    "!pip install git+https://github.com/fastai/fastai.git &> /dev/null"
   ]
  },
  {
   "cell_type": "code",
   "execution_count": 2,
   "id": "c57f7652",
   "metadata": {
    "execution": {
     "iopub.execute_input": "2021-07-27T09:58:29.204276Z",
     "iopub.status.busy": "2021-07-27T09:58:29.203264Z",
     "iopub.status.idle": "2021-07-27T09:58:31.432382Z",
     "shell.execute_reply": "2021-07-27T09:58:31.432863Z",
     "shell.execute_reply.started": "2021-07-27T09:31:20.752253Z"
    },
    "papermill": {
     "duration": 2.342078,
     "end_time": "2021-07-27T09:58:31.433105",
     "exception": false,
     "start_time": "2021-07-27T09:58:29.091027",
     "status": "completed"
    },
    "tags": []
   },
   "outputs": [],
   "source": [
    "from fastai.tabular.all import *\n",
    "from sklearn.ensemble import RandomForestRegressor\n",
    "from sklearn.tree import DecisionTreeRegressor"
   ]
  },
  {
   "cell_type": "markdown",
   "id": "684eb6e4",
   "metadata": {
    "papermill": {
     "duration": 0.107222,
     "end_time": "2021-07-27T09:58:31.646897",
     "exception": false,
     "start_time": "2021-07-27T09:58:31.539675",
     "status": "completed"
    },
    "tags": []
   },
   "source": [
    "## 00:24:05 - Embeddings for any categorical variable\n",
    "\n",
    "* Embeddings can handle any type of discrete categorical data: sex, postcode\n",
    "   * Number of \"discrete levels\" is called cardinality.\n",
    "   \n",
    "## 00:25:01 - Rossman sales competition\n",
    "\n",
    "* Kaggle competition to predict how many things on each day would be sold.\n",
    "* One of gold medalisted used Deep Learning: one of the first examples of it in the wild.\n",
    "  * Wrote a paper: [Entity Embeddings of Categorical Variables](https://arxiv.org/abs/1604.06737)\n",
    "* In the paper, they explored the embedding matrix for regions in Germany and found that mapping the embeddings to 2d space, turn out to resemble a map of Germany\n",
    "* They also compared the distance between stores and the embedding distance between stores, and found a strong correlation.\n",
    "* Similar for days of week and months of year.\n",
    "\n",
    "## 00:28:55 - Embeddings at Google Play\n",
    "\n",
    "* Google wrote a paper called [Wide & Deep Learning for Recommender Systems](https://arxiv.org/abs/1606.07792) which utilised embeddings, as well as continuous features like Age, App installs, engagement sessions.\n",
    "  * They also performed cross product transformation on the user installed apps and app the user has has impressions for.\n",
    "  \n",
    "## 00:30:06 - Other approaches to tabular data\n",
    "\n",
    "* Deep Learning isn't always the best approach for tabular data.\n",
    "* An alternative is ensembles of decisions trees (Random Forest and Gradient Boosting Machines)\n",
    "  * Usually you'll want to \"try both\"\n",
    "\n",
    "## 00:31:29 - Question: why does y_range go from 0 to 5.5 (instead of 5)?\n",
    "\n",
    "* Because Sigmoid function will never reach exactly 5 as it asymptotes. To predict 5, you'll need a number bigger than it.\n",
    "\n",
    "## 00:32:06 - Question: are embeddings used only for high cardinal variables?\n",
    "\n",
    "* They can be used for any cardinal variable with 2 or more levels.\n",
    "\n",
    "## 00:33:03 - Decision Tree ensembles\n",
    "\n",
    "* The technology has some useful tools for interpreting data and tend to require less hyperparam tuning.\n",
    "* Jeremy's first approach is to start with a random forest, unless it's high cardinality data.\n",
    "\n",
    "## 00:34:50 - Scikit-learn\n",
    "\n",
    "* Popular library for creating non-deep learning ML models.\n",
    "  * Refered to as sklearn\n",
    "* Wes McKinney's book has more about Scikit Learn.\n",
    "\n",
    "## 00:35:30 - Blue Book for Bulldozer's Kaggle competition\n",
    "\n",
    "* Goal to predict the sale price of heavy equipment.\n",
    "* Kaggle competitions provide interesting datasets, good feedback, leaderbords and blog posts that share teaching.\n",
    "\n",
    "## 00:37:02 - Exploring the dataset\n",
    "\n",
    "* Can download Kaggle data using the API, however, in this example I have it attached to the kernel.\n",
    "* The main table is `train.csv`\n",
    "* Contains:\n",
    "  * `SalesID` - unique id of sale\n",
    "  * `MachineID` - unique id of machine\n",
    "  * `saleprice` - what machine sold at auction\n",
    "  * `saledate` - date of the sale."
   ]
  },
  {
   "cell_type": "code",
   "execution_count": 3,
   "id": "fe95e2b2",
   "metadata": {
    "execution": {
     "iopub.execute_input": "2021-07-27T09:58:31.867001Z",
     "iopub.status.busy": "2021-07-27T09:58:31.865950Z",
     "iopub.status.idle": "2021-07-27T09:58:37.326120Z",
     "shell.execute_reply": "2021-07-27T09:58:37.326638Z",
     "shell.execute_reply.started": "2021-07-27T09:31:23.014902Z"
    },
    "papermill": {
     "duration": 5.573196,
     "end_time": "2021-07-27T09:58:37.326830",
     "exception": false,
     "start_time": "2021-07-27T09:58:31.753634",
     "status": "completed"
    },
    "tags": []
   },
   "outputs": [],
   "source": [
    "df = pd.read_csv('../input/bluebook-for-bulldozers/TrainAndValid.csv', low_memory=False)"
   ]
  },
  {
   "cell_type": "code",
   "execution_count": 4,
   "id": "91519afd",
   "metadata": {
    "execution": {
     "iopub.execute_input": "2021-07-27T09:58:37.543181Z",
     "iopub.status.busy": "2021-07-27T09:58:37.542162Z",
     "iopub.status.idle": "2021-07-27T09:58:37.553066Z",
     "shell.execute_reply": "2021-07-27T09:58:37.552352Z",
     "shell.execute_reply.started": "2021-07-27T09:31:30.366946Z"
    },
    "papermill": {
     "duration": 0.119528,
     "end_time": "2021-07-27T09:58:37.553217",
     "exception": false,
     "start_time": "2021-07-27T09:58:37.433689",
     "status": "completed"
    },
    "tags": []
   },
   "outputs": [
    {
     "data": {
      "text/plain": [
       "Index(['SalesID', 'SalePrice', 'MachineID', 'ModelID', 'datasource',\n",
       "       'auctioneerID', 'YearMade', 'MachineHoursCurrentMeter', 'UsageBand',\n",
       "       'saledate', 'fiModelDesc', 'fiBaseModel', 'fiSecondaryDesc',\n",
       "       'fiModelSeries', 'fiModelDescriptor', 'ProductSize',\n",
       "       'fiProductClassDesc', 'state', 'ProductGroup', 'ProductGroupDesc',\n",
       "       'Drive_System', 'Enclosure', 'Forks', 'Pad_Type', 'Ride_Control',\n",
       "       'Stick', 'Transmission', 'Turbocharged', 'Blade_Extension',\n",
       "       'Blade_Width', 'Enclosure_Type', 'Engine_Horsepower', 'Hydraulics',\n",
       "       'Pushblock', 'Ripper', 'Scarifier', 'Tip_Control', 'Tire_Size',\n",
       "       'Coupler', 'Coupler_System', 'Grouser_Tracks', 'Hydraulics_Flow',\n",
       "       'Track_Type', 'Undercarriage_Pad_Width', 'Stick_Length', 'Thumb',\n",
       "       'Pattern_Changer', 'Grouser_Type', 'Backhoe_Mounting', 'Blade_Type',\n",
       "       'Travel_Controls', 'Differential_Type', 'Steering_Controls'],\n",
       "      dtype='object')"
      ]
     },
     "execution_count": 4,
     "metadata": {},
     "output_type": "execute_result"
    }
   ],
   "source": [
    "df.columns"
   ]
  },
  {
   "cell_type": "markdown",
   "id": "1655e4bf",
   "metadata": {
    "papermill": {
     "duration": 0.105398,
     "end_time": "2021-07-27T09:58:37.766725",
     "exception": false,
     "start_time": "2021-07-27T09:58:37.661327",
     "status": "completed"
    },
    "tags": []
   },
   "source": [
    "## "
   ]
  },
  {
   "cell_type": "markdown",
   "id": "8deabd40",
   "metadata": {
    "papermill": {
     "duration": 0.106375,
     "end_time": "2021-07-27T09:58:37.980390",
     "exception": false,
     "start_time": "2021-07-27T09:58:37.874015",
     "status": "completed"
    },
    "tags": []
   },
   "source": [
    "* First thing to look at is ordinal columns. Things you know are discrete values that have an order.\n",
    "* Can tell Pandas about suitable ordering with categorical values with `ordered=True`"
   ]
  },
  {
   "cell_type": "code",
   "execution_count": 5,
   "id": "d7554b09",
   "metadata": {
    "execution": {
     "iopub.execute_input": "2021-07-27T09:58:38.253937Z",
     "iopub.status.busy": "2021-07-27T09:58:38.251727Z",
     "iopub.status.idle": "2021-07-27T09:58:38.258096Z",
     "shell.execute_reply": "2021-07-27T09:58:38.257570Z",
     "shell.execute_reply.started": "2021-07-27T09:31:30.379720Z"
    },
    "papermill": {
     "duration": 0.169555,
     "end_time": "2021-07-27T09:58:38.258244",
     "exception": false,
     "start_time": "2021-07-27T09:58:38.088689",
     "status": "completed"
    },
    "tags": []
   },
   "outputs": [
    {
     "data": {
      "text/plain": [
       "array([nan, 'Medium', 'Small', 'Large / Medium', 'Mini', 'Large',\n",
       "       'Compact'], dtype=object)"
      ]
     },
     "execution_count": 5,
     "metadata": {},
     "output_type": "execute_result"
    }
   ],
   "source": [
    "df.ProductSize.unique()"
   ]
  },
  {
   "cell_type": "code",
   "execution_count": 6,
   "id": "f19f1cb8",
   "metadata": {
    "execution": {
     "iopub.execute_input": "2021-07-27T09:58:38.499739Z",
     "iopub.status.busy": "2021-07-27T09:58:38.498708Z",
     "iopub.status.idle": "2021-07-27T09:58:38.503319Z",
     "shell.execute_reply": "2021-07-27T09:58:38.503972Z",
     "shell.execute_reply.started": "2021-07-27T09:31:30.440157Z"
    },
    "papermill": {
     "duration": 0.134942,
     "end_time": "2021-07-27T09:58:38.504191",
     "exception": false,
     "start_time": "2021-07-27T09:58:38.369249",
     "status": "completed"
    },
    "tags": []
   },
   "outputs": [],
   "source": [
    "sizes = 'Large', 'Large / Medium', 'Medium', 'Small', 'Mini', 'Compact'"
   ]
  },
  {
   "cell_type": "code",
   "execution_count": 7,
   "id": "ed371063",
   "metadata": {
    "execution": {
     "iopub.execute_input": "2021-07-27T09:58:38.798075Z",
     "iopub.status.busy": "2021-07-27T09:58:38.796886Z",
     "iopub.status.idle": "2021-07-27T09:58:39.063599Z",
     "shell.execute_reply": "2021-07-27T09:58:39.062889Z",
     "shell.execute_reply.started": "2021-07-27T09:31:30.450993Z"
    },
    "papermill": {
     "duration": 0.445338,
     "end_time": "2021-07-27T09:58:39.063747",
     "exception": false,
     "start_time": "2021-07-27T09:58:38.618409",
     "status": "completed"
    },
    "tags": []
   },
   "outputs": [],
   "source": [
    "df['ProductSize'] = df.ProductSize.astype('category')\n",
    "df['ProductSize'].cat.set_categories(sizes, ordered=True, inplace=True)"
   ]
  },
  {
   "cell_type": "markdown",
   "id": "3d9e5dca",
   "metadata": {
    "papermill": {
     "duration": 0.114267,
     "end_time": "2021-07-27T09:58:39.292716",
     "exception": false,
     "start_time": "2021-07-27T09:58:39.178449",
     "status": "completed"
    },
    "tags": []
   },
   "source": [
    "* Need to set dependant variable, which is the log of the sale price."
   ]
  },
  {
   "cell_type": "code",
   "execution_count": 8,
   "id": "b064cb11",
   "metadata": {
    "execution": {
     "iopub.execute_input": "2021-07-27T09:58:39.512539Z",
     "iopub.status.busy": "2021-07-27T09:58:39.511569Z",
     "iopub.status.idle": "2021-07-27T09:58:39.528635Z",
     "shell.execute_reply": "2021-07-27T09:58:39.527903Z",
     "shell.execute_reply.started": "2021-07-27T09:31:30.795029Z"
    },
    "papermill": {
     "duration": 0.127452,
     "end_time": "2021-07-27T09:58:39.528784",
     "exception": false,
     "start_time": "2021-07-27T09:58:39.401332",
     "status": "completed"
    },
    "tags": []
   },
   "outputs": [],
   "source": [
    "dep_var = 'SalePrice'\n",
    "df[dep_var] = np.log(df[dep_var])"
   ]
  },
  {
   "cell_type": "markdown",
   "id": "9040f24e",
   "metadata": {
    "papermill": {
     "duration": 0.107297,
     "end_time": "2021-07-27T09:58:39.742097",
     "exception": false,
     "start_time": "2021-07-27T09:58:39.634800",
     "status": "completed"
    },
    "tags": []
   },
   "source": [
    "## 00:40:14 - Understanding Decision Trees\n",
    "\n",
    "* Decision Trees asks a series of binary (yes/no) questions about data.\n",
    "* Since we don't know what binary questions to ask, we need to find a way to automate that.\n",
    "* Simple procedure for doing it:\n",
    "  1. Loop through each column of dataset\n",
    "  2. For each column, loop through each possible level (ie item in category)\n",
    "  3. Split data into 2 groups, based on if less/greater than value or equal or not equal if categorical.\n",
    "  4. Find the average sale price for each group and see how close to actual label.\n",
    "  5. After looping through all columns and levels, find split point that gives best predictions.\n",
    "  6. For each dataset in the split point, perform steps 1-5.\n",
    "  7. Continue until you reach a stopping criteria - like when a group only has 20 items in it.\n",
    "\n",
    "## 00:44:57 - Handling dates\n",
    "\n",
    "* To take advantage of dates, fastai's `add_datepart` function expands date columns into more columns.\n",
    "  * An example of [[Feature Engineering]]"
   ]
  },
  {
   "cell_type": "code",
   "execution_count": 9,
   "id": "e7caa5e4",
   "metadata": {
    "execution": {
     "iopub.execute_input": "2021-07-27T09:58:39.991155Z",
     "iopub.status.busy": "2021-07-27T09:58:39.990451Z",
     "iopub.status.idle": "2021-07-27T09:58:41.230466Z",
     "shell.execute_reply": "2021-07-27T09:58:41.229905Z",
     "shell.execute_reply.started": "2021-07-27T09:31:30.816298Z"
    },
    "papermill": {
     "duration": 1.380006,
     "end_time": "2021-07-27T09:58:41.230631",
     "exception": false,
     "start_time": "2021-07-27T09:58:39.850625",
     "status": "completed"
    },
    "tags": []
   },
   "outputs": [],
   "source": [
    "df = add_datepart(df, 'saledate')"
   ]
  },
  {
   "cell_type": "code",
   "execution_count": 10,
   "id": "a52dee97",
   "metadata": {
    "execution": {
     "iopub.execute_input": "2021-07-27T09:58:41.447536Z",
     "iopub.status.busy": "2021-07-27T09:58:41.446854Z",
     "iopub.status.idle": "2021-07-27T09:58:41.651960Z",
     "shell.execute_reply": "2021-07-27T09:58:41.651339Z",
     "shell.execute_reply.started": "2021-07-27T09:31:32.219002Z"
    },
    "papermill": {
     "duration": 0.315548,
     "end_time": "2021-07-27T09:58:41.652147",
     "exception": false,
     "start_time": "2021-07-27T09:58:41.336599",
     "status": "completed"
    },
    "tags": []
   },
   "outputs": [],
   "source": [
    "df_test = pd.read_csv('../input/bluebook-for-bulldozers/Test.csv', low_memory=False)\n",
    "df_test = add_datepart(df_test, 'saledate')"
   ]
  },
  {
   "cell_type": "code",
   "execution_count": 11,
   "id": "f4d89b28",
   "metadata": {
    "execution": {
     "iopub.execute_input": "2021-07-27T09:58:41.878993Z",
     "iopub.status.busy": "2021-07-27T09:58:41.877941Z",
     "iopub.status.idle": "2021-07-27T09:58:41.883222Z",
     "shell.execute_reply": "2021-07-27T09:58:41.882501Z",
     "shell.execute_reply.started": "2021-07-27T09:31:32.454333Z"
    },
    "papermill": {
     "duration": 0.122757,
     "end_time": "2021-07-27T09:58:41.883387",
     "exception": false,
     "start_time": "2021-07-27T09:58:41.760630",
     "status": "completed"
    },
    "tags": []
   },
   "outputs": [
    {
     "data": {
      "text/plain": [
       "'saleYear saleMonth saleWeek saleDay saleDayofweek saleDayofyear saleIs_month_end saleIs_month_start saleIs_quarter_end saleIs_quarter_start saleIs_year_end saleIs_year_start saleElapsed'"
      ]
     },
     "execution_count": 11,
     "metadata": {},
     "output_type": "execute_result"
    }
   ],
   "source": [
    "' '.join(o for o in df.columns if o.startswith('sale'))"
   ]
  },
  {
   "cell_type": "markdown",
   "id": "6e0be849",
   "metadata": {
    "papermill": {
     "duration": 0.1072,
     "end_time": "2021-07-27T09:58:42.102565",
     "exception": false,
     "start_time": "2021-07-27T09:58:41.995365",
     "status": "completed"
    },
    "tags": []
   },
   "source": [
    "## 00:45:58 - Cleaning strings and missing data\n",
    "\n",
    "* Two `TabularProc`s are used: `Categorify` and `FillMissing`\n",
    "  * Like a `Transform` but with 2 differences:\n",
    "    * Modifies object in-place to save memory\n",
    "    * Runs transform once when data is first passed in\n",
    "* `Categorify` replaces column with numerical categorical column.\n",
    "* `FillMissing` - add `is_missing=True` as separate column and settings missing values to the mean.\n",
    "\n"
   ]
  },
  {
   "cell_type": "code",
   "execution_count": 12,
   "id": "411acb2a",
   "metadata": {
    "execution": {
     "iopub.execute_input": "2021-07-27T09:58:42.332096Z",
     "iopub.status.busy": "2021-07-27T09:58:42.330966Z",
     "iopub.status.idle": "2021-07-27T09:58:42.333759Z",
     "shell.execute_reply": "2021-07-27T09:58:42.333121Z",
     "shell.execute_reply.started": "2021-07-27T09:31:32.464193Z"
    },
    "papermill": {
     "duration": 0.119032,
     "end_time": "2021-07-27T09:58:42.333901",
     "exception": false,
     "start_time": "2021-07-27T09:58:42.214869",
     "status": "completed"
    },
    "tags": []
   },
   "outputs": [],
   "source": [
    "procs = [Categorify, FillMissing]"
   ]
  },
  {
   "cell_type": "markdown",
   "id": "2ed266b7",
   "metadata": {
    "papermill": {
     "duration": 0.108221,
     "end_time": "2021-07-27T09:58:42.550626",
     "exception": false,
     "start_time": "2021-07-27T09:58:42.442405",
     "status": "completed"
    },
    "tags": []
   },
   "source": [
    "## 00:47:31 - Validation set for time series\n",
    "\n",
    "* Since it's a timeseries, a random validation set isn't going to be approriate.\n",
    "  * You'll want to use the model in the future: not a date in the past.\n",
    "* Test set is 2 weeks of data after the data in training set.\n",
    "  * We should therefore do the same for valid (make last couple of weeks of data)."
   ]
  },
  {
   "cell_type": "code",
   "execution_count": 13,
   "id": "73098fe3",
   "metadata": {
    "execution": {
     "iopub.execute_input": "2021-07-27T09:58:42.827622Z",
     "iopub.status.busy": "2021-07-27T09:58:42.826744Z",
     "iopub.status.idle": "2021-07-27T09:58:42.877663Z",
     "shell.execute_reply": "2021-07-27T09:58:42.876958Z",
     "shell.execute_reply.started": "2021-07-27T09:31:32.474768Z"
    },
    "papermill": {
     "duration": 0.164525,
     "end_time": "2021-07-27T09:58:42.877807",
     "exception": false,
     "start_time": "2021-07-27T09:58:42.713282",
     "status": "completed"
    },
    "tags": []
   },
   "outputs": [],
   "source": [
    "cond = (df.saleYear<2011) | (df.saleMonth<10)\n",
    "train_idx = np.where(cond)[0]\n",
    "valid_idx = np.where(~cond)[0]\n",
    "\n",
    "splits= (list(train_idx), list(valid_idx))"
   ]
  },
  {
   "cell_type": "markdown",
   "id": "57ae765a",
   "metadata": {
    "papermill": {
     "duration": 0.106806,
     "end_time": "2021-07-27T09:58:43.095066",
     "exception": false,
     "start_time": "2021-07-27T09:58:42.988260",
     "status": "completed"
    },
    "tags": []
   },
   "source": [
    "## 00:48:46 - Data processing continued\n",
    "\n",
    "* Separate continuous and categorical variables: `cont_cat_split` does this for you"
   ]
  },
  {
   "cell_type": "code",
   "execution_count": 14,
   "id": "9b7cefb1",
   "metadata": {
    "execution": {
     "iopub.execute_input": "2021-07-27T09:58:43.320617Z",
     "iopub.status.busy": "2021-07-27T09:58:43.319910Z",
     "iopub.status.idle": "2021-07-27T09:58:43.409380Z",
     "shell.execute_reply": "2021-07-27T09:58:43.408771Z",
     "shell.execute_reply.started": "2021-07-27T09:31:32.541122Z"
    },
    "papermill": {
     "duration": 0.203839,
     "end_time": "2021-07-27T09:58:43.409540",
     "exception": false,
     "start_time": "2021-07-27T09:58:43.205701",
     "status": "completed"
    },
    "tags": []
   },
   "outputs": [],
   "source": [
    "cont, cat = cont_cat_split(df, 1, dep_var=dep_var)"
   ]
  },
  {
   "cell_type": "markdown",
   "id": "619609b9",
   "metadata": {
    "papermill": {
     "duration": 0.108615,
     "end_time": "2021-07-27T09:58:43.626774",
     "exception": false,
     "start_time": "2021-07-27T09:58:43.518159",
     "status": "completed"
    },
    "tags": []
   },
   "source": [
    "* `TabularPandas` behaves like fastai `Datasets` object:"
   ]
  },
  {
   "cell_type": "code",
   "execution_count": 15,
   "id": "37b8cfe9",
   "metadata": {
    "execution": {
     "iopub.execute_input": "2021-07-27T09:58:43.854781Z",
     "iopub.status.busy": "2021-07-27T09:58:43.854072Z",
     "iopub.status.idle": "2021-07-27T09:58:52.702126Z",
     "shell.execute_reply": "2021-07-27T09:58:52.702706Z",
     "shell.execute_reply.started": "2021-07-27T09:31:32.649607Z"
    },
    "papermill": {
     "duration": 8.969285,
     "end_time": "2021-07-27T09:58:52.702893",
     "exception": false,
     "start_time": "2021-07-27T09:58:43.733608",
     "status": "completed"
    },
    "tags": []
   },
   "outputs": [],
   "source": [
    "to = TabularPandas(df, procs, cat, cont, y_names=dep_var, splits=splits)"
   ]
  },
  {
   "cell_type": "code",
   "execution_count": 16,
   "id": "620ea8ab",
   "metadata": {
    "execution": {
     "iopub.execute_input": "2021-07-27T09:58:52.926739Z",
     "iopub.status.busy": "2021-07-27T09:58:52.926081Z",
     "iopub.status.idle": "2021-07-27T09:58:52.942834Z",
     "shell.execute_reply": "2021-07-27T09:58:52.943334Z",
     "shell.execute_reply.started": "2021-07-27T09:31:41.608178Z"
    },
    "papermill": {
     "duration": 0.131433,
     "end_time": "2021-07-27T09:58:52.943518",
     "exception": false,
     "start_time": "2021-07-27T09:58:52.812085",
     "status": "completed"
    },
    "tags": []
   },
   "outputs": [
    {
     "data": {
      "text/plain": [
       "(404710, 7988)"
      ]
     },
     "execution_count": 16,
     "metadata": {},
     "output_type": "execute_result"
    }
   ],
   "source": [
    "len(to.train), len(to.valid)"
   ]
  },
  {
   "cell_type": "code",
   "execution_count": 17,
   "id": "e75594b4",
   "metadata": {
    "execution": {
     "iopub.execute_input": "2021-07-27T09:58:53.185778Z",
     "iopub.status.busy": "2021-07-27T09:58:53.184753Z",
     "iopub.status.idle": "2021-07-27T09:58:53.333833Z",
     "shell.execute_reply": "2021-07-27T09:58:53.333114Z",
     "shell.execute_reply.started": "2021-07-27T09:31:41.636134Z"
    },
    "papermill": {
     "duration": 0.269902,
     "end_time": "2021-07-27T09:58:53.333982",
     "exception": false,
     "start_time": "2021-07-27T09:58:53.064080",
     "status": "completed"
    },
    "tags": []
   },
   "outputs": [
    {
     "data": {
      "text/html": [
       "<table border=\"1\" class=\"dataframe\">\n",
       "  <thead>\n",
       "    <tr style=\"text-align: right;\">\n",
       "      <th></th>\n",
       "      <th>UsageBand</th>\n",
       "      <th>fiModelDesc</th>\n",
       "      <th>fiBaseModel</th>\n",
       "      <th>fiSecondaryDesc</th>\n",
       "      <th>fiModelSeries</th>\n",
       "      <th>fiModelDescriptor</th>\n",
       "      <th>ProductSize</th>\n",
       "      <th>fiProductClassDesc</th>\n",
       "      <th>state</th>\n",
       "      <th>ProductGroup</th>\n",
       "      <th>ProductGroupDesc</th>\n",
       "      <th>Drive_System</th>\n",
       "      <th>Enclosure</th>\n",
       "      <th>Forks</th>\n",
       "      <th>Pad_Type</th>\n",
       "      <th>Ride_Control</th>\n",
       "      <th>Stick</th>\n",
       "      <th>Transmission</th>\n",
       "      <th>Turbocharged</th>\n",
       "      <th>Blade_Extension</th>\n",
       "      <th>Blade_Width</th>\n",
       "      <th>Enclosure_Type</th>\n",
       "      <th>Engine_Horsepower</th>\n",
       "      <th>Hydraulics</th>\n",
       "      <th>Pushblock</th>\n",
       "      <th>Ripper</th>\n",
       "      <th>Scarifier</th>\n",
       "      <th>Tip_Control</th>\n",
       "      <th>Tire_Size</th>\n",
       "      <th>Coupler</th>\n",
       "      <th>Coupler_System</th>\n",
       "      <th>Grouser_Tracks</th>\n",
       "      <th>Hydraulics_Flow</th>\n",
       "      <th>Track_Type</th>\n",
       "      <th>Undercarriage_Pad_Width</th>\n",
       "      <th>Stick_Length</th>\n",
       "      <th>Thumb</th>\n",
       "      <th>Pattern_Changer</th>\n",
       "      <th>Grouser_Type</th>\n",
       "      <th>Backhoe_Mounting</th>\n",
       "      <th>Blade_Type</th>\n",
       "      <th>Travel_Controls</th>\n",
       "      <th>Differential_Type</th>\n",
       "      <th>Steering_Controls</th>\n",
       "      <th>saleIs_month_end</th>\n",
       "      <th>saleIs_month_start</th>\n",
       "      <th>saleIs_quarter_end</th>\n",
       "      <th>saleIs_quarter_start</th>\n",
       "      <th>saleIs_year_end</th>\n",
       "      <th>saleIs_year_start</th>\n",
       "      <th>auctioneerID_na</th>\n",
       "      <th>MachineHoursCurrentMeter_na</th>\n",
       "      <th>SalesID</th>\n",
       "      <th>MachineID</th>\n",
       "      <th>ModelID</th>\n",
       "      <th>datasource</th>\n",
       "      <th>auctioneerID</th>\n",
       "      <th>YearMade</th>\n",
       "      <th>MachineHoursCurrentMeter</th>\n",
       "      <th>saleYear</th>\n",
       "      <th>saleMonth</th>\n",
       "      <th>saleWeek</th>\n",
       "      <th>saleDay</th>\n",
       "      <th>saleDayofweek</th>\n",
       "      <th>saleDayofyear</th>\n",
       "      <th>saleElapsed</th>\n",
       "      <th>SalePrice</th>\n",
       "    </tr>\n",
       "  </thead>\n",
       "  <tbody>\n",
       "    <tr>\n",
       "      <th>0</th>\n",
       "      <td>Low</td>\n",
       "      <td>521D</td>\n",
       "      <td>521</td>\n",
       "      <td>D</td>\n",
       "      <td>#na#</td>\n",
       "      <td>#na#</td>\n",
       "      <td>#na#</td>\n",
       "      <td>Wheel Loader - 110.0 to 120.0 Horsepower</td>\n",
       "      <td>Alabama</td>\n",
       "      <td>WL</td>\n",
       "      <td>Wheel Loader</td>\n",
       "      <td>#na#</td>\n",
       "      <td>EROPS w AC</td>\n",
       "      <td>None or Unspecified</td>\n",
       "      <td>#na#</td>\n",
       "      <td>None or Unspecified</td>\n",
       "      <td>#na#</td>\n",
       "      <td>#na#</td>\n",
       "      <td>#na#</td>\n",
       "      <td>#na#</td>\n",
       "      <td>#na#</td>\n",
       "      <td>#na#</td>\n",
       "      <td>#na#</td>\n",
       "      <td>2 Valve</td>\n",
       "      <td>#na#</td>\n",
       "      <td>#na#</td>\n",
       "      <td>#na#</td>\n",
       "      <td>#na#</td>\n",
       "      <td>None or Unspecified</td>\n",
       "      <td>None or Unspecified</td>\n",
       "      <td>#na#</td>\n",
       "      <td>#na#</td>\n",
       "      <td>#na#</td>\n",
       "      <td>#na#</td>\n",
       "      <td>#na#</td>\n",
       "      <td>#na#</td>\n",
       "      <td>#na#</td>\n",
       "      <td>#na#</td>\n",
       "      <td>#na#</td>\n",
       "      <td>#na#</td>\n",
       "      <td>#na#</td>\n",
       "      <td>#na#</td>\n",
       "      <td>Standard</td>\n",
       "      <td>Conventional</td>\n",
       "      <td>False</td>\n",
       "      <td>False</td>\n",
       "      <td>False</td>\n",
       "      <td>False</td>\n",
       "      <td>False</td>\n",
       "      <td>False</td>\n",
       "      <td>False</td>\n",
       "      <td>False</td>\n",
       "      <td>1139246</td>\n",
       "      <td>999089</td>\n",
       "      <td>3157</td>\n",
       "      <td>121</td>\n",
       "      <td>3.0</td>\n",
       "      <td>2004</td>\n",
       "      <td>68.0</td>\n",
       "      <td>2006</td>\n",
       "      <td>11</td>\n",
       "      <td>46</td>\n",
       "      <td>16</td>\n",
       "      <td>3</td>\n",
       "      <td>320</td>\n",
       "      <td>1.163635e+09</td>\n",
       "      <td>11.097410</td>\n",
       "    </tr>\n",
       "    <tr>\n",
       "      <th>1</th>\n",
       "      <td>Low</td>\n",
       "      <td>950FII</td>\n",
       "      <td>950</td>\n",
       "      <td>F</td>\n",
       "      <td>II</td>\n",
       "      <td>#na#</td>\n",
       "      <td>Medium</td>\n",
       "      <td>Wheel Loader - 150.0 to 175.0 Horsepower</td>\n",
       "      <td>North Carolina</td>\n",
       "      <td>WL</td>\n",
       "      <td>Wheel Loader</td>\n",
       "      <td>#na#</td>\n",
       "      <td>EROPS w AC</td>\n",
       "      <td>None or Unspecified</td>\n",
       "      <td>#na#</td>\n",
       "      <td>None or Unspecified</td>\n",
       "      <td>#na#</td>\n",
       "      <td>#na#</td>\n",
       "      <td>#na#</td>\n",
       "      <td>#na#</td>\n",
       "      <td>#na#</td>\n",
       "      <td>#na#</td>\n",
       "      <td>#na#</td>\n",
       "      <td>2 Valve</td>\n",
       "      <td>#na#</td>\n",
       "      <td>#na#</td>\n",
       "      <td>#na#</td>\n",
       "      <td>#na#</td>\n",
       "      <td>23.5</td>\n",
       "      <td>None or Unspecified</td>\n",
       "      <td>#na#</td>\n",
       "      <td>#na#</td>\n",
       "      <td>#na#</td>\n",
       "      <td>#na#</td>\n",
       "      <td>#na#</td>\n",
       "      <td>#na#</td>\n",
       "      <td>#na#</td>\n",
       "      <td>#na#</td>\n",
       "      <td>#na#</td>\n",
       "      <td>#na#</td>\n",
       "      <td>#na#</td>\n",
       "      <td>#na#</td>\n",
       "      <td>Standard</td>\n",
       "      <td>Conventional</td>\n",
       "      <td>False</td>\n",
       "      <td>False</td>\n",
       "      <td>False</td>\n",
       "      <td>False</td>\n",
       "      <td>False</td>\n",
       "      <td>False</td>\n",
       "      <td>False</td>\n",
       "      <td>False</td>\n",
       "      <td>1139248</td>\n",
       "      <td>117657</td>\n",
       "      <td>77</td>\n",
       "      <td>121</td>\n",
       "      <td>3.0</td>\n",
       "      <td>1996</td>\n",
       "      <td>4640.0</td>\n",
       "      <td>2004</td>\n",
       "      <td>3</td>\n",
       "      <td>13</td>\n",
       "      <td>26</td>\n",
       "      <td>4</td>\n",
       "      <td>86</td>\n",
       "      <td>1.080259e+09</td>\n",
       "      <td>10.950807</td>\n",
       "    </tr>\n",
       "    <tr>\n",
       "      <th>2</th>\n",
       "      <td>High</td>\n",
       "      <td>226</td>\n",
       "      <td>226</td>\n",
       "      <td>#na#</td>\n",
       "      <td>#na#</td>\n",
       "      <td>#na#</td>\n",
       "      <td>#na#</td>\n",
       "      <td>Skid Steer Loader - 1351.0 to 1601.0 Lb Operating Capacity</td>\n",
       "      <td>New York</td>\n",
       "      <td>SSL</td>\n",
       "      <td>Skid Steer Loaders</td>\n",
       "      <td>#na#</td>\n",
       "      <td>OROPS</td>\n",
       "      <td>None or Unspecified</td>\n",
       "      <td>#na#</td>\n",
       "      <td>#na#</td>\n",
       "      <td>#na#</td>\n",
       "      <td>#na#</td>\n",
       "      <td>#na#</td>\n",
       "      <td>#na#</td>\n",
       "      <td>#na#</td>\n",
       "      <td>#na#</td>\n",
       "      <td>#na#</td>\n",
       "      <td>Auxiliary</td>\n",
       "      <td>#na#</td>\n",
       "      <td>#na#</td>\n",
       "      <td>#na#</td>\n",
       "      <td>#na#</td>\n",
       "      <td>#na#</td>\n",
       "      <td>None or Unspecified</td>\n",
       "      <td>None or Unspecified</td>\n",
       "      <td>None or Unspecified</td>\n",
       "      <td>Standard</td>\n",
       "      <td>#na#</td>\n",
       "      <td>#na#</td>\n",
       "      <td>#na#</td>\n",
       "      <td>#na#</td>\n",
       "      <td>#na#</td>\n",
       "      <td>#na#</td>\n",
       "      <td>#na#</td>\n",
       "      <td>#na#</td>\n",
       "      <td>#na#</td>\n",
       "      <td>#na#</td>\n",
       "      <td>#na#</td>\n",
       "      <td>False</td>\n",
       "      <td>False</td>\n",
       "      <td>False</td>\n",
       "      <td>False</td>\n",
       "      <td>False</td>\n",
       "      <td>False</td>\n",
       "      <td>False</td>\n",
       "      <td>False</td>\n",
       "      <td>1139249</td>\n",
       "      <td>434808</td>\n",
       "      <td>7009</td>\n",
       "      <td>121</td>\n",
       "      <td>3.0</td>\n",
       "      <td>2001</td>\n",
       "      <td>2838.0</td>\n",
       "      <td>2004</td>\n",
       "      <td>2</td>\n",
       "      <td>9</td>\n",
       "      <td>26</td>\n",
       "      <td>3</td>\n",
       "      <td>57</td>\n",
       "      <td>1.077754e+09</td>\n",
       "      <td>9.210340</td>\n",
       "    </tr>\n",
       "  </tbody>\n",
       "</table>"
      ],
      "text/plain": [
       "<IPython.core.display.HTML object>"
      ]
     },
     "metadata": {},
     "output_type": "display_data"
    }
   ],
   "source": [
    "to.show(3)"
   ]
  },
  {
   "cell_type": "markdown",
   "id": "eed44db5",
   "metadata": {
    "papermill": {
     "duration": 0.146478,
     "end_time": "2021-07-27T09:58:53.593284",
     "exception": false,
     "start_time": "2021-07-27T09:58:53.446806",
     "status": "completed"
    },
    "tags": []
   },
   "source": [
    "## "
   ]
  },
  {
   "cell_type": "markdown",
   "id": "5041cba3",
   "metadata": {
    "papermill": {
     "duration": 0.108419,
     "end_time": "2021-07-27T09:58:53.812435",
     "exception": false,
     "start_time": "2021-07-27T09:58:53.704016",
     "status": "completed"
    },
    "tags": []
   },
   "source": [
    "* `.show` shows you the text representation. Under the hood, the data is represented by integers:"
   ]
  },
  {
   "cell_type": "code",
   "execution_count": 18,
   "id": "d2100877",
   "metadata": {
    "execution": {
     "iopub.execute_input": "2021-07-27T09:58:54.051424Z",
     "iopub.status.busy": "2021-07-27T09:58:54.050229Z",
     "iopub.status.idle": "2021-07-27T09:58:54.061675Z",
     "shell.execute_reply": "2021-07-27T09:58:54.061127Z",
     "shell.execute_reply.started": "2021-07-27T09:31:42.223930Z"
    },
    "papermill": {
     "duration": 0.132569,
     "end_time": "2021-07-27T09:58:54.061832",
     "exception": false,
     "start_time": "2021-07-27T09:58:53.929263",
     "status": "completed"
    },
    "tags": []
   },
   "outputs": [
    {
     "data": {
      "text/html": [
       "<div>\n",
       "<style scoped>\n",
       "    .dataframe tbody tr th:only-of-type {\n",
       "        vertical-align: middle;\n",
       "    }\n",
       "\n",
       "    .dataframe tbody tr th {\n",
       "        vertical-align: top;\n",
       "    }\n",
       "\n",
       "    .dataframe thead th {\n",
       "        text-align: right;\n",
       "    }\n",
       "</style>\n",
       "<table border=\"1\" class=\"dataframe\">\n",
       "  <thead>\n",
       "    <tr style=\"text-align: right;\">\n",
       "      <th></th>\n",
       "      <th>state</th>\n",
       "      <th>ProductGroup</th>\n",
       "      <th>Drive_System</th>\n",
       "      <th>Enclosure</th>\n",
       "    </tr>\n",
       "  </thead>\n",
       "  <tbody>\n",
       "    <tr>\n",
       "      <th>0</th>\n",
       "      <td>1</td>\n",
       "      <td>6</td>\n",
       "      <td>0</td>\n",
       "      <td>3</td>\n",
       "    </tr>\n",
       "    <tr>\n",
       "      <th>1</th>\n",
       "      <td>33</td>\n",
       "      <td>6</td>\n",
       "      <td>0</td>\n",
       "      <td>3</td>\n",
       "    </tr>\n",
       "    <tr>\n",
       "      <th>2</th>\n",
       "      <td>32</td>\n",
       "      <td>3</td>\n",
       "      <td>0</td>\n",
       "      <td>6</td>\n",
       "    </tr>\n",
       "  </tbody>\n",
       "</table>\n",
       "</div>"
      ],
      "text/plain": [
       "   state  ProductGroup  Drive_System  Enclosure\n",
       "0      1             6             0          3\n",
       "1     33             6             0          3\n",
       "2     32             3             0          6"
      ]
     },
     "execution_count": 18,
     "metadata": {},
     "output_type": "execute_result"
    }
   ],
   "source": [
    "to.items[['state', 'ProductGroup', 'Drive_System', 'Enclosure']].head(3)"
   ]
  },
  {
   "cell_type": "markdown",
   "id": "4c152762",
   "metadata": {
    "papermill": {
     "duration": 0.11214,
     "end_time": "2021-07-27T09:58:54.287869",
     "exception": false,
     "start_time": "2021-07-27T09:58:54.175729",
     "status": "completed"
    },
    "tags": []
   },
   "source": [
    "* Can save using the `save_pickle` function:"
   ]
  },
  {
   "cell_type": "code",
   "execution_count": 19,
   "id": "62a78fdd",
   "metadata": {
    "execution": {
     "iopub.execute_input": "2021-07-27T09:58:54.520376Z",
     "iopub.status.busy": "2021-07-27T09:58:54.519646Z",
     "iopub.status.idle": "2021-07-27T09:58:54.567546Z",
     "shell.execute_reply": "2021-07-27T09:58:54.568051Z",
     "shell.execute_reply.started": "2021-07-27T09:31:42.245720Z"
    },
    "papermill": {
     "duration": 0.167589,
     "end_time": "2021-07-27T09:58:54.568260",
     "exception": false,
     "start_time": "2021-07-27T09:58:54.400671",
     "status": "completed"
    },
    "tags": []
   },
   "outputs": [],
   "source": [
    "save_pickle('to.pkl',to)"
   ]
  },
  {
   "cell_type": "markdown",
   "id": "dff20386",
   "metadata": {
    "papermill": {
     "duration": 0.111085,
     "end_time": "2021-07-27T09:58:54.789983",
     "exception": false,
     "start_time": "2021-07-27T09:58:54.678898",
     "status": "completed"
    },
    "tags": []
   },
   "source": [
    "* And load with `load_pickle`"
   ]
  },
  {
   "cell_type": "code",
   "execution_count": 20,
   "id": "b2a7efdb",
   "metadata": {
    "execution": {
     "iopub.execute_input": "2021-07-27T09:58:55.043271Z",
     "iopub.status.busy": "2021-07-27T09:58:55.042600Z",
     "iopub.status.idle": "2021-07-27T09:58:55.070303Z",
     "shell.execute_reply": "2021-07-27T09:58:55.070865Z",
     "shell.execute_reply.started": "2021-07-27T09:31:42.317984Z"
    },
    "papermill": {
     "duration": 0.146909,
     "end_time": "2021-07-27T09:58:55.071060",
     "exception": false,
     "start_time": "2021-07-27T09:58:54.924151",
     "status": "completed"
    },
    "tags": []
   },
   "outputs": [],
   "source": [
    "to = load_pickle('to.pkl')"
   ]
  },
  {
   "cell_type": "markdown",
   "id": "9e42357d",
   "metadata": {
    "papermill": {
     "duration": 0.111338,
     "end_time": "2021-07-27T09:58:55.295024",
     "exception": false,
     "start_time": "2021-07-27T09:58:55.183686",
     "status": "completed"
    },
    "tags": []
   },
   "source": [
    "## 00:50:55 - Create a decision tree\n",
    "\n",
    "* Use a `DecisionTreeRegressor` when the depedant variable is continuous:"
   ]
  },
  {
   "cell_type": "code",
   "execution_count": 21,
   "id": "fa9b1c23",
   "metadata": {
    "execution": {
     "iopub.execute_input": "2021-07-27T09:58:55.519300Z",
     "iopub.status.busy": "2021-07-27T09:58:55.518571Z",
     "iopub.status.idle": "2021-07-27T09:58:55.582960Z",
     "shell.execute_reply": "2021-07-27T09:58:55.583506Z",
     "shell.execute_reply.started": "2021-07-27T09:31:42.352288Z"
    },
    "papermill": {
     "duration": 0.179748,
     "end_time": "2021-07-27T09:58:55.583685",
     "exception": false,
     "start_time": "2021-07-27T09:58:55.403937",
     "status": "completed"
    },
    "tags": []
   },
   "outputs": [],
   "source": [
    "xs, y = to.train.xs, to.train.y\n",
    "valid_xs, valid_y = to.valid.xs, to.valid.y"
   ]
  },
  {
   "cell_type": "code",
   "execution_count": 22,
   "id": "3e19c427",
   "metadata": {
    "execution": {
     "iopub.execute_input": "2021-07-27T09:58:55.810952Z",
     "iopub.status.busy": "2021-07-27T09:58:55.809612Z",
     "iopub.status.idle": "2021-07-27T09:58:58.279615Z",
     "shell.execute_reply": "2021-07-27T09:58:58.280975Z",
     "shell.execute_reply.started": "2021-07-27T09:31:42.418908Z"
    },
    "papermill": {
     "duration": 2.588949,
     "end_time": "2021-07-27T09:58:58.281260",
     "exception": false,
     "start_time": "2021-07-27T09:58:55.692311",
     "status": "completed"
    },
    "tags": []
   },
   "outputs": [
    {
     "data": {
      "text/plain": [
       "DecisionTreeRegressor(max_leaf_nodes=4)"
      ]
     },
     "execution_count": 22,
     "metadata": {},
     "output_type": "execute_result"
    }
   ],
   "source": [
    "m = DecisionTreeRegressor(max_leaf_nodes=4)\n",
    "m.fit(xs, y)"
   ]
  },
  {
   "cell_type": "markdown",
   "id": "e60bb223",
   "metadata": {
    "papermill": {
     "duration": 0.113081,
     "end_time": "2021-07-27T09:58:58.512615",
     "exception": false,
     "start_time": "2021-07-27T09:58:58.399534",
     "status": "completed"
    },
    "tags": []
   },
   "source": [
    "* We can see what is learned using `draw_tree` function"
   ]
  },
  {
   "cell_type": "code",
   "execution_count": 23,
   "id": "4fbf4400",
   "metadata": {
    "execution": {
     "iopub.execute_input": "2021-07-27T09:58:58.735097Z",
     "iopub.status.busy": "2021-07-27T09:58:58.734424Z",
     "iopub.status.idle": "2021-07-27T09:58:58.752651Z",
     "shell.execute_reply": "2021-07-27T09:58:58.751449Z",
     "shell.execute_reply.started": "2021-07-27T09:31:45.067229Z"
    },
    "papermill": {
     "duration": 0.128904,
     "end_time": "2021-07-27T09:58:58.752804",
     "exception": false,
     "start_time": "2021-07-27T09:58:58.623900",
     "status": "completed"
    },
    "tags": []
   },
   "outputs": [],
   "source": [
    "from sklearn.tree import export_graphviz\n",
    "import graphviz\n",
    "\n",
    "def draw_tree(t, df, size=10, ratio=0.6, precision=0, **kwargs):\n",
    "    s=export_graphviz(t, out_file=None, feature_names=df.columns, filled=True, rounded=True,\n",
    "                      special_characters=True, rotate=False, precision=precision, **kwargs)\n",
    "    return graphviz.Source(re.sub('Tree {', f'Tree {{ size={size}; ratio={ratio}', s))"
   ]
  },
  {
   "cell_type": "code",
   "execution_count": 24,
   "id": "3a8f4e84",
   "metadata": {
    "execution": {
     "iopub.execute_input": "2021-07-27T09:58:58.978897Z",
     "iopub.status.busy": "2021-07-27T09:58:58.978230Z",
     "iopub.status.idle": "2021-07-27T09:58:59.421645Z",
     "shell.execute_reply": "2021-07-27T09:58:59.421117Z",
     "shell.execute_reply.started": "2021-07-27T09:31:45.097081Z"
    },
    "papermill": {
     "duration": 0.559502,
     "end_time": "2021-07-27T09:58:59.421903",
     "exception": false,
     "start_time": "2021-07-27T09:58:58.862401",
     "status": "completed"
    },
    "tags": []
   },
   "outputs": [
    {
     "data": {
      "image/svg+xml": [
       "<?xml version=\"1.0\" encoding=\"UTF-8\" standalone=\"no\"?>\n",
       "<!DOCTYPE svg PUBLIC \"-//W3C//DTD SVG 1.1//EN\"\n",
       " \"http://www.w3.org/Graphics/SVG/1.1/DTD/svg11.dtd\">\n",
       "<!-- Generated by graphviz version 2.47.3 (20210619.2315)\n",
       " -->\n",
       "<!-- Title: Tree Pages: 1 -->\n",
       "<svg width=\"504pt\" height=\"305pt\"\n",
       " viewBox=\"0.00 0.00 504.00 305.08\" xmlns=\"http://www.w3.org/2000/svg\" xmlns:xlink=\"http://www.w3.org/1999/xlink\">\n",
       "<g id=\"graph0\" class=\"graph\" transform=\"scale(0.79 0.79) rotate(0) translate(4 383.71)\">\n",
       "<title>Tree</title>\n",
       "<polygon fill=\"white\" stroke=\"transparent\" points=\"-4,4 -4,-383.71 636.5,-383.71 636.5,4 -4,4\"/>\n",
       "<!-- 0 -->\n",
       "<g id=\"node1\" class=\"node\">\n",
       "<title>0</title>\n",
       "<path fill=\"#eda775\" stroke=\"black\" d=\"M556,-379C556,-379 407,-379 407,-379 401,-379 395,-373 395,-367 395,-367 395,-323 395,-323 395,-317 401,-311 407,-311 407,-311 556,-311 556,-311 562,-311 568,-317 568,-323 568,-323 568,-367 568,-367 568,-373 562,-379 556,-379\"/>\n",
       "<text text-anchor=\"start\" x=\"403\" y=\"-363.8\" font-family=\"Helvetica,sans-Serif\" font-size=\"14.00\">Coupler_System ≤ 0.5</text>\n",
       "<text text-anchor=\"start\" x=\"440.5\" y=\"-348.8\" font-family=\"Helvetica,sans-Serif\" font-size=\"14.00\">mse = 0.48</text>\n",
       "<text text-anchor=\"start\" x=\"415\" y=\"-333.8\" font-family=\"Helvetica,sans-Serif\" font-size=\"14.00\">samples = 404710</text>\n",
       "<text text-anchor=\"start\" x=\"436\" y=\"-318.8\" font-family=\"Helvetica,sans-Serif\" font-size=\"14.00\">value = 10.1</text>\n",
       "</g>\n",
       "<!-- 1 -->\n",
       "<g id=\"node2\" class=\"node\">\n",
       "<title>1</title>\n",
       "<path fill=\"#eb9d64\" stroke=\"black\" d=\"M386.5,-273C386.5,-273 256.5,-273 256.5,-273 250.5,-273 244.5,-267 244.5,-261 244.5,-261 244.5,-217 244.5,-217 244.5,-211 250.5,-205 256.5,-205 256.5,-205 386.5,-205 386.5,-205 392.5,-205 398.5,-211 398.5,-217 398.5,-217 398.5,-261 398.5,-261 398.5,-267 392.5,-273 386.5,-273\"/>\n",
       "<text text-anchor=\"start\" x=\"252.5\" y=\"-257.8\" font-family=\"Helvetica,sans-Serif\" font-size=\"14.00\">YearMade ≤ 1991.5</text>\n",
       "<text text-anchor=\"start\" x=\"280.5\" y=\"-242.8\" font-family=\"Helvetica,sans-Serif\" font-size=\"14.00\">mse = 0.42</text>\n",
       "<text text-anchor=\"start\" x=\"255\" y=\"-227.8\" font-family=\"Helvetica,sans-Serif\" font-size=\"14.00\">samples = 360847</text>\n",
       "<text text-anchor=\"start\" x=\"271.5\" y=\"-212.8\" font-family=\"Helvetica,sans-Serif\" font-size=\"14.00\">value = 10.21</text>\n",
       "</g>\n",
       "<!-- 0&#45;&gt;1 -->\n",
       "<g id=\"edge1\" class=\"edge\">\n",
       "<title>0&#45;&gt;1</title>\n",
       "<path fill=\"none\" stroke=\"black\" d=\"M430.44,-310.81C414.63,-300.53 397.07,-289.12 380.76,-278.52\"/>\n",
       "<polygon fill=\"black\" stroke=\"black\" points=\"382.65,-275.57 372.35,-273.06 378.83,-281.44 382.65,-275.57\"/>\n",
       "<text text-anchor=\"middle\" x=\"377.54\" y=\"-293.81\" font-family=\"Helvetica,sans-Serif\" font-size=\"14.00\">True</text>\n",
       "</g>\n",
       "<!-- 2 -->\n",
       "<g id=\"node7\" class=\"node\">\n",
       "<title>2</title>\n",
       "<path fill=\"#ffffff\" stroke=\"black\" d=\"M620.5,-53.5C620.5,-53.5 504.5,-53.5 504.5,-53.5 498.5,-53.5 492.5,-47.5 492.5,-41.5 492.5,-41.5 492.5,-12.5 492.5,-12.5 492.5,-6.5 498.5,-0.5 504.5,-0.5 504.5,-0.5 620.5,-0.5 620.5,-0.5 626.5,-0.5 632.5,-6.5 632.5,-12.5 632.5,-12.5 632.5,-41.5 632.5,-41.5 632.5,-47.5 626.5,-53.5 620.5,-53.5\"/>\n",
       "<text text-anchor=\"start\" x=\"521.5\" y=\"-38.3\" font-family=\"Helvetica,sans-Serif\" font-size=\"14.00\">mse = 0.12</text>\n",
       "<text text-anchor=\"start\" x=\"500.5\" y=\"-23.3\" font-family=\"Helvetica,sans-Serif\" font-size=\"14.00\">samples = 43863</text>\n",
       "<text text-anchor=\"start\" x=\"517\" y=\"-8.3\" font-family=\"Helvetica,sans-Serif\" font-size=\"14.00\">value = 9.21</text>\n",
       "</g>\n",
       "<!-- 0&#45;&gt;2 -->\n",
       "<g id=\"edge6\" class=\"edge\">\n",
       "<title>0&#45;&gt;2</title>\n",
       "<path fill=\"none\" stroke=\"black\" d=\"M490.02,-310.78C505.37,-250.86 537.58,-125.21 553.37,-63.6\"/>\n",
       "<polygon fill=\"black\" stroke=\"black\" points=\"556.85,-64.13 555.94,-53.58 550.07,-62.39 556.85,-64.13\"/>\n",
       "<text text-anchor=\"middle\" x=\"568.68\" y=\"-71.39\" font-family=\"Helvetica,sans-Serif\" font-size=\"14.00\">False</text>\n",
       "</g>\n",
       "<!-- 3 -->\n",
       "<g id=\"node3\" class=\"node\">\n",
       "<title>3</title>\n",
       "<path fill=\"#f0b48a\" stroke=\"black\" d=\"M137,-53.5C137,-53.5 12,-53.5 12,-53.5 6,-53.5 0,-47.5 0,-41.5 0,-41.5 0,-12.5 0,-12.5 0,-6.5 6,-0.5 12,-0.5 12,-0.5 137,-0.5 137,-0.5 143,-0.5 149,-6.5 149,-12.5 149,-12.5 149,-41.5 149,-41.5 149,-47.5 143,-53.5 137,-53.5\"/>\n",
       "<text text-anchor=\"start\" x=\"33.5\" y=\"-38.3\" font-family=\"Helvetica,sans-Serif\" font-size=\"14.00\">mse = 0.37</text>\n",
       "<text text-anchor=\"start\" x=\"8\" y=\"-23.3\" font-family=\"Helvetica,sans-Serif\" font-size=\"14.00\">samples = 155724</text>\n",
       "<text text-anchor=\"start\" x=\"29\" y=\"-8.3\" font-family=\"Helvetica,sans-Serif\" font-size=\"14.00\">value = 9.97</text>\n",
       "</g>\n",
       "<!-- 1&#45;&gt;3 -->\n",
       "<g id=\"edge2\" class=\"edge\">\n",
       "<title>1&#45;&gt;3</title>\n",
       "<path fill=\"none\" stroke=\"black\" d=\"M282.45,-204.99C260.51,-186.45 237.5,-167 237.5,-167 237.5,-167 160.7,-101.51 112.54,-60.44\"/>\n",
       "<polygon fill=\"black\" stroke=\"black\" points=\"114.66,-57.64 104.78,-53.82 110.12,-62.97 114.66,-57.64\"/>\n",
       "</g>\n",
       "<!-- 4 -->\n",
       "<g id=\"node4\" class=\"node\">\n",
       "<title>4</title>\n",
       "<path fill=\"#e78a48\" stroke=\"black\" d=\"M384,-167C384,-167 259,-167 259,-167 253,-167 247,-161 247,-155 247,-155 247,-111 247,-111 247,-105 253,-99 259,-99 259,-99 384,-99 384,-99 390,-99 396,-105 396,-111 396,-111 396,-155 396,-155 396,-161 390,-167 384,-167\"/>\n",
       "<text text-anchor=\"start\" x=\"259\" y=\"-151.8\" font-family=\"Helvetica,sans-Serif\" font-size=\"14.00\">ProductSize ≤ 4.5</text>\n",
       "<text text-anchor=\"start\" x=\"280.5\" y=\"-136.8\" font-family=\"Helvetica,sans-Serif\" font-size=\"14.00\">mse = 0.37</text>\n",
       "<text text-anchor=\"start\" x=\"255\" y=\"-121.8\" font-family=\"Helvetica,sans-Serif\" font-size=\"14.00\">samples = 205123</text>\n",
       "<text text-anchor=\"start\" x=\"276\" y=\"-106.8\" font-family=\"Helvetica,sans-Serif\" font-size=\"14.00\">value = 10.4</text>\n",
       "</g>\n",
       "<!-- 1&#45;&gt;4 -->\n",
       "<g id=\"edge3\" class=\"edge\">\n",
       "<title>1&#45;&gt;4</title>\n",
       "<path fill=\"none\" stroke=\"black\" d=\"M321.5,-204.81C321.5,-196.08 321.5,-186.54 321.5,-177.37\"/>\n",
       "<polygon fill=\"black\" stroke=\"black\" points=\"325,-177.23 321.5,-167.23 318,-177.23 325,-177.23\"/>\n",
       "</g>\n",
       "<!-- 5 -->\n",
       "<g id=\"node5\" class=\"node\">\n",
       "<title>5</title>\n",
       "<path fill=\"#e58139\" stroke=\"black\" d=\"M304,-53.5C304,-53.5 179,-53.5 179,-53.5 173,-53.5 167,-47.5 167,-41.5 167,-41.5 167,-12.5 167,-12.5 167,-6.5 173,-0.5 179,-0.5 179,-0.5 304,-0.5 304,-0.5 310,-0.5 316,-6.5 316,-12.5 316,-12.5 316,-41.5 316,-41.5 316,-47.5 310,-53.5 304,-53.5\"/>\n",
       "<text text-anchor=\"start\" x=\"200.5\" y=\"-38.3\" font-family=\"Helvetica,sans-Serif\" font-size=\"14.00\">mse = 0.31</text>\n",
       "<text text-anchor=\"start\" x=\"175\" y=\"-23.3\" font-family=\"Helvetica,sans-Serif\" font-size=\"14.00\">samples = 182403</text>\n",
       "<text text-anchor=\"start\" x=\"196\" y=\"-8.3\" font-family=\"Helvetica,sans-Serif\" font-size=\"14.00\">value = 10.5</text>\n",
       "</g>\n",
       "<!-- 4&#45;&gt;5 -->\n",
       "<g id=\"edge4\" class=\"edge\">\n",
       "<title>4&#45;&gt;5</title>\n",
       "<path fill=\"none\" stroke=\"black\" d=\"M295.97,-98.81C286.83,-86.93 276.52,-73.53 267.36,-61.61\"/>\n",
       "<polygon fill=\"black\" stroke=\"black\" points=\"270.09,-59.43 261.22,-53.64 264.54,-63.7 270.09,-59.43\"/>\n",
       "</g>\n",
       "<!-- 6 -->\n",
       "<g id=\"node6\" class=\"node\">\n",
       "<title>6</title>\n",
       "<path fill=\"#f7d6bf\" stroke=\"black\" d=\"M462.5,-53.5C462.5,-53.5 346.5,-53.5 346.5,-53.5 340.5,-53.5 334.5,-47.5 334.5,-41.5 334.5,-41.5 334.5,-12.5 334.5,-12.5 334.5,-6.5 340.5,-0.5 346.5,-0.5 346.5,-0.5 462.5,-0.5 462.5,-0.5 468.5,-0.5 474.5,-6.5 474.5,-12.5 474.5,-12.5 474.5,-41.5 474.5,-41.5 474.5,-47.5 468.5,-53.5 462.5,-53.5\"/>\n",
       "<text text-anchor=\"start\" x=\"363.5\" y=\"-38.3\" font-family=\"Helvetica,sans-Serif\" font-size=\"14.00\">mse = 0.17</text>\n",
       "<text text-anchor=\"start\" x=\"342.5\" y=\"-23.3\" font-family=\"Helvetica,sans-Serif\" font-size=\"14.00\">samples = 22720</text>\n",
       "<text text-anchor=\"start\" x=\"359\" y=\"-8.3\" font-family=\"Helvetica,sans-Serif\" font-size=\"14.00\">value = 9.62</text>\n",
       "</g>\n",
       "<!-- 4&#45;&gt;6 -->\n",
       "<g id=\"edge5\" class=\"edge\">\n",
       "<title>4&#45;&gt;6</title>\n",
       "<path fill=\"none\" stroke=\"black\" d=\"M347.99,-98.81C357.47,-86.93 368.16,-73.53 377.67,-61.61\"/>\n",
       "<polygon fill=\"black\" stroke=\"black\" points=\"380.54,-63.64 384.04,-53.64 375.07,-59.27 380.54,-63.64\"/>\n",
       "</g>\n",
       "</g>\n",
       "</svg>\n"
      ],
      "text/plain": [
       "<graphviz.files.Source at 0x7f4631b92490>"
      ]
     },
     "execution_count": 24,
     "metadata": {},
     "output_type": "execute_result"
    }
   ],
   "source": [
    "draw_tree(m, xs, size=7, leaves_parallel=True, precision=2)"
   ]
  },
  {
   "cell_type": "markdown",
   "id": "7bfc7736",
   "metadata": {
    "papermill": {
     "duration": 0.109512,
     "end_time": "2021-07-27T09:58:59.643904",
     "exception": false,
     "start_time": "2021-07-27T09:58:59.534392",
     "status": "completed"
    },
    "tags": []
   },
   "source": [
    "* To train it further, you can use a higher number of leaf nodes."
   ]
  },
  {
   "cell_type": "markdown",
   "id": "ad7d845b",
   "metadata": {
    "papermill": {
     "duration": 0.114286,
     "end_time": "2021-07-27T09:58:59.872505",
     "exception": false,
     "start_time": "2021-07-27T09:58:59.758219",
     "status": "completed"
    },
    "tags": []
   },
   "source": [
    "## 00:56:32 - dtreeviz\n",
    "\n",
    "* A library by Terrance Parr for visualising Decision Trees.\n",
    "* Looking at the YearMade value, we can see that there are a number values for `YearMade` as 1000.\n",
    "\n",
    "## 00:57:57 - Building a bigger decision tree\n",
    "\n",
    "* We can remove `max_leaf_nodes` and train a bigger model:"
   ]
  },
  {
   "cell_type": "code",
   "execution_count": 25,
   "id": "a5a5b335",
   "metadata": {
    "execution": {
     "iopub.execute_input": "2021-07-27T09:59:00.114990Z",
     "iopub.status.busy": "2021-07-27T09:59:00.113656Z",
     "iopub.status.idle": "2021-07-27T09:59:11.803174Z",
     "shell.execute_reply": "2021-07-27T09:59:11.802276Z",
     "shell.execute_reply.started": "2021-07-27T09:31:45.694318Z"
    },
    "papermill": {
     "duration": 11.815075,
     "end_time": "2021-07-27T09:59:11.803351",
     "exception": false,
     "start_time": "2021-07-27T09:58:59.988276",
     "status": "completed"
    },
    "tags": []
   },
   "outputs": [
    {
     "data": {
      "text/plain": [
       "DecisionTreeRegressor()"
      ]
     },
     "execution_count": 25,
     "metadata": {},
     "output_type": "execute_result"
    }
   ],
   "source": [
    "m = DecisionTreeRegressor()\n",
    "m.fit(xs, y)"
   ]
  },
  {
   "cell_type": "markdown",
   "id": "cc3c0bf9",
   "metadata": {
    "papermill": {
     "duration": 0.11176,
     "end_time": "2021-07-27T09:59:12.025903",
     "exception": false,
     "start_time": "2021-07-27T09:59:11.914143",
     "status": "completed"
    },
    "tags": []
   },
   "source": [
    "* Now to evaluate with mse."
   ]
  },
  {
   "cell_type": "code",
   "execution_count": 26,
   "id": "4ef5c66e",
   "metadata": {
    "execution": {
     "iopub.execute_input": "2021-07-27T09:59:12.253435Z",
     "iopub.status.busy": "2021-07-27T09:59:12.252381Z",
     "iopub.status.idle": "2021-07-27T09:59:12.255658Z",
     "shell.execute_reply": "2021-07-27T09:59:12.254972Z",
     "shell.execute_reply.started": "2021-07-27T09:31:57.903271Z"
    },
    "papermill": {
     "duration": 0.118505,
     "end_time": "2021-07-27T09:59:12.255803",
     "exception": false,
     "start_time": "2021-07-27T09:59:12.137298",
     "status": "completed"
    },
    "tags": []
   },
   "outputs": [],
   "source": [
    "def r_mse(pred, y):\n",
    "    return round(math.sqrt(((pred-y)**2).mean()), 6)\n",
    "\n",
    "def m_rmse(m, xs, y):\n",
    "    return r_mse(m.predict(xs), y)"
   ]
  },
  {
   "cell_type": "code",
   "execution_count": 27,
   "id": "84b289bf",
   "metadata": {
    "execution": {
     "iopub.execute_input": "2021-07-27T09:59:12.486643Z",
     "iopub.status.busy": "2021-07-27T09:59:12.485354Z",
     "iopub.status.idle": "2021-07-27T09:59:12.770970Z",
     "shell.execute_reply": "2021-07-27T09:59:12.770443Z",
     "shell.execute_reply.started": "2021-07-27T09:31:57.910869Z"
    },
    "papermill": {
     "duration": 0.402423,
     "end_time": "2021-07-27T09:59:12.771159",
     "exception": false,
     "start_time": "2021-07-27T09:59:12.368736",
     "status": "completed"
    },
    "tags": []
   },
   "outputs": [
    {
     "data": {
      "text/plain": [
       "0.0"
      ]
     },
     "execution_count": 27,
     "metadata": {},
     "output_type": "execute_result"
    }
   ],
   "source": [
    "m_rmse(m, xs, y)"
   ]
  },
  {
   "cell_type": "markdown",
   "id": "fbf1c9af",
   "metadata": {
    "papermill": {
     "duration": 0.111669,
     "end_time": "2021-07-27T09:59:12.995256",
     "exception": false,
     "start_time": "2021-07-27T09:59:12.883587",
     "status": "completed"
    },
    "tags": []
   },
   "source": [
    "* Model appears to be perfect. However, we should check the val set to see if we're overfitting:"
   ]
  },
  {
   "cell_type": "code",
   "execution_count": 28,
   "id": "c4089ad7",
   "metadata": {
    "execution": {
     "iopub.execute_input": "2021-07-27T09:59:13.229461Z",
     "iopub.status.busy": "2021-07-27T09:59:13.228239Z",
     "iopub.status.idle": "2021-07-27T09:59:13.240062Z",
     "shell.execute_reply": "2021-07-27T09:59:13.239446Z",
     "shell.execute_reply.started": "2021-07-27T09:31:58.245503Z"
    },
    "papermill": {
     "duration": 0.132333,
     "end_time": "2021-07-27T09:59:13.240215",
     "exception": false,
     "start_time": "2021-07-27T09:59:13.107882",
     "status": "completed"
    },
    "tags": []
   },
   "outputs": [
    {
     "data": {
      "text/plain": [
       "0.331901"
      ]
     },
     "execution_count": 28,
     "metadata": {},
     "output_type": "execute_result"
    }
   ],
   "source": [
    "m_rmse(m, valid_xs, valid_y)"
   ]
  },
  {
   "cell_type": "markdown",
   "id": "76952607",
   "metadata": {
    "papermill": {
     "duration": 0.112022,
     "end_time": "2021-07-27T09:59:13.462510",
     "exception": false,
     "start_time": "2021-07-27T09:59:13.350488",
     "status": "completed"
    },
    "tags": []
   },
   "source": [
    "* The reason is because we have a number of lead nodes close to the training set."
   ]
  },
  {
   "cell_type": "code",
   "execution_count": 29,
   "id": "66feeb01",
   "metadata": {
    "execution": {
     "iopub.execute_input": "2021-07-27T09:59:13.690267Z",
     "iopub.status.busy": "2021-07-27T09:59:13.689525Z",
     "iopub.status.idle": "2021-07-27T09:59:13.702838Z",
     "shell.execute_reply": "2021-07-27T09:59:13.702131Z",
     "shell.execute_reply.started": "2021-07-27T09:31:58.266842Z"
    },
    "papermill": {
     "duration": 0.128298,
     "end_time": "2021-07-27T09:59:13.702994",
     "exception": false,
     "start_time": "2021-07-27T09:59:13.574696",
     "status": "completed"
    },
    "tags": []
   },
   "outputs": [
    {
     "data": {
      "text/plain": [
       "(324599, 404710)"
      ]
     },
     "execution_count": 29,
     "metadata": {},
     "output_type": "execute_result"
    }
   ],
   "source": [
    "m.get_n_leaves(), len(xs)"
   ]
  },
  {
   "cell_type": "markdown",
   "id": "8076dd82",
   "metadata": {
    "papermill": {
     "duration": 0.118576,
     "end_time": "2021-07-27T09:59:13.933326",
     "exception": false,
     "start_time": "2021-07-27T09:59:13.814750",
     "status": "completed"
    },
    "tags": []
   },
   "source": [
    "* We can add a new stop criteria to stop splitting once leaf node has 25 samples"
   ]
  },
  {
   "cell_type": "code",
   "execution_count": 30,
   "id": "aed53404",
   "metadata": {
    "execution": {
     "iopub.execute_input": "2021-07-27T09:59:14.166234Z",
     "iopub.status.busy": "2021-07-27T09:59:14.165470Z",
     "iopub.status.idle": "2021-07-27T09:59:22.718290Z",
     "shell.execute_reply": "2021-07-27T09:59:22.717750Z",
     "shell.execute_reply.started": "2021-07-27T09:31:58.286579Z"
    },
    "papermill": {
     "duration": 8.673156,
     "end_time": "2021-07-27T09:59:22.718438",
     "exception": false,
     "start_time": "2021-07-27T09:59:14.045282",
     "status": "completed"
    },
    "tags": []
   },
   "outputs": [
    {
     "data": {
      "text/plain": [
       "(0.211677, 0.267995)"
      ]
     },
     "execution_count": 30,
     "metadata": {},
     "output_type": "execute_result"
    }
   ],
   "source": [
    "m = DecisionTreeRegressor(min_samples_leaf=25)\n",
    "m.fit(xs, y)\n",
    "m_rmse(m, xs, y), m_rmse(m, valid_xs, valid_y)"
   ]
  },
  {
   "cell_type": "code",
   "execution_count": 31,
   "id": "82a4d808",
   "metadata": {
    "execution": {
     "iopub.execute_input": "2021-07-27T09:59:22.949949Z",
     "iopub.status.busy": "2021-07-27T09:59:22.949290Z",
     "iopub.status.idle": "2021-07-27T09:59:22.953673Z",
     "shell.execute_reply": "2021-07-27T09:59:22.954198Z",
     "shell.execute_reply.started": "2021-07-27T09:32:07.381318Z"
    },
    "papermill": {
     "duration": 0.122239,
     "end_time": "2021-07-27T09:59:22.954385",
     "exception": false,
     "start_time": "2021-07-27T09:59:22.832146",
     "status": "completed"
    },
    "tags": []
   },
   "outputs": [
    {
     "data": {
      "text/plain": [
       "12397"
      ]
     },
     "execution_count": 31,
     "metadata": {},
     "output_type": "execute_result"
    }
   ],
   "source": [
    "m.get_n_leaves()"
   ]
  },
  {
   "cell_type": "markdown",
   "id": "1e57218d",
   "metadata": {
    "papermill": {
     "duration": 0.111861,
     "end_time": "2021-07-27T09:59:23.180368",
     "exception": false,
     "start_time": "2021-07-27T09:59:23.068507",
     "status": "completed"
    },
    "tags": []
   },
   "source": [
    "* How can we get the best of booth worlds? Build really deep trees that don't overfit? Bagging..."
   ]
  },
  {
   "cell_type": "markdown",
   "id": "0b8311aa",
   "metadata": {
    "papermill": {
     "duration": 0.112297,
     "end_time": "2021-07-27T09:59:23.405285",
     "exception": false,
     "start_time": "2021-07-27T09:59:23.292988",
     "status": "completed"
    },
    "tags": []
   },
   "source": [
    "## 01:00:42 - Categorical variables revisited\n",
    "\n",
    "* You usually don't need to one-hot encoded categorical variables with decision trees normally, as it has capability to split on a single \"level\".\n",
    "\n",
    "## 01:30:39 - Bagging\n",
    "\n",
    "* To improve Decision Tree, you'll use a small technical report called [Bagging Predictors](https://link.springer.com/article/10.1023/A:1018054314350) by Leo Breiman.\n",
    "* He described \"Bootstrap replicates\", which is a subset of the training dataset.\n",
    "* The steps are as follows:\n",
    "  * Randomly choose a subset of the rows of your data (\"bootstrap replicates of your learning set\")\n",
    "  * Train model on subset\n",
    "  * Save model and return to step 1 a few times.\n",
    "  * Predict using all models, then take the average of each models predictions.\n",
    "  \n",
    "## 01:06:22 - Random Forest\n",
    "\n",
    "* Breiman developed a variation of this approach, where he would also select a subset of columns randomly when making binary splits. Called [[Random Forest]]"
   ]
  },
  {
   "cell_type": "code",
   "execution_count": 32,
   "id": "e4b0f95a",
   "metadata": {
    "execution": {
     "iopub.execute_input": "2021-07-27T09:59:23.631297Z",
     "iopub.status.busy": "2021-07-27T09:59:23.630645Z",
     "iopub.status.idle": "2021-07-27T09:59:58.614183Z",
     "shell.execute_reply": "2021-07-27T09:59:58.614881Z",
     "shell.execute_reply.started": "2021-07-27T09:32:07.390105Z"
    },
    "papermill": {
     "duration": 35.098425,
     "end_time": "2021-07-27T09:59:58.615083",
     "exception": false,
     "start_time": "2021-07-27T09:59:23.516658",
     "status": "completed"
    },
    "tags": []
   },
   "outputs": [],
   "source": [
    "def rf(\n",
    "    x, y, n_estimators=40, max_samples=200_000,\n",
    "    max_features=0.5, min_samples_leaf=5, **kwargs\n",
    "):\n",
    "    return RandomForestRegressor(\n",
    "        n_jobs=-1, n_estimators=n_estimators, max_samples=max_samples,\n",
    "        max_features=max_features, min_samples_leaf=min_samples_leaf,\n",
    "        oob_score=True\n",
    "    ).fit(x ,y)\n",
    "\n",
    "m = rf(xs, y)"
   ]
  },
  {
   "cell_type": "markdown",
   "id": "6b9ee0e9",
   "metadata": {
    "papermill": {
     "duration": 0.110712,
     "end_time": "2021-07-27T09:59:58.838523",
     "exception": false,
     "start_time": "2021-07-27T09:59:58.727811",
     "status": "completed"
    },
    "tags": []
   },
   "source": [
    "* `n_jobs=-1` - use all CPU cores you have.\n",
    "* `n_estimators` - how many trees / models to train\n",
    "* `max_samples` - how many rows to use for each tree.\n",
    "* `max_features` - how many randomly chosen columns to use for each split point.\n",
    "* `min_samples_leaf` - stopping criteria"
   ]
  },
  {
   "cell_type": "code",
   "execution_count": 33,
   "id": "2f423623",
   "metadata": {
    "execution": {
     "iopub.execute_input": "2021-07-27T09:59:59.066425Z",
     "iopub.status.busy": "2021-07-27T09:59:59.065776Z",
     "iopub.status.idle": "2021-07-27T10:00:00.416338Z",
     "shell.execute_reply": "2021-07-27T10:00:00.416875Z",
     "shell.execute_reply.started": "2021-07-27T09:32:43.819322Z"
    },
    "papermill": {
     "duration": 1.466354,
     "end_time": "2021-07-27T10:00:00.417065",
     "exception": false,
     "start_time": "2021-07-27T09:59:58.950711",
     "status": "completed"
    },
    "tags": []
   },
   "outputs": [
    {
     "data": {
      "text/plain": [
       "(0.170846, 0.233481)"
      ]
     },
     "execution_count": 33,
     "metadata": {},
     "output_type": "execute_result"
    }
   ],
   "source": [
    "m_rmse(m, xs, y), m_rmse(m, valid_xs, valid_y)"
   ]
  },
  {
   "cell_type": "markdown",
   "id": "70fd31cd",
   "metadata": {
    "papermill": {
     "duration": 0.113457,
     "end_time": "2021-07-27T10:00:00.644359",
     "exception": false,
     "start_time": "2021-07-27T10:00:00.530902",
     "status": "completed"
    },
    "tags": []
   },
   "source": [
    "* It's often quite hard to improve on this model - with Random Forests, the defaults turns out to be quite good."
   ]
  },
  {
   "cell_type": "markdown",
   "id": "64c14233",
   "metadata": {
    "papermill": {
     "duration": 0.127562,
     "end_time": "2021-07-27T10:00:00.885442",
     "exception": false,
     "start_time": "2021-07-27T10:00:00.757880",
     "status": "completed"
    },
    "tags": []
   },
   "source": [
    "## 01:08:58 - Analysing Random Forests\n",
    "\n",
    "* Docs have lots of information about how n_estimators improves error rates.\n",
    "  * Generally more trees = more accurate models.\n",
    "* Can access underlying Decision Trees via `estimators_`"
   ]
  },
  {
   "cell_type": "code",
   "execution_count": 34,
   "id": "9971d090",
   "metadata": {
    "execution": {
     "iopub.execute_input": "2021-07-27T10:00:01.134731Z",
     "iopub.status.busy": "2021-07-27T10:00:01.134048Z",
     "iopub.status.idle": "2021-07-27T10:00:01.362672Z",
     "shell.execute_reply": "2021-07-27T10:00:01.362092Z",
     "shell.execute_reply.started": "2021-07-27T09:32:45.373850Z"
    },
    "papermill": {
     "duration": 0.349606,
     "end_time": "2021-07-27T10:00:01.362834",
     "exception": false,
     "start_time": "2021-07-27T10:00:01.013228",
     "status": "completed"
    },
    "tags": []
   },
   "outputs": [],
   "source": [
    "preds = np.stack([t.predict(valid_xs) for t in m.estimators_])"
   ]
  },
  {
   "cell_type": "code",
   "execution_count": 35,
   "id": "d7fc8c6e",
   "metadata": {
    "execution": {
     "iopub.execute_input": "2021-07-27T10:00:01.596339Z",
     "iopub.status.busy": "2021-07-27T10:00:01.595642Z",
     "iopub.status.idle": "2021-07-27T10:00:01.600769Z",
     "shell.execute_reply": "2021-07-27T10:00:01.601276Z",
     "shell.execute_reply.started": "2021-07-27T09:32:45.616604Z"
    },
    "papermill": {
     "duration": 0.126382,
     "end_time": "2021-07-27T10:00:01.601451",
     "exception": false,
     "start_time": "2021-07-27T10:00:01.475069",
     "status": "completed"
    },
    "tags": []
   },
   "outputs": [
    {
     "data": {
      "text/plain": [
       "0.233481"
      ]
     },
     "execution_count": 35,
     "metadata": {},
     "output_type": "execute_result"
    }
   ],
   "source": [
    "r_mse(preds.mean(0), valid_y)"
   ]
  },
  {
   "cell_type": "markdown",
   "id": "443b908b",
   "metadata": {
    "papermill": {
     "duration": 0.111262,
     "end_time": "2021-07-27T10:00:01.824490",
     "exception": false,
     "start_time": "2021-07-27T10:00:01.713228",
     "status": "completed"
    },
    "tags": []
   },
   "source": [
    "* Can visualise how much adding more models to the ensemble helps with our rmse:"
   ]
  },
  {
   "cell_type": "code",
   "execution_count": 36,
   "id": "8606bfe7",
   "metadata": {
    "execution": {
     "iopub.execute_input": "2021-07-27T10:00:02.061581Z",
     "iopub.status.busy": "2021-07-27T10:00:02.060889Z",
     "iopub.status.idle": "2021-07-27T10:00:02.311726Z",
     "shell.execute_reply": "2021-07-27T10:00:02.311090Z",
     "shell.execute_reply.started": "2021-07-27T09:32:45.625326Z"
    },
    "papermill": {
     "duration": 0.370677,
     "end_time": "2021-07-27T10:00:02.311880",
     "exception": false,
     "start_time": "2021-07-27T10:00:01.941203",
     "status": "completed"
    },
    "tags": []
   },
   "outputs": [
    {
     "data": {
      "text/plain": [
       "[<matplotlib.lines.Line2D at 0x7f4630a44b10>]"
      ]
     },
     "execution_count": 36,
     "metadata": {},
     "output_type": "execute_result"
    },
    {
     "data": {
      "image/png": "[encoded data removed]",
      "text/plain": [
       "<Figure size 432x288 with 1 Axes>"
      ]
     },
     "metadata": {
      "needs_background": "light"
     },
     "output_type": "display_data"
    }
   ],
   "source": [
    "plt.plot([r_mse(preds[:i+1].mean(0), valid_y) for i in range(40)])"
   ]
  },
  {
   "cell_type": "markdown",
   "id": "ee5d57f6",
   "metadata": {
    "papermill": {
     "duration": 0.114246,
     "end_time": "2021-07-27T10:00:02.542454",
     "exception": false,
     "start_time": "2021-07-27T10:00:02.428208",
     "status": "completed"
    },
    "tags": []
   },
   "source": [
    "## 01:11:20 - Out-of-bag error\n",
    "\n",
    "* Is the validation set worse than the training set because we're over-fitting?\n",
    "  * Can out out-of-bag error to find out.\n",
    "* How it works:\n",
    "  * Each tree is trained on a subset of the data. For each tree, calculate validation predictions on the rows that weren't included.\n",
    "  * Like validation with a validation set"
   ]
  },
  {
   "cell_type": "code",
   "execution_count": 37,
   "id": "dc229450",
   "metadata": {
    "execution": {
     "iopub.execute_input": "2021-07-27T10:00:02.784009Z",
     "iopub.status.busy": "2021-07-27T10:00:02.783008Z",
     "iopub.status.idle": "2021-07-27T10:00:02.791498Z",
     "shell.execute_reply": "2021-07-27T10:00:02.791970Z",
     "shell.execute_reply.started": "2021-07-27T09:32:45.894081Z"
    },
    "papermill": {
     "duration": 0.132845,
     "end_time": "2021-07-27T10:00:02.792182",
     "exception": false,
     "start_time": "2021-07-27T10:00:02.659337",
     "status": "completed"
    },
    "tags": []
   },
   "outputs": [
    {
     "data": {
      "text/plain": [
       "0.210668"
      ]
     },
     "execution_count": 37,
     "metadata": {},
     "output_type": "execute_result"
    }
   ],
   "source": [
    "r_mse(m.oob_prediction_, y)"
   ]
  },
  {
   "cell_type": "markdown",
   "id": "a380d990",
   "metadata": {
    "papermill": {
     "duration": 0.116199,
     "end_time": "2021-07-27T10:00:03.022996",
     "exception": false,
     "start_time": "2021-07-27T10:00:02.906797",
     "status": "completed"
    },
    "tags": []
   },
   "source": [
    "## 01:14:09 - Model interpretation\n",
    "\n",
    "* 5 things we usually want to know about a model:\n",
    "  * How confident are we with a particular row of data?\n",
    "  * For predicting a particular item, which factors were most important? \n",
    "  * Which columns are most important? Which can we ignore?\n",
    "  * Which columns are effectively redundant with each other?\n",
    "  * How do predictions vary as we vary these columns?\n",
    "  \n",
    "## 01:15:14 - Tree variance for prediction confidence\n",
    "  \n",
    "* We've already seen that we can take the mean of all predictions for all trees.\n",
    "* We can also take the std. This will give us an indication of which rows some of the trees didn't agree on."
   ]
  },
  {
   "cell_type": "code",
   "execution_count": 38,
   "id": "3637d739",
   "metadata": {
    "execution": {
     "iopub.execute_input": "2021-07-27T10:00:03.264679Z",
     "iopub.status.busy": "2021-07-27T10:00:03.263989Z",
     "iopub.status.idle": "2021-07-27T10:00:03.498886Z",
     "shell.execute_reply": "2021-07-27T10:00:03.499399Z",
     "shell.execute_reply.started": "2021-07-27T09:32:45.908857Z"
    },
    "papermill": {
     "duration": 0.355434,
     "end_time": "2021-07-27T10:00:03.499602",
     "exception": false,
     "start_time": "2021-07-27T10:00:03.144168",
     "status": "completed"
    },
    "tags": []
   },
   "outputs": [],
   "source": [
    "preds = np.stack([t.predict(valid_xs) for t in m.estimators_])"
   ]
  },
  {
   "cell_type": "code",
   "execution_count": 39,
   "id": "18af0d41",
   "metadata": {
    "execution": {
     "iopub.execute_input": "2021-07-27T10:00:03.732207Z",
     "iopub.status.busy": "2021-07-27T10:00:03.731503Z",
     "iopub.status.idle": "2021-07-27T10:00:03.738155Z",
     "shell.execute_reply": "2021-07-27T10:00:03.738669Z",
     "shell.execute_reply.started": "2021-07-27T09:32:46.159733Z"
    },
    "papermill": {
     "duration": 0.124641,
     "end_time": "2021-07-27T10:00:03.738845",
     "exception": false,
     "start_time": "2021-07-27T10:00:03.614204",
     "status": "completed"
    },
    "tags": []
   },
   "outputs": [],
   "source": [
    "preds_std = preds.std(0)"
   ]
  },
  {
   "cell_type": "code",
   "execution_count": 40,
   "id": "27c27a45",
   "metadata": {
    "execution": {
     "iopub.execute_input": "2021-07-27T10:00:03.977948Z",
     "iopub.status.busy": "2021-07-27T10:00:03.977290Z",
     "iopub.status.idle": "2021-07-27T10:00:03.984311Z",
     "shell.execute_reply": "2021-07-27T10:00:03.983771Z",
     "shell.execute_reply.started": "2021-07-27T09:32:46.169187Z"
    },
    "papermill": {
     "duration": 0.127591,
     "end_time": "2021-07-27T10:00:03.984462",
     "exception": false,
     "start_time": "2021-07-27T10:00:03.856871",
     "status": "completed"
    },
    "tags": []
   },
   "outputs": [
    {
     "data": {
      "text/plain": [
       "array([0.2572597 , 0.09731126, 0.11276323, 0.2582181 , 0.14091749])"
      ]
     },
     "execution_count": 40,
     "metadata": {},
     "output_type": "execute_result"
    }
   ],
   "source": [
    "preds_std[:5]"
   ]
  },
  {
   "cell_type": "markdown",
   "id": "b3711fca",
   "metadata": {
    "papermill": {
     "duration": 0.117381,
     "end_time": "2021-07-27T10:00:04.221164",
     "exception": false,
     "start_time": "2021-07-27T10:00:04.103783",
     "status": "completed"
    },
    "tags": []
   },
   "source": [
    "* We may decide that predictions that have wild disagreement amongst the model we should be more cautious of."
   ]
  },
  {
   "cell_type": "markdown",
   "id": "19a72ad6",
   "metadata": {
    "papermill": {
     "duration": 0.116489,
     "end_time": "2021-07-27T10:00:04.454611",
     "exception": false,
     "start_time": "2021-07-27T10:00:04.338122",
     "status": "completed"
    },
    "tags": []
   },
   "source": [
    "## 01:16:47 - Feature importance"
   ]
  },
  {
   "cell_type": "markdown",
   "id": "c32b9178",
   "metadata": {
    "papermill": {
     "duration": 0.1144,
     "end_time": "2021-07-27T10:00:04.682768",
     "exception": false,
     "start_time": "2021-07-27T10:00:04.568368",
     "status": "completed"
    },
    "tags": []
   },
   "source": [
    "* The features that are most strongly driving the independant variable."
   ]
  },
  {
   "cell_type": "code",
   "execution_count": 41,
   "id": "b5fe0725",
   "metadata": {
    "execution": {
     "iopub.execute_input": "2021-07-27T10:00:04.921888Z",
     "iopub.status.busy": "2021-07-27T10:00:04.921217Z",
     "iopub.status.idle": "2021-07-27T10:00:04.923165Z",
     "shell.execute_reply": "2021-07-27T10:00:04.923613Z",
     "shell.execute_reply.started": "2021-07-27T09:32:46.183067Z"
    },
    "papermill": {
     "duration": 0.125895,
     "end_time": "2021-07-27T10:00:04.923791",
     "exception": false,
     "start_time": "2021-07-27T10:00:04.797896",
     "status": "completed"
    },
    "tags": []
   },
   "outputs": [],
   "source": [
    "def rf_feat_important(m, df):\n",
    "    return pd.DataFrame({\n",
    "        'cols': df.columns, 'imp': m.feature_importances_\n",
    "    }).sort_values('imp', ascending=False)"
   ]
  },
  {
   "cell_type": "code",
   "execution_count": 42,
   "id": "48141a82",
   "metadata": {
    "execution": {
     "iopub.execute_input": "2021-07-27T10:00:05.159425Z",
     "iopub.status.busy": "2021-07-27T10:00:05.158732Z",
     "iopub.status.idle": "2021-07-27T10:00:05.274107Z",
     "shell.execute_reply": "2021-07-27T10:00:05.274602Z",
     "shell.execute_reply.started": "2021-07-27T09:32:46.196656Z"
    },
    "papermill": {
     "duration": 0.234747,
     "end_time": "2021-07-27T10:00:05.274775",
     "exception": false,
     "start_time": "2021-07-27T10:00:05.040028",
     "status": "completed"
    },
    "tags": []
   },
   "outputs": [
    {
     "data": {
      "text/html": [
       "<div>\n",
       "<style scoped>\n",
       "    .dataframe tbody tr th:only-of-type {\n",
       "        vertical-align: middle;\n",
       "    }\n",
       "\n",
       "    .dataframe tbody tr th {\n",
       "        vertical-align: top;\n",
       "    }\n",
       "\n",
       "    .dataframe thead th {\n",
       "        text-align: right;\n",
       "    }\n",
       "</style>\n",
       "<table border=\"1\" class=\"dataframe\">\n",
       "  <thead>\n",
       "    <tr style=\"text-align: right;\">\n",
       "      <th></th>\n",
       "      <th>cols</th>\n",
       "      <th>imp</th>\n",
       "    </tr>\n",
       "  </thead>\n",
       "  <tbody>\n",
       "    <tr>\n",
       "      <th>57</th>\n",
       "      <td>YearMade</td>\n",
       "      <td>0.182894</td>\n",
       "    </tr>\n",
       "    <tr>\n",
       "      <th>6</th>\n",
       "      <td>ProductSize</td>\n",
       "      <td>0.122876</td>\n",
       "    </tr>\n",
       "    <tr>\n",
       "      <th>30</th>\n",
       "      <td>Coupler_System</td>\n",
       "      <td>0.090795</td>\n",
       "    </tr>\n",
       "    <tr>\n",
       "      <th>7</th>\n",
       "      <td>fiProductClassDesc</td>\n",
       "      <td>0.076804</td>\n",
       "    </tr>\n",
       "    <tr>\n",
       "      <th>32</th>\n",
       "      <td>Hydraulics_Flow</td>\n",
       "      <td>0.058711</td>\n",
       "    </tr>\n",
       "    <tr>\n",
       "      <th>54</th>\n",
       "      <td>ModelID</td>\n",
       "      <td>0.058263</td>\n",
       "    </tr>\n",
       "    <tr>\n",
       "      <th>65</th>\n",
       "      <td>saleElapsed</td>\n",
       "      <td>0.050424</td>\n",
       "    </tr>\n",
       "    <tr>\n",
       "      <th>3</th>\n",
       "      <td>fiSecondaryDesc</td>\n",
       "      <td>0.041631</td>\n",
       "    </tr>\n",
       "    <tr>\n",
       "      <th>31</th>\n",
       "      <td>Grouser_Tracks</td>\n",
       "      <td>0.040883</td>\n",
       "    </tr>\n",
       "    <tr>\n",
       "      <th>1</th>\n",
       "      <td>fiModelDesc</td>\n",
       "      <td>0.032942</td>\n",
       "    </tr>\n",
       "  </tbody>\n",
       "</table>\n",
       "</div>"
      ],
      "text/plain": [
       "                  cols       imp\n",
       "57            YearMade  0.182894\n",
       "6          ProductSize  0.122876\n",
       "30      Coupler_System  0.090795\n",
       "7   fiProductClassDesc  0.076804\n",
       "32     Hydraulics_Flow  0.058711\n",
       "54             ModelID  0.058263\n",
       "65         saleElapsed  0.050424\n",
       "3      fiSecondaryDesc  0.041631\n",
       "31      Grouser_Tracks  0.040883\n",
       "1          fiModelDesc  0.032942"
      ]
     },
     "execution_count": 42,
     "metadata": {},
     "output_type": "execute_result"
    }
   ],
   "source": [
    "fi = rf_feat_important(m, xs)\n",
    "fi[:10]"
   ]
  },
  {
   "cell_type": "markdown",
   "id": "311f222d",
   "metadata": {
    "papermill": {
     "duration": 0.115822,
     "end_time": "2021-07-27T10:00:05.505298",
     "exception": false,
     "start_time": "2021-07-27T10:00:05.389476",
     "status": "completed"
    },
    "tags": []
   },
   "source": [
    "* We can also plot them:"
   ]
  },
  {
   "cell_type": "code",
   "execution_count": 43,
   "id": "950896a4",
   "metadata": {
    "execution": {
     "iopub.execute_input": "2021-07-27T10:00:05.741744Z",
     "iopub.status.busy": "2021-07-27T10:00:05.740815Z",
     "iopub.status.idle": "2021-07-27T10:00:06.171708Z",
     "shell.execute_reply": "2021-07-27T10:00:06.170565Z",
     "shell.execute_reply.started": "2021-07-27T09:32:46.321598Z"
    },
    "papermill": {
     "duration": 0.551716,
     "end_time": "2021-07-27T10:00:06.171876",
     "exception": false,
     "start_time": "2021-07-27T10:00:05.620160",
     "status": "completed"
    },
    "tags": []
   },
   "outputs": [
    {
     "data": {
      "text/plain": [
       "<AxesSubplot:ylabel='cols'>"
      ]
     },
     "execution_count": 43,
     "metadata": {},
     "output_type": "execute_result"
    },
    {
     "data": {
      "image/png": "[encoded data removed]",
      "text/plain": [
       "<Figure size 864x504 with 1 Axes>"
      ]
     },
     "metadata": {
      "needs_background": "light"
     },
     "output_type": "display_data"
    }
   ],
   "source": [
    "def plot_fi(fi):\n",
    "    return fi.plot('cols', 'imp', 'barh', figsize=(12, 7), legend=False)\n",
    "\n",
    "plot_fi(fi[:30])"
   ]
  },
  {
   "cell_type": "markdown",
   "id": "774b6254",
   "metadata": {
    "papermill": {
     "duration": 0.120925,
     "end_time": "2021-07-27T10:00:06.408905",
     "exception": false,
     "start_time": "2021-07-27T10:00:06.287980",
     "status": "completed"
    },
    "tags": []
   },
   "source": [
    "* How it works:\n",
    "  * Loop through each tree and explore each branch.\n",
    "  * What feature / column was used to split? How much better after split?\n",
    "  * Add up the amount of improvement for each column at each split and normalise so all add to one.\n",
    "  * That gives you the feature importance weight."
   ]
  },
  {
   "cell_type": "markdown",
   "id": "aedd154e",
   "metadata": {
    "papermill": {
     "duration": 0.119458,
     "end_time": "2021-07-27T10:00:06.647848",
     "exception": false,
     "start_time": "2021-07-27T10:00:06.528390",
     "status": "completed"
    },
    "tags": []
   },
   "source": [
    "## 01:18:53 - Remove low-importance features\n",
    "\n",
    "* We may decide to remove the less important features. The ones less than 0.005 importance."
   ]
  },
  {
   "cell_type": "code",
   "execution_count": 44,
   "id": "bc080d38",
   "metadata": {
    "execution": {
     "iopub.execute_input": "2021-07-27T10:00:06.889557Z",
     "iopub.status.busy": "2021-07-27T10:00:06.888506Z",
     "iopub.status.idle": "2021-07-27T10:00:06.893025Z",
     "shell.execute_reply": "2021-07-27T10:00:06.892517Z",
     "shell.execute_reply.started": "2021-07-27T09:32:46.749965Z"
    },
    "papermill": {
     "duration": 0.128396,
     "end_time": "2021-07-27T10:00:06.893218",
     "exception": false,
     "start_time": "2021-07-27T10:00:06.764822",
     "status": "completed"
    },
    "tags": []
   },
   "outputs": [
    {
     "data": {
      "text/plain": [
       "21"
      ]
     },
     "execution_count": 44,
     "metadata": {},
     "output_type": "execute_result"
    }
   ],
   "source": [
    "to_keep = fi[fi.imp > 0.005].cols\n",
    "len(to_keep)"
   ]
  },
  {
   "cell_type": "markdown",
   "id": "f72eb820",
   "metadata": {
    "papermill": {
     "duration": 0.120125,
     "end_time": "2021-07-27T10:00:07.132577",
     "exception": false,
     "start_time": "2021-07-27T10:00:07.012452",
     "status": "completed"
    },
    "tags": []
   },
   "source": [
    "* Can then retrain model using just this subset of columns"
   ]
  },
  {
   "cell_type": "code",
   "execution_count": 45,
   "id": "6b167ed0",
   "metadata": {
    "execution": {
     "iopub.execute_input": "2021-07-27T10:00:07.385058Z",
     "iopub.status.busy": "2021-07-27T10:00:07.384067Z",
     "iopub.status.idle": "2021-07-27T10:00:07.387015Z",
     "shell.execute_reply": "2021-07-27T10:00:07.386485Z",
     "shell.execute_reply.started": "2021-07-27T09:32:46.762850Z"
    },
    "papermill": {
     "duration": 0.137392,
     "end_time": "2021-07-27T10:00:07.387184",
     "exception": false,
     "start_time": "2021-07-27T10:00:07.249792",
     "status": "completed"
    },
    "tags": []
   },
   "outputs": [],
   "source": [
    "xs_imp = xs[to_keep]\n",
    "valid_xs_imp = valid_xs[to_keep]"
   ]
  },
  {
   "cell_type": "code",
   "execution_count": 46,
   "id": "063f3459",
   "metadata": {
    "execution": {
     "iopub.execute_input": "2021-07-27T10:00:07.632236Z",
     "iopub.status.busy": "2021-07-27T10:00:07.631466Z",
     "iopub.status.idle": "2021-07-27T10:00:25.283547Z",
     "shell.execute_reply": "2021-07-27T10:00:25.282849Z",
     "shell.execute_reply.started": "2021-07-27T09:32:46.786057Z"
    },
    "papermill": {
     "duration": 17.77774,
     "end_time": "2021-07-27T10:00:25.283697",
     "exception": false,
     "start_time": "2021-07-27T10:00:07.505957",
     "status": "completed"
    },
    "tags": []
   },
   "outputs": [],
   "source": [
    "m = rf(xs_imp, y)"
   ]
  },
  {
   "cell_type": "code",
   "execution_count": 47,
   "id": "df2ccec7",
   "metadata": {
    "execution": {
     "iopub.execute_input": "2021-07-27T10:00:25.528366Z",
     "iopub.status.busy": "2021-07-27T10:00:25.527634Z",
     "iopub.status.idle": "2021-07-27T10:00:26.590916Z",
     "shell.execute_reply": "2021-07-27T10:00:26.590278Z",
     "shell.execute_reply.started": "2021-07-27T09:33:04.495079Z"
    },
    "papermill": {
     "duration": 1.189564,
     "end_time": "2021-07-27T10:00:26.591083",
     "exception": false,
     "start_time": "2021-07-27T10:00:25.401519",
     "status": "completed"
    },
    "tags": []
   },
   "outputs": [
    {
     "data": {
      "text/plain": [
       "(0.181207, 0.230759)"
      ]
     },
     "execution_count": 47,
     "metadata": {},
     "output_type": "execute_result"
    }
   ],
   "source": [
    "m_rmse(m, xs_imp, y), m_rmse(m, valid_xs_imp, valid_y)"
   ]
  },
  {
   "cell_type": "markdown",
   "id": "92577079",
   "metadata": {
    "papermill": {
     "duration": 0.117079,
     "end_time": "2021-07-27T10:00:26.824813",
     "exception": false,
     "start_time": "2021-07-27T10:00:26.707734",
     "status": "completed"
    },
    "tags": []
   },
   "source": [
    "* Our accuracy is pretty close.\n",
    "* With only 21 columns, it's a lot easier for us to understand what the model is doing and to \"fit it in our heads\""
   ]
  },
  {
   "cell_type": "code",
   "execution_count": 48,
   "id": "96ffe357",
   "metadata": {
    "execution": {
     "iopub.execute_input": "2021-07-27T10:00:27.064259Z",
     "iopub.status.busy": "2021-07-27T10:00:27.063180Z",
     "iopub.status.idle": "2021-07-27T10:00:27.484528Z",
     "shell.execute_reply": "2021-07-27T10:00:27.485046Z",
     "shell.execute_reply.started": "2021-07-27T09:33:05.686390Z"
    },
    "papermill": {
     "duration": 0.544817,
     "end_time": "2021-07-27T10:00:27.485232",
     "exception": false,
     "start_time": "2021-07-27T10:00:26.940415",
     "status": "completed"
    },
    "tags": []
   },
   "outputs": [
    {
     "data": {
      "text/plain": [
       "<AxesSubplot:ylabel='cols'>"
      ]
     },
     "execution_count": 48,
     "metadata": {},
     "output_type": "execute_result"
    },
    {
     "data": {
      "image/png": "[encoded data removed]",
      "text/plain": [
       "<Figure size 864x504 with 1 Axes>"
      ]
     },
     "metadata": {
      "needs_background": "light"
     },
     "output_type": "display_data"
    }
   ],
   "source": [
    "plot_fi(rf_feat_important(m, xs_imp))"
   ]
  },
  {
   "cell_type": "markdown",
   "id": "1421bf62",
   "metadata": {
    "papermill": {
     "duration": 0.118204,
     "end_time": "2021-07-27T10:00:27.721848",
     "exception": false,
     "start_time": "2021-07-27T10:00:27.603644",
     "status": "completed"
    },
    "tags": []
   },
   "source": [
    "* We can see from this plot that there are some features that have similar importance."
   ]
  },
  {
   "cell_type": "markdown",
   "id": "158b0fb3",
   "metadata": {
    "papermill": {
     "duration": 0.118054,
     "end_time": "2021-07-27T10:00:27.957577",
     "exception": false,
     "start_time": "2021-07-27T10:00:27.839523",
     "status": "completed"
    },
    "tags": []
   },
   "source": [
    "## 01:20:42 - Remove redundant features\n",
    "\n",
    "* Can use fastai's `cluster_columns`"
   ]
  },
  {
   "cell_type": "code",
   "execution_count": 49,
   "id": "ce8b920f",
   "metadata": {
    "execution": {
     "iopub.execute_input": "2021-07-27T10:00:28.206724Z",
     "iopub.status.busy": "2021-07-27T10:00:28.205767Z",
     "iopub.status.idle": "2021-07-27T10:00:28.227338Z",
     "shell.execute_reply": "2021-07-27T10:00:28.226742Z",
     "shell.execute_reply.started": "2021-07-27T09:33:06.115624Z"
    },
    "papermill": {
     "duration": 0.149429,
     "end_time": "2021-07-27T10:00:28.227494",
     "exception": false,
     "start_time": "2021-07-27T10:00:28.078065",
     "status": "completed"
    },
    "tags": []
   },
   "outputs": [],
   "source": [
    "from scipy.cluster import hierarchy as hc\n",
    "\n",
    "def cluster_columns(df, figsize=(10,6), font_size=12):\n",
    "    corr = np.round(scipy.stats.spearmanr(df).correlation, 4)\n",
    "    corr_condensed = hc.distance.squareform(1-corr)\n",
    "    z = hc.linkage(corr_condensed, method='average')\n",
    "    fig = plt.figure(figsize=figsize)\n",
    "    hc.dendrogram(z, labels=df.columns, orientation='left', leaf_font_size=font_size)\n",
    "    plt.show()"
   ]
  },
  {
   "cell_type": "code",
   "execution_count": 50,
   "id": "0dfe8c25",
   "metadata": {
    "execution": {
     "iopub.execute_input": "2021-07-27T10:00:28.471828Z",
     "iopub.status.busy": "2021-07-27T10:00:28.470483Z",
     "iopub.status.idle": "2021-07-27T10:00:29.492161Z",
     "shell.execute_reply": "2021-07-27T10:00:29.491026Z",
     "shell.execute_reply.started": "2021-07-27T09:33:06.144675Z"
    },
    "papermill": {
     "duration": 1.14542,
     "end_time": "2021-07-27T10:00:29.492319",
     "exception": false,
     "start_time": "2021-07-27T10:00:28.346899",
     "status": "completed"
    },
    "tags": []
   },
   "outputs": [
    {
     "data": {
      "image/png": "[encoded data removed]",
      "text/plain": [
       "<Figure size 720x432 with 1 Axes>"
      ]
     },
     "metadata": {
      "needs_background": "light"
     },
     "output_type": "display_data"
    }
   ],
   "source": [
    "cluster_columns(xs_imp)"
   ]
  },
  {
   "cell_type": "markdown",
   "id": "4b5a3c07",
   "metadata": {
    "papermill": {
     "duration": 0.16504,
     "end_time": "2021-07-27T10:00:29.776941",
     "exception": false,
     "start_time": "2021-07-27T10:00:29.611901",
     "status": "completed"
    },
    "tags": []
   },
   "source": [
    "* Will find pairs of columns that are similar.\n",
    "* Noting that some columns are way out to the right, like `saleYear` and `saleElapsed`\n",
    "  * When one is low, the other tends to be."
   ]
  },
  {
   "cell_type": "markdown",
   "id": "5f94940d",
   "metadata": {
    "papermill": {
     "duration": 0.120384,
     "end_time": "2021-07-27T10:00:30.016266",
     "exception": false,
     "start_time": "2021-07-27T10:00:29.895882",
     "status": "completed"
    },
    "tags": []
   },
   "source": [
    "* We can write a function that trains on a subset of rows, for performance reasons."
   ]
  },
  {
   "cell_type": "code",
   "execution_count": 51,
   "id": "d6ab37e8",
   "metadata": {
    "execution": {
     "iopub.execute_input": "2021-07-27T10:00:30.263719Z",
     "iopub.status.busy": "2021-07-27T10:00:30.262715Z",
     "iopub.status.idle": "2021-07-27T10:00:30.265679Z",
     "shell.execute_reply": "2021-07-27T10:00:30.266184Z",
     "shell.execute_reply.started": "2021-07-27T09:33:07.267800Z"
    },
    "papermill": {
     "duration": 0.128566,
     "end_time": "2021-07-27T10:00:30.266387",
     "exception": false,
     "start_time": "2021-07-27T10:00:30.137821",
     "status": "completed"
    },
    "tags": []
   },
   "outputs": [],
   "source": [
    "def get_oob(df):\n",
    "    m = RandomForestRegressor(\n",
    "        n_estimators=40, min_samples_leaf=15, max_samples=50000,\n",
    "        max_features=0.5, n_jobs=-1, oob_score=true)\n",
    "    m.fit(df, y)\n",
    "    return m.oob_score_"
   ]
  },
  {
   "cell_type": "code",
   "execution_count": 52,
   "id": "2981cbc0",
   "metadata": {
    "execution": {
     "iopub.execute_input": "2021-07-27T10:00:30.516301Z",
     "iopub.status.busy": "2021-07-27T10:00:30.514700Z",
     "iopub.status.idle": "2021-07-27T10:00:36.544268Z",
     "shell.execute_reply": "2021-07-27T10:00:36.544747Z",
     "shell.execute_reply.started": "2021-07-27T09:33:07.275335Z"
    },
    "papermill": {
     "duration": 6.158953,
     "end_time": "2021-07-27T10:00:36.544931",
     "exception": false,
     "start_time": "2021-07-27T10:00:30.385978",
     "status": "completed"
    },
    "tags": []
   },
   "outputs": [
    {
     "data": {
      "text/plain": [
       "0.8770968462086648"
      ]
     },
     "execution_count": 52,
     "metadata": {},
     "output_type": "execute_result"
    }
   ],
   "source": [
    "get_oob(xs_imp)"
   ]
  },
  {
   "cell_type": "markdown",
   "id": "6d7b6946",
   "metadata": {
    "papermill": {
     "duration": 0.1196,
     "end_time": "2021-07-27T10:00:36.784241",
     "exception": false,
     "start_time": "2021-07-27T10:00:36.664641",
     "status": "completed"
    },
    "tags": []
   },
   "source": [
    "* Now remove each variable one at a time:"
   ]
  },
  {
   "cell_type": "code",
   "execution_count": 53,
   "id": "4f221ab9",
   "metadata": {
    "execution": {
     "iopub.execute_input": "2021-07-27T10:00:37.027478Z",
     "iopub.status.busy": "2021-07-27T10:00:37.026818Z",
     "iopub.status.idle": "2021-07-27T10:01:31.982029Z",
     "shell.execute_reply": "2021-07-27T10:01:31.982588Z",
     "shell.execute_reply.started": "2021-07-27T09:33:13.543057Z"
    },
    "papermill": {
     "duration": 55.079183,
     "end_time": "2021-07-27T10:01:31.982772",
     "exception": false,
     "start_time": "2021-07-27T10:00:36.903589",
     "status": "completed"
    },
    "tags": []
   },
   "outputs": [
    {
     "data": {
      "text/plain": [
       "{'saleYear': 0.8764087968944265,\n",
       " 'saleElapsed': 0.8725683520015458,\n",
       " 'ProductGroupDesc': 0.8767291716802044,\n",
       " 'ProductGroup': 0.8771671162078598,\n",
       " 'fiModelDesc': 0.8759015665441356,\n",
       " 'fiBaseModel': 0.8759546821890264,\n",
       " 'Hydraulics_Flow': 0.87703832041101,\n",
       " 'Grouser_Tracks': 0.8775237626485679,\n",
       " 'Coupler_System': 0.8774153908030318}"
      ]
     },
     "execution_count": 53,
     "metadata": {},
     "output_type": "execute_result"
    }
   ],
   "source": [
    "{c:get_oob(xs_imp.drop(c, axis=1)) for c in (\n",
    "    'saleYear', 'saleElapsed', 'ProductGroupDesc', 'ProductGroup',\n",
    "    'fiModelDesc', 'fiBaseModel',\n",
    "    'Hydraulics_Flow', 'Grouser_Tracks', 'Coupler_System'\n",
    ")}"
   ]
  },
  {
   "cell_type": "markdown",
   "id": "d80146a5",
   "metadata": {
    "papermill": {
     "duration": 0.120275,
     "end_time": "2021-07-27T10:01:32.225779",
     "exception": false,
     "start_time": "2021-07-27T10:01:32.105504",
     "status": "completed"
    },
    "tags": []
   },
   "source": [
    "* There appears to be 5 variables that we don't need."
   ]
  },
  {
   "cell_type": "code",
   "execution_count": 54,
   "id": "c1137c24",
   "metadata": {
    "execution": {
     "iopub.execute_input": "2021-07-27T10:01:32.481746Z",
     "iopub.status.busy": "2021-07-27T10:01:32.481070Z",
     "iopub.status.idle": "2021-07-27T10:01:37.931553Z",
     "shell.execute_reply": "2021-07-27T10:01:37.930920Z",
     "shell.execute_reply.started": "2021-07-27T09:34:10.075763Z"
    },
    "papermill": {
     "duration": 5.585247,
     "end_time": "2021-07-27T10:01:37.931701",
     "exception": false,
     "start_time": "2021-07-27T10:01:32.346454",
     "status": "completed"
    },
    "tags": []
   },
   "outputs": [
    {
     "data": {
      "text/plain": [
       "0.8741397127277142"
      ]
     },
     "execution_count": 54,
     "metadata": {},
     "output_type": "execute_result"
    }
   ],
   "source": [
    "to_drop = ['saleYear', 'ProductGroupDesc', 'fiBaseModel', 'Grouser_Tracks']\n",
    "get_oob(xs_imp.drop(to_drop, axis=1))"
   ]
  },
  {
   "cell_type": "markdown",
   "id": "62a780b7",
   "metadata": {
    "papermill": {
     "duration": 0.124459,
     "end_time": "2021-07-27T10:01:38.178068",
     "exception": false,
     "start_time": "2021-07-27T10:01:38.053609",
     "status": "completed"
    },
    "tags": []
   },
   "source": [
    "* It's pretty similar to model with all the fields."
   ]
  },
  {
   "cell_type": "code",
   "execution_count": 55,
   "id": "a8ce4b2c",
   "metadata": {
    "execution": {
     "iopub.execute_input": "2021-07-27T10:01:38.436417Z",
     "iopub.status.busy": "2021-07-27T10:01:38.435581Z",
     "iopub.status.idle": "2021-07-27T10:01:38.438609Z",
     "shell.execute_reply": "2021-07-27T10:01:38.438069Z",
     "shell.execute_reply.started": "2021-07-27T09:34:15.593519Z"
    },
    "papermill": {
     "duration": 0.138477,
     "end_time": "2021-07-27T10:01:38.438749",
     "exception": false,
     "start_time": "2021-07-27T10:01:38.300272",
     "status": "completed"
    },
    "tags": []
   },
   "outputs": [],
   "source": [
    "xs_final = xs_imp.drop(to_drop,axis=1)\n",
    "valid_xs_final = valid_xs_imp.drop(to_drop, axis=1)"
   ]
  },
  {
   "cell_type": "code",
   "execution_count": 56,
   "id": "964bc641",
   "metadata": {
    "execution": {
     "iopub.execute_input": "2021-07-27T10:01:38.687295Z",
     "iopub.status.busy": "2021-07-27T10:01:38.686564Z",
     "iopub.status.idle": "2021-07-27T10:01:54.849259Z",
     "shell.execute_reply": "2021-07-27T10:01:54.849854Z",
     "shell.execute_reply.started": "2021-07-27T09:34:15.609509Z"
    },
    "papermill": {
     "duration": 16.29116,
     "end_time": "2021-07-27T10:01:54.850058",
     "exception": false,
     "start_time": "2021-07-27T10:01:38.558898",
     "status": "completed"
    },
    "tags": []
   },
   "outputs": [
    {
     "data": {
      "text/plain": [
       "(0.183177, 0.232413)"
      ]
     },
     "execution_count": 56,
     "metadata": {},
     "output_type": "execute_result"
    }
   ],
   "source": [
    "m = rf(xs_final, y)\n",
    "m_rmse(m, xs_final, y), m_rmse(m, valid_xs_final, valid_y)"
   ]
  },
  {
   "cell_type": "markdown",
   "id": "3f9eea84",
   "metadata": {
    "papermill": {
     "duration": 0.120356,
     "end_time": "2021-07-27T10:01:55.095004",
     "exception": false,
     "start_time": "2021-07-27T10:01:54.974648",
     "status": "completed"
    },
    "tags": []
   },
   "source": [
    "## 01:24:13 - Partial dependence\n",
    "\n",
    "* The next thing to learn about, for the columns that are most important, what is relationship between that column and "
   ]
  },
  {
   "cell_type": "code",
   "execution_count": 57,
   "id": "d1592b50",
   "metadata": {
    "execution": {
     "iopub.execute_input": "2021-07-27T10:01:55.343593Z",
     "iopub.status.busy": "2021-07-27T10:01:55.342639Z",
     "iopub.status.idle": "2021-07-27T10:01:55.504503Z",
     "shell.execute_reply": "2021-07-27T10:01:55.505082Z",
     "shell.execute_reply.started": "2021-07-27T09:34:32.579770Z"
    },
    "papermill": {
     "duration": 0.286712,
     "end_time": "2021-07-27T10:01:55.505261",
     "exception": false,
     "start_time": "2021-07-27T10:01:55.218549",
     "status": "completed"
    },
    "tags": []
   },
   "outputs": [
    {
     "data": {
      "image/png": "[encoded data removed]",
      "text/plain": [
       "<Figure size 432x288 with 1 Axes>"
      ]
     },
     "metadata": {
      "needs_background": "light"
     },
     "output_type": "display_data"
    }
   ],
   "source": [
    "p = valid_xs_final['ProductSize'].value_counts(sort=False).plot.barh()\n",
    "c = to.classes['ProductSize']\n",
    "plt.yticks(range(len(c)), c)\n",
    "plt.show()"
   ]
  },
  {
   "cell_type": "markdown",
   "id": "def67efd",
   "metadata": {
    "papermill": {
     "duration": 0.124958,
     "end_time": "2021-07-27T10:01:55.755460",
     "exception": false,
     "start_time": "2021-07-27T10:01:55.630502",
     "status": "completed"
    },
    "tags": []
   },
   "source": [
    "* Can do the same thing for `YearMade` but have to make a histogram:"
   ]
  },
  {
   "cell_type": "code",
   "execution_count": 58,
   "id": "c7097998",
   "metadata": {
    "execution": {
     "iopub.execute_input": "2021-07-27T10:01:56.035847Z",
     "iopub.status.busy": "2021-07-27T10:01:56.035197Z",
     "iopub.status.idle": "2021-07-27T10:01:56.192400Z",
     "shell.execute_reply": "2021-07-27T10:01:56.191735Z",
     "shell.execute_reply.started": "2021-07-27T09:34:32.745769Z"
    },
    "papermill": {
     "duration": 0.311461,
     "end_time": "2021-07-27T10:01:56.192553",
     "exception": false,
     "start_time": "2021-07-27T10:01:55.881092",
     "status": "completed"
    },
    "tags": []
   },
   "outputs": [
    {
     "data": {
      "image/png": "[encoded data removed]",
      "text/plain": [
       "<Figure size 432x288 with 1 Axes>"
      ]
     },
     "metadata": {
      "needs_background": "light"
     },
     "output_type": "display_data"
    }
   ],
   "source": [
    "ax = (valid_xs_final['YearMade'][valid_xs_final['YearMade'] > 1000]).hist()"
   ]
  },
  {
   "cell_type": "markdown",
   "id": "66a4ad8e",
   "metadata": {
    "papermill": {
     "duration": 0.127645,
     "end_time": "2021-07-27T10:01:56.449380",
     "exception": false,
     "start_time": "2021-07-27T10:01:56.321735",
     "status": "completed"
    },
    "tags": []
   },
   "source": [
    "* We can look at a partial dependance plot.\n",
    "  * As YearMade increases, the predicted sale price also increases:"
   ]
  },
  {
   "cell_type": "code",
   "execution_count": 59,
   "id": "98c409cd",
   "metadata": {
    "execution": {
     "iopub.execute_input": "2021-07-27T10:01:56.707982Z",
     "iopub.status.busy": "2021-07-27T10:01:56.707345Z",
     "iopub.status.idle": "2021-07-27T10:01:57.497259Z",
     "shell.execute_reply": "2021-07-27T10:01:57.497771Z",
     "shell.execute_reply.started": "2021-07-27T09:34:32.938855Z"
    },
    "papermill": {
     "duration": 0.921443,
     "end_time": "2021-07-27T10:01:57.497946",
     "exception": false,
     "start_time": "2021-07-27T10:01:56.576503",
     "status": "completed"
    },
    "tags": []
   },
   "outputs": [
    {
     "data": {
      "text/plain": [
       "<sklearn.inspection._plot.partial_dependence.PartialDependenceDisplay at 0x7f4630afdd10>"
      ]
     },
     "execution_count": 59,
     "metadata": {},
     "output_type": "execute_result"
    },
    {
     "data": {
      "image/png": "[encoded data removed]",
      "text/plain": [
       "<Figure size 864x288 with 3 Axes>"
      ]
     },
     "metadata": {
      "needs_background": "light"
     },
     "output_type": "display_data"
    }
   ],
   "source": [
    "from sklearn.inspection import plot_partial_dependence\n",
    "\n",
    "fig, ax = plt.subplots(figsize=(12, 4))\n",
    "plot_partial_dependence(m, valid_xs_final[valid_xs_final['YearMade'] > 1000], ['YearMade', 'ProductSize'],\n",
    "                       grid_resolution=20, ax=ax)"
   ]
  },
  {
   "cell_type": "markdown",
   "id": "3304975b",
   "metadata": {
    "papermill": {
     "duration": 0.128867,
     "end_time": "2021-07-27T10:01:57.755778",
     "exception": false,
     "start_time": "2021-07-27T10:01:57.626911",
     "status": "completed"
    },
    "tags": []
   },
   "source": [
    "* Can see there's a clear relationship between YearMade and sale price.\n",
    "* Want to answer the question: all other things being equal, how does `YearMade` impact results?\n",
    "* How it works:\n",
    "  * In our dataset, replace all values with 1950 and take the average.\n",
    "  * Then do that for all YearMade values.\n",
    "  * Then plot the results.\n",
    "* For the productsize example, the lowest costs are apparently the ones with no size label.\n",
    "  * We'd want to learn why that is."
   ]
  },
  {
   "cell_type": "markdown",
   "id": "ae942e68",
   "metadata": {
    "papermill": {
     "duration": 0.13053,
     "end_time": "2021-07-27T10:01:58.016905",
     "exception": false,
     "start_time": "2021-07-27T10:01:57.886375",
     "status": "completed"
    },
    "tags": []
   },
   "source": [
    "## 01:29:29 - Tree interpreter\n",
    "\n",
    "* Last question to answer: for predictions from a single row of data, what are the most important factors that influence the decision?\n",
    "  * Can use treeinterpreter"
   ]
  },
  {
   "cell_type": "code",
   "execution_count": 60,
   "id": "fa968fc0",
   "metadata": {
    "execution": {
     "iopub.execute_input": "2021-07-27T10:01:58.296360Z",
     "iopub.status.busy": "2021-07-27T10:01:58.281852Z",
     "iopub.status.idle": "2021-07-27T10:02:16.917609Z",
     "shell.execute_reply": "2021-07-27T10:02:16.916869Z",
     "shell.execute_reply.started": "2021-07-27T09:34:33.763372Z"
    },
    "papermill": {
     "duration": 18.770105,
     "end_time": "2021-07-27T10:02:16.917767",
     "exception": false,
     "start_time": "2021-07-27T10:01:58.147662",
     "status": "completed"
    },
    "tags": []
   },
   "outputs": [],
   "source": [
    "!pip install treeinterpreter  &> /dev/null\n",
    "!pip install waterfallcharts  &> /dev/null"
   ]
  },
  {
   "cell_type": "markdown",
   "id": "72483abf",
   "metadata": {
    "papermill": {
     "duration": 0.125947,
     "end_time": "2021-07-27T10:02:17.169522",
     "exception": false,
     "start_time": "2021-07-27T10:02:17.043575",
     "status": "completed"
    },
    "tags": []
   },
   "source": [
    "* Works similar to computing feature importance:\n",
    "  * Put row of data through first decision tree and see what split is used at each point.\n",
    "  * For each split, can see what increase or decrease in prediction.\n",
    "  * Do for every tree and add total chainge in importance."
   ]
  },
  {
   "cell_type": "code",
   "execution_count": 61,
   "id": "dabd19be",
   "metadata": {
    "execution": {
     "iopub.execute_input": "2021-07-27T10:02:17.426486Z",
     "iopub.status.busy": "2021-07-27T10:02:17.425501Z",
     "iopub.status.idle": "2021-07-27T10:02:17.428709Z",
     "shell.execute_reply": "2021-07-27T10:02:17.428164Z",
     "shell.execute_reply.started": "2021-07-27T09:34:52.819766Z"
    },
    "papermill": {
     "duration": 0.133454,
     "end_time": "2021-07-27T10:02:17.428851",
     "exception": false,
     "start_time": "2021-07-27T10:02:17.295397",
     "status": "completed"
    },
    "tags": []
   },
   "outputs": [],
   "source": [
    "row = valid_xs_final.iloc[:5]"
   ]
  },
  {
   "cell_type": "code",
   "execution_count": 62,
   "id": "63b7a51d",
   "metadata": {
    "execution": {
     "iopub.execute_input": "2021-07-27T10:02:17.682875Z",
     "iopub.status.busy": "2021-07-27T10:02:17.682171Z",
     "iopub.status.idle": "2021-07-27T10:02:32.500815Z",
     "shell.execute_reply": "2021-07-27T10:02:32.500260Z",
     "shell.execute_reply.started": "2021-07-27T09:34:52.828484Z"
    },
    "papermill": {
     "duration": 14.947747,
     "end_time": "2021-07-27T10:02:32.500973",
     "exception": false,
     "start_time": "2021-07-27T10:02:17.553226",
     "status": "completed"
    },
    "tags": []
   },
   "outputs": [],
   "source": [
    "from treeinterpreter import treeinterpreter\n",
    "import waterfall_chart\n",
    "\n",
    "prediction, bias, contributions = treeinterpreter.predict(m, row.values)"
   ]
  },
  {
   "cell_type": "markdown",
   "id": "7bc28b87",
   "metadata": {
    "papermill": {
     "duration": 0.126444,
     "end_time": "2021-07-27T10:02:32.756665",
     "exception": false,
     "start_time": "2021-07-27T10:02:32.630221",
     "status": "completed"
    },
    "tags": []
   },
   "source": [
    "* `prediction` is the prediction the RF makes.\n",
    "* `bias` is the prediction based on taking the mean of dependant variable.\n",
    "* `contributions` tells total change in prediction due to indepedant variables.\n",
    "  * sum of contributions + bias should be equal to prediction."
   ]
  },
  {
   "cell_type": "code",
   "execution_count": 63,
   "id": "43e0bf64",
   "metadata": {
    "execution": {
     "iopub.execute_input": "2021-07-27T10:02:33.017522Z",
     "iopub.status.busy": "2021-07-27T10:02:33.016812Z",
     "iopub.status.idle": "2021-07-27T10:02:33.020171Z",
     "shell.execute_reply": "2021-07-27T10:02:33.020684Z",
     "shell.execute_reply.started": "2021-07-27T09:35:09.078921Z"
    },
    "papermill": {
     "duration": 0.136361,
     "end_time": "2021-07-27T10:02:33.020875",
     "exception": false,
     "start_time": "2021-07-27T10:02:32.884514",
     "status": "completed"
    },
    "tags": []
   },
   "outputs": [
    {
     "data": {
      "text/plain": [
       "(array([10.01493858]), 10.104455112013337, -0.08951653563792852)"
      ]
     },
     "execution_count": 63,
     "metadata": {},
     "output_type": "execute_result"
    }
   ],
   "source": [
    "prediction[0], bias[0], contributions[0].sum()"
   ]
  },
  {
   "cell_type": "markdown",
   "id": "af3f463f",
   "metadata": {
    "papermill": {
     "duration": 0.127983,
     "end_time": "2021-07-27T10:02:33.275436",
     "exception": false,
     "start_time": "2021-07-27T10:02:33.147453",
     "status": "completed"
    },
    "tags": []
   },
   "source": [
    "* Can then plot it like this:"
   ]
  },
  {
   "cell_type": "code",
   "execution_count": 64,
   "id": "dfe76b4e",
   "metadata": {
    "execution": {
     "iopub.execute_input": "2021-07-27T10:02:33.530800Z",
     "iopub.status.busy": "2021-07-27T10:02:33.530144Z",
     "iopub.status.idle": "2021-07-27T10:02:33.895452Z",
     "shell.execute_reply": "2021-07-27T10:02:33.895914Z",
     "shell.execute_reply.started": "2021-07-27T09:35:09.088415Z"
    },
    "papermill": {
     "duration": 0.494008,
     "end_time": "2021-07-27T10:02:33.896124",
     "exception": false,
     "start_time": "2021-07-27T10:02:33.402116",
     "status": "completed"
    },
    "tags": []
   },
   "outputs": [
    {
     "data": {
      "text/plain": [
       "<module 'matplotlib.pyplot' from '/opt/conda/lib/python3.7/site-packages/matplotlib/pyplot.py'>"
      ]
     },
     "execution_count": 64,
     "metadata": {},
     "output_type": "execute_result"
    },
    {
     "data": {
      "image/png": "[encoded data removed]",
      "text/plain": [
       "<Figure size 432x288 with 1 Axes>"
      ]
     },
     "metadata": {
      "needs_background": "light"
     },
     "output_type": "display_data"
    }
   ],
   "source": [
    "waterfall_chart.plot(\n",
    "    valid_xs_final.columns, contributions[0], threshold=0.08,\n",
    "    rotation_value=45, formatting='{:,.3f}')"
   ]
  },
  {
   "cell_type": "markdown",
   "id": "8f750e40",
   "metadata": {
    "papermill": {
     "duration": 0.126423,
     "end_time": "2021-07-27T10:02:34.151237",
     "exception": false,
     "start_time": "2021-07-27T10:02:34.024814",
     "status": "completed"
    },
    "tags": []
   },
   "source": [
    "* Start at 0, which is the average log sale price of whole dataset (they call the bias).\n",
    "  * YearMade makes the prediction lower.\n",
    "  * ProductSize has positive influence.\n",
    "  * Couple_System has positive influence.\n",
    "  * ModelID has positive.\n",
    "  * fiModelDesc positive.\n",
    "  * etc\n",
    "* Useful in production, as it can help you understand why predictions are being made."
   ]
  },
  {
   "cell_type": "markdown",
   "id": "b5d3841f",
   "metadata": {
    "papermill": {
     "duration": 0.127919,
     "end_time": "2021-07-27T10:02:34.405728",
     "exception": false,
     "start_time": "2021-07-27T10:02:34.277809",
     "status": "completed"
    },
    "tags": []
   },
   "source": [
    "## 01:34:05 - Extrapolation"
   ]
  },
  {
   "cell_type": "code",
   "execution_count": 65,
   "id": "c6a3c62c",
   "metadata": {
    "execution": {
     "iopub.execute_input": "2021-07-27T10:02:34.665238Z",
     "iopub.status.busy": "2021-07-27T10:02:34.664245Z",
     "iopub.status.idle": "2021-07-27T10:02:34.909254Z",
     "shell.execute_reply": "2021-07-27T10:02:34.909988Z",
     "shell.execute_reply.started": "2021-07-27T09:35:09.534004Z"
    },
    "papermill": {
     "duration": 0.377261,
     "end_time": "2021-07-27T10:02:34.910310",
     "exception": false,
     "start_time": "2021-07-27T10:02:34.533049",
     "status": "completed"
    },
    "tags": []
   },
   "outputs": [
    {
     "data": {
      "text/plain": [
       "<matplotlib.collections.PathCollection at 0x7f4630dfdc10>"
      ]
     },
     "execution_count": 65,
     "metadata": {},
     "output_type": "execute_result"
    },
    {
     "data": {
      "image/png": "[encoded data removed]",
      "text/plain": [
       "<Figure size 432x288 with 1 Axes>"
      ]
     },
     "metadata": {
      "needs_background": "light"
     },
     "output_type": "display_data"
    }
   ],
   "source": [
    "np.random.seed(420)\n",
    "\n",
    "x_lin = torch.linspace(0, 20, steps=40)\n",
    "y_lin = x_lin + torch.randn_like(x_lin)\n",
    "plt.scatter(x_lin, y_lin)"
   ]
  },
  {
   "cell_type": "markdown",
   "id": "b54020a2",
   "metadata": {
    "papermill": {
     "duration": 0.128464,
     "end_time": "2021-07-27T10:02:35.182840",
     "exception": false,
     "start_time": "2021-07-27T10:02:35.054376",
     "status": "completed"
    },
    "tags": []
   },
   "source": [
    "* We only have one dependant variable, PyTroch expects a matrix. So we can use `unsqueeze` to add a dimension. Change from `[40]` to `[40, 1]`"
   ]
  },
  {
   "cell_type": "code",
   "execution_count": 66,
   "id": "8beb93b7",
   "metadata": {
    "execution": {
     "iopub.execute_input": "2021-07-27T10:02:35.447196Z",
     "iopub.status.busy": "2021-07-27T10:02:35.446286Z",
     "iopub.status.idle": "2021-07-27T10:02:35.450823Z",
     "shell.execute_reply": "2021-07-27T10:02:35.450212Z",
     "shell.execute_reply.started": "2021-07-27T09:35:09.729345Z"
    },
    "papermill": {
     "duration": 0.140882,
     "end_time": "2021-07-27T10:02:35.450962",
     "exception": false,
     "start_time": "2021-07-27T10:02:35.310080",
     "status": "completed"
    },
    "tags": []
   },
   "outputs": [
    {
     "data": {
      "text/plain": [
       "(torch.Size([40]), torch.Size([40, 1]))"
      ]
     },
     "execution_count": 66,
     "metadata": {},
     "output_type": "execute_result"
    }
   ],
   "source": [
    "xs_lin = x_lin.unsqueeze(1)\n",
    "x_lin.shape, xs_lin.shape"
   ]
  },
  {
   "cell_type": "markdown",
   "id": "0e7f0623",
   "metadata": {
    "papermill": {
     "duration": 0.126719,
     "end_time": "2021-07-27T10:02:35.704893",
     "exception": false,
     "start_time": "2021-07-27T10:02:35.578174",
     "status": "completed"
    },
    "tags": []
   },
   "source": [
    "* Can also achieve this with the special value `None`:"
   ]
  },
  {
   "cell_type": "code",
   "execution_count": 67,
   "id": "ca4ed556",
   "metadata": {
    "execution": {
     "iopub.execute_input": "2021-07-27T10:02:35.967721Z",
     "iopub.status.busy": "2021-07-27T10:02:35.966793Z",
     "iopub.status.idle": "2021-07-27T10:02:35.971300Z",
     "shell.execute_reply": "2021-07-27T10:02:35.970610Z",
     "shell.execute_reply.started": "2021-07-27T09:35:09.738562Z"
    },
    "papermill": {
     "duration": 0.139464,
     "end_time": "2021-07-27T10:02:35.971450",
     "exception": false,
     "start_time": "2021-07-27T10:02:35.831986",
     "status": "completed"
    },
    "tags": []
   },
   "outputs": [
    {
     "data": {
      "text/plain": [
       "torch.Size([40, 1])"
      ]
     },
     "execution_count": 67,
     "metadata": {},
     "output_type": "execute_result"
    }
   ],
   "source": [
    "x_lin[:,None].shape"
   ]
  },
  {
   "cell_type": "markdown",
   "id": "57b54e8f",
   "metadata": {
    "papermill": {
     "duration": 0.12996,
     "end_time": "2021-07-27T10:02:36.228376",
     "exception": false,
     "start_time": "2021-07-27T10:02:36.098416",
     "status": "completed"
    },
    "tags": []
   },
   "source": [
    "* Can create a Random Forest for the first 30 data points:"
   ]
  },
  {
   "cell_type": "code",
   "execution_count": 68,
   "id": "d3cd2aca",
   "metadata": {
    "execution": {
     "iopub.execute_input": "2021-07-27T10:02:36.547123Z",
     "iopub.status.busy": "2021-07-27T10:02:36.517462Z",
     "iopub.status.idle": "2021-07-27T10:02:36.661781Z",
     "shell.execute_reply": "2021-07-27T10:02:36.662328Z",
     "shell.execute_reply.started": "2021-07-27T09:35:09.761668Z"
    },
    "papermill": {
     "duration": 0.30472,
     "end_time": "2021-07-27T10:02:36.662544",
     "exception": false,
     "start_time": "2021-07-27T10:02:36.357824",
     "status": "completed"
    },
    "tags": []
   },
   "outputs": [],
   "source": [
    "m_lin = RandomForestRegressor().fit(xs_lin[:30], y_lin[:30])"
   ]
  },
  {
   "cell_type": "markdown",
   "id": "163027fd",
   "metadata": {
    "papermill": {
     "duration": 0.128726,
     "end_time": "2021-07-27T10:02:36.919576",
     "exception": false,
     "start_time": "2021-07-27T10:02:36.790850",
     "status": "completed"
    },
    "tags": []
   },
   "source": [
    "* test the model on the entire dataset:"
   ]
  },
  {
   "cell_type": "code",
   "execution_count": 69,
   "id": "8a38e224",
   "metadata": {
    "execution": {
     "iopub.execute_input": "2021-07-27T10:02:37.212452Z",
     "iopub.status.busy": "2021-07-27T10:02:37.209053Z",
     "iopub.status.idle": "2021-07-27T10:02:37.407525Z",
     "shell.execute_reply": "2021-07-27T10:02:37.406758Z",
     "shell.execute_reply.started": "2021-07-27T09:35:09.939765Z"
    },
    "papermill": {
     "duration": 0.357768,
     "end_time": "2021-07-27T10:02:37.407736",
     "exception": false,
     "start_time": "2021-07-27T10:02:37.049968",
     "status": "completed"
    },
    "tags": []
   },
   "outputs": [
    {
     "data": {
      "text/plain": [
       "<matplotlib.collections.PathCollection at 0x7f462b3fb210>"
      ]
     },
     "execution_count": 69,
     "metadata": {},
     "output_type": "execute_result"
    },
    {
     "data": {
      "image/png": "[encoded data removed]",
      "text/plain": [
       "<Figure size 432x288 with 1 Axes>"
      ]
     },
     "metadata": {
      "needs_background": "light"
     },
     "output_type": "display_data"
    }
   ],
   "source": [
    "plt.scatter(x_lin, y_lin, 20)\n",
    "plt.scatter(x_lin, m_lin.predict(xs_lin), color='red', alpha=0.5)"
   ]
  },
  {
   "cell_type": "markdown",
   "id": "83d01df8",
   "metadata": {
    "papermill": {
     "duration": 0.130119,
     "end_time": "2021-07-27T10:02:37.668870",
     "exception": false,
     "start_time": "2021-07-27T10:02:37.538751",
     "status": "completed"
    },
    "tags": []
   },
   "source": [
    "* The Random Forest is unable to extrapolate outside of bounds of data from training set.\n",
    "* Therefore, we need to ensure that our validation set doesn't contain [[Out-of-Domain]] data."
   ]
  },
  {
   "cell_type": "markdown",
   "id": "6dc40525",
   "metadata": {
    "papermill": {
     "duration": 0.13044,
     "end_time": "2021-07-27T10:02:37.931221",
     "exception": false,
     "start_time": "2021-07-27T10:02:37.800781",
     "status": "completed"
    },
    "tags": []
   },
   "source": [
    "## 01:37:41 - Finding out of domain data\n",
    "\n",
    "* Technique known as [[Adversarial Validation]].\n",
    "* Can use a random forest to prediction whether data is in validation or test set."
   ]
  },
  {
   "cell_type": "code",
   "execution_count": 70,
   "id": "68cd467c",
   "metadata": {
    "execution": {
     "iopub.execute_input": "2021-07-27T10:02:38.201832Z",
     "iopub.status.busy": "2021-07-27T10:02:38.200731Z",
     "iopub.status.idle": "2021-07-27T10:02:41.780082Z",
     "shell.execute_reply": "2021-07-27T10:02:41.780573Z",
     "shell.execute_reply.started": "2021-07-27T09:35:10.146883Z"
    },
    "papermill": {
     "duration": 3.717924,
     "end_time": "2021-07-27T10:02:41.780761",
     "exception": false,
     "start_time": "2021-07-27T10:02:38.062837",
     "status": "completed"
    },
    "tags": []
   },
   "outputs": [],
   "source": [
    "df_dom = pd.concat([xs_final, valid_xs_final])\n",
    "is_valid = np.array([0] * len(xs_final) + [1] * len(valid_xs_final))\n",
    "\n",
    "m = rf(df_dom, is_valid)"
   ]
  },
  {
   "cell_type": "markdown",
   "id": "66a6b73e",
   "metadata": {
    "papermill": {
     "duration": 0.127544,
     "end_time": "2021-07-27T10:02:42.038112",
     "exception": false,
     "start_time": "2021-07-27T10:02:41.910568",
     "status": "completed"
    },
    "tags": []
   },
   "source": [
    "* We can use feature importance to see what's driving the difference:"
   ]
  },
  {
   "cell_type": "code",
   "execution_count": 71,
   "id": "9b3249af",
   "metadata": {
    "execution": {
     "iopub.execute_input": "2021-07-27T10:02:42.301274Z",
     "iopub.status.busy": "2021-07-27T10:02:42.300261Z",
     "iopub.status.idle": "2021-07-27T10:02:42.416308Z",
     "shell.execute_reply": "2021-07-27T10:02:42.415768Z",
     "shell.execute_reply.started": "2021-07-27T09:35:13.948093Z"
    },
    "papermill": {
     "duration": 0.249504,
     "end_time": "2021-07-27T10:02:42.416458",
     "exception": false,
     "start_time": "2021-07-27T10:02:42.166954",
     "status": "completed"
    },
    "tags": []
   },
   "outputs": [
    {
     "data": {
      "text/html": [
       "<div>\n",
       "<style scoped>\n",
       "    .dataframe tbody tr th:only-of-type {\n",
       "        vertical-align: middle;\n",
       "    }\n",
       "\n",
       "    .dataframe tbody tr th {\n",
       "        vertical-align: top;\n",
       "    }\n",
       "\n",
       "    .dataframe thead th {\n",
       "        text-align: right;\n",
       "    }\n",
       "</style>\n",
       "<table border=\"1\" class=\"dataframe\">\n",
       "  <thead>\n",
       "    <tr style=\"text-align: right;\">\n",
       "      <th></th>\n",
       "      <th>cols</th>\n",
       "      <th>imp</th>\n",
       "    </tr>\n",
       "  </thead>\n",
       "  <tbody>\n",
       "    <tr>\n",
       "      <th>6</th>\n",
       "      <td>saleElapsed</td>\n",
       "      <td>0.872770</td>\n",
       "    </tr>\n",
       "    <tr>\n",
       "      <th>9</th>\n",
       "      <td>SalesID</td>\n",
       "      <td>0.085393</td>\n",
       "    </tr>\n",
       "    <tr>\n",
       "      <th>12</th>\n",
       "      <td>MachineID</td>\n",
       "      <td>0.037327</td>\n",
       "    </tr>\n",
       "    <tr>\n",
       "      <th>10</th>\n",
       "      <td>Enclosure</td>\n",
       "      <td>0.000926</td>\n",
       "    </tr>\n",
       "    <tr>\n",
       "      <th>0</th>\n",
       "      <td>YearMade</td>\n",
       "      <td>0.000847</td>\n",
       "    </tr>\n",
       "    <tr>\n",
       "      <th>16</th>\n",
       "      <td>Tire_Size</td>\n",
       "      <td>0.000720</td>\n",
       "    </tr>\n",
       "  </tbody>\n",
       "</table>\n",
       "</div>"
      ],
      "text/plain": [
       "           cols       imp\n",
       "6   saleElapsed  0.872770\n",
       "9       SalesID  0.085393\n",
       "12    MachineID  0.037327\n",
       "10    Enclosure  0.000926\n",
       "0      YearMade  0.000847\n",
       "16    Tire_Size  0.000720"
      ]
     },
     "execution_count": 71,
     "metadata": {},
     "output_type": "execute_result"
    }
   ],
   "source": [
    "rf_feat_important(m, df_dom)[:6]"
   ]
  },
  {
   "cell_type": "markdown",
   "id": "3e25f89e",
   "metadata": {
    "papermill": {
     "duration": 0.128416,
     "end_time": "2021-07-27T10:02:42.673814",
     "exception": false,
     "start_time": "2021-07-27T10:02:42.545398",
     "status": "completed"
    },
    "tags": []
   },
   "source": [
    "* `saleElapsed` is clear, as that's how we split the train and valid set.\n",
    "* `SalesID` and `MachineID` are likely not random and increase over time.\n",
    "* What happens if we remove those columns from the model?"
   ]
  },
  {
   "cell_type": "code",
   "execution_count": 72,
   "id": "17cb59aa",
   "metadata": {
    "execution": {
     "iopub.execute_input": "2021-07-27T10:02:42.941932Z",
     "iopub.status.busy": "2021-07-27T10:02:42.941233Z",
     "iopub.status.idle": "2021-07-27T10:03:40.459404Z",
     "shell.execute_reply": "2021-07-27T10:03:40.459964Z",
     "shell.execute_reply.started": "2021-07-27T09:35:14.068131Z"
    },
    "papermill": {
     "duration": 57.65634,
     "end_time": "2021-07-27T10:03:40.460445",
     "exception": false,
     "start_time": "2021-07-27T10:02:42.804105",
     "status": "completed"
    },
    "tags": []
   },
   "outputs": [
    {
     "name": "stdout",
     "output_type": "stream",
     "text": [
      "orig 0.232839\n",
      "SalesID 0.23163\n",
      "saleElapsed 0.235513\n",
      "MachineID 0.231471\n"
     ]
    }
   ],
   "source": [
    "m = rf(xs_final, y)\n",
    "print('orig', m_rmse(m, valid_xs_final, valid_y))\n",
    "\n",
    "for c in ('SalesID', 'saleElapsed', 'MachineID'):\n",
    "    m = rf(xs_final.drop(c, axis=1), y)\n",
    "    print(c, m_rmse(m, valid_xs_final.drop(c, axis=1), valid_y))"
   ]
  },
  {
   "cell_type": "markdown",
   "id": "6bfa7521",
   "metadata": {
    "papermill": {
     "duration": 0.136728,
     "end_time": "2021-07-27T10:03:40.748845",
     "exception": false,
     "start_time": "2021-07-27T10:03:40.612117",
     "status": "completed"
    },
    "tags": []
   },
   "source": [
    "* Looks like we can remove `SalesID` and `MachineID` without losing accuracy."
   ]
  },
  {
   "cell_type": "code",
   "execution_count": 73,
   "id": "d9e04386",
   "metadata": {
    "execution": {
     "iopub.execute_input": "2021-07-27T10:03:41.056000Z",
     "iopub.status.busy": "2021-07-27T10:03:41.054983Z",
     "iopub.status.idle": "2021-07-27T10:03:51.229613Z",
     "shell.execute_reply": "2021-07-27T10:03:51.228897Z",
     "shell.execute_reply.started": "2021-07-27T09:36:11.896900Z"
    },
    "papermill": {
     "duration": 10.326633,
     "end_time": "2021-07-27T10:03:51.229768",
     "exception": false,
     "start_time": "2021-07-27T10:03:40.903135",
     "status": "completed"
    },
    "tags": []
   },
   "outputs": [
    {
     "data": {
      "text/plain": [
       "0.229917"
      ]
     },
     "execution_count": 73,
     "metadata": {},
     "output_type": "execute_result"
    }
   ],
   "source": [
    "time_vars = ['SalesID', 'MachineID']\n",
    "xs_final_time = xs_final.drop(time_vars, axis=1)\n",
    "valid_xs_time = valid_xs_final.drop(time_vars, axis=1)\n",
    "\n",
    "m = rf(xs_final_time, y)\n",
    "m_rmse(m, valid_xs_time, valid_y)"
   ]
  },
  {
   "cell_type": "markdown",
   "id": "5ebc599d",
   "metadata": {
    "papermill": {
     "duration": 0.130985,
     "end_time": "2021-07-27T10:03:51.491253",
     "exception": false,
     "start_time": "2021-07-27T10:03:51.360268",
     "status": "completed"
    },
    "tags": []
   },
   "source": [
    "* What's more, the model will be more resiliant over time.\n",
    "* We can also see that the sales for the model are mostly in the last year:"
   ]
  },
  {
   "cell_type": "code",
   "execution_count": 74,
   "id": "b549bfb1",
   "metadata": {
    "execution": {
     "iopub.execute_input": "2021-07-27T10:03:51.782223Z",
     "iopub.status.busy": "2021-07-27T10:03:51.777611Z",
     "iopub.status.idle": "2021-07-27T10:03:52.001558Z",
     "shell.execute_reply": "2021-07-27T10:03:52.000958Z",
     "shell.execute_reply.started": "2021-07-27T09:36:22.451470Z"
    },
    "papermill": {
     "duration": 0.380088,
     "end_time": "2021-07-27T10:03:52.001754",
     "exception": false,
     "start_time": "2021-07-27T10:03:51.621666",
     "status": "completed"
    },
    "tags": []
   },
   "outputs": [
    {
     "data": {
      "text/plain": [
       "<AxesSubplot:>"
      ]
     },
     "execution_count": 74,
     "metadata": {},
     "output_type": "execute_result"
    },
    {
     "data": {
      "image/png": "[encoded data removed]",
      "text/plain": [
       "<Figure size 432x288 with 1 Axes>"
      ]
     },
     "metadata": {
      "needs_background": "light"
     },
     "output_type": "display_data"
    }
   ],
   "source": [
    "xs['saleYear'].hist()"
   ]
  },
  {
   "cell_type": "code",
   "execution_count": 75,
   "id": "d7178226",
   "metadata": {
    "execution": {
     "iopub.execute_input": "2021-07-27T10:03:52.274159Z",
     "iopub.status.busy": "2021-07-27T10:03:52.273050Z",
     "iopub.status.idle": "2021-07-27T10:03:52.292025Z",
     "shell.execute_reply": "2021-07-27T10:03:52.292567Z",
     "shell.execute_reply.started": "2021-07-27T09:36:22.662683Z"
    },
    "papermill": {
     "duration": 0.158316,
     "end_time": "2021-07-27T10:03:52.292744",
     "exception": false,
     "start_time": "2021-07-27T10:03:52.134428",
     "status": "completed"
    },
    "tags": []
   },
   "outputs": [],
   "source": [
    "filt = xs['saleYear']>2004\n",
    "xs_filt = xs_final_time[filt]\n",
    "y_filt = y[filt]"
   ]
  },
  {
   "cell_type": "markdown",
   "id": "32fe8e62",
   "metadata": {
    "papermill": {
     "duration": 0.130743,
     "end_time": "2021-07-27T10:03:52.556658",
     "exception": false,
     "start_time": "2021-07-27T10:03:52.425915",
     "status": "completed"
    },
    "tags": []
   },
   "source": [
    "* Results of training on a subset:"
   ]
  },
  {
   "cell_type": "code",
   "execution_count": 76,
   "id": "fe73ba42",
   "metadata": {
    "execution": {
     "iopub.execute_input": "2021-07-27T10:03:52.824970Z",
     "iopub.status.busy": "2021-07-27T10:03:52.823860Z",
     "iopub.status.idle": "2021-07-27T10:04:00.780292Z",
     "shell.execute_reply": "2021-07-27T10:04:00.779727Z",
     "shell.execute_reply.started": "2021-07-27T09:36:22.687221Z"
    },
    "papermill": {
     "duration": 8.092866,
     "end_time": "2021-07-27T10:04:00.780452",
     "exception": false,
     "start_time": "2021-07-27T10:03:52.687586",
     "status": "completed"
    },
    "tags": []
   },
   "outputs": [
    {
     "data": {
      "text/plain": [
       "(0.17773, 0.229867)"
      ]
     },
     "execution_count": 76,
     "metadata": {},
     "output_type": "execute_result"
    }
   ],
   "source": [
    "m = rf(xs_filt, y_filt)\n",
    "m_rmse(m, xs_filt, y_filt), m_rmse(m, valid_xs_time, valid_y)"
   ]
  },
  {
   "cell_type": "markdown",
   "id": "03135484",
   "metadata": {
    "papermill": {
     "duration": 0.132378,
     "end_time": "2021-07-27T10:04:01.045582",
     "exception": false,
     "start_time": "2021-07-27T10:04:00.913204",
     "status": "completed"
    },
    "tags": []
   },
   "source": [
    "* The issue of extrapolation doesn't happen with a neural network, as it's using linear layers."
   ]
  },
  {
   "cell_type": "markdown",
   "id": "a45b981b",
   "metadata": {
    "papermill": {
     "duration": 0.13245,
     "end_time": "2021-07-27T10:04:01.311715",
     "exception": false,
     "start_time": "2021-07-27T10:04:01.179265",
     "status": "completed"
    },
    "tags": []
   },
   "source": [
    "## 01:42:26 - Question: how does feature importance relate to correlation?\n",
    "\n",
    "* It doesn't particularly relate.\n",
    "* Correlation is used more with linear models.\n",
    "\n",
    "## 01:43:29 - Using an NN"
   ]
  },
  {
   "cell_type": "code",
   "execution_count": 77,
   "id": "b69a465e",
   "metadata": {
    "execution": {
     "iopub.execute_input": "2021-07-27T10:04:01.583502Z",
     "iopub.status.busy": "2021-07-27T10:04:01.582633Z",
     "iopub.status.idle": "2021-07-27T10:04:01.584665Z",
     "shell.execute_reply": "2021-07-27T10:04:01.585175Z",
     "shell.execute_reply.started": "2021-07-27T09:36:30.985437Z"
    },
    "papermill": {
     "duration": 0.139829,
     "end_time": "2021-07-27T10:04:01.585387",
     "exception": false,
     "start_time": "2021-07-27T10:04:01.445558",
     "status": "completed"
    },
    "tags": []
   },
   "outputs": [],
   "source": [
    "sizes = 'Large', 'Large / Medium', 'Medium', 'Small', 'Mini', 'Compact'\n",
    "dep_var = 'SalePrice'"
   ]
  },
  {
   "cell_type": "code",
   "execution_count": 78,
   "id": "8b906fe9",
   "metadata": {
    "execution": {
     "iopub.execute_input": "2021-07-27T10:04:01.853604Z",
     "iopub.status.busy": "2021-07-27T10:04:01.852913Z",
     "iopub.status.idle": "2021-07-27T10:04:08.280294Z",
     "shell.execute_reply": "2021-07-27T10:04:08.279630Z",
     "shell.execute_reply.started": "2021-07-27T09:36:30.991476Z"
    },
    "papermill": {
     "duration": 6.562858,
     "end_time": "2021-07-27T10:04:08.280439",
     "exception": false,
     "start_time": "2021-07-27T10:04:01.717581",
     "status": "completed"
    },
    "tags": []
   },
   "outputs": [],
   "source": [
    "path = Path('../input/bluebook-for-bulldozers')\n",
    "df_nn = pd.read_csv(path/'TrainAndValid.csv', low_memory=False)\n",
    "df_nn['ProductSize'] = df_nn['ProductSize'].astype('category')\n",
    "df_nn['ProductSize'].cat.set_categories(sizes, ordered=True, inplace=True)\n",
    "df_nn[dep_var] = np.log(df_nn[dep_var])\n",
    "df_nn = add_datepart(df_nn, 'saledate')    "
   ]
  },
  {
   "cell_type": "markdown",
   "id": "4caa747d",
   "metadata": {
    "papermill": {
     "duration": 0.131162,
     "end_time": "2021-07-27T10:04:08.547364",
     "exception": false,
     "start_time": "2021-07-27T10:04:08.416202",
     "status": "completed"
    },
    "tags": []
   },
   "source": [
    "* Can leverage the work to trim unwanted columsn in Random Forest by using same set of columns for neural network:"
   ]
  },
  {
   "cell_type": "code",
   "execution_count": 79,
   "id": "6d317021",
   "metadata": {
    "execution": {
     "iopub.execute_input": "2021-07-27T10:04:08.824625Z",
     "iopub.status.busy": "2021-07-27T10:04:08.822826Z",
     "iopub.status.idle": "2021-07-27T10:04:08.857323Z",
     "shell.execute_reply": "2021-07-27T10:04:08.856614Z",
     "shell.execute_reply.started": "2021-07-27T09:36:38.259783Z"
    },
    "papermill": {
     "duration": 0.177063,
     "end_time": "2021-07-27T10:04:08.857485",
     "exception": false,
     "start_time": "2021-07-27T10:04:08.680422",
     "status": "completed"
    },
    "tags": []
   },
   "outputs": [],
   "source": [
    "df_nn_final = df_nn[list(xs_final_time.columns) + [dep_var]]"
   ]
  },
  {
   "cell_type": "markdown",
   "id": "0245f100",
   "metadata": {
    "papermill": {
     "duration": 0.131272,
     "end_time": "2021-07-27T10:04:09.121423",
     "exception": false,
     "start_time": "2021-07-27T10:04:08.990151",
     "status": "completed"
    },
    "tags": []
   },
   "source": [
    "* Categorical columns are handled differently in neural networks.\n",
    "* To create embeddings, need to know which columns should be categorical.\n",
    "* We'll say that if a column has < 9k variables, we'll say it's categorical."
   ]
  },
  {
   "cell_type": "code",
   "execution_count": 80,
   "id": "2f72c515",
   "metadata": {
    "execution": {
     "iopub.execute_input": "2021-07-27T10:04:09.394800Z",
     "iopub.status.busy": "2021-07-27T10:04:09.393824Z",
     "iopub.status.idle": "2021-07-27T10:04:09.405176Z",
     "shell.execute_reply": "2021-07-27T10:04:09.404495Z",
     "shell.execute_reply.started": "2021-07-27T09:36:38.307584Z"
    },
    "papermill": {
     "duration": 0.149163,
     "end_time": "2021-07-27T10:04:09.405321",
     "exception": false,
     "start_time": "2021-07-27T10:04:09.256158",
     "status": "completed"
    },
    "tags": []
   },
   "outputs": [],
   "source": [
    "cont_nn,cat_nn = cont_cat_split(df_nn_final, max_card=9000, dep_var=dep_var)"
   ]
  },
  {
   "cell_type": "code",
   "execution_count": 81,
   "id": "a435b7e5",
   "metadata": {
    "execution": {
     "iopub.execute_input": "2021-07-27T10:04:09.676754Z",
     "iopub.status.busy": "2021-07-27T10:04:09.676006Z",
     "iopub.status.idle": "2021-07-27T10:04:09.679880Z",
     "shell.execute_reply": "2021-07-27T10:04:09.679245Z",
     "shell.execute_reply.started": "2021-07-27T09:36:38.323874Z"
    },
    "papermill": {
     "duration": 0.143595,
     "end_time": "2021-07-27T10:04:09.680022",
     "exception": false,
     "start_time": "2021-07-27T10:04:09.536427",
     "status": "completed"
    },
    "tags": []
   },
   "outputs": [
    {
     "data": {
      "text/plain": [
       "['saleElapsed']"
      ]
     },
     "execution_count": 81,
     "metadata": {},
     "output_type": "execute_result"
    }
   ],
   "source": [
    "cont_nn"
   ]
  },
  {
   "cell_type": "markdown",
   "id": "24ee39d5",
   "metadata": {
    "papermill": {
     "duration": 0.132211,
     "end_time": "2021-07-27T10:04:09.944578",
     "exception": false,
     "start_time": "2021-07-27T10:04:09.812367",
     "status": "completed"
    },
    "tags": []
   },
   "source": [
    "* One variable that we don't want to treat as categorical is `saleElapsed`, since we're planning to  extrapolate outside of bounds of dataset."
   ]
  },
  {
   "cell_type": "code",
   "execution_count": 82,
   "id": "0a56ac88",
   "metadata": {
    "execution": {
     "iopub.execute_input": "2021-07-27T10:04:10.217231Z",
     "iopub.status.busy": "2021-07-27T10:04:10.216553Z",
     "iopub.status.idle": "2021-07-27T10:04:10.861997Z",
     "shell.execute_reply": "2021-07-27T10:04:10.861439Z",
     "shell.execute_reply.started": "2021-07-27T09:36:38.332817Z"
    },
    "papermill": {
     "duration": 0.784579,
     "end_time": "2021-07-27T10:04:10.862167",
     "exception": false,
     "start_time": "2021-07-27T10:04:10.077588",
     "status": "completed"
    },
    "tags": []
   },
   "outputs": [
    {
     "data": {
      "text/plain": [
       "YearMade                73\n",
       "ProductSize              6\n",
       "Coupler_System           2\n",
       "fiProductClassDesc      74\n",
       "Hydraulics_Flow          3\n",
       "ModelID               5281\n",
       "fiSecondaryDesc        177\n",
       "fiModelDesc           5059\n",
       "Enclosure                6\n",
       "ProductGroup             6\n",
       "fiModelDescriptor      140\n",
       "Hydraulics              12\n",
       "Drive_System             4\n",
       "Tire_Size               17\n",
       "dtype: int64"
      ]
     },
     "execution_count": 82,
     "metadata": {},
     "output_type": "execute_result"
    }
   ],
   "source": [
    "df_nn_final[cat_nn].nunique()"
   ]
  },
  {
   "cell_type": "markdown",
   "id": "2aa07d60",
   "metadata": {
    "papermill": {
     "duration": 0.13269,
     "end_time": "2021-07-27T10:04:11.128321",
     "exception": false,
     "start_time": "2021-07-27T10:04:10.995631",
     "status": "completed"
    },
    "tags": []
   },
   "source": [
    "* Can see that `ModelID` and `ModelDesc` seem to have similar cardinality. See we can likely remove one."
   ]
  },
  {
   "cell_type": "code",
   "execution_count": 83,
   "id": "710b9116",
   "metadata": {
    "execution": {
     "iopub.execute_input": "2021-07-27T10:04:11.397194Z",
     "iopub.status.busy": "2021-07-27T10:04:11.396551Z",
     "iopub.status.idle": "2021-07-27T10:04:11.399883Z",
     "shell.execute_reply": "2021-07-27T10:04:11.399363Z",
     "shell.execute_reply.started": "2021-07-27T09:36:38.993746Z"
    },
    "papermill": {
     "duration": 0.139763,
     "end_time": "2021-07-27T10:04:11.400029",
     "exception": false,
     "start_time": "2021-07-27T10:04:11.260266",
     "status": "completed"
    },
    "tags": []
   },
   "outputs": [],
   "source": [
    "cat_nn.remove('fiModelDescriptor')"
   ]
  },
  {
   "cell_type": "markdown",
   "id": "21f21ca8",
   "metadata": {
    "papermill": {
     "duration": 0.132491,
     "end_time": "2021-07-27T10:04:11.666508",
     "exception": false,
     "start_time": "2021-07-27T10:04:11.534017",
     "status": "completed"
    },
    "tags": []
   },
   "source": [
    "* With a neural network, we're required to normalize the data before inputting it. This isn't required with a random forest."
   ]
  },
  {
   "cell_type": "code",
   "execution_count": 84,
   "id": "6aaee1bc",
   "metadata": {
    "execution": {
     "iopub.execute_input": "2021-07-27T10:04:11.936633Z",
     "iopub.status.busy": "2021-07-27T10:04:11.935892Z",
     "iopub.status.idle": "2021-07-27T10:04:12.860293Z",
     "shell.execute_reply": "2021-07-27T10:04:12.859742Z",
     "shell.execute_reply.started": "2021-07-27T09:36:39.000360Z"
    },
    "papermill": {
     "duration": 1.061599,
     "end_time": "2021-07-27T10:04:12.860441",
     "exception": false,
     "start_time": "2021-07-27T10:04:11.798842",
     "status": "completed"
    },
    "tags": []
   },
   "outputs": [],
   "source": [
    "procs_nn = [Categorify, FillMissing, Normalize]\n",
    "to_nn = TabularPandas(\n",
    "    df_nn_final, procs_nn, cat_nn, cont_nn,\n",
    "    splits=splits, y_names=dep_var\n",
    ")"
   ]
  },
  {
   "cell_type": "code",
   "execution_count": 85,
   "id": "c16e77dd",
   "metadata": {
    "execution": {
     "iopub.execute_input": "2021-07-27T10:04:13.135728Z",
     "iopub.status.busy": "2021-07-27T10:04:13.134384Z",
     "iopub.status.idle": "2021-07-27T10:04:13.151809Z",
     "shell.execute_reply": "2021-07-27T10:04:13.151160Z",
     "shell.execute_reply.started": "2021-07-27T09:36:39.995523Z"
    },
    "papermill": {
     "duration": 0.158101,
     "end_time": "2021-07-27T10:04:13.151967",
     "exception": false,
     "start_time": "2021-07-27T10:04:12.993866",
     "status": "completed"
    },
    "tags": []
   },
   "outputs": [],
   "source": [
    "dls = to_nn.dataloaders(1024)"
   ]
  },
  {
   "cell_type": "markdown",
   "id": "175c8762",
   "metadata": {
    "papermill": {
     "duration": 0.133587,
     "end_time": "2021-07-27T10:04:13.419926",
     "exception": false,
     "start_time": "2021-07-27T10:04:13.286339",
     "status": "completed"
    },
    "tags": []
   },
   "source": [
    "* Good idea to set `y_range` for regression models, find the min and max of dependant variables"
   ]
  },
  {
   "cell_type": "code",
   "execution_count": 86,
   "id": "b490c460",
   "metadata": {
    "execution": {
     "iopub.execute_input": "2021-07-27T10:04:13.698245Z",
     "iopub.status.busy": "2021-07-27T10:04:13.696897Z",
     "iopub.status.idle": "2021-07-27T10:04:13.706352Z",
     "shell.execute_reply": "2021-07-27T10:04:13.705694Z",
     "shell.execute_reply.started": "2021-07-27T09:36:40.016351Z"
    },
    "papermill": {
     "duration": 0.148681,
     "end_time": "2021-07-27T10:04:13.706507",
     "exception": false,
     "start_time": "2021-07-27T10:04:13.557826",
     "status": "completed"
    },
    "tags": []
   },
   "outputs": [
    {
     "data": {
      "text/plain": [
       "(8.465899467468262, 11.863582611083984)"
      ]
     },
     "execution_count": 86,
     "metadata": {},
     "output_type": "execute_result"
    }
   ],
   "source": [
    "y = to_nn.train.y\n",
    "y.min(), y.max()"
   ]
  },
  {
   "cell_type": "markdown",
   "id": "b00954c2",
   "metadata": {
    "papermill": {
     "duration": 0.157406,
     "end_time": "2021-07-27T10:04:14.003470",
     "exception": false,
     "start_time": "2021-07-27T10:04:13.846064",
     "status": "completed"
    },
    "tags": []
   },
   "source": [
    "* Can create a `Learner` for a tabular model.\n",
    "* We are increasing default layer size to 500 from 250."
   ]
  },
  {
   "cell_type": "code",
   "execution_count": 87,
   "id": "e63724bb",
   "metadata": {
    "execution": {
     "iopub.execute_input": "2021-07-27T10:04:14.362710Z",
     "iopub.status.busy": "2021-07-27T10:04:14.361689Z",
     "iopub.status.idle": "2021-07-27T10:04:14.364598Z",
     "shell.execute_reply": "2021-07-27T10:04:14.365124Z",
     "shell.execute_reply.started": "2021-07-27T09:36:40.035054Z"
    },
    "papermill": {
     "duration": 0.144335,
     "end_time": "2021-07-27T10:04:14.365302",
     "exception": false,
     "start_time": "2021-07-27T10:04:14.220967",
     "status": "completed"
    },
    "tags": []
   },
   "outputs": [],
   "source": [
    "from fastai.tabular.all import *"
   ]
  },
  {
   "cell_type": "code",
   "execution_count": 88,
   "id": "ca0e198e",
   "metadata": {
    "execution": {
     "iopub.execute_input": "2021-07-27T10:04:14.638604Z",
     "iopub.status.busy": "2021-07-27T10:04:14.637343Z",
     "iopub.status.idle": "2021-07-27T10:04:14.688009Z",
     "shell.execute_reply": "2021-07-27T10:04:14.686963Z",
     "shell.execute_reply.started": "2021-07-27T09:36:40.042029Z"
    },
    "papermill": {
     "duration": 0.188901,
     "end_time": "2021-07-27T10:04:14.688185",
     "exception": false,
     "start_time": "2021-07-27T10:04:14.499284",
     "status": "completed"
    },
    "tags": []
   },
   "outputs": [],
   "source": [
    "learn = tabular_learner(\n",
    "    dls, y_range=(8, 12), layers=[500, 200], n_out=1, loss_func=F.mse_loss)"
   ]
  },
  {
   "cell_type": "code",
   "execution_count": 89,
   "id": "9767b38d",
   "metadata": {
    "execution": {
     "iopub.execute_input": "2021-07-27T10:04:14.967991Z",
     "iopub.status.busy": "2021-07-27T10:04:14.967246Z",
     "iopub.status.idle": "2021-07-27T10:04:24.193439Z",
     "shell.execute_reply": "2021-07-27T10:04:24.193951Z",
     "shell.execute_reply.started": "2021-07-27T09:36:40.098024Z"
    },
    "papermill": {
     "duration": 9.372333,
     "end_time": "2021-07-27T10:04:24.194206",
     "exception": false,
     "start_time": "2021-07-27T10:04:14.821873",
     "status": "completed"
    },
    "tags": []
   },
   "outputs": [
    {
     "data": {
      "text/html": [],
      "text/plain": [
       "<IPython.core.display.HTML object>"
      ]
     },
     "metadata": {},
     "output_type": "display_data"
    },
    {
     "name": "stderr",
     "output_type": "stream",
     "text": [
      "/opt/conda/lib/python3.7/site-packages/fastai/callback/schedule.py:270: UserWarning: color is redundantly defined by the 'color' keyword argument and the fmt string \"ro\" (-> color='r'). The keyword argument will take precedence.\n",
      "  ax.plot(val, idx, 'ro', label=nm, c=color)\n"
     ]
    },
    {
     "data": {
      "text/plain": [
       "SuggestedLRs(valley=0.0002290867705596611)"
      ]
     },
     "execution_count": 89,
     "metadata": {},
     "output_type": "execute_result"
    },
    {
     "data": {
      "image/png": "[encoded data removed]",
      "text/plain": [
       "<Figure size 432x288 with 1 Axes>"
      ]
     },
     "metadata": {
      "needs_background": "light"
     },
     "output_type": "display_data"
    }
   ],
   "source": [
    " learn.lr_find()"
   ]
  },
  {
   "cell_type": "code",
   "execution_count": 90,
   "id": "0fdd97b4",
   "metadata": {
    "execution": {
     "iopub.execute_input": "2021-07-27T10:04:24.475344Z",
     "iopub.status.busy": "2021-07-27T10:04:24.474330Z",
     "iopub.status.idle": "2021-07-27T10:06:50.198398Z",
     "shell.execute_reply": "2021-07-27T10:06:50.198903Z",
     "shell.execute_reply.started": "2021-07-27T09:36:49.833927Z"
    },
    "papermill": {
     "duration": 145.865532,
     "end_time": "2021-07-27T10:06:50.199158",
     "exception": false,
     "start_time": "2021-07-27T10:04:24.333626",
     "status": "completed"
    },
    "tags": []
   },
   "outputs": [
    {
     "data": {
      "text/html": [
       "<table border=\"1\" class=\"dataframe\">\n",
       "  <thead>\n",
       "    <tr style=\"text-align: left;\">\n",
       "      <th>epoch</th>\n",
       "      <th>train_loss</th>\n",
       "      <th>valid_loss</th>\n",
       "      <th>time</th>\n",
       "    </tr>\n",
       "  </thead>\n",
       "  <tbody>\n",
       "    <tr>\n",
       "      <td>0</td>\n",
       "      <td>0.062133</td>\n",
       "      <td>0.077527</td>\n",
       "      <td>00:29</td>\n",
       "    </tr>\n",
       "    <tr>\n",
       "      <td>1</td>\n",
       "      <td>0.053659</td>\n",
       "      <td>0.054414</td>\n",
       "      <td>00:28</td>\n",
       "    </tr>\n",
       "    <tr>\n",
       "      <td>2</td>\n",
       "      <td>0.047735</td>\n",
       "      <td>0.053346</td>\n",
       "      <td>00:29</td>\n",
       "    </tr>\n",
       "    <tr>\n",
       "      <td>3</td>\n",
       "      <td>0.042538</td>\n",
       "      <td>0.051281</td>\n",
       "      <td>00:29</td>\n",
       "    </tr>\n",
       "    <tr>\n",
       "      <td>4</td>\n",
       "      <td>0.040002</td>\n",
       "      <td>0.051087</td>\n",
       "      <td>00:29</td>\n",
       "    </tr>\n",
       "  </tbody>\n",
       "</table>"
      ],
      "text/plain": [
       "<IPython.core.display.HTML object>"
      ]
     },
     "metadata": {},
     "output_type": "display_data"
    }
   ],
   "source": [
    "learn.fit_one_cycle(5, 1e-2)"
   ]
  },
  {
   "cell_type": "code",
   "execution_count": 91,
   "id": "924cc4ad",
   "metadata": {
    "execution": {
     "iopub.execute_input": "2021-07-27T10:06:50.474859Z",
     "iopub.status.busy": "2021-07-27T10:06:50.474012Z",
     "iopub.status.idle": "2021-07-27T10:06:50.631478Z",
     "shell.execute_reply": "2021-07-27T10:06:50.630809Z",
     "shell.execute_reply.started": "2021-07-27T09:39:30.251370Z"
    },
    "papermill": {
     "duration": 0.29694,
     "end_time": "2021-07-27T10:06:50.631634",
     "exception": false,
     "start_time": "2021-07-27T10:06:50.334694",
     "status": "completed"
    },
    "tags": []
   },
   "outputs": [
    {
     "data": {
      "text/html": [],
      "text/plain": [
       "<IPython.core.display.HTML object>"
      ]
     },
     "metadata": {},
     "output_type": "display_data"
    },
    {
     "data": {
      "text/plain": [
       "0.226024"
      ]
     },
     "execution_count": 91,
     "metadata": {},
     "output_type": "execute_result"
    }
   ],
   "source": [
    "preds, targs = learn.get_preds()\n",
    "r_mse(preds, targs)"
   ]
  },
  {
   "cell_type": "markdown",
   "id": "bcaf610b",
   "metadata": {
    "papermill": {
     "duration": 0.135927,
     "end_time": "2021-07-27T10:06:50.903857",
     "exception": false,
     "start_time": "2021-07-27T10:06:50.767930",
     "status": "completed"
    },
    "tags": []
   },
   "source": [
    "* Slightly better than our Random Forest."
   ]
  },
  {
   "cell_type": "markdown",
   "id": "1cfd5767",
   "metadata": {
    "papermill": {
     "duration": 0.138046,
     "end_time": "2021-07-27T10:06:51.177947",
     "exception": false,
     "start_time": "2021-07-27T10:06:51.039901",
     "status": "completed"
    },
    "tags": []
   },
   "source": [
    "## 01:49:19 - Ensembling\n",
    "\n",
    "* The Random Forest and neural network both are good and bad at some things.\n",
    "* Ensemble gives us \"best of both worlds\".\n",
    "* Easiest is to just take the average:"
   ]
  },
  {
   "cell_type": "code",
   "execution_count": 92,
   "id": "727e4d4a",
   "metadata": {
    "execution": {
     "iopub.execute_input": "2021-07-27T10:06:51.459292Z",
     "iopub.status.busy": "2021-07-27T10:06:51.458625Z",
     "iopub.status.idle": "2021-07-27T10:06:51.566230Z",
     "shell.execute_reply": "2021-07-27T10:06:51.566782Z",
     "shell.execute_reply.started": "2021-07-27T09:39:30.433151Z"
    },
    "papermill": {
     "duration": 0.252339,
     "end_time": "2021-07-27T10:06:51.566959",
     "exception": false,
     "start_time": "2021-07-27T10:06:51.314620",
     "status": "completed"
    },
    "tags": []
   },
   "outputs": [],
   "source": [
    "rf_preds = m.predict(valid_xs_time)\n",
    "ens_preds = (to_np(preds.squeeze()) + rf_preds) / 2"
   ]
  },
  {
   "cell_type": "markdown",
   "id": "237ba4cd",
   "metadata": {
    "papermill": {
     "duration": 0.13616,
     "end_time": "2021-07-27T10:06:51.839684",
     "exception": false,
     "start_time": "2021-07-27T10:06:51.703524",
     "status": "completed"
    },
    "tags": []
   },
   "source": [
    "* We do even better:"
   ]
  },
  {
   "cell_type": "code",
   "execution_count": 93,
   "id": "2a5ea48d",
   "metadata": {
    "execution": {
     "iopub.execute_input": "2021-07-27T10:06:52.119916Z",
     "iopub.status.busy": "2021-07-27T10:06:52.118990Z",
     "iopub.status.idle": "2021-07-27T10:06:52.123479Z",
     "shell.execute_reply": "2021-07-27T10:06:52.122834Z",
     "shell.execute_reply.started": "2021-07-27T09:39:30.548432Z"
    },
    "papermill": {
     "duration": 0.146684,
     "end_time": "2021-07-27T10:06:52.123633",
     "exception": false,
     "start_time": "2021-07-27T10:06:51.976949",
     "status": "completed"
    },
    "tags": []
   },
   "outputs": [
    {
     "data": {
      "text/plain": [
       "0.222395"
      ]
     },
     "execution_count": 93,
     "metadata": {},
     "output_type": "execute_result"
    }
   ],
   "source": [
    "r_mse(ens_preds, valid_y)"
   ]
  },
  {
   "cell_type": "markdown",
   "id": "e11fa104",
   "metadata": {
    "papermill": {
     "duration": 0.138308,
     "end_time": "2021-07-27T10:06:52.400654",
     "exception": false,
     "start_time": "2021-07-27T10:06:52.262346",
     "status": "completed"
    },
    "tags": []
   },
   "source": [
    "## 01:51:26 - Boosting\n",
    "\n",
    "* How boosting works:\n",
    "  * Train small model that under fits dataset.\n",
    "  * Calculate predictions using small model.\n",
    "  * Subtract predictions from targets: called \"residuals\".\n",
    "    * Represents error for each point in training set.\n",
    "  * Go to step one, instead of ordinal targets use residuals as target for training\n",
    "  * Continue doing this until you reach a stopping criterion, like max trees or validation set gets worse.\n",
    "  * Then, add results of model together (not average).\n",
    "* Lot of varients of this: Gradient Boost machines (GBMs) and gradient boosted decision trees (GBDTs)\n",
    "* In this approach, each new tree attempting to fit the error of all previous trees combined.\n",
    "\n",
    "## 01:53:23 - Question: is dropping features better than regularisation for overfitting?\n",
    "\n",
    "* Removing columns isn't to avoid overfitting - it's to simplify the model.\n",
    "  * It will mean less trees, but it doesn't mean regularisation.\n",
    "  \n",
    "## 01:54:14 - Question: is there a heuristic for picking number of layers in linear model?\n",
    "\n",
    "* Not really. 2 is a good start.\n",
    "\n",
    "## 01:55:00 - Boosting continued\n",
    "\n",
    "* There's nothing to stop the model from overfitting, unlike a Random Forest where more trees means better performance.\n",
    "  * Use regularisation.\n",
    "* More often win Kaggle competitions than Random Forests do.\n",
    "\n",
    "## 01:56:02 - Combining embeddings with other methods\n",
    "\n",
    "* From Entity Embeddings paper.\n",
    "* They build NN and got entity embeddings.\n",
    "* Used a random forest using embeddings as predictors.\n",
    "\n",
    "## 01:57:44 - Conclusion"
   ]
  }
 ],
 "metadata": {
  "kernelspec": {
   "display_name": "Python 3",
   "language": "python",
   "name": "python3"
  },
  "language_info": {
   "codemirror_mode": {
    "name": "ipython",
    "version": 3
   },
   "file_extension": ".py",
   "mimetype": "text/x-python",
   "name": "python",
   "nbconvert_exporter": "python",
   "pygments_lexer": "ipython3",
   "version": "3.7.10"
  },
  "papermill": {
   "default_parameters": {},
   "duration": 698.550121,
   "end_time": "2021-07-27T10:06:54.372730",
   "environment_variables": {},
   "exception": null,
   "input_path": "__notebook__.ipynb",
   "output_path": "__notebook__.ipynb",
   "parameters": {},
   "start_time": "2021-07-27T09:55:15.822609",
   "version": "2.3.3"
  }
 },
 "nbformat": 4,
 "nbformat_minor": 5
}
