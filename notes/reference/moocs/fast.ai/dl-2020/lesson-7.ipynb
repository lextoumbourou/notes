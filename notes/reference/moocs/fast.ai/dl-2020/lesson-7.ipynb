{
 "cells": [
  {
   "cell_type": "code",
   "execution_count": 1,
   "id": "dfff0508",
   "metadata": {
    "_cell_guid": "b1076dfc-b9ad-4769-8c92-a6c4dae69d19",
    "_uuid": "8f2839f25d086af736a60e9eeb907d3b93b6e0e5",
    "execution": {
     "iopub.execute_input": "2021-07-27T10:08:30.478035Z",
     "iopub.status.busy": "2021-07-27T10:08:30.477205Z",
     "iopub.status.idle": "2021-07-27T10:10:23.618759Z",
     "shell.execute_reply": "2021-07-27T10:10:23.618200Z",
     "shell.execute_reply.started": "2021-07-22T10:55:23.721914Z"
    },
    "papermill": {
     "duration": 113.163714,
     "end_time": "2021-07-27T10:10:23.618884",
     "exception": false,
     "start_time": "2021-07-27T10:08:30.455170",
     "status": "completed"
    },
    "tags": []
   },
   "outputs": [],
   "source": [
    "!pip install git+https://github.com/fastai/fastai.git &> /dev/null"
   ]
  },
  {
   "cell_type": "code",
   "execution_count": 2,
   "id": "2a523720",
   "metadata": {
    "execution": {
     "iopub.execute_input": "2021-07-27T10:10:23.665204Z",
     "iopub.status.busy": "2021-07-27T10:10:23.664600Z",
     "iopub.status.idle": "2021-07-27T10:11:06.217724Z",
     "shell.execute_reply": "2021-07-27T10:11:06.217309Z",
     "shell.execute_reply.started": "2021-07-22T11:01:31.320814Z"
    },
    "papermill": {
     "duration": 42.580026,
     "end_time": "2021-07-27T10:11:06.217832",
     "exception": false,
     "start_time": "2021-07-27T10:10:23.637806",
     "status": "completed"
    },
    "tags": []
   },
   "outputs": [
    {
     "data": {
      "text/html": [],
      "text/plain": [
       "<IPython.core.display.HTML object>"
      ]
     },
     "metadata": {},
     "output_type": "display_data"
    },
    {
     "data": {
      "text/html": [
       "<table border=\"1\" class=\"dataframe\">\n",
       "  <thead>\n",
       "    <tr style=\"text-align: left;\">\n",
       "      <th>epoch</th>\n",
       "      <th>train_loss</th>\n",
       "      <th>valid_loss</th>\n",
       "      <th>time</th>\n",
       "    </tr>\n",
       "  </thead>\n",
       "  <tbody>\n",
       "    <tr>\n",
       "      <td>0</td>\n",
       "      <td>0.947165</td>\n",
       "      <td>0.930747</td>\n",
       "      <td>00:09</td>\n",
       "    </tr>\n",
       "    <tr>\n",
       "      <td>1</td>\n",
       "      <td>0.823398</td>\n",
       "      <td>0.861059</td>\n",
       "      <td>00:07</td>\n",
       "    </tr>\n",
       "    <tr>\n",
       "      <td>2</td>\n",
       "      <td>0.602876</td>\n",
       "      <td>0.860865</td>\n",
       "      <td>00:07</td>\n",
       "    </tr>\n",
       "    <tr>\n",
       "      <td>3</td>\n",
       "      <td>0.393528</td>\n",
       "      <td>0.884714</td>\n",
       "      <td>00:07</td>\n",
       "    </tr>\n",
       "    <tr>\n",
       "      <td>4</td>\n",
       "      <td>0.275008</td>\n",
       "      <td>0.891144</td>\n",
       "      <td>00:07</td>\n",
       "    </tr>\n",
       "  </tbody>\n",
       "</table>"
      ],
      "text/plain": [
       "<IPython.core.display.HTML object>"
      ]
     },
     "metadata": {},
     "output_type": "display_data"
    }
   ],
   "source": [
    "from fastai.collab import *\n",
    "from fastai.tabular.all import *\n",
    "import pandas as pd\n",
    "\n",
    "path = untar_data(URLs.ML_100k)\n",
    "\n",
    "ratings = pd.read_csv(\n",
    "    path/'u.data', delimiter='\\t', header=None,\n",
    "    names=['user', 'movie', 'rating', 'timestamp'])\n",
    "movies = pd.read_csv(\n",
    "    path/'u.item', delimiter='|', encoding='latin-1',\n",
    "    usecols=(0, 1), names=('movie', 'title'), header=None)\n",
    "ratings = ratings.merge(movies)\n",
    "\n",
    "dls = CollabDataLoaders.from_df(ratings, item_name='title', bs=64)\n",
    "\n",
    "n_users = len(dls.classes['user'])\n",
    "n_movies = len(dls.classes['title'])\n",
    "\n",
    "class DotProductBias(Module):\n",
    "    def __init__(self, n_users, n_movies, n_factors, y_range=(0, 5.5)):\n",
    "        self.user_factors = Embedding(n_users, n_factors)\n",
    "        self.user_bias = Embedding(n_users, 1)\n",
    "    \n",
    "        self.movie_factors = Embedding(n_movies, n_factors)\n",
    "        self.movie_bias = Embedding(n_movies, 1)\n",
    "\n",
    "        self.y_range = y_range\n",
    "        \n",
    "    def forward(self, x):\n",
    "        users = self.user_factors(x[:,0])\n",
    "        movies = self.movie_factors(x[:, 1])\n",
    "        res = (users * movies).sum(dim=1, keepdim=True)\n",
    "        res += self.user_bias(x[:,0]) + self.movie_bias(x[:,1])\n",
    "        return sigmoid_range(res, *self.y_range)\n",
    "    \n",
    "model = DotProductBias(n_users, n_movies, 50)\n",
    "learn = Learner(dls, model, loss_func=MSELossFlat())\n",
    "learn.fit_one_cycle(5, 5e-3)"
   ]
  },
  {
   "cell_type": "markdown",
   "id": "3600ef9d",
   "metadata": {
    "papermill": {
     "duration": 0.018685,
     "end_time": "2021-07-27T10:11:06.256252",
     "exception": false,
     "start_time": "2021-07-27T10:11:06.237567",
     "status": "completed"
    },
    "tags": []
   },
   "source": [
    "## 00:00:00 - Weight decay\n",
    "\n",
    "* Issue from last lesson: loss started to go down then up again.\n",
    "  * We're overfitting.\n",
    "* Note that we don't need a metric because mean-squared error is close enough to what we care about.\n",
    "* We reduce overfitting by reducing the capacity of the model\n",
    "  * Ensure it doesn't memorise the dataset.\n",
    "  * Reducing params does bias model towards simple shapes.\n",
    "* Instead, force params to be smaller, unless they need to be big.\n",
    "* Weight decay, also known as L2 regularisation, adds the sum of all params squared to loss.\n",
    "  * Tries to encourage weights to be as small as possible: loss function is incentivised to keep weights small.\n",
    "* Can simply add the weights to the loss function:\n",
    "```\n",
    "loss_with_wd = loss + wd * (parameters ** 2).sum()\n",
    "```\n",
    "\n",
    "* Since the loss function is used to take the gradient, and we know the derivative of `p**2` with respect to `p` is `2*p`, we can just update the gradients:\n",
    "\n",
    "```\n",
    "weight.grad += wd * 2 * weight\n",
    "```\n",
    "\n",
    "* In fastai, you can just pass `wd` amount to the fit call:"
   ]
  },
  {
   "cell_type": "code",
   "execution_count": 3,
   "id": "0bd4dd6b",
   "metadata": {
    "execution": {
     "iopub.execute_input": "2021-07-27T10:11:06.299001Z",
     "iopub.status.busy": "2021-07-27T10:11:06.298555Z",
     "iopub.status.idle": "2021-07-27T10:11:44.355384Z",
     "shell.execute_reply": "2021-07-27T10:11:44.354896Z",
     "shell.execute_reply.started": "2021-07-22T11:02:14.694413Z"
    },
    "papermill": {
     "duration": 38.079714,
     "end_time": "2021-07-27T10:11:44.355492",
     "exception": false,
     "start_time": "2021-07-27T10:11:06.275778",
     "status": "completed"
    },
    "tags": []
   },
   "outputs": [
    {
     "data": {
      "text/html": [
       "<table border=\"1\" class=\"dataframe\">\n",
       "  <thead>\n",
       "    <tr style=\"text-align: left;\">\n",
       "      <th>epoch</th>\n",
       "      <th>train_loss</th>\n",
       "      <th>valid_loss</th>\n",
       "      <th>time</th>\n",
       "    </tr>\n",
       "  </thead>\n",
       "  <tbody>\n",
       "    <tr>\n",
       "      <td>0</td>\n",
       "      <td>0.952407</td>\n",
       "      <td>0.954321</td>\n",
       "      <td>00:07</td>\n",
       "    </tr>\n",
       "    <tr>\n",
       "      <td>1</td>\n",
       "      <td>0.845610</td>\n",
       "      <td>0.875941</td>\n",
       "      <td>00:07</td>\n",
       "    </tr>\n",
       "    <tr>\n",
       "      <td>2</td>\n",
       "      <td>0.737699</td>\n",
       "      <td>0.834738</td>\n",
       "      <td>00:08</td>\n",
       "    </tr>\n",
       "    <tr>\n",
       "      <td>3</td>\n",
       "      <td>0.594368</td>\n",
       "      <td>0.819223</td>\n",
       "      <td>00:07</td>\n",
       "    </tr>\n",
       "    <tr>\n",
       "      <td>4</td>\n",
       "      <td>0.481654</td>\n",
       "      <td>0.820020</td>\n",
       "      <td>00:07</td>\n",
       "    </tr>\n",
       "  </tbody>\n",
       "</table>"
      ],
      "text/plain": [
       "<IPython.core.display.HTML object>"
      ]
     },
     "metadata": {},
     "output_type": "display_data"
    }
   ],
   "source": [
    "model = DotProductBias(n_users, n_movies, 50)\n",
    "learn = Learner(dls, model, loss_func=MSELossFlat())\n",
    "learn.fit_one_cycle(5, 5e-3, wd=0.1)"
   ]
  },
  {
   "cell_type": "markdown",
   "id": "e896fd1d",
   "metadata": {
    "papermill": {
     "duration": 0.019422,
     "end_time": "2021-07-27T10:11:44.394578",
     "exception": false,
     "start_time": "2021-07-27T10:11:44.375156",
     "status": "completed"
    },
    "tags": []
   },
   "source": [
    "* Modern deep learning we prefer weight decay vs simplier models."
   ]
  },
  {
   "cell_type": "markdown",
   "id": "6561ca0f",
   "metadata": {
    "papermill": {
     "duration": 0.01915,
     "end_time": "2021-07-27T10:11:44.433909",
     "exception": false,
     "start_time": "2021-07-27T10:11:44.414759",
     "status": "completed"
    },
    "tags": []
   },
   "source": [
    "## 00:07:10 - Writing our own embedddings layer\n",
    "\n",
    "* To create our own layer, it needs to inherit from `nn.Module`\n",
    "* We can get a list of parameters using the `parameters()` method.\n",
    "  * To ensure something in a module needs to be learned, you wrap in `nn.Parameter`"
   ]
  },
  {
   "cell_type": "code",
   "execution_count": 4,
   "id": "a5e9c976",
   "metadata": {
    "execution": {
     "iopub.execute_input": "2021-07-27T10:11:44.478150Z",
     "iopub.status.busy": "2021-07-27T10:11:44.477665Z",
     "iopub.status.idle": "2021-07-27T10:11:44.482971Z",
     "shell.execute_reply": "2021-07-27T10:11:44.482561Z",
     "shell.execute_reply.started": "2021-07-22T11:02:59.825828Z"
    },
    "papermill": {
     "duration": 0.02966,
     "end_time": "2021-07-27T10:11:44.483075",
     "exception": false,
     "start_time": "2021-07-27T10:11:44.453415",
     "status": "completed"
    },
    "tags": []
   },
   "outputs": [
    {
     "data": {
      "text/plain": [
       "(#1) [Parameter containing:\n",
       "tensor([1., 1., 1.], requires_grad=True)]"
      ]
     },
     "execution_count": 4,
     "metadata": {},
     "output_type": "execute_result"
    }
   ],
   "source": [
    "class T(Module):\n",
    "    def __init__(self):\n",
    "        self.a = nn.Parameter(torch.ones(3))\n",
    "        \n",
    "L(T().parameters())"
   ]
  },
  {
   "cell_type": "markdown",
   "id": "d3e545e1",
   "metadata": {
    "papermill": {
     "duration": 0.019933,
     "end_time": "2021-07-27T10:11:44.523252",
     "exception": false,
     "start_time": "2021-07-27T10:11:44.503319",
     "status": "completed"
    },
    "tags": []
   },
   "source": [
    "* Create a randomly initialised tensor as param:"
   ]
  },
  {
   "cell_type": "code",
   "execution_count": 5,
   "id": "5e4344f3",
   "metadata": {
    "execution": {
     "iopub.execute_input": "2021-07-27T10:11:44.567532Z",
     "iopub.status.busy": "2021-07-27T10:11:44.567029Z",
     "iopub.status.idle": "2021-07-27T10:11:44.570002Z",
     "shell.execute_reply": "2021-07-27T10:11:44.569507Z",
     "shell.execute_reply.started": "2021-07-22T11:02:59.835847Z"
    },
    "papermill": {
     "duration": 0.026641,
     "end_time": "2021-07-27T10:11:44.570109",
     "exception": false,
     "start_time": "2021-07-27T10:11:44.543468",
     "status": "completed"
    },
    "tags": []
   },
   "outputs": [],
   "source": [
    "def create_params(size):\n",
    "    return nn.Parameter(torch.zeros(*size).normal_(0, 0.01))"
   ]
  },
  {
   "cell_type": "code",
   "execution_count": 6,
   "id": "b00f9620",
   "metadata": {
    "execution": {
     "iopub.execute_input": "2021-07-27T10:11:44.619738Z",
     "iopub.status.busy": "2021-07-27T10:11:44.619084Z",
     "iopub.status.idle": "2021-07-27T10:11:44.621728Z",
     "shell.execute_reply": "2021-07-27T10:11:44.621214Z",
     "shell.execute_reply.started": "2021-07-22T11:02:59.844328Z"
    },
    "papermill": {
     "duration": 0.031767,
     "end_time": "2021-07-27T10:11:44.621865",
     "exception": false,
     "start_time": "2021-07-27T10:11:44.590098",
     "status": "completed"
    },
    "tags": []
   },
   "outputs": [],
   "source": [
    "class DotProductBias(Module):\n",
    "    def __init__(self, n_users, n_movies, n_factors, y_range=(0, 5.5)):\n",
    "        self.user_factors = create_params([n_users, n_factors])\n",
    "        self.user_bias = create_params([n_users])\n",
    "    \n",
    "        self.movie_factors = create_params([n_movies, n_factors])\n",
    "        self.movie_bias = create_params([n_movies])\n",
    "\n",
    "        self.y_range = y_range\n",
    "        \n",
    "    def forward(self, x):\n",
    "        users = self.user_factors[x[:,0]]\n",
    "        movies = self.movie_factors[x[:, 1]]\n",
    "        res = (users * movies).sum(dim=1)\n",
    "        res += self.user_bias[x[:,0]] + self.movie_bias[x[:,1]]\n",
    "        return sigmoid_range(res, *self.y_range)"
   ]
  },
  {
   "cell_type": "code",
   "execution_count": 7,
   "id": "23e8bde7",
   "metadata": {
    "execution": {
     "iopub.execute_input": "2021-07-27T10:11:44.686658Z",
     "iopub.status.busy": "2021-07-27T10:11:44.686093Z",
     "iopub.status.idle": "2021-07-27T10:12:20.435684Z",
     "shell.execute_reply": "2021-07-27T10:12:20.435149Z",
     "shell.execute_reply.started": "2021-07-22T11:02:59.855991Z"
    },
    "papermill": {
     "duration": 35.783923,
     "end_time": "2021-07-27T10:12:20.435791",
     "exception": false,
     "start_time": "2021-07-27T10:11:44.651868",
     "status": "completed"
    },
    "tags": []
   },
   "outputs": [
    {
     "data": {
      "text/html": [
       "<table border=\"1\" class=\"dataframe\">\n",
       "  <thead>\n",
       "    <tr style=\"text-align: left;\">\n",
       "      <th>epoch</th>\n",
       "      <th>train_loss</th>\n",
       "      <th>valid_loss</th>\n",
       "      <th>time</th>\n",
       "    </tr>\n",
       "  </thead>\n",
       "  <tbody>\n",
       "    <tr>\n",
       "      <td>0</td>\n",
       "      <td>0.929160</td>\n",
       "      <td>0.947257</td>\n",
       "      <td>00:06</td>\n",
       "    </tr>\n",
       "    <tr>\n",
       "      <td>1</td>\n",
       "      <td>0.821899</td>\n",
       "      <td>0.868087</td>\n",
       "      <td>00:06</td>\n",
       "    </tr>\n",
       "    <tr>\n",
       "      <td>2</td>\n",
       "      <td>0.718155</td>\n",
       "      <td>0.830080</td>\n",
       "      <td>00:07</td>\n",
       "    </tr>\n",
       "    <tr>\n",
       "      <td>3</td>\n",
       "      <td>0.581698</td>\n",
       "      <td>0.820761</td>\n",
       "      <td>00:07</td>\n",
       "    </tr>\n",
       "    <tr>\n",
       "      <td>4</td>\n",
       "      <td>0.469228</td>\n",
       "      <td>0.822052</td>\n",
       "      <td>00:07</td>\n",
       "    </tr>\n",
       "  </tbody>\n",
       "</table>"
      ],
      "text/plain": [
       "<IPython.core.display.HTML object>"
      ]
     },
     "metadata": {},
     "output_type": "display_data"
    }
   ],
   "source": [
    "model = DotProductBias(n_users, n_movies, 50)\n",
    "learn = Learner(dls, model, loss_func=MSELossFlat())\n",
    "learn.fit_one_cycle(5, 5e-3, wd=0.1)"
   ]
  },
  {
   "cell_type": "markdown",
   "id": "161b9d16",
   "metadata": {
    "papermill": {
     "duration": 0.019795,
     "end_time": "2021-07-27T10:12:20.477358",
     "exception": false,
     "start_time": "2021-07-27T10:12:20.457563",
     "status": "completed"
    },
    "tags": []
   },
   "source": [
    "## 00:12:31 - Interpreting embeddings and biases\n",
    "\n",
    "* You can call `learn.model` to get model in learner.\n",
    "* We can interpret bias initially.\n",
    "* Start by printing movie with smallest bias."
   ]
  },
  {
   "cell_type": "code",
   "execution_count": 8,
   "id": "f206d46e",
   "metadata": {
    "execution": {
     "iopub.execute_input": "2021-07-27T10:12:20.521967Z",
     "iopub.status.busy": "2021-07-27T10:12:20.521470Z",
     "iopub.status.idle": "2021-07-27T10:12:20.527271Z",
     "shell.execute_reply": "2021-07-27T10:12:20.526848Z",
     "shell.execute_reply.started": "2021-07-22T11:03:42.550649Z"
    },
    "papermill": {
     "duration": 0.030382,
     "end_time": "2021-07-27T10:12:20.527403",
     "exception": false,
     "start_time": "2021-07-27T10:12:20.497021",
     "status": "completed"
    },
    "tags": []
   },
   "outputs": [
    {
     "data": {
      "text/plain": [
       "['Children of the Corn: The Gathering (1996)',\n",
       " 'Lawnmower Man 2: Beyond Cyberspace (1996)',\n",
       " 'Big Bully (1996)',\n",
       " 'Mortal Kombat: Annihilation (1997)',\n",
       " '3 Ninjas: High Noon At Mega Mountain (1998)',\n",
       " 'Bio-Dome (1996)',\n",
       " 'Grease 2 (1982)',\n",
       " 'Robocop 3 (1993)',\n",
       " 'Leave It to Beaver (1997)',\n",
       " 'Island of Dr. Moreau, The (1996)',\n",
       " 'Hellraiser: Bloodline (1996)',\n",
       " 'Bad Girls (1994)',\n",
       " 'Tales from the Crypt Presents: Bordello of Blood (1996)',\n",
       " 'Ed (1996)',\n",
       " 'Amityville: A New Generation (1993)']"
      ]
     },
     "execution_count": 8,
     "metadata": {},
     "output_type": "execute_result"
    }
   ],
   "source": [
    "movie_bias = learn.model.movie_bias.squeeze()\n",
    "idxs = movie_bias.argsort()[:15]\n",
    "[dls.classes['title'][i] for i in idxs]"
   ]
  },
  {
   "cell_type": "markdown",
   "id": "15108cdb",
   "metadata": {
    "papermill": {
     "duration": 0.020326,
     "end_time": "2021-07-27T10:12:20.568154",
     "exception": false,
     "start_time": "2021-07-27T10:12:20.547828",
     "status": "completed"
    },
    "tags": []
   },
   "source": [
    "* These are the movies that people liked the least. Even people that like this genre didn't like the movie.\n",
    "* Can do the opposite:"
   ]
  },
  {
   "cell_type": "code",
   "execution_count": 9,
   "id": "0a96daba",
   "metadata": {
    "execution": {
     "iopub.execute_input": "2021-07-27T10:12:20.610886Z",
     "iopub.status.busy": "2021-07-27T10:12:20.610468Z",
     "iopub.status.idle": "2021-07-27T10:12:20.614515Z",
     "shell.execute_reply": "2021-07-27T10:12:20.614926Z",
     "shell.execute_reply.started": "2021-07-22T11:03:42.560961Z"
    },
    "papermill": {
     "duration": 0.027207,
     "end_time": "2021-07-27T10:12:20.615043",
     "exception": false,
     "start_time": "2021-07-27T10:12:20.587836",
     "status": "completed"
    },
    "tags": []
   },
   "outputs": [
    {
     "data": {
      "text/plain": [
       "['Titanic (1997)',\n",
       " 'As Good As It Gets (1997)',\n",
       " \"Schindler's List (1993)\",\n",
       " 'Shawshank Redemption, The (1994)',\n",
       " \"One Flew Over the Cuckoo's Nest (1975)\",\n",
       " 'Star Wars (1977)',\n",
       " 'Silence of the Lambs, The (1991)',\n",
       " 'Apt Pupil (1998)',\n",
       " 'Close Shave, A (1995)',\n",
       " 'Good Will Hunting (1997)',\n",
       " 'Wrong Trousers, The (1993)',\n",
       " 'L.A. Confidential (1997)',\n",
       " 'To Kill a Mockingbird (1962)',\n",
       " 'Rear Window (1954)',\n",
       " 'Fugitive, The (1993)']"
      ]
     },
     "execution_count": 9,
     "metadata": {},
     "output_type": "execute_result"
    }
   ],
   "source": [
    "idxs = movie_bias.argsort(descending=True)[:15]\n",
    "[dls.classes['title'][i] for i in idxs]"
   ]
  },
  {
   "cell_type": "markdown",
   "id": "8e95bb62",
   "metadata": {
    "papermill": {
     "duration": 0.020542,
     "end_time": "2021-07-27T10:12:20.655699",
     "exception": false,
     "start_time": "2021-07-27T10:12:20.635157",
     "status": "completed"
    },
    "tags": []
   },
   "source": [
    "* Even people who don't like the genre still liked the movie, generally."
   ]
  },
  {
   "cell_type": "markdown",
   "id": "2ef2edcd",
   "metadata": {
    "papermill": {
     "duration": 0.019887,
     "end_time": "2021-07-27T10:12:20.695942",
     "exception": false,
     "start_time": "2021-07-27T10:12:20.676055",
     "status": "completed"
    },
    "tags": []
   },
   "source": [
    "* Can also use PCA analysis to reduce factors down to 2. Which lets us plot them:"
   ]
  },
  {
   "cell_type": "code",
   "execution_count": 10,
   "id": "757e10d2",
   "metadata": {
    "execution": {
     "iopub.execute_input": "2021-07-27T10:12:20.738761Z",
     "iopub.status.busy": "2021-07-27T10:12:20.738302Z",
     "iopub.status.idle": "2021-07-27T10:12:21.338883Z",
     "shell.execute_reply": "2021-07-27T10:12:21.338261Z",
     "shell.execute_reply.started": "2021-07-22T11:03:42.576897Z"
    },
    "papermill": {
     "duration": 0.622753,
     "end_time": "2021-07-27T10:12:21.339019",
     "exception": false,
     "start_time": "2021-07-27T10:12:20.716266",
     "status": "completed"
    },
    "tags": []
   },
   "outputs": [
    {
     "data": {
      "image/png": "[encoded data removed]",
      "text/plain": [
       "<Figure size 864x864 with 1 Axes>"
      ]
     },
     "metadata": {
      "needs_background": "light"
     },
     "output_type": "display_data"
    }
   ],
   "source": [
    "g = ratings.groupby('title')['rating'].count()\n",
    "top_movies = g.sort_values(ascending=False).index.values[:1000]\n",
    "top_idxs = tensor([learn.dls.classes['title'].o2i[m] for m in top_movies])\n",
    "movie_w = learn.model.movie_factors[top_idxs].cpu().detach()\n",
    "movie_pca = movie_w.pca(3)\n",
    "fac0,fac1,fac2 = movie_pca.t()\n",
    "idxs = np.random.choice(len(top_movies), 50, replace=False)\n",
    "idxs = list(range(50))\n",
    "X = fac0[idxs]\n",
    "Y = fac2[idxs]\n",
    "plt.figure(figsize=(12,12))\n",
    "plt.scatter(X, Y)\n",
    "for i, x, y in zip(top_movies[idxs], X, Y):\n",
    "    plt.text(x, y, i, color=np.random.rand(3) * 0.7, fontsize=11)\n",
    "plt.show()"
   ]
  },
  {
   "cell_type": "markdown",
   "id": "0c7be142",
   "metadata": {
    "papermill": {
     "duration": 0.034408,
     "end_time": "2021-07-27T10:12:21.408240",
     "exception": false,
     "start_time": "2021-07-27T10:12:21.373832",
     "status": "completed"
    },
    "tags": []
   },
   "source": [
    "* Can see that there's different clusters of movies."
   ]
  },
  {
   "cell_type": "markdown",
   "id": "e673e438",
   "metadata": {
    "papermill": {
     "duration": 0.034037,
     "end_time": "2021-07-27T10:12:21.476896",
     "exception": false,
     "start_time": "2021-07-27T10:12:21.442859",
     "status": "completed"
    },
    "tags": []
   },
   "source": [
    "## 00:16:20 - Using `collab_learner`"
   ]
  },
  {
   "cell_type": "markdown",
   "id": "9cd33f11",
   "metadata": {
    "papermill": {
     "duration": 0.034071,
     "end_time": "2021-07-27T10:12:21.545470",
     "exception": false,
     "start_time": "2021-07-27T10:12:21.511399",
     "status": "completed"
    },
    "tags": []
   },
   "source": [
    "* `collab_learner` wraps up all the functionality above in a single function."
   ]
  },
  {
   "cell_type": "code",
   "execution_count": 11,
   "id": "34ba1f26",
   "metadata": {
    "execution": {
     "iopub.execute_input": "2021-07-27T10:12:21.620071Z",
     "iopub.status.busy": "2021-07-27T10:12:21.619293Z",
     "iopub.status.idle": "2021-07-27T10:13:03.168735Z",
     "shell.execute_reply": "2021-07-27T10:13:03.168305Z",
     "shell.execute_reply.started": "2021-07-22T11:03:43.353009Z"
    },
    "papermill": {
     "duration": 41.588358,
     "end_time": "2021-07-27T10:13:03.168847",
     "exception": false,
     "start_time": "2021-07-27T10:12:21.580489",
     "status": "completed"
    },
    "tags": []
   },
   "outputs": [
    {
     "data": {
      "text/html": [
       "<table border=\"1\" class=\"dataframe\">\n",
       "  <thead>\n",
       "    <tr style=\"text-align: left;\">\n",
       "      <th>epoch</th>\n",
       "      <th>train_loss</th>\n",
       "      <th>valid_loss</th>\n",
       "      <th>time</th>\n",
       "    </tr>\n",
       "  </thead>\n",
       "  <tbody>\n",
       "    <tr>\n",
       "      <td>0</td>\n",
       "      <td>0.913675</td>\n",
       "      <td>0.951781</td>\n",
       "      <td>00:08</td>\n",
       "    </tr>\n",
       "    <tr>\n",
       "      <td>1</td>\n",
       "      <td>0.838763</td>\n",
       "      <td>0.877814</td>\n",
       "      <td>00:07</td>\n",
       "    </tr>\n",
       "    <tr>\n",
       "      <td>2</td>\n",
       "      <td>0.716968</td>\n",
       "      <td>0.835209</td>\n",
       "      <td>00:09</td>\n",
       "    </tr>\n",
       "    <tr>\n",
       "      <td>3</td>\n",
       "      <td>0.586227</td>\n",
       "      <td>0.820372</td>\n",
       "      <td>00:07</td>\n",
       "    </tr>\n",
       "    <tr>\n",
       "      <td>4</td>\n",
       "      <td>0.496024</td>\n",
       "      <td>0.820858</td>\n",
       "      <td>00:09</td>\n",
       "    </tr>\n",
       "  </tbody>\n",
       "</table>"
      ],
      "text/plain": [
       "<IPython.core.display.HTML object>"
      ]
     },
     "metadata": {},
     "output_type": "display_data"
    }
   ],
   "source": [
    "learn = collab_learner(dls, n_factors=50, y_range=(0, 5.5))\n",
    "learn.fit_one_cycle(5, 5e-3, wd=0.1)"
   ]
  },
  {
   "cell_type": "markdown",
   "id": "1d2d4271",
   "metadata": {
    "papermill": {
     "duration": 0.02416,
     "end_time": "2021-07-27T10:13:03.217821",
     "exception": false,
     "start_time": "2021-07-27T10:13:03.193661",
     "status": "completed"
    },
    "tags": []
   },
   "source": [
    "* Can see the names of layers by printing model:"
   ]
  },
  {
   "cell_type": "code",
   "execution_count": 12,
   "id": "41856549",
   "metadata": {
    "execution": {
     "iopub.execute_input": "2021-07-27T10:13:03.270094Z",
     "iopub.status.busy": "2021-07-27T10:13:03.269641Z",
     "iopub.status.idle": "2021-07-27T10:13:03.272447Z",
     "shell.execute_reply": "2021-07-27T10:13:03.272057Z",
     "shell.execute_reply.started": "2021-07-22T11:04:27.361383Z"
    },
    "papermill": {
     "duration": 0.030197,
     "end_time": "2021-07-27T10:13:03.272539",
     "exception": false,
     "start_time": "2021-07-27T10:13:03.242342",
     "status": "completed"
    },
    "tags": []
   },
   "outputs": [
    {
     "data": {
      "text/plain": [
       "EmbeddingDotBias(\n",
       "  (u_weight): Embedding(944, 50)\n",
       "  (i_weight): Embedding(1665, 50)\n",
       "  (u_bias): Embedding(944, 1)\n",
       "  (i_bias): Embedding(1665, 1)\n",
       ")"
      ]
     },
     "execution_count": 12,
     "metadata": {},
     "output_type": "execute_result"
    }
   ],
   "source": [
    "learn.model"
   ]
  },
  {
   "cell_type": "markdown",
   "id": "5f67d27a",
   "metadata": {
    "papermill": {
     "duration": 0.024405,
     "end_time": "2021-07-27T10:13:03.321002",
     "exception": false,
     "start_time": "2021-07-27T10:13:03.296597",
     "status": "completed"
    },
    "tags": []
   },
   "source": [
    "## 00:17:37 - Embedding distance\n",
    "\n",
    "* Can calculate the distance between 2 coordinates using cosign similarity.\n",
    "* Then, find the movies that are most similar to another movie:"
   ]
  },
  {
   "cell_type": "code",
   "execution_count": 13,
   "id": "32fa922e",
   "metadata": {
    "execution": {
     "iopub.execute_input": "2021-07-27T10:13:03.374236Z",
     "iopub.status.busy": "2021-07-27T10:13:03.373551Z",
     "iopub.status.idle": "2021-07-27T10:13:03.377663Z",
     "shell.execute_reply": "2021-07-27T10:13:03.378100Z",
     "shell.execute_reply.started": "2021-07-22T11:04:27.369451Z"
    },
    "papermill": {
     "duration": 0.033652,
     "end_time": "2021-07-27T10:13:03.378221",
     "exception": false,
     "start_time": "2021-07-27T10:13:03.344569",
     "status": "completed"
    },
    "tags": []
   },
   "outputs": [
    {
     "data": {
      "text/plain": [
       "(#5) ['Godfather, The (1972)','Godfather: Part II, The (1974)','When We Were Kings (1996)','Bonnie and Clyde (1967)','Lawrence of Arabia (1962)']"
      ]
     },
     "execution_count": 13,
     "metadata": {},
     "output_type": "execute_result"
    }
   ],
   "source": [
    "movie_factors = learn.model.i_weight.weight\n",
    "idx = dls.classes['title'].o2i['Godfather, The (1972)']\n",
    "distances = nn.CosineSimilarity(dim=1)(movie_factors, movie_factors[idx][None])\n",
    "idx = distances.argsort(descending=True)[:5]\n",
    "dls.classes['title'][idx]"
   ]
  },
  {
   "cell_type": "markdown",
   "id": "1d0ff532",
   "metadata": {
    "papermill": {
     "duration": 0.024884,
     "end_time": "2021-07-27T10:13:03.427886",
     "exception": false,
     "start_time": "2021-07-27T10:13:03.403002",
     "status": "completed"
    },
    "tags": []
   },
   "source": [
    "## 00:19:53 - Collab filtering with NN\n",
    "\n",
    "* Could put item and movie factors into a tensor, then feed into neural network.\n",
    "* fastai has a function `get_emb_sz` that gives you recommended sizes for your data:"
   ]
  },
  {
   "cell_type": "code",
   "execution_count": 14,
   "id": "9ff02b4e",
   "metadata": {
    "execution": {
     "iopub.execute_input": "2021-07-27T10:13:03.480312Z",
     "iopub.status.busy": "2021-07-27T10:13:03.479654Z",
     "iopub.status.idle": "2021-07-27T10:13:03.486507Z",
     "shell.execute_reply": "2021-07-27T10:13:03.486088Z",
     "shell.execute_reply.started": "2021-07-22T11:04:27.383946Z"
    },
    "papermill": {
     "duration": 0.034106,
     "end_time": "2021-07-27T10:13:03.486619",
     "exception": false,
     "start_time": "2021-07-27T10:13:03.452513",
     "status": "completed"
    },
    "tags": []
   },
   "outputs": [
    {
     "data": {
      "text/plain": [
       "[(944, 74), (1665, 102)]"
      ]
     },
     "execution_count": 14,
     "metadata": {},
     "output_type": "execute_result"
    }
   ],
   "source": [
    "embs = get_emb_sz(dls)\n",
    "embs"
   ]
  },
  {
   "cell_type": "code",
   "execution_count": 15,
   "id": "f290c48f",
   "metadata": {
    "execution": {
     "iopub.execute_input": "2021-07-27T10:13:03.540536Z",
     "iopub.status.busy": "2021-07-27T10:13:03.540058Z",
     "iopub.status.idle": "2021-07-27T10:13:03.546352Z",
     "shell.execute_reply": "2021-07-27T10:13:03.546733Z",
     "shell.execute_reply.started": "2021-07-22T11:04:27.393327Z"
    },
    "papermill": {
     "duration": 0.03469,
     "end_time": "2021-07-27T10:13:03.546868",
     "exception": false,
     "start_time": "2021-07-27T10:13:03.512178",
     "status": "completed"
    },
    "tags": []
   },
   "outputs": [],
   "source": [
    "class CollabNN(Module):\n",
    "    def __init__(self, user_sz, item_sz, y_range=(0, 5.5), n_act=100):\n",
    "        self.user_factors = Embedding(*user_sz)\n",
    "        self.item_factors = Embedding(*item_sz)\n",
    "        self.layers = nn.Sequential(\n",
    "            nn.Linear(user_sz[1] + item_sz[1], n_act),\n",
    "            nn.ReLU(),\n",
    "            nn.Linear(n_act, 1))\n",
    "        self.y_range = y_range\n",
    "        \n",
    "    def forward(self, x):\n",
    "        embs = self.user_factors(x[:,0]), self.item_factors(x[:,1])\n",
    "        x = self.layers(torch.cat(embs, dim=1))\n",
    "        return sigmoid_range(x, *self.y_range)"
   ]
  },
  {
   "cell_type": "code",
   "execution_count": 16,
   "id": "49776ec9",
   "metadata": {
    "execution": {
     "iopub.execute_input": "2021-07-27T10:13:03.604149Z",
     "iopub.status.busy": "2021-07-27T10:13:03.602524Z",
     "iopub.status.idle": "2021-07-27T10:13:03.621710Z",
     "shell.execute_reply": "2021-07-27T10:13:03.621135Z",
     "shell.execute_reply.started": "2021-07-22T11:04:27.406387Z"
    },
    "papermill": {
     "duration": 0.049072,
     "end_time": "2021-07-27T10:13:03.621841",
     "exception": false,
     "start_time": "2021-07-27T10:13:03.572769",
     "status": "completed"
    },
    "tags": []
   },
   "outputs": [],
   "source": [
    "model = CollabNN(*embs)"
   ]
  },
  {
   "cell_type": "code",
   "execution_count": 17,
   "id": "942168c0",
   "metadata": {
    "execution": {
     "iopub.execute_input": "2021-07-27T10:13:03.699832Z",
     "iopub.status.busy": "2021-07-27T10:13:03.698979Z",
     "iopub.status.idle": "2021-07-27T10:13:47.334695Z",
     "shell.execute_reply": "2021-07-27T10:13:47.335062Z",
     "shell.execute_reply.started": "2021-07-22T11:04:27.429669Z"
    },
    "papermill": {
     "duration": 43.677281,
     "end_time": "2021-07-27T10:13:47.335194",
     "exception": false,
     "start_time": "2021-07-27T10:13:03.657913",
     "status": "completed"
    },
    "tags": []
   },
   "outputs": [
    {
     "data": {
      "text/html": [
       "<table border=\"1\" class=\"dataframe\">\n",
       "  <thead>\n",
       "    <tr style=\"text-align: left;\">\n",
       "      <th>epoch</th>\n",
       "      <th>train_loss</th>\n",
       "      <th>valid_loss</th>\n",
       "      <th>time</th>\n",
       "    </tr>\n",
       "  </thead>\n",
       "  <tbody>\n",
       "    <tr>\n",
       "      <td>0</td>\n",
       "      <td>0.981711</td>\n",
       "      <td>0.950668</td>\n",
       "      <td>00:08</td>\n",
       "    </tr>\n",
       "    <tr>\n",
       "      <td>1</td>\n",
       "      <td>0.887367</td>\n",
       "      <td>0.910555</td>\n",
       "      <td>00:09</td>\n",
       "    </tr>\n",
       "    <tr>\n",
       "      <td>2</td>\n",
       "      <td>0.877503</td>\n",
       "      <td>0.883071</td>\n",
       "      <td>00:08</td>\n",
       "    </tr>\n",
       "    <tr>\n",
       "      <td>3</td>\n",
       "      <td>0.866312</td>\n",
       "      <td>0.865463</td>\n",
       "      <td>00:08</td>\n",
       "    </tr>\n",
       "    <tr>\n",
       "      <td>4</td>\n",
       "      <td>0.796303</td>\n",
       "      <td>0.867357</td>\n",
       "      <td>00:08</td>\n",
       "    </tr>\n",
       "  </tbody>\n",
       "</table>"
      ],
      "text/plain": [
       "<IPython.core.display.HTML object>"
      ]
     },
     "metadata": {},
     "output_type": "display_data"
    }
   ],
   "source": [
    "learn = Learner(dls, model, loss_func=MSELossFlat())\n",
    "learn.fit_one_cycle(5, 5e-3, wd=0.1)"
   ]
  },
  {
   "cell_type": "markdown",
   "id": "598a0504",
   "metadata": {
    "papermill": {
     "duration": 0.025166,
     "end_time": "2021-07-27T10:13:47.385731",
     "exception": false,
     "start_time": "2021-07-27T10:13:47.360565",
     "status": "completed"
    },
    "tags": []
   },
   "source": [
    "* Though model isn't as good, it does allow us flexibility to have different embedding sizes for movies or user.\n",
    "* Same can be achieved with `collab_learner` function using `use_nn=True` argument:"
   ]
  },
  {
   "cell_type": "code",
   "execution_count": 18,
   "id": "4e771cfe",
   "metadata": {
    "execution": {
     "iopub.execute_input": "2021-07-27T10:13:47.441122Z",
     "iopub.status.busy": "2021-07-27T10:13:47.440529Z",
     "iopub.status.idle": "2021-07-27T10:14:40.214339Z",
     "shell.execute_reply": "2021-07-27T10:14:40.213887Z",
     "shell.execute_reply.started": "2021-07-22T11:09:08.632075Z"
    },
    "papermill": {
     "duration": 52.803266,
     "end_time": "2021-07-27T10:14:40.214509",
     "exception": false,
     "start_time": "2021-07-27T10:13:47.411243",
     "status": "completed"
    },
    "tags": []
   },
   "outputs": [
    {
     "data": {
      "text/html": [
       "<table border=\"1\" class=\"dataframe\">\n",
       "  <thead>\n",
       "    <tr style=\"text-align: left;\">\n",
       "      <th>epoch</th>\n",
       "      <th>train_loss</th>\n",
       "      <th>valid_loss</th>\n",
       "      <th>time</th>\n",
       "    </tr>\n",
       "  </thead>\n",
       "  <tbody>\n",
       "    <tr>\n",
       "      <td>0</td>\n",
       "      <td>0.985896</td>\n",
       "      <td>0.977544</td>\n",
       "      <td>00:10</td>\n",
       "    </tr>\n",
       "    <tr>\n",
       "      <td>1</td>\n",
       "      <td>0.905485</td>\n",
       "      <td>0.937513</td>\n",
       "      <td>00:10</td>\n",
       "    </tr>\n",
       "    <tr>\n",
       "      <td>2</td>\n",
       "      <td>0.851978</td>\n",
       "      <td>0.888632</td>\n",
       "      <td>00:10</td>\n",
       "    </tr>\n",
       "    <tr>\n",
       "      <td>3</td>\n",
       "      <td>0.826538</td>\n",
       "      <td>0.864366</td>\n",
       "      <td>00:10</td>\n",
       "    </tr>\n",
       "    <tr>\n",
       "      <td>4</td>\n",
       "      <td>0.771533</td>\n",
       "      <td>0.863534</td>\n",
       "      <td>00:10</td>\n",
       "    </tr>\n",
       "  </tbody>\n",
       "</table>"
      ],
      "text/plain": [
       "<IPython.core.display.HTML object>"
      ]
     },
     "metadata": {},
     "output_type": "display_data"
    }
   ],
   "source": [
    "learn = collab_learner(dls, use_nn=True, y_range=(0, 5.5), layers=[100, 50])\n",
    "learn.fit_one_cycle(5, 5e-3, wd=0.1)"
   ]
  },
  {
   "cell_type": "markdown",
   "id": "042760c5",
   "metadata": {
    "papermill": {
     "duration": 0.025307,
     "end_time": "2021-07-27T10:14:40.265042",
     "exception": false,
     "start_time": "2021-07-27T10:14:40.239735",
     "status": "completed"
    },
    "tags": []
   },
   "source": [
    "* The `EmbeddingNN` model used in collab_learner is only 1 line of code, as it inherits from `TabularModel`"
   ]
  }
 ],
 "metadata": {
  "kernelspec": {
   "display_name": "Python 3",
   "language": "python",
   "name": "python3"
  },
  "language_info": {
   "codemirror_mode": {
    "name": "ipython",
    "version": 3
   },
   "file_extension": ".py",
   "mimetype": "text/x-python",
   "name": "python",
   "nbconvert_exporter": "python",
   "pygments_lexer": "ipython3",
   "version": "3.7.10"
  },
  "papermill": {
   "default_parameters": {},
   "duration": 377.745648,
   "end_time": "2021-07-27T10:14:41.966218",
   "environment_variables": {},
   "exception": null,
   "input_path": "__notebook__.ipynb",
   "output_path": "__notebook__.ipynb",
   "parameters": {},
   "start_time": "2021-07-27T10:08:24.220570",
   "version": "2.3.3"
  }
 },
 "nbformat": 4,
 "nbformat_minor": 5
}
